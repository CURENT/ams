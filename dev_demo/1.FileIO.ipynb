{
 "cells": [
  {
   "attachments": {},
   "cell_type": "markdown",
   "metadata": {},
   "source": [
    "# File IO"
   ]
  },
  {
   "attachments": {},
   "cell_type": "markdown",
   "metadata": {},
   "source": [
    "This notebook demonstrates how to read files in AMS for developers."
   ]
  },
  {
   "cell_type": "code",
   "execution_count": 1,
   "metadata": {},
   "outputs": [],
   "source": [
    "import andes\n",
    "import ams"
   ]
  },
  {
   "cell_type": "code",
   "execution_count": 2,
   "metadata": {},
   "outputs": [],
   "source": [
    "# NOTE: set verbosity level to 20 (INFO) for AMS\n",
    "ams.config_logger(stream_level=20)"
   ]
  },
  {
   "cell_type": "code",
   "execution_count": 3,
   "metadata": {},
   "outputs": [
    {
     "data": {
      "text/plain": [
       "'/home/jwang175/mambaforge/envs/ams/lib/python3.9/site-packages/andes/cases/ieee14/ieee14_ace.xlsx'"
      ]
     },
     "execution_count": 3,
     "metadata": {},
     "output_type": "execute_result"
    }
   ],
   "source": [
    "andes.get_case('ieee14/ieee14_ace.xlsx')"
   ]
  },
  {
   "cell_type": "code",
   "execution_count": 4,
   "metadata": {},
   "outputs": [],
   "source": [
    "# NOTE: ANDES Case as a reference\n",
    "sa = andes.load(andes.get_case('ieee14/ieee14_ace.xlsx'))"
   ]
  },
  {
   "cell_type": "code",
   "execution_count": 5,
   "metadata": {},
   "outputs": [
    {
     "data": {
      "text/plain": [
       "OrderedDict([('Toggle', Toggle (2 devices) at 0x7fca73030550),\n",
       "             ('PQ', PQ (11 devices) at 0x7fcaf94ac070),\n",
       "             ('PV', PV (4 devices) at 0x7fcaf94acee0),\n",
       "             ('Slack', Slack (1 device) at 0x7fcaf94bc7f0),\n",
       "             ('Shunt', Shunt (2 devices) at 0x7fcaf94d1100),\n",
       "             ('Line', Line (20 devices) at 0x7fcaf9478520),\n",
       "             ('Area', Area (2 devices) at 0x7fcaf948ea30),\n",
       "             ('ACEc', ACEc (1 device) at 0x7fcaf9426640),\n",
       "             ('GENROU', GENROU (5 devices) at 0x7fcaf939ae50),\n",
       "             ('TGOV1', TGOV1 (5 devices) at 0x7fcaf937e130),\n",
       "             ('EXST1', EXST1 (1 device) at 0x7fcaf927cee0),\n",
       "             ('ESST3A', ESST3A (4 devices) at 0x7fcaf9218190),\n",
       "             ('BusFreq', BusFreq (3 devices) at 0x7fcaf90f9ca0)])"
      ]
     },
     "execution_count": 5,
     "metadata": {},
     "output_type": "execute_result"
    }
   ],
   "source": [
    "sa.exist.tds"
   ]
  },
  {
   "cell_type": "code",
   "execution_count": 6,
   "metadata": {},
   "outputs": [
    {
     "data": {
      "text/plain": [
       "'/home/jwang175/mambaforge/envs/ams/lib/python3.9/site-packages/andes/cases'"
      ]
     },
     "execution_count": 6,
     "metadata": {},
     "output_type": "execute_result"
    }
   ],
   "source": [
    "andes.utils.paths.cases_root()"
   ]
  },
  {
   "cell_type": "code",
   "execution_count": 7,
   "metadata": {},
   "outputs": [
    {
     "data": {
      "text/plain": [
       "'/home/jwang175/ams/ams/cases'"
      ]
     },
     "execution_count": 7,
     "metadata": {},
     "output_type": "execute_result"
    }
   ],
   "source": [
    "ams.utils.paths.cases_root()"
   ]
  },
  {
   "cell_type": "code",
   "execution_count": 8,
   "metadata": {},
   "outputs": [
    {
     "data": {
      "text/plain": [
       "'/home/jwang175/ams/ams/cases/ieee14/ieee14.xlsx'"
      ]
     },
     "execution_count": 8,
     "metadata": {},
     "output_type": "execute_result"
    }
   ],
   "source": [
    "# NOTE: ``get_case`` is the function that loads the case file\n",
    "ams.get_case('ieee14/ieee14.xlsx')"
   ]
  },
  {
   "cell_type": "code",
   "execution_count": 12,
   "metadata": {},
   "outputs": [
    {
     "name": "stderr",
     "output_type": "stream",
     "text": [
      "<Bus> is not an existing model.\n",
      "<Bus> is not an existing model.\n",
      "<Bus> is not an existing model.\n",
      "<Bus> is not an existing model.\n",
      "<Bus> is not an existing model.\n",
      "<Bus> is not an existing model.\n",
      "<Bus> is not an existing model.\n",
      "<Bus> is not an existing model.\n",
      "<Bus> is not an existing model.\n",
      "<Bus> is not an existing model.\n",
      "<Bus> is not an existing model.\n",
      "<Bus> is not an existing model.\n",
      "<Bus> is not an existing model.\n",
      "<Bus> is not an existing model.\n",
      "<PV> is not an existing model.\n",
      "<PV> is not an existing model.\n",
      "<PV> is not an existing model.\n",
      "<PV> is not an existing model.\n",
      "<Slack> is not an existing model.\n",
      "<PQ> is not an existing model.\n",
      "<PQ> is not an existing model.\n",
      "<PQ> is not an existing model.\n",
      "<PQ> is not an existing model.\n",
      "<PQ> is not an existing model.\n",
      "<PQ> is not an existing model.\n",
      "<PQ> is not an existing model.\n",
      "<PQ> is not an existing model.\n",
      "<PQ> is not an existing model.\n",
      "<PQ> is not an existing model.\n",
      "<PQ> is not an existing model.\n",
      "<Line> is not an existing model.\n",
      "<Line> is not an existing model.\n",
      "<Line> is not an existing model.\n",
      "<Line> is not an existing model.\n",
      "<Line> is not an existing model.\n",
      "<Line> is not an existing model.\n",
      "<Line> is not an existing model.\n",
      "<Line> is not an existing model.\n",
      "<Line> is not an existing model.\n",
      "<Line> is not an existing model.\n",
      "<Line> is not an existing model.\n",
      "<Line> is not an existing model.\n",
      "<Line> is not an existing model.\n",
      "<Line> is not an existing model.\n",
      "<Line> is not an existing model.\n",
      "<Line> is not an existing model.\n",
      "<Line> is not an existing model.\n",
      "<Line> is not an existing model.\n",
      "<Line> is not an existing model.\n",
      "<Line> is not an existing model.\n",
      "<Shunt> is not an existing model.\n",
      "<Shunt> is not an existing model.\n",
      "<Area> is not an existing model.\n",
      "<Area> is not an existing model.\n",
      "<GCost> is not an existing model.\n",
      "<GCost> is not an existing model.\n",
      "<GCost> is not an existing model.\n",
      "<GCost> is not an existing model.\n",
      "<GCost> is not an existing model.\n"
     ]
    }
   ],
   "source": [
    "# NOTE: Load the case file into an AMS system\n",
    "sp = ams.load(ams.get_case('ieee14/ieee14.xlsx'),\n",
    "            setup=False)"
   ]
  },
  {
   "cell_type": "code",
   "execution_count": 14,
   "metadata": {},
   "outputs": [
    {
     "data": {
      "text/plain": [
       "OrderedDict([('ACLine', <andes.models.group.ACLine at 0x7fca870619a0>),\n",
       "             ('ACTopology', <andes.models.group.ACTopology at 0x7fca86fd5e80>),\n",
       "             ('Collection', <andes.models.group.Collection at 0x7fca8702aeb0>),\n",
       "             ('Information',\n",
       "              <andes.models.group.Information at 0x7fca921f9c70>),\n",
       "             ('StaticGen', <andes.models.group.StaticGen at 0x7fca871267c0>),\n",
       "             ('StaticLoad', <andes.models.group.StaticLoad at 0x7fca86ec9fd0>),\n",
       "             ('StaticShunt',\n",
       "              <andes.models.group.StaticShunt at 0x7fca86ec9c10>)])"
      ]
     },
     "execution_count": 14,
     "metadata": {},
     "output_type": "execute_result"
    }
   ],
   "source": [
    "sp.groups"
   ]
  },
  {
   "cell_type": "code",
   "execution_count": 13,
   "metadata": {},
   "outputs": [
    {
     "data": {
      "text/plain": [
       "OrderedDict()"
      ]
     },
     "execution_count": 13,
     "metadata": {},
     "output_type": "execute_result"
    }
   ],
   "source": [
    "sp.models"
   ]
  },
  {
   "cell_type": "code",
   "execution_count": null,
   "metadata": {},
   "outputs": [],
   "source": [
    "# NOTE: Some methods of ANDES System are not block in AMS\n",
    "sp.link_ext_param()"
   ]
  },
  {
   "cell_type": "code",
   "execution_count": null,
   "metadata": {},
   "outputs": [],
   "source": [
    "# NOTE: Current supported configurations\n",
    "sp.config"
   ]
  },
  {
   "cell_type": "code",
   "execution_count": null,
   "metadata": {},
   "outputs": [],
   "source": [
    "# NOTE: Current supported routines\n",
    "sp.exist"
   ]
  },
  {
   "cell_type": "code",
   "execution_count": null,
   "metadata": {},
   "outputs": [],
   "source": [
    "# NOTE: Loaded case path\n",
    "sp.files.case"
   ]
  },
  {
   "cell_type": "code",
   "execution_count": null,
   "metadata": {},
   "outputs": [],
   "source": [
    "sa.Bus"
   ]
  },
  {
   "cell_type": "code",
   "execution_count": null,
   "metadata": {},
   "outputs": [],
   "source": [
    "sp.summary()"
   ]
  }
 ],
 "metadata": {
  "kernelspec": {
   "display_name": "ams",
   "language": "python",
   "name": "ams"
  },
  "language_info": {
   "codemirror_mode": {
    "name": "ipython",
    "version": 3
   },
   "file_extension": ".py",
   "mimetype": "text/x-python",
   "name": "python",
   "nbconvert_exporter": "python",
   "pygments_lexer": "ipython3",
   "version": "3.9.15"
  },
  "orig_nbformat": 4,
  "vscode": {
   "interpreter": {
    "hash": "d9202bbf0491b3c6145e36d5ba22687a8b95e024b0a1e787962165edd6294d6d"
   }
  }
 },
 "nbformat": 4,
 "nbformat_minor": 2
}
