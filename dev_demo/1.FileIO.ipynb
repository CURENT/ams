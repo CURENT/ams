{
 "cells": [
  {
   "attachments": {},
   "cell_type": "markdown",
   "metadata": {},
   "source": [
    "# File IO"
   ]
  },
  {
   "attachments": {},
   "cell_type": "markdown",
   "metadata": {},
   "source": [
    "This notebook demonstrates how to read files in AMS for developers."
   ]
  },
  {
   "cell_type": "code",
   "execution_count": 1,
   "metadata": {},
   "outputs": [],
   "source": [
    "import andes\n",
    "import ams"
   ]
  },
  {
   "cell_type": "code",
   "execution_count": 2,
   "metadata": {},
   "outputs": [
    {
     "data": {
      "text/plain": [
       "'/Users/jinningwang/Documents/work/mambaforge/envs/ams/lib/python3.9/site-packages/andes/cases/ieee14/ieee14_ace.xlsx'"
      ]
     },
     "execution_count": 2,
     "metadata": {},
     "output_type": "execute_result"
    }
   ],
   "source": [
    "andes.get_case('ieee14/ieee14_ace.xlsx')"
   ]
  },
  {
   "cell_type": "code",
   "execution_count": 3,
   "metadata": {},
   "outputs": [],
   "source": [
    "# NOTE: ANDES Case as a reference\n",
    "sa = andes.load(andes.get_case('ieee14/ieee14_ace.xlsx'))"
   ]
  },
  {
   "cell_type": "code",
   "execution_count": 4,
   "metadata": {},
   "outputs": [
    {
     "data": {
      "text/plain": [
       "OrderedDict([('Bus', Bus (14 devices) at 0x11fc97b80),\n",
       "             ('PQ', PQ (11 devices) at 0x11fcad340),\n",
       "             ('PV', PV (4 devices) at 0x11fcc61f0),\n",
       "             ('Slack', Slack (1 device) at 0x11fcc6ac0),\n",
       "             ('Shunt', Shunt (2 devices) at 0x11fcd63d0),\n",
       "             ('Line', Line (20 devices) at 0x11fd027f0),\n",
       "             ('Area', Area (2 devices) at 0x11fd19d00)])"
      ]
     },
     "execution_count": 4,
     "metadata": {},
     "output_type": "execute_result"
    }
   ],
   "source": [
    "sa.exist.pflow"
   ]
  },
  {
   "cell_type": "code",
   "execution_count": 5,
   "metadata": {},
   "outputs": [
    {
     "data": {
      "text/plain": [
       "OrderedDict([('Toggle', Toggle (2 devices) at 0x11fc79340),\n",
       "             ('PQ', PQ (11 devices) at 0x11fcad340),\n",
       "             ('PV', PV (4 devices) at 0x11fcc61f0),\n",
       "             ('Slack', Slack (1 device) at 0x11fcc6ac0),\n",
       "             ('Shunt', Shunt (2 devices) at 0x11fcd63d0),\n",
       "             ('Line', Line (20 devices) at 0x11fd027f0),\n",
       "             ('Area', Area (2 devices) at 0x11fd19d00),\n",
       "             ('ACEc', ACEc (1 device) at 0x11fd2e910),\n",
       "             ('GENROU', GENROU (5 devices) at 0x11fdc5160),\n",
       "             ('TGOV1', TGOV1 (5 devices) at 0x11fe15400),\n",
       "             ('EXST1', EXST1 (1 device) at 0x11ff1f1f0),\n",
       "             ('ESST3A', ESST3A (4 devices) at 0x11ff2e460),\n",
       "             ('BusFreq', BusFreq (3 devices) at 0x120092eb0)])"
      ]
     },
     "execution_count": 5,
     "metadata": {},
     "output_type": "execute_result"
    }
   ],
   "source": [
    "sa.exist.tds"
   ]
  },
  {
   "cell_type": "code",
   "execution_count": 6,
   "metadata": {},
   "outputs": [
    {
     "data": {
      "text/plain": [
       "OrderedDict([('Toggle', Toggle (2 devices) at 0x11fc79340),\n",
       "             ('Bus', Bus (14 devices) at 0x11fc97b80),\n",
       "             ('PQ', PQ (11 devices) at 0x11fcad340),\n",
       "             ('PV', PV (4 devices) at 0x11fcc61f0),\n",
       "             ('Slack', Slack (1 device) at 0x11fcc6ac0),\n",
       "             ('Shunt', Shunt (2 devices) at 0x11fcd63d0),\n",
       "             ('Line', Line (20 devices) at 0x11fd027f0),\n",
       "             ('Area', Area (2 devices) at 0x11fd19d00),\n",
       "             ('ACEc', ACEc (1 device) at 0x11fd2e910),\n",
       "             ('GENROU', GENROU (5 devices) at 0x11fdc5160),\n",
       "             ('TGOV1', TGOV1 (5 devices) at 0x11fe15400),\n",
       "             ('EXST1', EXST1 (1 device) at 0x11ff1f1f0),\n",
       "             ('ESST3A', ESST3A (4 devices) at 0x11ff2e460),\n",
       "             ('BusFreq', BusFreq (3 devices) at 0x120092eb0)])"
      ]
     },
     "execution_count": 6,
     "metadata": {},
     "output_type": "execute_result"
    }
   ],
   "source": [
    "sa.exist.pflow_tds"
   ]
  },
  {
   "cell_type": "code",
   "execution_count": 7,
   "metadata": {},
   "outputs": [
    {
     "data": {
      "text/plain": [
       "<andes.routines.tds.TDS at 0x120416910>"
      ]
     },
     "execution_count": 7,
     "metadata": {},
     "output_type": "execute_result"
    }
   ],
   "source": [
    "sa.TDS"
   ]
  },
  {
   "cell_type": "code",
   "execution_count": 8,
   "metadata": {},
   "outputs": [
    {
     "data": {
      "text/plain": [
       "'/Users/jinningwang/Documents/work/mambaforge/envs/ams/lib/python3.9/site-packages/andes/cases'"
      ]
     },
     "execution_count": 8,
     "metadata": {},
     "output_type": "execute_result"
    }
   ],
   "source": [
    "andes.utils.paths.cases_root()"
   ]
  },
  {
   "cell_type": "code",
   "execution_count": 9,
   "metadata": {},
   "outputs": [
    {
     "data": {
      "text/plain": [
       "'/Users/jinningwang/Documents/work/ams/ams/cases'"
      ]
     },
     "execution_count": 9,
     "metadata": {},
     "output_type": "execute_result"
    }
   ],
   "source": [
    "ams.utils.paths.cases_root()"
   ]
  },
  {
   "cell_type": "code",
   "execution_count": 10,
   "metadata": {},
   "outputs": [
    {
     "data": {
      "text/plain": [
       "'/Users/jinningwang/Documents/work/ams/ams/cases/ieee14/ieee14.xlsx'"
      ]
     },
     "execution_count": 10,
     "metadata": {},
     "output_type": "execute_result"
    }
   ],
   "source": [
    "# NOTE: ``get_case`` is the function that loads the case file\n",
    "ams.get_case('ieee14/ieee14.xlsx')"
   ]
  },
  {
   "cell_type": "code",
   "execution_count": 11,
   "metadata": {},
   "outputs": [],
   "source": [
    "# Load the case file into an AMS system\n",
    "sp = ams.load(ams.get_case('ieee14/ieee14.xlsx'))"
   ]
  },
  {
   "cell_type": "code",
   "execution_count": 12,
   "metadata": {},
   "outputs": [
    {
     "data": {
      "text/plain": [
       "OrderedDict([('freq', 60),\n",
       "             ('mva', 100),\n",
       "             ('seed', 'None'),\n",
       "             ('np_divide', 'warn'),\n",
       "             ('np_invalid', 'warn')])"
      ]
     },
     "execution_count": 12,
     "metadata": {},
     "output_type": "execute_result"
    }
   ],
   "source": [
    "sp.config"
   ]
  },
  {
   "cell_type": "code",
   "execution_count": 13,
   "metadata": {},
   "outputs": [
    {
     "data": {
      "text/plain": [
       "<ams.system.ExistingModels at 0x12225c2b0>"
      ]
     },
     "execution_count": 13,
     "metadata": {},
     "output_type": "execute_result"
    }
   ],
   "source": [
    "sp.exist"
   ]
  },
  {
   "cell_type": "code",
   "execution_count": 14,
   "metadata": {},
   "outputs": [
    {
     "data": {
      "text/plain": [
       "'/Users/jinningwang/Documents/work/ams/ams/cases/ieee14/ieee14.xlsx'"
      ]
     },
     "execution_count": 14,
     "metadata": {},
     "output_type": "execute_result"
    }
   ],
   "source": [
    "sp.files.case"
   ]
  },
  {
   "cell_type": "code",
   "execution_count": 15,
   "metadata": {},
   "outputs": [
    {
     "ename": "AttributeError",
     "evalue": "'System' object has no attribute 'groups'",
     "output_type": "error",
     "traceback": [
      "\u001b[0;31m---------------------------------------------------------------------------\u001b[0m",
      "\u001b[0;31mAttributeError\u001b[0m                            Traceback (most recent call last)",
      "Cell \u001b[0;32mIn[15], line 1\u001b[0m\n\u001b[0;32m----> 1\u001b[0m sp\u001b[39m.\u001b[39;49mprepare()\n",
      "File \u001b[0;32m~/Documents/work/mambaforge/envs/ams/lib/python3.9/site-packages/andes/system.py:330\u001b[0m, in \u001b[0;36mSystem.prepare\u001b[0;34m(self, quick, incremental, models, nomp, ncpu)\u001b[0m\n\u001b[1;32m    327\u001b[0m t0, _ \u001b[39m=\u001b[39m elapsed()\n\u001b[1;32m    329\u001b[0m \u001b[39m# consistency check for group parameters and variables\u001b[39;00m\n\u001b[0;32m--> 330\u001b[0m \u001b[39mself\u001b[39;49m\u001b[39m.\u001b[39;49m_check_group_common()\n\u001b[1;32m    332\u001b[0m \u001b[39m# get `pycode` folder path without automatic creation\u001b[39;00m\n\u001b[1;32m    333\u001b[0m pycode_path \u001b[39m=\u001b[39m get_pycode_path(\u001b[39mself\u001b[39m\u001b[39m.\u001b[39moptions\u001b[39m.\u001b[39mget(\u001b[39m\"\u001b[39m\u001b[39mpycode_path\u001b[39m\u001b[39m\"\u001b[39m), mkdir\u001b[39m=\u001b[39m\u001b[39mFalse\u001b[39;00m)\n",
      "File \u001b[0;32m~/Documents/work/mambaforge/envs/ams/lib/python3.9/site-packages/andes/system.py:1705\u001b[0m, in \u001b[0;36mSystem._check_group_common\u001b[0;34m(self)\u001b[0m\n\u001b[1;32m   1695\u001b[0m \u001b[39mdef\u001b[39;00m \u001b[39m_check_group_common\u001b[39m(\u001b[39mself\u001b[39m):\n\u001b[1;32m   1696\u001b[0m \u001b[39m    \u001b[39m\u001b[39m\"\"\"\u001b[39;00m\n\u001b[1;32m   1697\u001b[0m \u001b[39m    Check if all group common variables and parameters are met.\u001b[39;00m\n\u001b[1;32m   1698\u001b[0m \n\u001b[0;32m   (...)\u001b[0m\n\u001b[1;32m   1703\u001b[0m \u001b[39m    KeyError if any parameter or value is not provided\u001b[39;00m\n\u001b[1;32m   1704\u001b[0m \u001b[39m    \"\"\"\u001b[39;00m\n\u001b[0;32m-> 1705\u001b[0m     \u001b[39mfor\u001b[39;00m group \u001b[39min\u001b[39;00m \u001b[39mself\u001b[39;49m\u001b[39m.\u001b[39;49mgroups\u001b[39m.\u001b[39mvalues():\n\u001b[1;32m   1706\u001b[0m         \u001b[39mfor\u001b[39;00m item \u001b[39min\u001b[39;00m group\u001b[39m.\u001b[39mcommon_params:\n\u001b[1;32m   1707\u001b[0m             \u001b[39mfor\u001b[39;00m model \u001b[39min\u001b[39;00m group\u001b[39m.\u001b[39mmodels\u001b[39m.\u001b[39mvalues():\n\u001b[1;32m   1708\u001b[0m                 \u001b[39m# the below includes all of BaseParam (NumParam, DataParam and ExtParam)\u001b[39;00m\n",
      "\u001b[0;31mAttributeError\u001b[0m: 'System' object has no attribute 'groups'"
     ]
    }
   ],
   "source": [
    "sp.prepare()"
   ]
  },
  {
   "cell_type": "code",
   "execution_count": null,
   "metadata": {},
   "outputs": [],
   "source": [
    "import inspect\n",
    "\n",
    "methods = [x[0] for x in inspect.getmembers(sp, predicate=inspect.ismethod)\n",
    "           if x[0] not in dir(type(sp))]\n",
    "print(methods)\n"
   ]
  }
 ],
 "metadata": {
  "kernelspec": {
   "display_name": "ams",
   "language": "python",
   "name": "python3"
  },
  "language_info": {
   "codemirror_mode": {
    "name": "ipython",
    "version": 3
   },
   "file_extension": ".py",
   "mimetype": "text/x-python",
   "name": "python",
   "nbconvert_exporter": "python",
   "pygments_lexer": "ipython3",
   "version": "3.9.7"
  },
  "orig_nbformat": 4,
  "vscode": {
   "interpreter": {
    "hash": "d9202bbf0491b3c6145e36d5ba22687a8b95e024b0a1e787962165edd6294d6d"
   }
  }
 },
 "nbformat": 4,
 "nbformat_minor": 2
}
