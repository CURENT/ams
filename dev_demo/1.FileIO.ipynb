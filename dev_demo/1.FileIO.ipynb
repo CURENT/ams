{
 "cells": [
  {
   "attachments": {},
   "cell_type": "markdown",
   "metadata": {},
   "source": [
    "# File IO"
   ]
  },
  {
   "attachments": {},
   "cell_type": "markdown",
   "metadata": {},
   "source": [
    "This notebook demonstrates how to read files in AMS for developers."
   ]
  },
  {
   "cell_type": "code",
   "execution_count": 1,
   "metadata": {},
   "outputs": [],
   "source": [
    "import andes\n",
    "import ams"
   ]
  },
  {
   "cell_type": "code",
   "execution_count": 2,
   "metadata": {},
   "outputs": [],
   "source": [
    "# NOTE: set verbosity level to 20 (INFO) for AMS\n",
    "ams.config_logger(stream_level=20)"
   ]
  },
  {
   "cell_type": "code",
   "execution_count": 3,
   "metadata": {},
   "outputs": [
    {
     "data": {
      "text/plain": [
       "'/Users/jinningwang/Documents/work/mambaforge/envs/ams/lib/python3.9/site-packages/andes/cases/ieee14/ieee14_ace.xlsx'"
      ]
     },
     "execution_count": 3,
     "metadata": {},
     "output_type": "execute_result"
    }
   ],
   "source": [
    "andes.get_case('ieee14/ieee14_ace.xlsx')"
   ]
  },
  {
   "cell_type": "code",
   "execution_count": 4,
   "metadata": {},
   "outputs": [],
   "source": [
    "# NOTE: ANDES Case as a reference\n",
    "sa = andes.load(andes.get_case('ieee14/ieee14_ace.xlsx'))"
   ]
  },
  {
   "cell_type": "code",
   "execution_count": 5,
   "metadata": {},
   "outputs": [
    {
     "data": {
      "text/plain": [
       "OrderedDict([('Toggle', Toggle (2 devices) at 0x131c7f6a0),\n",
       "             ('PQ', PQ (11 devices) at 0x131c70be0),\n",
       "             ('PV', PV (4 devices) at 0x131c70490),\n",
       "             ('Slack', Slack (1 device) at 0x131c658e0),\n",
       "             ('Shunt', Shunt (2 devices) at 0x131c59a30),\n",
       "             ('Line', Line (20 devices) at 0x131d06130),\n",
       "             ('Area', Area (2 devices) at 0x131d1b0a0),\n",
       "             ('ACEc', ACEc (1 device) at 0x131d1b970),\n",
       "             ('GENROU', GENROU (5 devices) at 0x131da2190),\n",
       "             ('TGOV1', TGOV1 (5 devices) at 0x131df1430),\n",
       "             ('EXST1', EXST1 (1 device) at 0x131ff9220),\n",
       "             ('ESST3A', ESST3A (4 devices) at 0x132009490),\n",
       "             ('BusFreq', BusFreq (3 devices) at 0x13216bee0)])"
      ]
     },
     "execution_count": 5,
     "metadata": {},
     "output_type": "execute_result"
    }
   ],
   "source": [
    "sa.exist.tds"
   ]
  },
  {
   "cell_type": "code",
   "execution_count": 6,
   "metadata": {},
   "outputs": [
    {
     "data": {
      "text/plain": [
       "'/Users/jinningwang/Documents/work/mambaforge/envs/ams/lib/python3.9/site-packages/andes/cases'"
      ]
     },
     "execution_count": 6,
     "metadata": {},
     "output_type": "execute_result"
    }
   ],
   "source": [
    "andes.utils.paths.cases_root()"
   ]
  },
  {
   "cell_type": "code",
   "execution_count": 7,
   "metadata": {},
   "outputs": [
    {
     "data": {
      "text/plain": [
       "'/Users/jinningwang/Documents/work/ams/ams/cases'"
      ]
     },
     "execution_count": 7,
     "metadata": {},
     "output_type": "execute_result"
    }
   ],
   "source": [
    "ams.utils.paths.cases_root()"
   ]
  },
  {
   "cell_type": "code",
   "execution_count": 8,
   "metadata": {},
   "outputs": [
    {
     "data": {
      "text/plain": [
       "'/Users/jinningwang/Documents/work/ams/ams/cases/ieee14/ieee14.xlsx'"
      ]
     },
     "execution_count": 8,
     "metadata": {},
     "output_type": "execute_result"
    }
   ],
   "source": [
    "# NOTE: ``get_case`` is the function that loads the case file\n",
    "ams.get_case('ieee14/ieee14.xlsx')"
   ]
  },
  {
   "cell_type": "code",
   "execution_count": 9,
   "metadata": {},
   "outputs": [
    {
     "name": "stderr",
     "output_type": "stream",
     "text": [
      "<Bus> is not an existing model.\n",
      "<Bus> is not an existing model.\n",
      "<Bus> is not an existing model.\n",
      "<Bus> is not an existing model.\n",
      "<Bus> is not an existing model.\n",
      "<Bus> is not an existing model.\n",
      "<Bus> is not an existing model.\n",
      "<Bus> is not an existing model.\n",
      "<Bus> is not an existing model.\n",
      "<Bus> is not an existing model.\n",
      "<Bus> is not an existing model.\n",
      "<Bus> is not an existing model.\n",
      "<Bus> is not an existing model.\n",
      "<Bus> is not an existing model.\n",
      "<PV> is not an existing model.\n",
      "<PV> is not an existing model.\n",
      "<PV> is not an existing model.\n",
      "<PV> is not an existing model.\n",
      "<Slack> is not an existing model.\n",
      "<PQ> is not an existing model.\n",
      "<PQ> is not an existing model.\n",
      "<PQ> is not an existing model.\n",
      "<PQ> is not an existing model.\n",
      "<PQ> is not an existing model.\n",
      "<PQ> is not an existing model.\n",
      "<PQ> is not an existing model.\n",
      "<PQ> is not an existing model.\n",
      "<PQ> is not an existing model.\n",
      "<PQ> is not an existing model.\n",
      "<PQ> is not an existing model.\n",
      "<Line> is not an existing model.\n",
      "<Line> is not an existing model.\n",
      "<Line> is not an existing model.\n",
      "<Line> is not an existing model.\n",
      "<Line> is not an existing model.\n",
      "<Line> is not an existing model.\n",
      "<Line> is not an existing model.\n",
      "<Line> is not an existing model.\n",
      "<Line> is not an existing model.\n",
      "<Line> is not an existing model.\n",
      "<Line> is not an existing model.\n",
      "<Line> is not an existing model.\n",
      "<Line> is not an existing model.\n",
      "<Line> is not an existing model.\n",
      "<Line> is not an existing model.\n",
      "<Line> is not an existing model.\n",
      "<Line> is not an existing model.\n",
      "<Line> is not an existing model.\n",
      "<Line> is not an existing model.\n",
      "<Line> is not an existing model.\n",
      "<Shunt> is not an existing model.\n",
      "<Shunt> is not an existing model.\n",
      "<Area> is not an existing model.\n",
      "<Area> is not an existing model.\n",
      "<GCOST> is not an existing model.\n",
      "<GCOST> is not an existing model.\n",
      "<GCOST> is not an existing model.\n",
      "<GCOST> is not an existing model.\n",
      "<GCOST> is not an existing model.\n",
      "System internal structure set up in 0.0000 seconds.\n"
     ]
    }
   ],
   "source": [
    "# NOTE: Load the case file into an AMS system\n",
    "sp = ams.load(ams.get_case('ieee14/ieee14.xlsx'))"
   ]
  },
  {
   "cell_type": "code",
   "execution_count": 10,
   "metadata": {},
   "outputs": [
    {
     "name": "stderr",
     "output_type": "stream",
     "text": [
      "Method `link_ext_param` is bounded to ANDES System but not supported in AMS System.\n"
     ]
    }
   ],
   "source": [
    "# NOTE: Some methods of ANDES System are not block in AMS\n",
    "sp.link_ext_param()"
   ]
  },
  {
   "cell_type": "code",
   "execution_count": 11,
   "metadata": {},
   "outputs": [
    {
     "data": {
      "text/plain": [
       "OrderedDict([('freq', 60),\n",
       "             ('mva', 100),\n",
       "             ('seed', 'None'),\n",
       "             ('np_divide', 'warn'),\n",
       "             ('np_invalid', 'warn')])"
      ]
     },
     "execution_count": 11,
     "metadata": {},
     "output_type": "execute_result"
    }
   ],
   "source": [
    "# NOTE: Current supported configurations\n",
    "sp.config"
   ]
  },
  {
   "cell_type": "code",
   "execution_count": 12,
   "metadata": {},
   "outputs": [
    {
     "data": {
      "text/plain": [
       "<ams.system.ExistingModels at 0x1364863a0>"
      ]
     },
     "execution_count": 12,
     "metadata": {},
     "output_type": "execute_result"
    }
   ],
   "source": [
    "# NOTE: Current supported routines\n",
    "sp.exist"
   ]
  },
  {
   "cell_type": "code",
   "execution_count": 13,
   "metadata": {},
   "outputs": [
    {
     "data": {
      "text/plain": [
       "'/Users/jinningwang/Documents/work/ams/ams/cases/ieee14/ieee14.xlsx'"
      ]
     },
     "execution_count": 13,
     "metadata": {},
     "output_type": "execute_result"
    }
   ],
   "source": [
    "# NOTE: Loaded case path\n",
    "sp.files.case"
   ]
  },
  {
   "cell_type": "code",
   "execution_count": 14,
   "metadata": {},
   "outputs": [
    {
     "name": "stderr",
     "output_type": "stream",
     "text": [
      "System has been setup. Calling setup twice is not allowed.\n"
     ]
    },
    {
     "data": {
      "text/plain": [
       "False"
      ]
     },
     "execution_count": 14,
     "metadata": {},
     "output_type": "execute_result"
    }
   ],
   "source": [
    "sp.setup()"
   ]
  },
  {
   "cell_type": "code",
   "execution_count": 15,
   "metadata": {},
   "outputs": [
    {
     "data": {
      "text/plain": [
       "Bus (14 devices) at 0x131c70220"
      ]
     },
     "execution_count": 15,
     "metadata": {},
     "output_type": "execute_result"
    }
   ],
   "source": [
    "sa.Bus"
   ]
  },
  {
   "cell_type": "code",
   "execution_count": 16,
   "metadata": {},
   "outputs": [
    {
     "ename": "AttributeError",
     "evalue": "'System' object has no attribute 'Bus'",
     "output_type": "error",
     "traceback": [
      "\u001b[0;31m---------------------------------------------------------------------------\u001b[0m",
      "\u001b[0;31mAttributeError\u001b[0m                            Traceback (most recent call last)",
      "Cell \u001b[0;32mIn[16], line 1\u001b[0m\n\u001b[0;32m----> 1\u001b[0m sp\u001b[39m.\u001b[39;49msummary()\n",
      "File \u001b[0;32m~/Documents/work/ams/ams/system.py:167\u001b[0m, in \u001b[0;36mSystem.summary\u001b[0;34m(self)\u001b[0m\n\u001b[1;32m    162\u001b[0m \u001b[39mdef\u001b[39;00m \u001b[39msummary\u001b[39m(\u001b[39mself\u001b[39m):\n\u001b[1;32m    163\u001b[0m \u001b[39m    \u001b[39m\u001b[39m\"\"\"\u001b[39;00m\n\u001b[1;32m    164\u001b[0m \u001b[39m    Print out system summary.\u001b[39;00m\n\u001b[1;32m    165\u001b[0m \u001b[39m    \"\"\"\u001b[39;00m\n\u001b[0;32m--> 167\u001b[0m     island_sets \u001b[39m=\u001b[39m \u001b[39mself\u001b[39;49m\u001b[39m.\u001b[39;49mBus\u001b[39m.\u001b[39misland_sets\n\u001b[1;32m    168\u001b[0m     nosw_island \u001b[39m=\u001b[39m \u001b[39mself\u001b[39m\u001b[39m.\u001b[39mBus\u001b[39m.\u001b[39mnosw_island\n\u001b[1;32m    169\u001b[0m     msw_island \u001b[39m=\u001b[39m \u001b[39mself\u001b[39m\u001b[39m.\u001b[39mBus\u001b[39m.\u001b[39mmsw_island\n",
      "\u001b[0;31mAttributeError\u001b[0m: 'System' object has no attribute 'Bus'"
     ]
    }
   ],
   "source": [
    "sp.summary()"
   ]
  }
 ],
 "metadata": {
  "kernelspec": {
   "display_name": "ams",
   "language": "python",
   "name": "python3"
  },
  "language_info": {
   "codemirror_mode": {
    "name": "ipython",
    "version": 3
   },
   "file_extension": ".py",
   "mimetype": "text/x-python",
   "name": "python",
   "nbconvert_exporter": "python",
   "pygments_lexer": "ipython3",
   "version": "3.9.7"
  },
  "orig_nbformat": 4,
  "vscode": {
   "interpreter": {
    "hash": "d9202bbf0491b3c6145e36d5ba22687a8b95e024b0a1e787962165edd6294d6d"
   }
  }
 },
 "nbformat": 4,
 "nbformat_minor": 2
}
