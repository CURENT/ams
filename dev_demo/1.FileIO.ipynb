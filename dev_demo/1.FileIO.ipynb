{
 "cells": [
  {
   "attachments": {},
   "cell_type": "markdown",
   "metadata": {},
   "source": [
    "# File IO"
   ]
  },
  {
   "attachments": {},
   "cell_type": "markdown",
   "metadata": {},
   "source": [
    "This notebook demonstrates how to read files in AMS for developers."
   ]
  },
  {
   "cell_type": "code",
   "execution_count": 1,
   "metadata": {},
   "outputs": [],
   "source": [
    "import andes\n",
    "import ams"
   ]
  },
  {
   "cell_type": "code",
   "execution_count": 2,
   "metadata": {},
   "outputs": [
    {
     "data": {
      "text/plain": [
       "'0.5+1.ge3a03f7'"
      ]
     },
     "execution_count": 2,
     "metadata": {},
     "output_type": "execute_result"
    }
   ],
   "source": [
    "ams.__version__"
   ]
  },
  {
   "cell_type": "code",
   "execution_count": 3,
   "metadata": {},
   "outputs": [],
   "source": [
    "# NOTE: set verbosity level to 20 (INFO) for AMS\n",
    "ams.config_logger(stream_level=20)"
   ]
  },
  {
   "cell_type": "code",
   "execution_count": 4,
   "metadata": {},
   "outputs": [
    {
     "data": {
      "text/plain": [
       "'/Users/jinningwang/Documents/work/mambaforge/envs/ams/lib/python3.9/site-packages/andes/cases/ieee14/ieee14_ace.xlsx'"
      ]
     },
     "execution_count": 4,
     "metadata": {},
     "output_type": "execute_result"
    }
   ],
   "source": [
    "andes.get_case('ieee14/ieee14_ace.xlsx')"
   ]
  },
  {
   "cell_type": "code",
   "execution_count": 5,
   "metadata": {},
   "outputs": [],
   "source": [
    "# NOTE: ANDES Case as a reference\n",
    "sa = andes.load(andes.get_case('ieee14/ieee14_ace.xlsx'))"
   ]
  },
  {
   "cell_type": "code",
   "execution_count": 6,
   "metadata": {},
   "outputs": [
    {
     "data": {
      "text/plain": [
       "OrderedDict([('Toggle', Toggle (2 devices) at 0x120536160),\n",
       "             ('PQ', PQ (11 devices) at 0x120568310),\n",
       "             ('PV', PV (4 devices) at 0x1205801c0),\n",
       "             ('Slack', Slack (1 device) at 0x120580a90),\n",
       "             ('Shunt', Shunt (2 devices) at 0x1205913a0),\n",
       "             ('Line', Line (20 devices) at 0x1205b97c0),\n",
       "             ('Area', Area (2 devices) at 0x1205cfcd0),\n",
       "             ('ACEc', ACEc (1 device) at 0x1205e2910),\n",
       "             ('GENROU', GENROU (5 devices) at 0x120671130),\n",
       "             ('TGOV1', TGOV1 (5 devices) at 0x1206c23d0),\n",
       "             ('EXST1', EXST1 (1 device) at 0x1207c81c0),\n",
       "             ('ESST3A', ESST3A (4 devices) at 0x1207d8430),\n",
       "             ('BusFreq', BusFreq (3 devices) at 0x12093ce80)])"
      ]
     },
     "execution_count": 6,
     "metadata": {},
     "output_type": "execute_result"
    }
   ],
   "source": [
    "sa.exist.tds"
   ]
  },
  {
   "cell_type": "code",
   "execution_count": 7,
   "metadata": {},
   "outputs": [
    {
     "data": {
      "text/plain": [
       "'/Users/jinningwang/Documents/work/mambaforge/envs/ams/lib/python3.9/site-packages/andes/cases'"
      ]
     },
     "execution_count": 7,
     "metadata": {},
     "output_type": "execute_result"
    }
   ],
   "source": [
    "andes.utils.paths.cases_root()"
   ]
  },
  {
   "cell_type": "code",
   "execution_count": 8,
   "metadata": {},
   "outputs": [
    {
     "data": {
      "text/plain": [
       "'/Users/jinningwang/Documents/work/ams/ams/cases'"
      ]
     },
     "execution_count": 8,
     "metadata": {},
     "output_type": "execute_result"
    }
   ],
   "source": [
    "ams.utils.paths.cases_root()"
   ]
  },
  {
   "cell_type": "code",
   "execution_count": 9,
   "metadata": {},
   "outputs": [
    {
     "data": {
      "text/plain": [
       "'/Users/jinningwang/Documents/work/ams/ams/cases/ieee14/ieee14.xlsx'"
      ]
     },
     "execution_count": 9,
     "metadata": {},
     "output_type": "execute_result"
    }
   ],
   "source": [
    "# NOTE: ``get_case`` is the function that loads the case file\n",
    "ams.get_case('ieee14/ieee14.xlsx')"
   ]
  },
  {
   "cell_type": "code",
   "execution_count": 10,
   "metadata": {},
   "outputs": [],
   "source": [
    "# NOTE: Load the case file into an AMS system\n",
    "sp = ams.load(ams.get_case('ieee14/ieee14.xlsx'),\n",
    "            setup=False)"
   ]
  },
  {
   "cell_type": "code",
   "execution_count": 11,
   "metadata": {},
   "outputs": [
    {
     "data": {
      "text/plain": [
       "OrderedDict([('freq', 60),\n",
       "             ('mva', 100),\n",
       "             ('seed', 'None'),\n",
       "             ('np_divide', 'warn'),\n",
       "             ('np_invalid', 'warn')])"
      ]
     },
     "execution_count": 11,
     "metadata": {},
     "output_type": "execute_result"
    }
   ],
   "source": [
    "# NOTE: Current supported configurations\n",
    "sp.config"
   ]
  },
  {
   "cell_type": "code",
   "execution_count": 12,
   "metadata": {},
   "outputs": [
    {
     "data": {
      "text/plain": [
       "<ams.system.ExistingModels at 0x130938b80>"
      ]
     },
     "execution_count": 12,
     "metadata": {},
     "output_type": "execute_result"
    }
   ],
   "source": [
    "# NOTE: Current supported routines\n",
    "sp.exist"
   ]
  },
  {
   "cell_type": "code",
   "execution_count": 13,
   "metadata": {},
   "outputs": [
    {
     "data": {
      "text/plain": [
       "'/Users/jinningwang/Documents/work/ams/ams/cases/ieee14/ieee14.xlsx'"
      ]
     },
     "execution_count": 13,
     "metadata": {},
     "output_type": "execute_result"
    }
   ],
   "source": [
    "# NOTE: Loaded case path\n",
    "sp.files.case"
   ]
  },
  {
   "cell_type": "code",
   "execution_count": 14,
   "metadata": {},
   "outputs": [
    {
     "data": {
      "text/plain": [
       "OrderedDict([('Summary', Summary (0 devices) at 0x130a6f100),\n",
       "             ('Bus', Bus (14 devices) at 0x130a6f4c0),\n",
       "             ('PQ', PQ (11 devices) at 0x130a6fa90),\n",
       "             ('PV', PV (4 devices) at 0x130c342b0),\n",
       "             ('Slack', Slack (1 device) at 0x130c34bb0),\n",
       "             ('Shunt', Shunt (2 devices) at 0x130c404c0),\n",
       "             ('Line', Line (20 devices) at 0x130c40ac0),\n",
       "             ('Area', Area (2 devices) at 0x130c515e0),\n",
       "             ('GCost', GCost (5 devices) at 0x130c51a00)])"
      ]
     },
     "execution_count": 14,
     "metadata": {},
     "output_type": "execute_result"
    }
   ],
   "source": [
    "sp.models"
   ]
  },
  {
   "cell_type": "code",
   "execution_count": 15,
   "metadata": {},
   "outputs": [
    {
     "data": {
      "text/html": [
       "<div>\n",
       "<style scoped>\n",
       "    .dataframe tbody tr th:only-of-type {\n",
       "        vertical-align: middle;\n",
       "    }\n",
       "\n",
       "    .dataframe tbody tr th {\n",
       "        vertical-align: top;\n",
       "    }\n",
       "\n",
       "    .dataframe thead th {\n",
       "        text-align: right;\n",
       "    }\n",
       "</style>\n",
       "<table border=\"1\" class=\"dataframe\">\n",
       "  <thead>\n",
       "    <tr style=\"text-align: right;\">\n",
       "      <th></th>\n",
       "      <th>idx</th>\n",
       "      <th>u</th>\n",
       "      <th>name</th>\n",
       "      <th>gen</th>\n",
       "      <th>type</th>\n",
       "      <th>startup</th>\n",
       "      <th>shutdown</th>\n",
       "      <th>c2</th>\n",
       "      <th>c1</th>\n",
       "      <th>c0</th>\n",
       "    </tr>\n",
       "    <tr>\n",
       "      <th>uid</th>\n",
       "      <th></th>\n",
       "      <th></th>\n",
       "      <th></th>\n",
       "      <th></th>\n",
       "      <th></th>\n",
       "      <th></th>\n",
       "      <th></th>\n",
       "      <th></th>\n",
       "      <th></th>\n",
       "      <th></th>\n",
       "    </tr>\n",
       "  </thead>\n",
       "  <tbody>\n",
       "    <tr>\n",
       "      <th>0</th>\n",
       "      <td>GCOST_1</td>\n",
       "      <td>1</td>\n",
       "      <td>GCOST_1</td>\n",
       "      <td>Slack_1</td>\n",
       "      <td>2</td>\n",
       "      <td>0</td>\n",
       "      <td>0</td>\n",
       "      <td>0.043029</td>\n",
       "      <td>20</td>\n",
       "      <td>0</td>\n",
       "    </tr>\n",
       "    <tr>\n",
       "      <th>1</th>\n",
       "      <td>GCOST_2</td>\n",
       "      <td>1</td>\n",
       "      <td>GCOST_2</td>\n",
       "      <td>PV_2</td>\n",
       "      <td>2</td>\n",
       "      <td>0</td>\n",
       "      <td>0</td>\n",
       "      <td>0.250000</td>\n",
       "      <td>20</td>\n",
       "      <td>0</td>\n",
       "    </tr>\n",
       "    <tr>\n",
       "      <th>2</th>\n",
       "      <td>GCOST_3</td>\n",
       "      <td>1</td>\n",
       "      <td>GCOST_3</td>\n",
       "      <td>PV_3</td>\n",
       "      <td>2</td>\n",
       "      <td>0</td>\n",
       "      <td>0</td>\n",
       "      <td>0.010000</td>\n",
       "      <td>40</td>\n",
       "      <td>0</td>\n",
       "    </tr>\n",
       "    <tr>\n",
       "      <th>3</th>\n",
       "      <td>GCOST_4</td>\n",
       "      <td>1</td>\n",
       "      <td>GCOST_4</td>\n",
       "      <td>PV_4</td>\n",
       "      <td>2</td>\n",
       "      <td>0</td>\n",
       "      <td>0</td>\n",
       "      <td>0.010000</td>\n",
       "      <td>40</td>\n",
       "      <td>0</td>\n",
       "    </tr>\n",
       "    <tr>\n",
       "      <th>4</th>\n",
       "      <td>GCOST_5</td>\n",
       "      <td>1</td>\n",
       "      <td>GCOST_5</td>\n",
       "      <td>PV_5</td>\n",
       "      <td>2</td>\n",
       "      <td>0</td>\n",
       "      <td>0</td>\n",
       "      <td>0.010000</td>\n",
       "      <td>40</td>\n",
       "      <td>0</td>\n",
       "    </tr>\n",
       "  </tbody>\n",
       "</table>\n",
       "</div>"
      ],
      "text/plain": [
       "         idx  u     name      gen  type  startup  shutdown        c2  c1  c0\n",
       "uid                                                                         \n",
       "0    GCOST_1  1  GCOST_1  Slack_1     2        0         0  0.043029  20   0\n",
       "1    GCOST_2  1  GCOST_2     PV_2     2        0         0  0.250000  20   0\n",
       "2    GCOST_3  1  GCOST_3     PV_3     2        0         0  0.010000  40   0\n",
       "3    GCOST_4  1  GCOST_4     PV_4     2        0         0  0.010000  40   0\n",
       "4    GCOST_5  1  GCOST_5     PV_5     2        0         0  0.010000  40   0"
      ]
     },
     "execution_count": 15,
     "metadata": {},
     "output_type": "execute_result"
    }
   ],
   "source": [
    "sp.GCost.as_df()"
   ]
  }
 ],
 "metadata": {
  "kernelspec": {
   "display_name": "ams",
   "language": "python",
   "name": "python3"
  },
  "language_info": {
   "codemirror_mode": {
    "name": "ipython",
    "version": 3
   },
   "file_extension": ".py",
   "mimetype": "text/x-python",
   "name": "python",
   "nbconvert_exporter": "python",
   "pygments_lexer": "ipython3",
   "version": "3.9.7"
  },
  "orig_nbformat": 4,
  "vscode": {
   "interpreter": {
    "hash": "d9202bbf0491b3c6145e36d5ba22687a8b95e024b0a1e787962165edd6294d6d"
   }
  }
 },
 "nbformat": 4,
 "nbformat_minor": 2
}
