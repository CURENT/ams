{
 "cells": [
  {
   "attachments": {},
   "cell_type": "markdown",
   "metadata": {},
   "source": [
    "# File IO"
   ]
  },
  {
   "attachments": {},
   "cell_type": "markdown",
   "metadata": {},
   "source": [
    "This notebook demonstrates how to read files in AMS for developers."
   ]
  },
  {
   "cell_type": "code",
   "execution_count": 1,
   "metadata": {},
   "outputs": [],
   "source": [
    "import andes\n",
    "import ams"
   ]
  },
  {
   "cell_type": "code",
   "execution_count": 2,
   "metadata": {},
   "outputs": [
    {
     "data": {
      "text/plain": [
       "'/Users/jinningwang/Documents/work/mambaforge/envs/ams/lib/python3.9/site-packages/andes/cases/ieee14/ieee14_ace.xlsx'"
      ]
     },
     "execution_count": 2,
     "metadata": {},
     "output_type": "execute_result"
    }
   ],
   "source": [
    "andes.get_case('ieee14/ieee14_ace.xlsx')"
   ]
  },
  {
   "cell_type": "code",
   "execution_count": 3,
   "metadata": {},
   "outputs": [],
   "source": [
    "# NOTE: ANDES Case as a reference\n",
    "sa = andes.load(andes.get_case('ieee14/ieee14_ace.xlsx'))"
   ]
  },
  {
   "cell_type": "code",
   "execution_count": 4,
   "metadata": {},
   "outputs": [
    {
     "data": {
      "text/plain": [
       "OrderedDict([('Toggle', Toggle (2 devices) at 0x12fbb28e0),\n",
       "             ('PQ', PQ (11 devices) at 0x12fba5ee0),\n",
       "             ('PV', PV (4 devices) at 0x12fba5370),\n",
       "             ('Slack', Slack (1 device) at 0x12fb9de20),\n",
       "             ('Shunt', Shunt (2 devices) at 0x12fb9d1c0),\n",
       "             ('Line', Line (20 devices) at 0x12fc43c10),\n",
       "             ('Area', Area (2 devices) at 0x12fc56b80),\n",
       "             ('ACEc', ACEc (1 device) at 0x12fc70490),\n",
       "             ('GENROU', GENROU (5 devices) at 0x12fceac70),\n",
       "             ('TGOV1', TGOV1 (5 devices) at 0x12fe38f10),\n",
       "             ('EXST1', EXST1 (1 device) at 0x12ff52d00),\n",
       "             ('ESST3A', ESST3A (4 devices) at 0x12ff5bf70),\n",
       "             ('BusFreq', BusFreq (3 devices) at 0x1380d2a00)])"
      ]
     },
     "execution_count": 4,
     "metadata": {},
     "output_type": "execute_result"
    }
   ],
   "source": [
    "sa.exist.tds"
   ]
  },
  {
   "cell_type": "code",
   "execution_count": 5,
   "metadata": {},
   "outputs": [
    {
     "data": {
      "text/plain": [
       "'/Users/jinningwang/Documents/work/mambaforge/envs/ams/lib/python3.9/site-packages/andes/cases'"
      ]
     },
     "execution_count": 5,
     "metadata": {},
     "output_type": "execute_result"
    }
   ],
   "source": [
    "andes.utils.paths.cases_root()"
   ]
  },
  {
   "cell_type": "code",
   "execution_count": 6,
   "metadata": {},
   "outputs": [
    {
     "data": {
      "text/plain": [
       "'/Users/jinningwang/Documents/work/ams/ams/cases'"
      ]
     },
     "execution_count": 6,
     "metadata": {},
     "output_type": "execute_result"
    }
   ],
   "source": [
    "ams.utils.paths.cases_root()"
   ]
  },
  {
   "cell_type": "code",
   "execution_count": 7,
   "metadata": {},
   "outputs": [
    {
     "data": {
      "text/plain": [
       "'/Users/jinningwang/Documents/work/ams/ams/cases/ieee14/ieee14.xlsx'"
      ]
     },
     "execution_count": 7,
     "metadata": {},
     "output_type": "execute_result"
    }
   ],
   "source": [
    "# NOTE: ``get_case`` is the function that loads the case file\n",
    "ams.get_case('ieee14/ieee14.xlsx')"
   ]
  },
  {
   "cell_type": "code",
   "execution_count": 8,
   "metadata": {},
   "outputs": [],
   "source": [
    "# NOTE: Load the case file into an AMS system\n",
    "sp = ams.load(ams.get_case('ieee14/ieee14.xlsx'))"
   ]
  },
  {
   "cell_type": "code",
   "execution_count": 9,
   "metadata": {},
   "outputs": [
    {
     "name": "stderr",
     "output_type": "stream",
     "text": [
      "Method `link_ext_param` is an ANDES System method but not supported in AMS System.\n"
     ]
    }
   ],
   "source": [
    "# NOTE: Some methods of ANDES System are not block in AMS\n",
    "sp.link_ext_param()"
   ]
  },
  {
   "cell_type": "code",
   "execution_count": 10,
   "metadata": {},
   "outputs": [
    {
     "data": {
      "text/plain": [
       "OrderedDict([('freq', 60),\n",
       "             ('mva', 100),\n",
       "             ('seed', 'None'),\n",
       "             ('np_divide', 'warn'),\n",
       "             ('np_invalid', 'warn')])"
      ]
     },
     "execution_count": 10,
     "metadata": {},
     "output_type": "execute_result"
    }
   ],
   "source": [
    "# NOTE: Current supported configurations\n",
    "sp.config"
   ]
  },
  {
   "cell_type": "code",
   "execution_count": 11,
   "metadata": {},
   "outputs": [
    {
     "data": {
      "text/plain": [
       "<ams.system.ExistingModels at 0x12fbbe880>"
      ]
     },
     "execution_count": 11,
     "metadata": {},
     "output_type": "execute_result"
    }
   ],
   "source": [
    "# NOTE: Current supported routines\n",
    "sp.exist"
   ]
  },
  {
   "cell_type": "code",
   "execution_count": 12,
   "metadata": {},
   "outputs": [
    {
     "data": {
      "text/plain": [
       "'/Users/jinningwang/Documents/work/ams/ams/cases/ieee14/ieee14.xlsx'"
      ]
     },
     "execution_count": 12,
     "metadata": {},
     "output_type": "execute_result"
    }
   ],
   "source": [
    "# NOTE: Loaded case path\n",
    "sp.files.case"
   ]
  },
  {
   "cell_type": "code",
   "execution_count": 13,
   "metadata": {},
   "outputs": [],
   "source": [
    "sp.import_groups()"
   ]
  },
  {
   "cell_type": "code",
   "execution_count": 14,
   "metadata": {},
   "outputs": [
    {
     "data": {
      "text/plain": [
       "OrderedDict([('ACLine', <andes.models.group.ACLine at 0x13a628280>),\n",
       "             ('ACTopology', <andes.models.group.ACTopology at 0x13a6284f0>),\n",
       "             ('Information', <andes.models.group.Information at 0x13a628310>),\n",
       "             ('StaticGen', <andes.models.group.StaticGen at 0x13a628490>),\n",
       "             ('StaticLoad', <andes.models.group.StaticLoad at 0x13a628400>),\n",
       "             ('StaticShunt', <andes.models.group.StaticShunt at 0x13a628520>)])"
      ]
     },
     "execution_count": 14,
     "metadata": {},
     "output_type": "execute_result"
    }
   ],
   "source": [
    "sp.groups"
   ]
  },
  {
   "cell_type": "code",
   "execution_count": 15,
   "metadata": {},
   "outputs": [],
   "source": [
    "sp.import_models()"
   ]
  },
  {
   "cell_type": "code",
   "execution_count": 16,
   "metadata": {},
   "outputs": [
    {
     "data": {
      "text/plain": [
       "OrderedDict([('Summary', Summary (0 devices) at 0x13a628670),\n",
       "             ('Bus', Bus (0 devices) at 0x13a6287c0),\n",
       "             ('PQ', PQ (0 devices) at 0x13a628d60),\n",
       "             ('PV', PV (0 devices) at 0x13a6354f0),\n",
       "             ('Slack', Slack (0 devices) at 0x13a635df0),\n",
       "             ('Shunt', Shunt (0 devices) at 0x13a645700),\n",
       "             ('Line', Line (0 devices) at 0x13a645c70),\n",
       "             ('Area', Area (0 devices) at 0x13a657700)])"
      ]
     },
     "execution_count": 16,
     "metadata": {},
     "output_type": "execute_result"
    }
   ],
   "source": [
    "sp.models"
   ]
  },
  {
   "cell_type": "code",
   "execution_count": 17,
   "metadata": {},
   "outputs": [
    {
     "data": {
      "text/plain": [
       "OrderedDict([('ACLine', <andes.models.group.ACLine at 0x13a628280>),\n",
       "             ('ACTopology', <andes.models.group.ACTopology at 0x13a6284f0>),\n",
       "             ('Information', <andes.models.group.Information at 0x13a628310>),\n",
       "             ('StaticGen', <andes.models.group.StaticGen at 0x13a628490>),\n",
       "             ('StaticLoad', <andes.models.group.StaticLoad at 0x13a628400>),\n",
       "             ('StaticShunt', <andes.models.group.StaticShunt at 0x13a628520>)])"
      ]
     },
     "execution_count": 17,
     "metadata": {},
     "output_type": "execute_result"
    }
   ],
   "source": [
    "sp.groups"
   ]
  },
  {
   "cell_type": "code",
   "execution_count": 18,
   "metadata": {},
   "outputs": [
    {
     "ename": "AttributeError",
     "evalue": "'Bus' object has no attribute 'nosw_island'",
     "output_type": "error",
     "traceback": [
      "\u001b[0;31m---------------------------------------------------------------------------\u001b[0m",
      "\u001b[0;31mAttributeError\u001b[0m                            Traceback (most recent call last)",
      "Cell \u001b[0;32mIn[18], line 1\u001b[0m\n\u001b[0;32m----> 1\u001b[0m sp\u001b[39m.\u001b[39;49msummary()\n",
      "File \u001b[0;32m~/Documents/work/ams/ams/system.py:162\u001b[0m, in \u001b[0;36mSystem.summary\u001b[0;34m(self)\u001b[0m\n\u001b[1;32m    157\u001b[0m \u001b[39m\u001b[39m\u001b[39m\"\"\"\u001b[39;00m\n\u001b[1;32m    158\u001b[0m \u001b[39mPrint out system summary.\u001b[39;00m\n\u001b[1;32m    159\u001b[0m \u001b[39m\"\"\"\u001b[39;00m\n\u001b[1;32m    161\u001b[0m island_sets \u001b[39m=\u001b[39m \u001b[39mself\u001b[39m\u001b[39m.\u001b[39mBus\u001b[39m.\u001b[39misland_sets\n\u001b[0;32m--> 162\u001b[0m nosw_island \u001b[39m=\u001b[39m \u001b[39mself\u001b[39;49m\u001b[39m.\u001b[39;49mBus\u001b[39m.\u001b[39;49mnosw_island\n\u001b[1;32m    163\u001b[0m msw_island \u001b[39m=\u001b[39m \u001b[39mself\u001b[39m\u001b[39m.\u001b[39mBus\u001b[39m.\u001b[39mmsw_island\n\u001b[1;32m    164\u001b[0m n_islanded_buses \u001b[39m=\u001b[39m \u001b[39mself\u001b[39m\u001b[39m.\u001b[39mBus\u001b[39m.\u001b[39mn_islanded_buses\n",
      "\u001b[0;31mAttributeError\u001b[0m: 'Bus' object has no attribute 'nosw_island'"
     ]
    }
   ],
   "source": [
    "sp.summary()"
   ]
  }
 ],
 "metadata": {
  "kernelspec": {
   "display_name": "ams",
   "language": "python",
   "name": "python3"
  },
  "language_info": {
   "codemirror_mode": {
    "name": "ipython",
    "version": 3
   },
   "file_extension": ".py",
   "mimetype": "text/x-python",
   "name": "python",
   "nbconvert_exporter": "python",
   "pygments_lexer": "ipython3",
   "version": "3.9.7"
  },
  "orig_nbformat": 4,
  "vscode": {
   "interpreter": {
    "hash": "d9202bbf0491b3c6145e36d5ba22687a8b95e024b0a1e787962165edd6294d6d"
   }
  }
 },
 "nbformat": 4,
 "nbformat_minor": 2
}
