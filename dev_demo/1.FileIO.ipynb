{
 "cells": [
  {
   "attachments": {},
   "cell_type": "markdown",
   "metadata": {},
   "source": [
    "# File IO"
   ]
  },
  {
   "attachments": {},
   "cell_type": "markdown",
   "metadata": {},
   "source": [
    "This notebook demonstrates how to read files in AMS for developers."
   ]
  },
  {
   "cell_type": "code",
   "execution_count": 1,
   "metadata": {},
   "outputs": [],
   "source": [
    "import andes\n",
    "import ams"
   ]
  },
  {
   "cell_type": "code",
   "execution_count": 2,
   "metadata": {},
   "outputs": [
    {
     "data": {
      "text/plain": [
       "'/Users/jinningwang/Documents/work/mambaforge/envs/ams/lib/python3.9/site-packages/andes/cases/ieee14/ieee14_ace.xlsx'"
      ]
     },
     "execution_count": 2,
     "metadata": {},
     "output_type": "execute_result"
    }
   ],
   "source": [
    "andes.get_case('ieee14/ieee14_ace.xlsx')"
   ]
  },
  {
   "cell_type": "code",
   "execution_count": 3,
   "metadata": {},
   "outputs": [],
   "source": [
    "# NOTE: ANDES Case as a reference\n",
    "sa = andes.load(andes.get_case('ieee14/ieee14_ace.xlsx'))"
   ]
  },
  {
   "cell_type": "code",
   "execution_count": 4,
   "metadata": {},
   "outputs": [
    {
     "data": {
      "text/plain": [
       "OrderedDict([('Bus', Bus (14 devices) at 0x147d6ca60),\n",
       "             ('PQ', PQ (11 devices) at 0x147d81220),\n",
       "             ('PV', PV (4 devices) at 0x147d970d0),\n",
       "             ('Slack', Slack (1 device) at 0x147d979a0),\n",
       "             ('Shunt', Shunt (2 devices) at 0x147dad2b0),\n",
       "             ('Line', Line (20 devices) at 0x147dd76d0),\n",
       "             ('Area', Area (2 devices) at 0x147decbe0)])"
      ]
     },
     "execution_count": 4,
     "metadata": {},
     "output_type": "execute_result"
    }
   ],
   "source": [
    "sa.exist.pflow"
   ]
  },
  {
   "cell_type": "code",
   "execution_count": 5,
   "metadata": {},
   "outputs": [
    {
     "data": {
      "text/plain": [
       "OrderedDict([('Toggle', Toggle (2 devices) at 0x147d4b100),\n",
       "             ('PQ', PQ (11 devices) at 0x147d81220),\n",
       "             ('PV', PV (4 devices) at 0x147d970d0),\n",
       "             ('Slack', Slack (1 device) at 0x147d979a0),\n",
       "             ('Shunt', Shunt (2 devices) at 0x147dad2b0),\n",
       "             ('Line', Line (20 devices) at 0x147dd76d0),\n",
       "             ('Area', Area (2 devices) at 0x147decbe0),\n",
       "             ('ACEc', ACEc (1 device) at 0x147e017f0),\n",
       "             ('GENROU', GENROU (5 devices) at 0x147e94040),\n",
       "             ('TGOV1', TGOV1 (5 devices) at 0x147ee52e0),\n",
       "             ('EXST1', EXST1 (1 device) at 0x1501110d0),\n",
       "             ('ESST3A', ESST3A (4 devices) at 0x150121340),\n",
       "             ('BusFreq', BusFreq (3 devices) at 0x150283d90)])"
      ]
     },
     "execution_count": 5,
     "metadata": {},
     "output_type": "execute_result"
    }
   ],
   "source": [
    "sa.exist.tds"
   ]
  },
  {
   "cell_type": "code",
   "execution_count": 6,
   "metadata": {},
   "outputs": [
    {
     "data": {
      "text/plain": [
       "OrderedDict([('Toggle', Toggle (2 devices) at 0x147d4b100),\n",
       "             ('Bus', Bus (14 devices) at 0x147d6ca60),\n",
       "             ('PQ', PQ (11 devices) at 0x147d81220),\n",
       "             ('PV', PV (4 devices) at 0x147d970d0),\n",
       "             ('Slack', Slack (1 device) at 0x147d979a0),\n",
       "             ('Shunt', Shunt (2 devices) at 0x147dad2b0),\n",
       "             ('Line', Line (20 devices) at 0x147dd76d0),\n",
       "             ('Area', Area (2 devices) at 0x147decbe0),\n",
       "             ('ACEc', ACEc (1 device) at 0x147e017f0),\n",
       "             ('GENROU', GENROU (5 devices) at 0x147e94040),\n",
       "             ('TGOV1', TGOV1 (5 devices) at 0x147ee52e0),\n",
       "             ('EXST1', EXST1 (1 device) at 0x1501110d0),\n",
       "             ('ESST3A', ESST3A (4 devices) at 0x150121340),\n",
       "             ('BusFreq', BusFreq (3 devices) at 0x150283d90)])"
      ]
     },
     "execution_count": 6,
     "metadata": {},
     "output_type": "execute_result"
    }
   ],
   "source": [
    "sa.exist.pflow_tds"
   ]
  },
  {
   "cell_type": "code",
   "execution_count": 7,
   "metadata": {},
   "outputs": [
    {
     "data": {
      "text/plain": [
       "<andes.routines.tds.TDS at 0x1507067f0>"
      ]
     },
     "execution_count": 7,
     "metadata": {},
     "output_type": "execute_result"
    }
   ],
   "source": [
    "sa.TDS"
   ]
  },
  {
   "cell_type": "code",
   "execution_count": 8,
   "metadata": {},
   "outputs": [
    {
     "data": {
      "text/plain": [
       "'/Users/jinningwang/Documents/work/mambaforge/envs/ams/lib/python3.9/site-packages/andes/cases'"
      ]
     },
     "execution_count": 8,
     "metadata": {},
     "output_type": "execute_result"
    }
   ],
   "source": [
    "andes.utils.paths.cases_root()"
   ]
  },
  {
   "cell_type": "code",
   "execution_count": 9,
   "metadata": {},
   "outputs": [
    {
     "data": {
      "text/plain": [
       "'/Users/jinningwang/Documents/work/ams/ams/cases'"
      ]
     },
     "execution_count": 9,
     "metadata": {},
     "output_type": "execute_result"
    }
   ],
   "source": [
    "ams.utils.paths.cases_root()"
   ]
  },
  {
   "cell_type": "code",
   "execution_count": 10,
   "metadata": {},
   "outputs": [
    {
     "data": {
      "text/plain": [
       "'/Users/jinningwang/Documents/work/ams/ams/cases/ieee14/ieee14.xlsx'"
      ]
     },
     "execution_count": 10,
     "metadata": {},
     "output_type": "execute_result"
    }
   ],
   "source": [
    "# NOTE: ``get_case`` is the function that loads the case file\n",
    "ams.get_case('ieee14/ieee14.xlsx')"
   ]
  },
  {
   "cell_type": "code",
   "execution_count": 11,
   "metadata": {},
   "outputs": [],
   "source": [
    "# Load the case file into an AMS system\n",
    "sp = ams.load(ams.get_case('ieee14/ieee14.xlsx'))"
   ]
  },
  {
   "cell_type": "code",
   "execution_count": 12,
   "metadata": {},
   "outputs": [
    {
     "data": {
      "text/plain": [
       "True"
      ]
     },
     "execution_count": 12,
     "metadata": {},
     "output_type": "execute_result"
    }
   ],
   "source": [
    "sp.config.check()"
   ]
  },
  {
   "cell_type": "code",
   "execution_count": 13,
   "metadata": {},
   "outputs": [
    {
     "data": {
      "text/plain": [
       "OrderedDict([('freq', 'base frequency [Hz]'),\n",
       "             ('mva', 'system base MVA'),\n",
       "             ('seed', 'seed (or None) for random number generator'),\n",
       "             ('np_divide', 'treatment for division by zero'),\n",
       "             ('np_invalid', 'treatment for invalid floating-point ops.')])"
      ]
     },
     "execution_count": 13,
     "metadata": {},
     "output_type": "execute_result"
    }
   ],
   "source": [
    "sp.config._help"
   ]
  }
 ],
 "metadata": {
  "kernelspec": {
   "display_name": "ams",
   "language": "python",
   "name": "python3"
  },
  "language_info": {
   "codemirror_mode": {
    "name": "ipython",
    "version": 3
   },
   "file_extension": ".py",
   "mimetype": "text/x-python",
   "name": "python",
   "nbconvert_exporter": "python",
   "pygments_lexer": "ipython3",
   "version": "3.9.7"
  },
  "orig_nbformat": 4,
  "vscode": {
   "interpreter": {
    "hash": "d9202bbf0491b3c6145e36d5ba22687a8b95e024b0a1e787962165edd6294d6d"
   }
  }
 },
 "nbformat": 4,
 "nbformat_minor": 2
}
