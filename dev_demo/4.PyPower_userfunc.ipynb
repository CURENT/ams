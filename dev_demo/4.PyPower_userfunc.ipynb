{
 "cells": [
  {
   "attachments": {},
   "cell_type": "markdown",
   "metadata": {},
   "source": [
    "#  PyPower user defined functionality"
   ]
  },
  {
   "cell_type": "code",
   "execution_count": 3,
   "metadata": {},
   "outputs": [
    {
     "name": "stdout",
     "output_type": "stream",
     "text": [
      "0.5+36.g28c4e90\n"
     ]
    }
   ],
   "source": [
    "import ams\n",
    "\n",
    "print(ams.__version__)"
   ]
  },
  {
   "cell_type": "code",
   "execution_count": 4,
   "metadata": {},
   "outputs": [],
   "source": [
    "tt_path = ams.get_case('pypower/case14_new.py')"
   ]
  },
  {
   "cell_type": "code",
   "execution_count": null,
   "metadata": {},
   "outputs": [],
   "source": [
    "\n",
    "exec(open(f\"{case}\").read())\n",
    "# NOTE: the following line is not robust\n",
    "func_name = case.split('/')[-1].rstrip('.py')\n",
    "ppc = eval(f\"{func_name}()\")\n"
   ]
  },
  {
   "cell_type": "code",
   "execution_count": 7,
   "metadata": {},
   "outputs": [
    {
     "ename": "SyntaxError",
     "evalue": "invalid syntax (<string>, line 1)",
     "output_type": "error",
     "traceback": [
      "Traceback \u001b[0;36m(most recent call last)\u001b[0m:\n",
      "\u001b[0m  File \u001b[1;32m~/Documents/work/mambaforge/envs/ams/lib/python3.9/site-packages/IPython/core/interactiveshell.py:3460\u001b[0m in \u001b[1;35mrun_code\u001b[0m\n    exec(code_obj, self.user_global_ns, self.user_ns)\u001b[0m\n",
      "\u001b[0;36m  Cell \u001b[0;32mIn[7], line 1\u001b[0;36m\n\u001b[0;31m    exec(tt_path)\u001b[0;36m\n",
      "\u001b[0;36m  File \u001b[0;32m<string>:1\u001b[0;36m\u001b[0m\n\u001b[0;31m    /Users/jinningwang/Documents/work/ams/ams/cases/pypower/case14_new.py\u001b[0m\n\u001b[0m    ^\u001b[0m\n\u001b[0;31mSyntaxError\u001b[0m\u001b[0;31m:\u001b[0m invalid syntax\n"
     ]
    }
   ],
   "source": [
    "exec(tt_path)"
   ]
  },
  {
   "cell_type": "code",
   "execution_count": 2,
   "metadata": {},
   "outputs": [],
   "source": [
    "from ams.solver.pypower.interface import ppi\n",
    "\n",
    "spp = ppi()\n",
    "spp.from_ppc(ams.get_case('pypower/case14_new.py'))\n",
    "ppc = spp.ppc"
   ]
  },
  {
   "cell_type": "code",
   "execution_count": 3,
   "metadata": {},
   "outputs": [],
   "source": [
    "from ams.solver.pypower.runopf_w_res import runopf_w_res"
   ]
  },
  {
   "cell_type": "code",
   "execution_count": 4,
   "metadata": {},
   "outputs": [
    {
     "ename": "KeyError",
     "evalue": "'reserves'",
     "output_type": "error",
     "traceback": [
      "\u001b[0;31m---------------------------------------------------------------------------\u001b[0m",
      "\u001b[0;31mKeyError\u001b[0m                                  Traceback (most recent call last)",
      "Cell \u001b[0;32mIn[4], line 1\u001b[0m\n\u001b[0;32m----> 1\u001b[0m runopf_w_res(ppc)\n",
      "File \u001b[0;32m~/Documents/work/ams/ams/solver/pypower/runopf_w_res.py:65\u001b[0m, in \u001b[0;36mrunopf_w_res\u001b[0;34m(*args)\u001b[0m\n\u001b[1;32m     14\u001b[0m \u001b[39m\u001b[39m\u001b[39m\"\"\"Runs an optimal power flow with fixed zonal reserves.\u001b[39;00m\n\u001b[1;32m     15\u001b[0m \n\u001b[1;32m     16\u001b[0m \u001b[39mRuns an optimal power flow with the addition of reserve requirements\u001b[39;00m\n\u001b[0;32m   (...)\u001b[0m\n\u001b[1;32m     62\u001b[0m \u001b[39m@author: Ray Zimmerman (PSERC Cornell)\u001b[39;00m\n\u001b[1;32m     63\u001b[0m \u001b[39m\"\"\"\u001b[39;00m\n\u001b[1;32m     64\u001b[0m ppc \u001b[39m=\u001b[39m loadcase(args[\u001b[39m0\u001b[39m])\n\u001b[0;32m---> 65\u001b[0m ppc \u001b[39m=\u001b[39m toggle_reserves(ppc, \u001b[39m'\u001b[39;49m\u001b[39mon\u001b[39;49m\u001b[39m'\u001b[39;49m)\n\u001b[1;32m     67\u001b[0m r \u001b[39m=\u001b[39m runopf(ppc, \u001b[39m*\u001b[39margs[\u001b[39m1\u001b[39m:])\n\u001b[1;32m     68\u001b[0m r \u001b[39m=\u001b[39m toggle_reserves(r, \u001b[39m'\u001b[39m\u001b[39moff\u001b[39m\u001b[39m'\u001b[39m)\n",
      "File \u001b[0;32m~/Documents/work/ams/ams/solver/pypower/toggle_reserves.py:68\u001b[0m, in \u001b[0;36mtoggle_reserves\u001b[0;34m(ppc, on_off)\u001b[0m\n\u001b[1;32m     29\u001b[0m \u001b[39m\u001b[39m\u001b[39m\"\"\"Enable or disable fixed reserve requirements.\u001b[39;00m\n\u001b[1;32m     30\u001b[0m \n\u001b[1;32m     31\u001b[0m \u001b[39mEnables or disables a set of OPF userfcn callbacks to implement\u001b[39;00m\n\u001b[0;32m   (...)\u001b[0m\n\u001b[1;32m     64\u001b[0m \u001b[39m@author: Ray Zimmerman (PSERC Cornell)\u001b[39;00m\n\u001b[1;32m     65\u001b[0m \u001b[39m\"\"\"\u001b[39;00m\n\u001b[1;32m     66\u001b[0m \u001b[39mif\u001b[39;00m on_off \u001b[39m==\u001b[39m \u001b[39m'\u001b[39m\u001b[39mon\u001b[39m\u001b[39m'\u001b[39m:\n\u001b[1;32m     67\u001b[0m     \u001b[39m## check for proper reserve inputs\u001b[39;00m\n\u001b[0;32m---> 68\u001b[0m     \u001b[39mif\u001b[39;00m (\u001b[39m'\u001b[39m\u001b[39mreserves\u001b[39m\u001b[39m'\u001b[39m \u001b[39mnot\u001b[39;00m \u001b[39min\u001b[39;00m ppc) \u001b[39m|\u001b[39m (\u001b[39mnot\u001b[39;00m \u001b[39misinstance\u001b[39m(ppc[\u001b[39m'\u001b[39;49m\u001b[39mreserves\u001b[39;49m\u001b[39m'\u001b[39;49m], \u001b[39mdict\u001b[39m)) \u001b[39m|\u001b[39m \\\n\u001b[1;32m     69\u001b[0m             (\u001b[39m'\u001b[39m\u001b[39mzones\u001b[39m\u001b[39m'\u001b[39m \u001b[39mnot\u001b[39;00m \u001b[39min\u001b[39;00m ppc[\u001b[39m'\u001b[39m\u001b[39mreserves\u001b[39m\u001b[39m'\u001b[39m]) \u001b[39m|\u001b[39m \\\n\u001b[1;32m     70\u001b[0m             (\u001b[39m'\u001b[39m\u001b[39mreq\u001b[39m\u001b[39m'\u001b[39m \u001b[39mnot\u001b[39;00m \u001b[39min\u001b[39;00m ppc[\u001b[39m'\u001b[39m\u001b[39mreserves\u001b[39m\u001b[39m'\u001b[39m]) \u001b[39m|\u001b[39m \\\n\u001b[1;32m     71\u001b[0m             (\u001b[39m'\u001b[39m\u001b[39mcost\u001b[39m\u001b[39m'\u001b[39m \u001b[39mnot\u001b[39;00m \u001b[39min\u001b[39;00m ppc[\u001b[39m'\u001b[39m\u001b[39mreserves\u001b[39m\u001b[39m'\u001b[39m]):\n\u001b[1;32m     72\u001b[0m         logger\u001b[39m.\u001b[39mdebug(\u001b[39m'\u001b[39m\u001b[39mtoggle_reserves: case must contain a \u001b[39m\u001b[39m\\'\u001b[39;00m\u001b[39mreserves\u001b[39m\u001b[39m\\'\u001b[39;00m\u001b[39m field, a struct defining \u001b[39m\u001b[39m\\'\u001b[39;00m\u001b[39mzones\u001b[39m\u001b[39m\\'\u001b[39;00m\u001b[39m, \u001b[39m\u001b[39m\\'\u001b[39;00m\u001b[39mreq\u001b[39m\u001b[39m\\'\u001b[39;00m\u001b[39m and \u001b[39m\u001b[39m\\'\u001b[39;00m\u001b[39mcost\u001b[39m\u001b[39m\\'\u001b[39;00m\u001b[39m\\n\u001b[39;00m\u001b[39m'\u001b[39m)\n\u001b[1;32m     74\u001b[0m     \u001b[39m## add callback functions\u001b[39;00m\n\u001b[1;32m     75\u001b[0m     \u001b[39m## note: assumes all necessary data included in 1st arg (ppc, om, results)\u001b[39;00m\n\u001b[1;32m     76\u001b[0m     \u001b[39m##       so, no additional explicit args are needed\u001b[39;00m\n",
      "\u001b[0;31mKeyError\u001b[0m: 'reserves'"
     ]
    }
   ],
   "source": [
    "runopf_w_res(ppc)"
   ]
  }
 ],
 "metadata": {
  "kernelspec": {
   "display_name": "ams",
   "language": "python",
   "name": "python3"
  },
  "language_info": {
   "codemirror_mode": {
    "name": "ipython",
    "version": 3
   },
   "file_extension": ".py",
   "mimetype": "text/x-python",
   "name": "python",
   "nbconvert_exporter": "python",
   "pygments_lexer": "ipython3",
   "version": "3.9.0"
  },
  "orig_nbformat": 4,
  "vscode": {
   "interpreter": {
    "hash": "d9202bbf0491b3c6145e36d5ba22687a8b95e024b0a1e787962165edd6294d6d"
   }
  }
 },
 "nbformat": 4,
 "nbformat_minor": 2
}
