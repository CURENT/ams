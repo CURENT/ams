{
 "cells": [
  {
   "attachments": {},
   "cell_type": "markdown",
   "metadata": {},
   "source": [
    "# Solver"
   ]
  },
  {
   "attachments": {},
   "cell_type": "markdown",
   "metadata": {},
   "source": [
    "In this version, we leverage the existing ``pypower`` (``pandapower.pypower``, the version maintained by pandapower team) as the solver."
   ]
  },
  {
   "cell_type": "code",
   "execution_count": 1,
   "metadata": {},
   "outputs": [
    {
     "name": "stdout",
     "output_type": "stream",
     "text": [
      "0.5+30.g2473a50.dirty\n"
     ]
    }
   ],
   "source": [
    "import ams\n",
    "\n",
    "print(ams.__version__)"
   ]
  },
  {
   "cell_type": "code",
   "execution_count": 2,
   "metadata": {},
   "outputs": [],
   "source": [
    "from ams.solver.pypower.interface import ppi\n",
    "\n",
    "spp = ppi()\n",
    "spp.from_ppc(ams.get_case('pypower/case14.py'))\n",
    "ppc = spp.ppc"
   ]
  },
  {
   "cell_type": "code",
   "execution_count": 3,
   "metadata": {},
   "outputs": [
    {
     "ename": "ModuleNotFoundError",
     "evalue": "No module named 'ams.solver.pypower.rundcpf'",
     "output_type": "error",
     "traceback": [
      "\u001b[0;31m---------------------------------------------------------------------------\u001b[0m",
      "\u001b[0;31mModuleNotFoundError\u001b[0m                       Traceback (most recent call last)",
      "Cell \u001b[0;32mIn[3], line 1\u001b[0m\n\u001b[0;32m----> 1\u001b[0m \u001b[39mfrom\u001b[39;00m \u001b[39mams\u001b[39;00m\u001b[39m.\u001b[39;00m\u001b[39msolver\u001b[39;00m\u001b[39m.\u001b[39;00m\u001b[39mpypower\u001b[39;00m\u001b[39m.\u001b[39;00m\u001b[39mrundcpf\u001b[39;00m \u001b[39mimport\u001b[39;00m rundcpf\n\u001b[1;32m      2\u001b[0m \u001b[39mfrom\u001b[39;00m \u001b[39mams\u001b[39;00m\u001b[39m.\u001b[39;00m\u001b[39msolver\u001b[39;00m\u001b[39m.\u001b[39;00m\u001b[39mpypower\u001b[39;00m\u001b[39m.\u001b[39;00m\u001b[39mrunpf\u001b[39;00m \u001b[39mimport\u001b[39;00m runpf, rundcpf\n\u001b[1;32m      3\u001b[0m \u001b[39mfrom\u001b[39;00m \u001b[39mams\u001b[39;00m\u001b[39m.\u001b[39;00m\u001b[39msolver\u001b[39;00m\u001b[39m.\u001b[39;00m\u001b[39mpypower\u001b[39;00m\u001b[39m.\u001b[39;00m\u001b[39mrundcopf\u001b[39;00m \u001b[39mimport\u001b[39;00m rundcopf\n",
      "\u001b[0;31mModuleNotFoundError\u001b[0m: No module named 'ams.solver.pypower.rundcpf'"
     ]
    }
   ],
   "source": [
    "from ams.solver.pypower.runpf import runpf, rundcpf\n",
    "from ams.solver.pypower.rundcopf import rundcopf\n",
    "from ams.solver.pypower.runopf import runopf"
   ]
  },
  {
   "cell_type": "code",
   "execution_count": null,
   "metadata": {},
   "outputs": [],
   "source": [
    "rundcpf(ppc)"
   ]
  },
  {
   "cell_type": "code",
   "execution_count": null,
   "metadata": {},
   "outputs": [],
   "source": [
    "runpf(ppc)"
   ]
  },
  {
   "cell_type": "code",
   "execution_count": null,
   "metadata": {},
   "outputs": [],
   "source": [
    "rundcopf(ppc)"
   ]
  },
  {
   "cell_type": "code",
   "execution_count": null,
   "metadata": {},
   "outputs": [],
   "source": [
    "runopf(ppc)"
   ]
  }
 ],
 "metadata": {
  "kernelspec": {
   "display_name": "ams",
   "language": "python",
   "name": "python3"
  },
  "language_info": {
   "codemirror_mode": {
    "name": "ipython",
    "version": 3
   },
   "file_extension": ".py",
   "mimetype": "text/x-python",
   "name": "python",
   "nbconvert_exporter": "python",
   "pygments_lexer": "ipython3",
   "version": "3.9.0"
  },
  "orig_nbformat": 4,
  "vscode": {
   "interpreter": {
    "hash": "d9202bbf0491b3c6145e36d5ba22687a8b95e024b0a1e787962165edd6294d6d"
   }
  }
 },
 "nbformat": 4,
 "nbformat_minor": 2
}
