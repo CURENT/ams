{
 "cells": [
  {
   "attachments": {},
   "cell_type": "markdown",
   "metadata": {},
   "source": [
    "# Solver"
   ]
  },
  {
   "attachments": {},
   "cell_type": "markdown",
   "metadata": {},
   "source": [
    "In this version, we leverage the existing ``pypower`` (``pandapower.pypower``, the version maintained by pandapower team) as the solver."
   ]
  },
  {
   "cell_type": "code",
   "execution_count": 1,
   "metadata": {},
   "outputs": [],
   "source": [
    "import ams.solver.pypower as pp"
   ]
  },
  {
   "cell_type": "code",
   "execution_count": null,
   "metadata": {},
   "outputs": [],
   "source": [
    "class pp_system():\n",
    "    \"\"\"\n",
    "    PyPower system class, as the interface to PyPower\n",
    "    \"\"\"\n",
    "\n",
    "    def __init__(self, ppc):\n",
    "        \"\"\"\n",
    "        PyPower system class, as the interface to PyPower.\n",
    "\n",
    "        Parameters\n",
    "        ----------\n",
    "        ppc : dict\n",
    "            PyPower case\n",
    "        \"\"\"\n",
    "        pass\n",
    "        self.ppc = ppc  # the dict of PyPower case\n",
    "\n",
    "    def set_case(self, case):\n",
    "        pass\n",
    "\n",
    "    def set_solver(self, solver):\n",
    "        pass\n",
    "\n",
    "    def solve(self):\n",
    "        pass\n",
    "\n",
    "    def get_results(self):\n",
    "        pass\n"
   ]
  },
  {
   "cell_type": "code",
   "execution_count": 8,
   "metadata": {},
   "outputs": [
    {
     "ename": "NameError",
     "evalue": "name 'pp_system' is not defined",
     "output_type": "error",
     "traceback": [
      "\u001b[0;31m---------------------------------------------------------------------------\u001b[0m",
      "\u001b[0;31mNameError\u001b[0m                                 Traceback (most recent call last)",
      "Cell \u001b[0;32mIn[8], line 1\u001b[0m\n\u001b[0;32m----> 1\u001b[0m spp \u001b[39m=\u001b[39m pp_system(ppc)\n",
      "\u001b[0;31mNameError\u001b[0m: name 'pp_system' is not defined"
     ]
    }
   ],
   "source": [
    "spp = pp_system(ppc)"
   ]
  }
 ],
 "metadata": {
  "kernelspec": {
   "display_name": "ams",
   "language": "python",
   "name": "python3"
  },
  "language_info": {
   "codemirror_mode": {
    "name": "ipython",
    "version": 3
   },
   "file_extension": ".py",
   "mimetype": "text/x-python",
   "name": "python",
   "nbconvert_exporter": "python",
   "pygments_lexer": "ipython3",
   "version": "3.9.7"
  },
  "orig_nbformat": 4,
  "vscode": {
   "interpreter": {
    "hash": "d9202bbf0491b3c6145e36d5ba22687a8b95e024b0a1e787962165edd6294d6d"
   }
  }
 },
 "nbformat": 4,
 "nbformat_minor": 2
}
