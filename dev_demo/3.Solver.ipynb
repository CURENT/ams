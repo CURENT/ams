{
 "cells": [
  {
   "attachments": {},
   "cell_type": "markdown",
   "metadata": {},
   "source": [
    "# Solver"
   ]
  },
  {
   "attachments": {},
   "cell_type": "markdown",
   "metadata": {},
   "source": [
    "In this version, we leverage the existing ``pypower`` (``pandapower.pypower``, the version maintained by pandapower team) as the solver."
   ]
  },
  {
   "cell_type": "code",
   "execution_count": 1,
   "metadata": {},
   "outputs": [
    {
     "name": "stdout",
     "output_type": "stream",
     "text": [
      "0.5+21.gc94ec9a.dirty\n"
     ]
    }
   ],
   "source": [
    "import ams\n",
    "\n",
    "print(ams.__version__)"
   ]
  },
  {
   "cell_type": "code",
   "execution_count": 2,
   "metadata": {},
   "outputs": [],
   "source": [
    "from ams.solver.pypower.interface import ppi\n",
    "\n",
    "spp = ppi()\n",
    "spp.from_ppc(ams.get_case('pypower/case14.py'))\n",
    "ppc = spp.ppc"
   ]
  },
  {
   "cell_type": "code",
   "execution_count": 3,
   "metadata": {},
   "outputs": [],
   "source": [
    "from ams.solver.pypower.runpf import runpf"
   ]
  },
  {
   "cell_type": "code",
   "execution_count": 4,
   "metadata": {},
   "outputs": [
    {
     "name": "stdout",
     "output_type": "stream",
     "text": [
      " -- AC Power Flow (Newton)\n",
      "\n",
      "(20, 17)\n"
     ]
    },
    {
     "ename": "IndexError",
     "evalue": "index 21 is out of bounds for axis 1 with size 17",
     "output_type": "error",
     "traceback": [
      "\u001b[0;31m---------------------------------------------------------------------------\u001b[0m",
      "\u001b[0;31mIndexError\u001b[0m                                Traceback (most recent call last)",
      "Cell \u001b[0;32mIn[4], line 1\u001b[0m\n\u001b[0;32m----> 1\u001b[0m runpf(ppc)\n",
      "File \u001b[0;32m~/Documents/work/ams/ams/solver/pypower/runpf.py:175\u001b[0m, in \u001b[0;36mrunpf\u001b[0;34m(casedata, ppopt, fname, solvedcase)\u001b[0m\n\u001b[1;32m    172\u001b[0m     fixedQg \u001b[39m=\u001b[39m zeros(gen\u001b[39m.\u001b[39mshape[\u001b[39m0\u001b[39m])  \u001b[39m# Qg of gens at Q limits\u001b[39;00m\n\u001b[1;32m    174\u001b[0m \u001b[39m# build admittance matrices\u001b[39;00m\n\u001b[0;32m--> 175\u001b[0m Ybus, Yf, Yt \u001b[39m=\u001b[39m makeYbus(baseMVA, bus, branch)\n\u001b[1;32m    177\u001b[0m repeat \u001b[39m=\u001b[39m \u001b[39mTrue\u001b[39;00m\n\u001b[1;32m    178\u001b[0m \u001b[39mwhile\u001b[39;00m repeat:\n\u001b[1;32m    179\u001b[0m     \u001b[39m# compute complex bus power injections [generation - load]\u001b[39;00m\n",
      "File \u001b[0;32m~/Documents/work/ams/ams/solver/pypower/makeYbus.py:36\u001b[0m, in \u001b[0;36mmakeYbus\u001b[0;34m(baseMVA, bus, branch)\u001b[0m\n\u001b[1;32m     28\u001b[0m nl \u001b[39m=\u001b[39m branch\u001b[39m.\u001b[39mshape[\u001b[39m0\u001b[39m]  \u001b[39m## number of lines\u001b[39;00m\n\u001b[1;32m     30\u001b[0m \u001b[39m## for each branch, compute the elements of the branch admittance matrix where\u001b[39;00m\n\u001b[1;32m     31\u001b[0m \u001b[39m##\u001b[39;00m\n\u001b[1;32m     32\u001b[0m \u001b[39m##      | If |   | Yff  Yft |   | Vf |\u001b[39;00m\n\u001b[1;32m     33\u001b[0m \u001b[39m##      |    | = |          | * |    |\u001b[39;00m\n\u001b[1;32m     34\u001b[0m \u001b[39m##      | It |   | Ytf  Ytt |   | Vt |\u001b[39;00m\n\u001b[1;32m     35\u001b[0m \u001b[39m##\u001b[39;00m\n\u001b[0;32m---> 36\u001b[0m Ytt, Yff, Yft, Ytf \u001b[39m=\u001b[39m branch_vectors(branch, nl)\n\u001b[1;32m     37\u001b[0m \u001b[39m## compute shunt admittance\u001b[39;00m\n\u001b[1;32m     38\u001b[0m \u001b[39m## if Psh is the real power consumed by the shunt at V = 1.0 p.u.\u001b[39;00m\n\u001b[1;32m     39\u001b[0m \u001b[39m## and Qsh is the reactive power injected by the shunt at V = 1.0 p.u.\u001b[39;00m\n\u001b[1;32m     40\u001b[0m \u001b[39m## then Psh - j Qsh = V * conj(Ysh * V) = conj(Ysh) = Gs - j Bs,\u001b[39;00m\n\u001b[1;32m     41\u001b[0m \u001b[39m## i.e. Ysh = Psh + j Qsh, so ...\u001b[39;00m\n\u001b[1;32m     42\u001b[0m \u001b[39m## vector of shunt admittances\u001b[39;00m\n\u001b[1;32m     43\u001b[0m Ysh \u001b[39m=\u001b[39m (bus[:, GS] \u001b[39m+\u001b[39m \u001b[39m1\u001b[39mj \u001b[39m*\u001b[39m bus[:, BS]) \u001b[39m/\u001b[39m baseMVA\n",
      "File \u001b[0;32m~/Documents/work/ams/ams/solver/pypower/makeYbus.py:75\u001b[0m, in \u001b[0;36mbranch_vectors\u001b[0;34m(branch, nl)\u001b[0m\n\u001b[1;32m     73\u001b[0m Ysf \u001b[39m=\u001b[39m stat \u001b[39m/\u001b[39m (branch[:, BR_R] \u001b[39m+\u001b[39m \u001b[39m1\u001b[39mj \u001b[39m*\u001b[39m branch[:, BR_X])  \u001b[39m## series admittance\u001b[39;00m\n\u001b[1;32m     74\u001b[0m \u001b[39mprint\u001b[39m(branch\u001b[39m.\u001b[39mshape)\n\u001b[0;32m---> 75\u001b[0m \u001b[39mif\u001b[39;00m \u001b[39many\u001b[39m(branch[:, BR_R_ASYM]) \u001b[39mor\u001b[39;00m \u001b[39many\u001b[39m(branch[:, BR_X_ASYM]):\n\u001b[1;32m     76\u001b[0m     Yst \u001b[39m=\u001b[39m stat \u001b[39m/\u001b[39m ((branch[:, BR_R] \u001b[39m+\u001b[39m branch[:, BR_R_ASYM]) \u001b[39m+\u001b[39m \u001b[39m1\u001b[39mj \u001b[39m*\u001b[39m (\n\u001b[1;32m     77\u001b[0m                 branch[:, BR_X] \u001b[39m+\u001b[39m branch[:, BR_X_ASYM]))  \u001b[39m## series admittance\u001b[39;00m\n\u001b[1;32m     78\u001b[0m \u001b[39melse\u001b[39;00m:\n",
      "\u001b[0;31mIndexError\u001b[0m: index 21 is out of bounds for axis 1 with size 17"
     ]
    }
   ],
   "source": [
    "runpf(ppc)"
   ]
  }
 ],
 "metadata": {
  "kernelspec": {
   "display_name": "ams",
   "language": "python",
   "name": "python3"
  },
  "language_info": {
   "codemirror_mode": {
    "name": "ipython",
    "version": 3
   },
   "file_extension": ".py",
   "mimetype": "text/x-python",
   "name": "python",
   "nbconvert_exporter": "python",
   "pygments_lexer": "ipython3",
   "version": "3.9.0"
  },
  "orig_nbformat": 4,
  "vscode": {
   "interpreter": {
    "hash": "d9202bbf0491b3c6145e36d5ba22687a8b95e024b0a1e787962165edd6294d6d"
   }
  }
 },
 "nbformat": 4,
 "nbformat_minor": 2
}
