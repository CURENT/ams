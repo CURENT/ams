{
 "cells": [
  {
   "attachments": {},
   "cell_type": "markdown",
   "metadata": {},
   "source": [
    "# Solver"
   ]
  },
  {
   "attachments": {},
   "cell_type": "markdown",
   "metadata": {},
   "source": [
    "In this version, we leverage the existing ``pypower`` (``pandapower.pypower``, the version maintained by pandapower team) as the solver."
   ]
  },
  {
   "cell_type": "code",
   "execution_count": 1,
   "metadata": {},
   "outputs": [
    {
     "name": "stdout",
     "output_type": "stream",
     "text": [
      "0.5+15.gc33f973.dirty\n"
     ]
    }
   ],
   "source": [
    "import ams\n",
    "\n",
    "print(ams.__version__)"
   ]
  },
  {
   "cell_type": "code",
   "execution_count": null,
   "metadata": {},
   "outputs": [],
   "source": [
    "ams.solver.pypower"
   ]
  },
  {
   "cell_type": "code",
   "execution_count": 2,
   "metadata": {},
   "outputs": [],
   "source": [
    "spp = pp_system()\n",
    "spp.from_ppc(ams.get_case('pypower/case14.py'))\n",
    "ppc = spp.ppc"
   ]
  },
  {
   "cell_type": "code",
   "execution_count": 7,
   "metadata": {},
   "outputs": [
    {
     "ename": "ImportError",
     "evalue": "cannot import name 'add_userfcn' from 'pp' (/Users/jinningwang/Documents/work/mambaforge/envs/ams/lib/python3.9/site-packages/pp/__init__.py)",
     "output_type": "error",
     "traceback": [
      "\u001b[0;31m---------------------------------------------------------------------------\u001b[0m",
      "\u001b[0;31mImportError\u001b[0m                               Traceback (most recent call last)",
      "Cell \u001b[0;32mIn[7], line 1\u001b[0m\n\u001b[0;32m----> 1\u001b[0m \u001b[39mfrom\u001b[39;00m \u001b[39mpp\u001b[39;00m \u001b[39mimport\u001b[39;00m add_userfcn\n",
      "\u001b[0;31mImportError\u001b[0m: cannot import name 'add_userfcn' from 'pp' (/Users/jinningwang/Documents/work/mambaforge/envs/ams/lib/python3.9/site-packages/pp/__init__.py)"
     ]
    }
   ],
   "source": [
    "from pp import add_userfcn"
   ]
  },
  {
   "cell_type": "code",
   "execution_count": 6,
   "metadata": {},
   "outputs": [
    {
     "ename": "AttributeError",
     "evalue": "module 'ams.solver.pypower' has no attribute 'add_userfcn'",
     "output_type": "error",
     "traceback": [
      "\u001b[0;31m---------------------------------------------------------------------------\u001b[0m",
      "\u001b[0;31mAttributeError\u001b[0m                            Traceback (most recent call last)",
      "Cell \u001b[0;32mIn[6], line 1\u001b[0m\n\u001b[0;32m----> 1\u001b[0m pp\u001b[39m.\u001b[39;49madd_userfcn\n",
      "\u001b[0;31mAttributeError\u001b[0m: module 'ams.solver.pypower' has no attribute 'add_userfcn'"
     ]
    }
   ],
   "source": [
    "pp.add_userfcn"
   ]
  },
  {
   "cell_type": "code",
   "execution_count": 5,
   "metadata": {},
   "outputs": [
    {
     "ename": "ModuleNotFoundError",
     "evalue": "No module named 'pp.runpf'",
     "output_type": "error",
     "traceback": [
      "\u001b[0;31m---------------------------------------------------------------------------\u001b[0m",
      "\u001b[0;31mModuleNotFoundError\u001b[0m                       Traceback (most recent call last)",
      "Cell \u001b[0;32mIn[5], line 1\u001b[0m\n\u001b[0;32m----> 1\u001b[0m \u001b[39mfrom\u001b[39;00m \u001b[39mpp\u001b[39;00m\u001b[39m.\u001b[39;00m\u001b[39mrunpf\u001b[39;00m \u001b[39mimport\u001b[39;00m runopf\n",
      "\u001b[0;31mModuleNotFoundError\u001b[0m: No module named 'pp.runpf'"
     ]
    }
   ],
   "source": [
    "from pp.runpf import runopf"
   ]
  },
  {
   "cell_type": "code",
   "execution_count": 3,
   "metadata": {},
   "outputs": [
    {
     "ename": "AttributeError",
     "evalue": "module 'ams.solver.pypower' has no attribute 'runpf'",
     "output_type": "error",
     "traceback": [
      "\u001b[0;31m---------------------------------------------------------------------------\u001b[0m",
      "\u001b[0;31mAttributeError\u001b[0m                            Traceback (most recent call last)",
      "Cell \u001b[0;32mIn[3], line 1\u001b[0m\n\u001b[0;32m----> 1\u001b[0m pp\u001b[39m.\u001b[39;49mrunpf\n",
      "\u001b[0;31mAttributeError\u001b[0m: module 'ams.solver.pypower' has no attribute 'runpf'"
     ]
    }
   ],
   "source": [
    "pp.runpf"
   ]
  }
 ],
 "metadata": {
  "kernelspec": {
   "display_name": "ams",
   "language": "python",
   "name": "python3"
  },
  "language_info": {
   "codemirror_mode": {
    "name": "ipython",
    "version": 3
   },
   "file_extension": ".py",
   "mimetype": "text/x-python",
   "name": "python",
   "nbconvert_exporter": "python",
   "pygments_lexer": "ipython3",
   "version": "3.9.7"
  },
  "orig_nbformat": 4,
  "vscode": {
   "interpreter": {
    "hash": "d9202bbf0491b3c6145e36d5ba22687a8b95e024b0a1e787962165edd6294d6d"
   }
  }
 },
 "nbformat": 4,
 "nbformat_minor": 2
}
