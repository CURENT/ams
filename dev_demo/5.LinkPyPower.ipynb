{
 "cells": [
  {
   "attachments": {},
   "cell_type": "markdown",
   "metadata": {},
   "source": [
    "#  Link PyPower"
   ]
  },
  {
   "cell_type": "code",
   "execution_count": 1,
   "metadata": {},
   "outputs": [
    {
     "name": "stdout",
     "output_type": "stream",
     "text": [
      "0.5+44.gb1ace81.dirty\n"
     ]
    }
   ],
   "source": [
    "import ams\n",
    "\n",
    "print(ams.__version__)"
   ]
  },
  {
   "cell_type": "code",
   "execution_count": 2,
   "metadata": {},
   "outputs": [],
   "source": [
    "from ams.solver.pypower.interface import ppi\n",
    "\n",
    "spp = ppi()\n",
    "spp.from_ppc(ams.get_case('pypower/case14.py'))\n",
    "ppc = spp.ppc"
   ]
  },
  {
   "cell_type": "code",
   "execution_count": 3,
   "metadata": {},
   "outputs": [
    {
     "data": {
      "text/plain": [
       "dict_keys(['version', 'baseMVA', 'bus', 'gen', 'branch', 'gencost'])"
      ]
     },
     "execution_count": 3,
     "metadata": {},
     "output_type": "execute_result"
    }
   ],
   "source": [
    "ppc.keys()"
   ]
  },
  {
   "cell_type": "code",
   "execution_count": 4,
   "metadata": {},
   "outputs": [],
   "source": [
    "sp = ams.load(ams.get_case('ieee14/ieee14.xlsx'),\n",
    "            setup=False)"
   ]
  },
  {
   "cell_type": "code",
   "execution_count": 7,
   "metadata": {},
   "outputs": [
    {
     "data": {
      "text/plain": [
       "OrderedDict([('idx',\n",
       "              DataParam: Bus.idx, v=[1, 2, 3, 4, 5, 6, 7, 8, 9, 10, 11, 12, 13, 14]),\n",
       "             ('u',\n",
       "              NumParam: Bus.u, v=[1, 1, 1, 1, 1, 1, 1, 1, 1, 1, 1, 1, 1, 1]),\n",
       "             ('name',\n",
       "              DataParam: Bus.name, v=['BUS1', 'BUS2', 'BUS3', 'BUS4', 'BUS5', 'BUS6', 'BUS7', 'BUS8', 'BUS9', 'BUS10', 'BUS11', 'BUS12', 'BUS13', 'BUS14']),\n",
       "             ('Vn',\n",
       "              NumParam: Bus.Vn, v=[69, 69, 69, 69, 69, 138, 138, 69, 138, 138, 138, 138, 138, 138]),\n",
       "             ('vmax',\n",
       "              NumParam: Bus.vmax, v=[1.1, 1.1, 1.1, 1.1, 1.1, 1.1, 1.1, 1.1, 1.1, 1.1, 1.1, 1.1, 1.1, 1.1]),\n",
       "             ('vmin',\n",
       "              NumParam: Bus.vmin, v=[0.9, 0.9, 0.9, 0.9, 0.9, 0.9, 0.9, 0.9, 0.9, 0.9, 0.9, 0.9, 0.9, 0.9]),\n",
       "             ('v0',\n",
       "              NumParam: Bus.v0, v=[1.03, 1.0197, 1.00042, 0.99858, 1.00443, 0.99871, 1.00682, 1.01895, 1.00193, 0.99351, 0.99245, 0.98639, 0.98403, 0.99063]),\n",
       "             ('a0',\n",
       "              NumParam: Bus.a0, v=[0.0, -0.027981119, -0.060096922, -0.074721036, -0.064315383, -0.109997631, -0.08428544, -0.024338616, -0.127501538, -0.130201562, -0.122947974, -0.128934453, -0.133786468, -0.166916308]),\n",
       "             ('xcoord',\n",
       "              DataParam: Bus.xcoord, v=[0, 0, 0, 0, 0, 0, 0, 0, 0, 0, 0, 0, 0, 0]),\n",
       "             ('ycoord',\n",
       "              DataParam: Bus.ycoord, v=[0, 0, 0, 0, 0, 0, 0, 0, 0, 0, 0, 0, 0, 0]),\n",
       "             ('area',\n",
       "              IdxParam: Bus.area, v=[1, 1, 1, 1, 1, 2, 2, 2, 2, 2, 2, 2, 2, 2]),\n",
       "             ('zone',\n",
       "              IdxParam: Bus.zone, v=[1, 1, 1, 1, 1, 2, 2, 2, 2, 2, 2, 2, 2, 2]),\n",
       "             ('owner',\n",
       "              IdxParam: Bus.owner, v=[1, 1, 1, 1, 1, 2, 2, 2, 2, 2, 2, 2, 2, 2])])"
      ]
     },
     "execution_count": 7,
     "metadata": {},
     "output_type": "execute_result"
    }
   ],
   "source": [
    "sp.Bus.params"
   ]
  },
  {
   "cell_type": "code",
   "execution_count": null,
   "metadata": {},
   "outputs": [],
   "source": [
    "sp.Bus.params.keys()"
   ]
  },
  {
   "cell_type": "code",
   "execution_count": null,
   "metadata": {},
   "outputs": [],
   "source": [
    "help(sp.__repr__)"
   ]
  },
  {
   "cell_type": "code",
   "execution_count": null,
   "metadata": {},
   "outputs": [],
   "source": [
    "sp.Bus"
   ]
  },
  {
   "cell_type": "code",
   "execution_count": null,
   "metadata": {},
   "outputs": [],
   "source": [
    "sp.setup()"
   ]
  },
  {
   "cell_type": "code",
   "execution_count": null,
   "metadata": {},
   "outputs": [],
   "source": [
    "sp.Bus.as_df()"
   ]
  }
 ],
 "metadata": {
  "kernelspec": {
   "display_name": "ams",
   "language": "python",
   "name": "python3"
  },
  "language_info": {
   "codemirror_mode": {
    "name": "ipython",
    "version": 3
   },
   "file_extension": ".py",
   "mimetype": "text/x-python",
   "name": "python",
   "nbconvert_exporter": "python",
   "pygments_lexer": "ipython3",
   "version": "3.9.0"
  },
  "orig_nbformat": 4,
  "vscode": {
   "interpreter": {
    "hash": "d9202bbf0491b3c6145e36d5ba22687a8b95e024b0a1e787962165edd6294d6d"
   }
  }
 },
 "nbformat": 4,
 "nbformat_minor": 2
}
