{
 "cells": [
  {
   "attachments": {},
   "cell_type": "markdown",
   "metadata": {},
   "source": [
    "#  Link PyPower"
   ]
  },
  {
   "cell_type": "code",
   "execution_count": 1,
   "metadata": {},
   "outputs": [
    {
     "name": "stdout",
     "output_type": "stream",
     "text": [
      "0.5+50.g0ab9278.dirty\n"
     ]
    }
   ],
   "source": [
    "import ams\n",
    "\n",
    "print(ams.__version__)"
   ]
  },
  {
   "cell_type": "code",
   "execution_count": 2,
   "metadata": {},
   "outputs": [],
   "source": [
    "from ams.solver.pypower.interface import ppi\n",
    "\n",
    "spp = ppi()\n",
    "spp.from_ppc(ams.get_case('pypower/case14.py'))\n",
    "ppc = spp.ppc"
   ]
  },
  {
   "cell_type": "code",
   "execution_count": 3,
   "metadata": {},
   "outputs": [
    {
     "data": {
      "text/plain": [
       "dict_keys(['version', 'baseMVA', 'bus', 'gen', 'branch', 'gencost'])"
      ]
     },
     "execution_count": 3,
     "metadata": {},
     "output_type": "execute_result"
    }
   ],
   "source": [
    "ppc.keys()"
   ]
  },
  {
   "cell_type": "code",
   "execution_count": 4,
   "metadata": {},
   "outputs": [],
   "source": [
    "sp = ams.load(ams.get_case('ieee14/ieee14.xlsx'),\n",
    "            setup=False)"
   ]
  },
  {
   "cell_type": "code",
   "execution_count": 5,
   "metadata": {},
   "outputs": [
    {
     "data": {
      "text/plain": [
       "OrderedDict([('idx',\n",
       "              DataParam: Bus.idx, v=[1, 2, 3, 4, 5, 6, 7, 8, 9, 10, 11, 12, 13, 14]),\n",
       "             ('u',\n",
       "              NumParam: Bus.u, v=[1, 1, 1, 1, 1, 1, 1, 1, 1, 1, 1, 1, 1, 1]),\n",
       "             ('name',\n",
       "              DataParam: Bus.name, v=['BUS1', 'BUS2', 'BUS3', 'BUS4', 'BUS5', 'BUS6', 'BUS7', 'BUS8', 'BUS9', 'BUS10', 'BUS11', 'BUS12', 'BUS13', 'BUS14']),\n",
       "             ('Vn',\n",
       "              NumParam: Bus.Vn, v=[69, 69, 69, 69, 69, 138, 138, 69, 138, 138, 138, 138, 138, 138]),\n",
       "             ('vmax',\n",
       "              NumParam: Bus.vmax, v=[1.1, 1.1, 1.1, 1.1, 1.1, 1.1, 1.1, 1.1, 1.1, 1.1, 1.1, 1.1, 1.1, 1.1]),\n",
       "             ('vmin',\n",
       "              NumParam: Bus.vmin, v=[0.9, 0.9, 0.9, 0.9, 0.9, 0.9, 0.9, 0.9, 0.9, 0.9, 0.9, 0.9, 0.9, 0.9]),\n",
       "             ('v0',\n",
       "              NumParam: Bus.v0, v=[1.03, 1.0197, 1.00042, 0.99858, 1.00443, 0.99871, 1.00682, 1.01895, 1.00193, 0.99351, 0.99245, 0.98639, 0.98403, 0.99063]),\n",
       "             ('a0',\n",
       "              NumParam: Bus.a0, v=[0.0, -0.027981119, -0.060096922, -0.074721036, -0.064315383, -0.109997631, -0.08428544, -0.024338616, -0.127501538, -0.130201562, -0.122947974, -0.128934453, -0.133786468, -0.166916308]),\n",
       "             ('xcoord',\n",
       "              DataParam: Bus.xcoord, v=[0, 0, 0, 0, 0, 0, 0, 0, 0, 0, 0, 0, 0, 0]),\n",
       "             ('ycoord',\n",
       "              DataParam: Bus.ycoord, v=[0, 0, 0, 0, 0, 0, 0, 0, 0, 0, 0, 0, 0, 0]),\n",
       "             ('area',\n",
       "              IdxParam: Bus.area, v=[1, 1, 1, 1, 1, 2, 2, 2, 2, 2, 2, 2, 2, 2]),\n",
       "             ('zone',\n",
       "              IdxParam: Bus.zone, v=[1, 1, 1, 1, 1, 2, 2, 2, 2, 2, 2, 2, 2, 2]),\n",
       "             ('owner',\n",
       "              IdxParam: Bus.owner, v=[1, 1, 1, 1, 1, 2, 2, 2, 2, 2, 2, 2, 2, 2])])"
      ]
     },
     "execution_count": 5,
     "metadata": {},
     "output_type": "execute_result"
    }
   ],
   "source": [
    "sp.Bus.params"
   ]
  },
  {
   "cell_type": "code",
   "execution_count": 6,
   "metadata": {},
   "outputs": [
    {
     "data": {
      "text/plain": [
       "odict_keys(['idx', 'u', 'name', 'Vn', 'vmax', 'vmin', 'v0', 'a0', 'xcoord', 'ycoord', 'area', 'zone', 'owner'])"
      ]
     },
     "execution_count": 6,
     "metadata": {},
     "output_type": "execute_result"
    }
   ],
   "source": [
    "sp.Bus.params.keys()"
   ]
  },
  {
   "cell_type": "code",
   "execution_count": 7,
   "metadata": {},
   "outputs": [
    {
     "name": "stdout",
     "output_type": "stream",
     "text": [
      "Help on method __repr__ in module ams.system:\n",
      "\n",
      "__repr__() -> str method of ams.system.System instance\n",
      "    Return repr(self).\n",
      "\n"
     ]
    }
   ],
   "source": [
    "help(sp.__repr__)"
   ]
  },
  {
   "cell_type": "code",
   "execution_count": 8,
   "metadata": {},
   "outputs": [
    {
     "data": {
      "text/plain": [
       "Bus (14 devices) at 0x7f581d8c0700"
      ]
     },
     "execution_count": 8,
     "metadata": {},
     "output_type": "execute_result"
    }
   ],
   "source": [
    "sp.Bus"
   ]
  },
  {
   "cell_type": "code",
   "execution_count": 9,
   "metadata": {},
   "outputs": [
    {
     "ename": "AttributeError",
     "evalue": "'Config' object has no attribute 'save_stats'",
     "output_type": "error",
     "traceback": [
      "\u001b[0;31m---------------------------------------------------------------------------\u001b[0m",
      "\u001b[0;31mAttributeError\u001b[0m                            Traceback (most recent call last)",
      "Cell \u001b[0;32mIn[9], line 1\u001b[0m\n\u001b[0;32m----> 1\u001b[0m sp\u001b[39m.\u001b[39;49msetup()\n",
      "File \u001b[0;32m~/ams/ams/system.py:226\u001b[0m, in \u001b[0;36mSystem.setup\u001b[0;34m(self)\u001b[0m\n\u001b[1;32m    223\u001b[0m     ret \u001b[39m=\u001b[39m \u001b[39mFalse\u001b[39;00m\n\u001b[1;32m    224\u001b[0m     \u001b[39mreturn\u001b[39;00m ret\n\u001b[0;32m--> 226\u001b[0m \u001b[39mself\u001b[39;49m\u001b[39m.\u001b[39;49m_list2array()     \u001b[39m# `list2array` must come before `link_ext_param`\u001b[39;00m\n\u001b[1;32m    228\u001b[0m \u001b[39mself\u001b[39m\u001b[39m.\u001b[39mfind_devices()    \u001b[39m# find or add required devices\u001b[39;00m\n\u001b[1;32m    230\u001b[0m \u001b[39m# === no device addition or removal after this point ===\u001b[39;00m\n\u001b[1;32m    231\u001b[0m \u001b[39m# TODO: double check calc_pu_coeff\u001b[39;00m\n",
      "File \u001b[0;32m~/mambaforge/envs/ams/lib/python3.9/site-packages/andes/system.py:1952\u001b[0m, in \u001b[0;36mSystem._list2array\u001b[0;34m(self)\u001b[0m\n\u001b[1;32m   1947\u001b[0m \u001b[39mdef\u001b[39;00m \u001b[39m_list2array\u001b[39m(\u001b[39mself\u001b[39m):\n\u001b[1;32m   1948\u001b[0m     \u001b[39m\"\"\"\u001b[39;00m\n\u001b[1;32m   1949\u001b[0m \u001b[39m    Helper function to call models' ``list2array`` method, which usually\u001b[39;00m\n\u001b[1;32m   1950\u001b[0m \u001b[39m    performs memory preallocation.\u001b[39;00m\n\u001b[1;32m   1951\u001b[0m \u001b[39m    \"\"\"\u001b[39;00m\n\u001b[0;32m-> 1952\u001b[0m     \u001b[39mself\u001b[39;49m\u001b[39m.\u001b[39;49mcall_models(\u001b[39m'\u001b[39;49m\u001b[39mlist2array\u001b[39;49m\u001b[39m'\u001b[39;49m, \u001b[39mself\u001b[39;49m\u001b[39m.\u001b[39;49mmodels)\n",
      "File \u001b[0;32m~/mambaforge/envs/ams/lib/python3.9/site-packages/andes/system.py:1687\u001b[0m, in \u001b[0;36mSystem.call_models\u001b[0;34m(self, method, models, *args, **kwargs)\u001b[0m\n\u001b[1;32m   1684\u001b[0m \u001b[39mfor\u001b[39;00m name, mdl \u001b[39min\u001b[39;00m models\u001b[39m.\u001b[39mitems():\n\u001b[1;32m   1685\u001b[0m     ret[name] \u001b[39m=\u001b[39m \u001b[39mgetattr\u001b[39m(mdl, method)(\u001b[39m*\u001b[39margs, \u001b[39m*\u001b[39m\u001b[39m*\u001b[39mkwargs)\n\u001b[0;32m-> 1687\u001b[0m     \u001b[39mif\u001b[39;00m \u001b[39mself\u001b[39;49m\u001b[39m.\u001b[39;49mconfig\u001b[39m.\u001b[39;49msave_stats:\n\u001b[1;32m   1688\u001b[0m         \u001b[39mif\u001b[39;00m method \u001b[39mnot\u001b[39;00m \u001b[39min\u001b[39;00m \u001b[39mself\u001b[39m\u001b[39m.\u001b[39mcall_stats[name]:\n\u001b[1;32m   1689\u001b[0m             \u001b[39mself\u001b[39m\u001b[39m.\u001b[39mcall_stats[name][method] \u001b[39m=\u001b[39m \u001b[39m1\u001b[39m\n",
      "\u001b[0;31mAttributeError\u001b[0m: 'Config' object has no attribute 'save_stats'"
     ]
    }
   ],
   "source": [
    "sp.setup()"
   ]
  },
  {
   "cell_type": "code",
   "execution_count": null,
   "metadata": {},
   "outputs": [],
   "source": [
    "sp.Bus.as_df()"
   ]
  }
 ],
 "metadata": {
  "kernelspec": {
   "display_name": "Python 3",
   "language": "python",
   "name": "python3"
  },
  "language_info": {
   "codemirror_mode": {
    "name": "ipython",
    "version": 3
   },
   "file_extension": ".py",
   "mimetype": "text/x-python",
   "name": "python",
   "nbconvert_exporter": "python",
   "pygments_lexer": "ipython3",
   "version": "3.9.15"
  },
  "orig_nbformat": 4,
  "vscode": {
   "interpreter": {
    "hash": "e1a4d90b80a1cb3618c2a91ebbb923b8817dd472db86ccd34df1a28e253a5ec7"
   }
  }
 },
 "nbformat": 4,
 "nbformat_minor": 2
}
