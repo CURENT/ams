{
 "cells": [
  {
   "cell_type": "code",
   "execution_count": 1,
   "metadata": {},
   "outputs": [],
   "source": [
    "import numpy as np\n",
    "from numpy import inf\n",
    "from mip import Model\n",
    "from scipy.sparse import csr_matrix, vstack\n",
    "import pandas as pd\n",
    "import gurobipy as gp\n",
    "from gurobipy import GRB\n",
    "\n",
    "from scipy.optimize import linprog"
   ]
  },
  {
   "cell_type": "code",
   "execution_count": 2,
   "metadata": {},
   "outputs": [],
   "source": [
    "def read_mps(file: str):\n",
    "    \"\"\"\n",
    "    Reads a .mps and saves all the data of the MILP:\n",
    "\n",
    "    min c^T * x\n",
    "\n",
    "    s.t. b_l <= A*x <= b_u\n",
    "          lb <=   x <= ub\n",
    "                x_i integer if integrality[i] = 1\n",
    "    \"\"\"\n",
    "    mdl = Model(solver_name=\"CBC\")\n",
    "    mdl.read(file)\n",
    "\n",
    "    # model parameters\n",
    "    num_vars = len(mdl.vars)\n",
    "    num_cons = len(mdl.constrs)\n",
    "\n",
    "    # variable types and bounds\n",
    "    lb = np.zeros(num_vars)\n",
    "    ub = np.inf*np.ones(num_vars)\n",
    "    integrality = np.zeros(num_vars)\n",
    "    for i, var in enumerate(mdl.vars):\n",
    "        lb[i] = var.lb\n",
    "        ub[i] = var.ub\n",
    "        if var.var_type != \"C\":\n",
    "            integrality[i] = 1\n",
    "\n",
    "    # objective\n",
    "    c = np.zeros(num_vars)\n",
    "    for i, var in enumerate(mdl.vars):\n",
    "        if var in mdl.objective.expr:\n",
    "            c[i] = mdl.objective.expr[var]\n",
    "    if mdl.sense != \"MIN\":\n",
    "        c *= -1.0\n",
    "\n",
    "    # constraint coefficient matrix\n",
    "    b_l = -np.inf*np.ones((num_cons))\n",
    "    b_u = np.inf*np.ones((num_cons))\n",
    "    row_ind = []\n",
    "    col_ind = []\n",
    "    data    = []\n",
    "    for i, con in enumerate(mdl.constrs):\n",
    "        if con.expr.sense == \"=\":\n",
    "            b_l[i] = con.rhs\n",
    "            b_u[i] = con.rhs\n",
    "        elif con.expr.sense == \"<\":\n",
    "            b_u[i] = con.rhs\n",
    "        elif con.expr.sense == \">\":\n",
    "            b_l[i] = con.rhs\n",
    "        for j, var in enumerate(mdl.vars):\n",
    "            if var in (expr := con.expr.expr):\n",
    "                coeff = expr[var]\n",
    "                row_ind.append(i)\n",
    "                col_ind.append(j)\n",
    "                data.append(coeff)\n",
    "    A = csr_matrix((data, (row_ind, col_ind)), shape=(num_cons, num_vars))\n",
    "    return c, b_l, A, b_u, lb, ub, integrality\n",
    "\n",
    "def st_array(arr):\n",
    "    arr[arr == -inf] = -1e6\n",
    "    arr[arr == inf] = 1e6\n",
    "    return arr\n",
    "\n",
    "def mps_data(file: str):\n",
    "    c, bl, A, bu, lb, ub, integrality = read_mps(file)\n",
    "    c = st_array(c)\n",
    "    bl = st_array(bl)\n",
    "    bu = st_array(bu)\n",
    "    lb = st_array(lb)\n",
    "    ub = st_array(ub)\n",
    "\n",
    "    Aeq = A[bl == bu]\n",
    "    Aub = vstack([-A[bl != bu], A[bl != bu]])\n",
    "    bub = np.concatenate([-bl[bl != bu], bu[bl != bu]])\n",
    "    beq = bl[bl == bu]\n",
    "    bound = np.array([lb, ub]).T\n",
    "    \n",
    "    return c, Aeq, beq, Aub, bub, bound, integrality"
   ]
  },
  {
   "cell_type": "code",
   "execution_count": 3,
   "metadata": {},
   "outputs": [],
   "source": [
    "case1 = \"afiro.mps\"\n",
    "case2 = \"adlittle.mps\""
   ]
  },
  {
   "cell_type": "code",
   "execution_count": 4,
   "metadata": {},
   "outputs": [
    {
     "name": "stdout",
     "output_type": "stream",
     "text": [
      "Coin0001I At line 1 NAME          ADLITTLE\n",
      "Coin0001I At line 2 ROWS\n",
      "Coin0001I At line 60 COLUMNS\n",
      "Coin0001I At line 315 RHS\n",
      "Coin0001I At line 335 ENDATA\n",
      "Coin0002I Problem ADLITTLE has 56 rows, 97 columns and 383 elements\n",
      "Coin0008I ADLITTLE read with 0 errors\n"
     ]
    }
   ],
   "source": [
    "c, Aeq, beq, Aub, bub, bound, integrality = mps_data(case2)"
   ]
  },
  {
   "cell_type": "code",
   "execution_count": 5,
   "metadata": {},
   "outputs": [],
   "source": [
    "def gbm1(c, G, h, A, b):\n",
    "    # Create a new model\n",
    "    m1 = gp.Model(\"m1\")\n",
    "    m1.setParam('OutputFlag', 0)\n",
    "    # Create variables\n",
    "    x = m1.addMVar(shape=len(c), vtype=GRB.CONTINUOUS, name=\"x\")\n",
    "    m1.setObjective(c @ x, GRB.MINIMIZE)\n",
    "\n",
    "    # Add constraints\n",
    "    m1.addConstr(G @ x <= h, name=\"ic\")\n",
    "    m1.addConstr(A @ x == b, name=\"ec\")\n",
    "    m1.update()\n",
    "    m1.optimize()\n",
    "    return m1"
   ]
  },
  {
   "cell_type": "code",
   "execution_count": 6,
   "metadata": {},
   "outputs": [
    {
     "name": "stdout",
     "output_type": "stream",
     "text": [
      "2.75 ms ± 207 µs per loop (mean ± std. dev. of 5 runs, 100 loops each)\n"
     ]
    }
   ],
   "source": [
    "%%timeit -r5 -n100\n",
    "res = linprog(c, A_ub=Aub, A_eq=Aeq, b_ub=bub, b_eq=beq, bounds=bound)"
   ]
  },
  {
   "cell_type": "code",
   "execution_count": 7,
   "metadata": {},
   "outputs": [
    {
     "name": "stdout",
     "output_type": "stream",
     "text": [
      "Restricted license - for non-production use only - expires 2023-10-25\n",
      "2.89 ms ± 198 µs per loop (mean ± std. dev. of 5 runs, 100 loops each)\n"
     ]
    }
   ],
   "source": [
    "%%timeit -r5 -n100\n",
    "gbm1(c, Aub, bub, Aeq, beq)"
   ]
  }
 ],
 "metadata": {
  "kernelspec": {
   "display_name": "Python 3.9.13",
   "language": "python",
   "name": "python3"
  },
  "language_info": {
   "codemirror_mode": {
    "name": "ipython",
    "version": 3
   },
   "file_extension": ".py",
   "mimetype": "text/x-python",
   "name": "python",
   "nbconvert_exporter": "python",
   "pygments_lexer": "ipython3",
   "version": "3.9.13"
  },
  "orig_nbformat": 4,
  "vscode": {
   "interpreter": {
    "hash": "e1a4d90b80a1cb3618c2a91ebbb923b8817dd472db86ccd34df1a28e253a5ec7"
   }
  }
 },
 "nbformat": 4,
 "nbformat_minor": 2
}
