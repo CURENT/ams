{
 "cells": [
  {
   "attachments": {},
   "cell_type": "markdown",
   "metadata": {},
   "source": [
    "#  PyPower basic functionality"
   ]
  },
  {
   "attachments": {},
   "cell_type": "markdown",
   "metadata": {},
   "source": [
    "In this version, existing ``pypower`` is revised as the sovler."
   ]
  },
  {
   "cell_type": "code",
   "execution_count": 1,
   "metadata": {},
   "outputs": [
    {
     "name": "stdout",
     "output_type": "stream",
     "text": [
      "0.5+38.g5b24ccc.dirty\n"
     ]
    }
   ],
   "source": [
    "import ams\n",
    "\n",
    "print(ams.__version__)"
   ]
  },
  {
   "cell_type": "code",
   "execution_count": 2,
   "metadata": {},
   "outputs": [],
   "source": [
    "from ams.solver.pypower.interface import ppi\n",
    "\n",
    "spp = ppi()\n",
    "spp.from_ppc(ams.get_case('pypower/case14.py'))\n",
    "ppc = spp.ppc"
   ]
  },
  {
   "cell_type": "code",
   "execution_count": 3,
   "metadata": {},
   "outputs": [],
   "source": [
    "from ams.solver.pypower.runpf import runpf, rundcpf\n",
    "from ams.solver.pypower.runopf import runopf, rundcopf\n",
    "from ams.solver.pypower.runuopf import runuopf, runduopf"
   ]
  },
  {
   "cell_type": "code",
   "execution_count": 4,
   "metadata": {},
   "outputs": [],
   "source": [
    "r_dcpf = rundcpf(ppc)"
   ]
  },
  {
   "cell_type": "code",
   "execution_count": 5,
   "metadata": {},
   "outputs": [
    {
     "name": "stdout",
     "output_type": "stream",
     "text": [
      " -- AC Power Flow (Newton)\n",
      "\n"
     ]
    }
   ],
   "source": [
    "r_pf = runpf(ppc)"
   ]
  },
  {
   "cell_type": "code",
   "execution_count": 6,
   "metadata": {},
   "outputs": [
    {
     "name": "stdout",
     "output_type": "stream",
     "text": [
      "Python Interior Point Solver - PIPS, Version 1.0, 07-Feb-2011\n",
      "Converged!\n"
     ]
    }
   ],
   "source": [
    "r_dcopf = rundcopf(ppc)"
   ]
  },
  {
   "cell_type": "code",
   "execution_count": 7,
   "metadata": {},
   "outputs": [
    {
     "data": {
      "text/plain": [
       "{'val': {'Va': array([ 0.        , -0.08845177, -0.22695321, -0.18549694, -0.15942928,\n",
       "         -0.25995017, -0.24348911, -0.24348911, -0.27468282, -0.27955519,\n",
       "         -0.27334387, -0.27941263, -0.28242717, -0.30074114]),\n",
       "  'Pg': array([2.20967664e+00, 3.80323357e-01, 1.00812924e-10, 1.00812924e-10,\n",
       "         1.00812924e-10])},\n",
       " 'mu': {'l': {'Va': array([2.80845861e-11, 0.00000000e+00, 0.00000000e+00, 0.00000000e+00,\n",
       "          0.00000000e+00, 0.00000000e+00, 0.00000000e+00, 0.00000000e+00,\n",
       "          0.00000000e+00, 0.00000000e+00, 0.00000000e+00, 0.00000000e+00,\n",
       "          0.00000000e+00, 0.00000000e+00]),\n",
       "   'Pg': array([ 0.        ,  0.        , 98.38321654, 98.38321654, 98.38321654])},\n",
       "  'u': {'Va': array([0., 0., 0., 0., 0., 0., 0., 0., 0., 0., 0., 0., 0., 0.]),\n",
       "   'Pg': array([0., 0., 0., 0., 0.])}}}"
      ]
     },
     "execution_count": 7,
     "metadata": {},
     "output_type": "execute_result"
    }
   ],
   "source": [
    "r_dcopf[\"var\"]"
   ]
  },
  {
   "cell_type": "code",
   "execution_count": 8,
   "metadata": {},
   "outputs": [
    {
     "name": "stdout",
     "output_type": "stream",
     "text": [
      "Python Interior Point Solver - PIPS, Version 1.0, 07-Feb-2011\n",
      "Converged!\n"
     ]
    }
   ],
   "source": [
    "r_opf = runopf(ppc)"
   ]
  },
  {
   "cell_type": "code",
   "execution_count": 9,
   "metadata": {},
   "outputs": [],
   "source": [
    "r_duopf = runduopf(ppc)"
   ]
  },
  {
   "cell_type": "code",
   "execution_count": 10,
   "metadata": {},
   "outputs": [],
   "source": [
    "r_uopf = runuopf(ppc)"
   ]
  },
  {
   "cell_type": "code",
   "execution_count": 11,
   "metadata": {},
   "outputs": [
    {
     "data": {
      "text/plain": [
       "dict_keys(['version', 'baseMVA', 'bus', 'gen', 'branch', 'gencost', 'order', 'om', 'x', 'mu', 'f', 'var', 'lin', 'nln', 'et', 'success', 'raw'])"
      ]
     },
     "execution_count": 11,
     "metadata": {},
     "output_type": "execute_result"
    }
   ],
   "source": [
    "r_uopf.keys()"
   ]
  }
 ],
 "metadata": {
  "kernelspec": {
   "display_name": "ams",
   "language": "python",
   "name": "python3"
  },
  "language_info": {
   "codemirror_mode": {
    "name": "ipython",
    "version": 3
   },
   "file_extension": ".py",
   "mimetype": "text/x-python",
   "name": "python",
   "nbconvert_exporter": "python",
   "pygments_lexer": "ipython3",
   "version": "3.9.0"
  },
  "orig_nbformat": 4,
  "vscode": {
   "interpreter": {
    "hash": "d9202bbf0491b3c6145e36d5ba22687a8b95e024b0a1e787962165edd6294d6d"
   }
  }
 },
 "nbformat": 4,
 "nbformat_minor": 2
}
