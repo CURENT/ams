{
 "cells": [
  {
   "attachments": {},
   "cell_type": "markdown",
   "metadata": {},
   "source": [
    "# Unpack"
   ]
  },
  {
   "cell_type": "code",
   "execution_count": 1,
   "metadata": {},
   "outputs": [],
   "source": [
    "import numpy as np\n",
    "\n",
    "import andes\n",
    "import ams\n",
    "\n",
    "import cvxpy as cp"
   ]
  },
  {
   "cell_type": "code",
   "execution_count": 2,
   "metadata": {},
   "outputs": [
    {
     "data": {
      "text/plain": [
       "'0.6.3.post3.dev0+g4f84ab3'"
      ]
     },
     "execution_count": 2,
     "metadata": {},
     "output_type": "execute_result"
    }
   ],
   "source": [
    "ams.__version__"
   ]
  },
  {
   "cell_type": "code",
   "execution_count": 3,
   "metadata": {},
   "outputs": [],
   "source": [
    "andes.config_logger(stream_level=10)"
   ]
  },
  {
   "cell_type": "code",
   "execution_count": 4,
   "metadata": {},
   "outputs": [
    {
     "name": "stderr",
     "output_type": "stream",
     "text": [
      "Working directory: \"/home/jwang/work/ams/dev/demo\"\n",
      "Found files: ['/home/jwang/.local/lib/python3.10/site-packages/andes/cases/ieee14/ieee14_ace.xlsx']\n",
      "> Loaded config from file \"/home/jwang/.andes/andes.rc\"\n",
      "> Loaded generated Python code in \"/home/jwang/.andes/pycode\".\n",
      "Input format guessed as xlsx.\n",
      "Parsing input file \"/home/jwang/.local/lib/python3.10/site-packages/andes/cases/ieee14/ieee14_ace.xlsx\"...\n",
      "Input file parsed in 0.4326 seconds.\n",
      "Setting internal address for Bus\n",
      "Setting internal address for PQ\n",
      "Setting internal address for PV\n",
      "Setting internal address for Slack\n",
      "Setting internal address for Shunt\n",
      "Setting internal address for Line\n",
      "Setting internal address for Area\n",
      "System internal structure set up in 0.0459 seconds.\n"
     ]
    }
   ],
   "source": [
    "sa = andes.load(andes.get_case('ieee14/ieee14_ace.xlsx'),\n",
    "              setup=True,)"
   ]
  },
  {
   "cell_type": "code",
   "execution_count": 5,
   "metadata": {},
   "outputs": [],
   "source": [
    "ams.config_logger(stream_level=10)"
   ]
  },
  {
   "cell_type": "code",
   "execution_count": 6,
   "metadata": {},
   "outputs": [
    {
     "name": "stderr",
     "output_type": "stream",
     "text": [
      "Working directory: \"/home/jwang/work/ams/dev/demo\"\n",
      "Found files: ['/home/jwang/work/ams/ams/cases/matpower/case14.m']\n"
     ]
    },
    {
     "ename": "TypeError",
     "evalue": "PFlowBase.__init__() missing 1 required positional argument: 'config'",
     "output_type": "error",
     "traceback": [
      "\u001b[0;31m---------------------------------------------------------------------------\u001b[0m",
      "\u001b[0;31mTypeError\u001b[0m                                 Traceback (most recent call last)",
      "Cell \u001b[0;32mIn[6], line 4\u001b[0m\n\u001b[1;32m      2\u001b[0m case2 \u001b[39m=\u001b[39m ams\u001b[39m.\u001b[39mget_case(\u001b[39m'\u001b[39m\u001b[39mieee14/ieee14.xlsx\u001b[39m\u001b[39m'\u001b[39m)\n\u001b[1;32m      3\u001b[0m case3 \u001b[39m=\u001b[39m ams\u001b[39m.\u001b[39mget_case(\u001b[39m'\u001b[39m\u001b[39mmatpower/case_ACTIVSg2000.m\u001b[39m\u001b[39m'\u001b[39m)\n\u001b[0;32m----> 4\u001b[0m sp \u001b[39m=\u001b[39m ams\u001b[39m.\u001b[39;49mload(case1, setup\u001b[39m=\u001b[39;49m\u001b[39mTrue\u001b[39;49;00m,)\n",
      "File \u001b[0;32m~/work/ams/ams/main.py:131\u001b[0m, in \u001b[0;36mload\u001b[0;34m(case, setup, use_input_path, **kwargs)\u001b[0m\n\u001b[1;32m    128\u001b[0m         \u001b[39mreturn\u001b[39;00m \u001b[39mNone\u001b[39;00m\n\u001b[1;32m    129\u001b[0m     case \u001b[39m=\u001b[39m case[\u001b[39m0\u001b[39m]\n\u001b[0;32m--> 131\u001b[0m system \u001b[39m=\u001b[39m System(case, \u001b[39m*\u001b[39;49m\u001b[39m*\u001b[39;49mkwargs)\n\u001b[1;32m    133\u001b[0m \u001b[39mif\u001b[39;00m \u001b[39mnot\u001b[39;00m ams\u001b[39m.\u001b[39mio\u001b[39m.\u001b[39mparse(system):\n\u001b[1;32m    134\u001b[0m     \u001b[39mreturn\u001b[39;00m \u001b[39mNone\u001b[39;00m\n",
      "File \u001b[0;32m~/work/ams/ams/system.py:148\u001b[0m, in \u001b[0;36mSystem.__init__\u001b[0;34m(self, case, name, config, config_path, default_config, options, **kwargs)\u001b[0m\n\u001b[1;32m    146\u001b[0m \u001b[39mself\u001b[39m\u001b[39m.\u001b[39mimport_groups()\n\u001b[1;32m    147\u001b[0m \u001b[39mself\u001b[39m\u001b[39m.\u001b[39mimport_models()\n\u001b[0;32m--> 148\u001b[0m \u001b[39mself\u001b[39;49m\u001b[39m.\u001b[39;49mimport_routines()\n",
      "File \u001b[0;32m~/work/ams/ams/system.py:183\u001b[0m, in \u001b[0;36mSystem.import_routines\u001b[0;34m(self)\u001b[0m\n\u001b[1;32m    181\u001b[0m the_class \u001b[39m=\u001b[39m \u001b[39mgetattr\u001b[39m(routine, cls_name)\n\u001b[1;32m    182\u001b[0m attr_name \u001b[39m=\u001b[39m cls_name\n\u001b[0;32m--> 183\u001b[0m \u001b[39mself\u001b[39m\u001b[39m.\u001b[39m\u001b[39m__dict__\u001b[39m[attr_name] \u001b[39m=\u001b[39m the_class(system\u001b[39m=\u001b[39;49m\u001b[39mself\u001b[39;49m, config\u001b[39m=\u001b[39;49m\u001b[39mself\u001b[39;49m\u001b[39m.\u001b[39;49m_config_object)\n\u001b[1;32m    184\u001b[0m \u001b[39mself\u001b[39m\u001b[39m.\u001b[39mroutines[attr_name] \u001b[39m=\u001b[39m \u001b[39mself\u001b[39m\u001b[39m.\u001b[39m\u001b[39m__dict__\u001b[39m[attr_name]\n\u001b[1;32m    185\u001b[0m \u001b[39mself\u001b[39m\u001b[39m.\u001b[39mroutines[attr_name]\u001b[39m.\u001b[39mconfig\u001b[39m.\u001b[39mcheck()\n",
      "File \u001b[0;32m~/work/ams/ams/routines/pflow.py:25\u001b[0m, in \u001b[0;36mPFlow.__init__\u001b[0;34m(self, system, config)\u001b[0m\n\u001b[1;32m     24\u001b[0m \u001b[39mdef\u001b[39;00m \u001b[39m__init__\u001b[39m(\u001b[39mself\u001b[39m, system\u001b[39m=\u001b[39m\u001b[39mNone\u001b[39;00m, config\u001b[39m=\u001b[39m\u001b[39mNone\u001b[39;00m):\n\u001b[0;32m---> 25\u001b[0m     PFlowBase\u001b[39m.\u001b[39;49m\u001b[39m__init__\u001b[39;49m(system, config)\n",
      "\u001b[0;31mTypeError\u001b[0m: PFlowBase.__init__() missing 1 required positional argument: 'config'"
     ]
    }
   ],
   "source": [
    "case1 = ams.get_case('matpower/case14.m')\n",
    "case2 = ams.get_case('ieee14/ieee14.xlsx')\n",
    "case3 = ams.get_case('matpower/case_ACTIVSg2000.m')\n",
    "sp = ams.load(case1, setup=True,)"
   ]
  },
  {
   "cell_type": "code",
   "execution_count": null,
   "metadata": {},
   "outputs": [],
   "source": [
    "sp.PFlow.run()"
   ]
  },
  {
   "cell_type": "code",
   "execution_count": null,
   "metadata": {},
   "outputs": [],
   "source": [
    "sp.DCOPF.setup()"
   ]
  },
  {
   "cell_type": "code",
   "execution_count": null,
   "metadata": {},
   "outputs": [],
   "source": [
    "sp.DCOPF.run(verbose=False, solver=cp.GUROBI)"
   ]
  },
  {
   "cell_type": "code",
   "execution_count": null,
   "metadata": {},
   "outputs": [],
   "source": [
    "sp.DCOPF.exec_time"
   ]
  },
  {
   "cell_type": "code",
   "execution_count": null,
   "metadata": {},
   "outputs": [],
   "source": [
    "sp.DCOPF.pg"
   ]
  },
  {
   "cell_type": "code",
   "execution_count": null,
   "metadata": {},
   "outputs": [],
   "source": [
    "sp.DCOPF.om.obj.value"
   ]
  }
 ],
 "metadata": {
  "kernelspec": {
   "display_name": "ams",
   "language": "python",
   "name": "python3"
  },
  "language_info": {
   "codemirror_mode": {
    "name": "ipython",
    "version": 3
   },
   "file_extension": ".py",
   "mimetype": "text/x-python",
   "name": "python",
   "nbconvert_exporter": "python",
   "pygments_lexer": "ipython3",
   "version": "3.10.11"
  },
  "orig_nbformat": 4,
  "vscode": {
   "interpreter": {
    "hash": "d2b3bf80176349caa68dc4a3c77bd06eaade8abc678330f7d1c813c53380e5d2"
   }
  }
 },
 "nbformat": 4,
 "nbformat_minor": 2
}
