{
 "cells": [
  {
   "attachments": {},
   "cell_type": "markdown",
   "metadata": {},
   "source": [
    "# CVXPY"
   ]
  },
  {
   "cell_type": "code",
   "execution_count": 1,
   "metadata": {},
   "outputs": [],
   "source": [
    "import cvxpy as cp\n",
    "import numpy as np"
   ]
  },
  {
   "cell_type": "code",
   "execution_count": null,
   "metadata": {},
   "outputs": [],
   "source": [
    "# Define the MIQP problem\n",
    "x = cp.Variable(5)  # Length-5 vector of continuous variables\n",
    "x_lb = 0  # Lower bound for x\n",
    "x_ub = 10  # Upper bound for x\n",
    "x_constraints = [x >= x_lb, x <= x_ub]  # Constraints for x\n",
    "\n",
    "Q = np.array([[1.0, 0.5, 0.0, 0.0, 0.0],\n",
    "              [0.5, 2.0, 0.0, 0.0, 0.0],\n",
    "              [0.0, 0.0, 0.0, 0.0, 0.0],\n",
    "              [0.0, 0.0, 0.0, 0.0, 0.0],\n",
    "              [0.0, 0.0, 0.0, 0.0, 0.0]])  # Quadratic objective matrix\n",
    "c = np.array([1.0, -2.0, 0.0, 0.0, 0.0])  # Linear objective coefficients\n",
    "\n",
    "# Define the constraint matrix and vectors\n",
    "Aeq = np.array([[1, 1, 0, 0, 0]])  # Coefficient matrix of equality constraints\n",
    "beq = np.array([1])  # Right-hand side of equality constraints\n",
    "\n",
    "Aub = np.array([[1, 0, 0, 0, 0],\n",
    "                [0, 1, 0, 0, 0]])  # Coefficient matrix of inequality constraints\n",
    "bub = np.array([0, 0])  # Right-hand side of inequality constraints\n",
    "\n",
    "# Define the objective function\n",
    "objective = cp.Minimize(cp.quad_form(x, Q) + c @ x)\n",
    "\n",
    "# Define the constraints using matrix notation\n",
    "constraints = x_constraints + [Aeq @ x == beq, Aub @ x <= bub]\n",
    "\n",
    "# Create the problem and solve it\n",
    "problem = cp.Problem(objective, constraints)\n",
    "problem.solve(solver=cp.SCIP, verbose=False)  # Use SCIP solver\n",
    "\n",
    "# Print the optimal solution\n",
    "print(\"Optimal solution:\")\n",
    "print(\"x =\", x.value)\n"
   ]
  }
 ],
 "metadata": {
  "kernelspec": {
   "display_name": "ams",
   "language": "python",
   "name": "python3"
  },
  "language_info": {
   "codemirror_mode": {
    "name": "ipython",
    "version": 3
   },
   "file_extension": ".py",
   "mimetype": "text/x-python",
   "name": "python",
   "nbconvert_exporter": "python",
   "pygments_lexer": "ipython3",
   "version": "3.9.16"
  },
  "orig_nbformat": 4,
  "vscode": {
   "interpreter": {
    "hash": "d2b3bf80176349caa68dc4a3c77bd06eaade8abc678330f7d1c813c53380e5d2"
   }
  }
 },
 "nbformat": 4,
 "nbformat_minor": 2
}
