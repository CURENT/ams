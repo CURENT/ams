{
 "cells": [
  {
   "attachments": {},
   "cell_type": "markdown",
   "metadata": {},
   "source": [
    "# Optimization"
   ]
  },
  {
   "cell_type": "code",
   "execution_count": 1,
   "metadata": {},
   "outputs": [],
   "source": [
    "import scipy\n",
    "import sympy as smp\n",
    "import numpy as np\n",
    "\n",
    "import andes\n",
    "import ams"
   ]
  },
  {
   "cell_type": "code",
   "execution_count": 2,
   "metadata": {},
   "outputs": [],
   "source": [
    "ams.config_logger(stream_level=20)"
   ]
  },
  {
   "cell_type": "code",
   "execution_count": 3,
   "metadata": {},
   "outputs": [],
   "source": [
    "sa = andes.load(andes.get_case('ieee14/ieee14_ace.xlsx'),\n",
    "              setup=True,)"
   ]
  },
  {
   "cell_type": "code",
   "execution_count": 4,
   "metadata": {},
   "outputs": [],
   "source": [
    "andes.config_logger(stream_level=10)"
   ]
  },
  {
   "cell_type": "code",
   "execution_count": 5,
   "metadata": {},
   "outputs": [
    {
     "name": "stderr",
     "output_type": "stream",
     "text": [
      "Working directory: \"/Users/jinningwang/Documents/work/ams/dev/demo\"\n",
      "Found files: ['/Users/jinningwang/Documents/work/ams/ams/cases/matpower/case14.m']\n",
      "Parsing input file \"/Users/jinningwang/Documents/work/ams/ams/cases/matpower/case14.m\"...\n",
      "Detected raw file encoding: {'encoding': 'ascii', 'confidence': 1.0, 'language': ''}\n",
      "CASE14    Power flow data for IEEE 14 bus test case.\n",
      "Input file parsed in 0.0063 seconds.\n",
      "System set up in 0.0024 seconds.\n"
     ]
    }
   ],
   "source": [
    "sp = ams.load(ams.get_case('matpower/case14.m'),\n",
    "              setup=True,)"
   ]
  },
  {
   "cell_type": "code",
   "execution_count": 6,
   "metadata": {},
   "outputs": [
    {
     "name": "stderr",
     "output_type": "stream",
     "text": [
      "PYPOWER Version 5.1.4, 27-June-2018\n",
      "\n",
      "Newton's method power flow converged in 2 iterations.\n",
      "\n",
      "PFlow completed in 0.0118 seconds seconds with exit code 0.\n"
     ]
    },
    {
     "name": "stdout",
     "output_type": "stream",
     "text": [
      " -- AC Power Flow (Newton)\n",
      "\n"
     ]
    },
    {
     "data": {
      "text/plain": [
       "0"
      ]
     },
     "execution_count": 6,
     "metadata": {},
     "output_type": "execute_result"
    }
   ],
   "source": [
    "sp.PFlow.run()"
   ]
  },
  {
   "cell_type": "code",
   "execution_count": 21,
   "metadata": {},
   "outputs": [
    {
     "data": {
      "text/plain": [
       "<ams.system.System at 0x121864d30>"
      ]
     },
     "execution_count": 21,
     "metadata": {},
     "output_type": "execute_result"
    }
   ],
   "source": [
    "sp"
   ]
  },
  {
   "cell_type": "code",
   "execution_count": 16,
   "metadata": {},
   "outputs": [
    {
     "data": {
      "text/plain": [
       "<ams.models.group.Gen at 0x13210b640>"
      ]
     },
     "execution_count": 16,
     "metadata": {},
     "output_type": "execute_result"
    }
   ],
   "source": [
    "sp.Gen"
   ]
  },
  {
   "cell_type": "code",
   "execution_count": 23,
   "metadata": {},
   "outputs": [
    {
     "data": {
      "text/plain": [
       "ams.opt.omodel.OAlgeb"
      ]
     },
     "execution_count": 23,
     "metadata": {},
     "output_type": "execute_result"
    }
   ],
   "source": [
    "type(sp.DCOPF.pPV)"
   ]
  },
  {
   "cell_type": "code",
   "execution_count": 38,
   "metadata": {},
   "outputs": [
    {
     "ename": "AttributeError",
     "evalue": "module 'andes.core' has no attribute 'Group'",
     "output_type": "error",
     "traceback": [
      "\u001b[0;31m---------------------------------------------------------------------------\u001b[0m",
      "\u001b[0;31mAttributeError\u001b[0m                            Traceback (most recent call last)",
      "Cell \u001b[0;32mIn[38], line 1\u001b[0m\n\u001b[0;32m----> 1\u001b[0m andes\u001b[39m.\u001b[39;49mcore\u001b[39m.\u001b[39;49mGroup\n",
      "\u001b[0;31mAttributeError\u001b[0m: module 'andes.core' has no attribute 'Group'"
     ]
    }
   ],
   "source": [
    "andes.models.GroupBase"
   ]
  },
  {
   "cell_type": "code",
   "execution_count": 35,
   "metadata": {},
   "outputs": [
    {
     "name": "stdout",
     "output_type": "stream",
     "text": [
      "PV PV (4 devices) at 0x132117850\n",
      "OrderedDict([('p', PV.p (4 Algebs) at 0x132120190), ('q', PV.q (4 Algebs) at 0x1321203d0)])\n",
      "Slack Slack (1 device) at 0x132120400\n",
      "OrderedDict([('p', Slack.p (1 Algeb) at 0x132120be0), ('q', Slack.q (1 Algeb) at 0x132120e20)])\n"
     ]
    }
   ],
   "source": [
    "for mname, mdl in sp.Gen.models.items():\n",
    "    print(mname, mdl)\n",
    "    print(mdl._all_vars())"
   ]
  },
  {
   "cell_type": "code",
   "execution_count": 24,
   "metadata": {},
   "outputs": [
    {
     "data": {
      "text/plain": [
       "'pPV'"
      ]
     },
     "execution_count": 24,
     "metadata": {},
     "output_type": "execute_result"
    }
   ],
   "source": [
    "sp.DCOPF.pPV.name"
   ]
  },
  {
   "cell_type": "code",
   "execution_count": 12,
   "metadata": {},
   "outputs": [
    {
     "data": {
      "text/plain": [
       "OrderedDict([('aBus', Bus.aBus (14 OAlgebs) at 0x131f8f970),\n",
       "             ('vBus', Bus.vBus (14 OAlgebs) at 0x131f8fa00),\n",
       "             ('pPV', PV.pPV (4 OAlgebs) at 0x131f8f7f0),\n",
       "             ('qPV', PV.qPV (4 OAlgebs) at 0x131f8feb0),\n",
       "             ('pSlack', Slack.pSlack (1 OAlgeb) at 0x131f8fc40),\n",
       "             ('qSlack', Slack.qSlack (1 OAlgeb) at 0x131f8fc10)])"
      ]
     },
     "execution_count": 12,
     "metadata": {},
     "output_type": "execute_result"
    }
   ],
   "source": [
    "sp.DCOPF.oalgebs"
   ]
  },
  {
   "cell_type": "code",
   "execution_count": 7,
   "metadata": {},
   "outputs": [
    {
     "data": {
      "text/plain": [
       "Index(['idx', 'u', 'name', 'Sn', 'Vn', 'bus', 'busr', 'p0', 'q0', 'pmax',\n",
       "       'pmin', 'qmax', 'qmin', 'v0', 'vmax', 'vmin', 'ra', 'xs', 'a0', 'Pc1',\n",
       "       'Pc2', 'Qc1min', 'Qc1max', 'Qc2min', 'Qc2max', 'Ragc', 'R10', 'R30',\n",
       "       'Rq', 'apf'],\n",
       "      dtype='object')"
      ]
     },
     "execution_count": 7,
     "metadata": {},
     "output_type": "execute_result"
    }
   ],
   "source": [
    "sp.Slack.as_df().columns"
   ]
  },
  {
   "cell_type": "code",
   "execution_count": 27,
   "metadata": {},
   "outputs": [
    {
     "data": {
      "text/plain": [
       "['_1d_vectorize',\n",
       " '__class__',\n",
       " '__delattr__',\n",
       " '__dict__',\n",
       " '__dir__',\n",
       " '__doc__',\n",
       " '__eq__',\n",
       " '__format__',\n",
       " '__ge__',\n",
       " '__getattribute__',\n",
       " '__gt__',\n",
       " '__hash__',\n",
       " '__init__',\n",
       " '__init_subclass__',\n",
       " '__le__',\n",
       " '__lt__',\n",
       " '__module__',\n",
       " '__ne__',\n",
       " '__new__',\n",
       " '__reduce__',\n",
       " '__reduce_ex__',\n",
       " '__repr__',\n",
       " '__setattr__',\n",
       " '__sizeof__',\n",
       " '__str__',\n",
       " '__subclasshook__',\n",
       " '__weakref__',\n",
       " '_check_idx',\n",
       " '_check_src',\n",
       " '_idx2model',\n",
       " 'add',\n",
       " 'add_model',\n",
       " 'class_name',\n",
       " 'common_params',\n",
       " 'common_vars',\n",
       " 'doc',\n",
       " 'doc_all',\n",
       " 'find_idx',\n",
       " 'get',\n",
       " 'get_field',\n",
       " 'get_next_idx',\n",
       " 'idx2model',\n",
       " 'idx2uid',\n",
       " 'models',\n",
       " 'n',\n",
       " 'services_ref',\n",
       " 'set',\n",
       " 'set_backref',\n",
       " 'uid']"
      ]
     },
     "execution_count": 27,
     "metadata": {},
     "output_type": "execute_result"
    }
   ],
   "source": [
    "dir(sp.Gen)"
   ]
  },
  {
   "cell_type": "code",
   "execution_count": 19,
   "metadata": {},
   "outputs": [
    {
     "data": {
      "text/plain": [
       "<ams.models.group.StaticLoad at 0x12c74c3d0>"
      ]
     },
     "execution_count": 19,
     "metadata": {},
     "output_type": "execute_result"
    }
   ],
   "source": [
    "sp.StaticLoad"
   ]
  },
  {
   "cell_type": "code",
   "execution_count": 18,
   "metadata": {},
   "outputs": [
    {
     "data": {
      "text/plain": [
       "PV.pPV (4 OAlgebs) at 0x12c647d30"
      ]
     },
     "execution_count": 18,
     "metadata": {},
     "output_type": "execute_result"
    }
   ],
   "source": [
    "sp.DCOPF.pPV"
   ]
  },
  {
   "cell_type": "code",
   "execution_count": 7,
   "metadata": {},
   "outputs": [
    {
     "data": {
      "text/plain": [
       "OrderedDict([('aBus', Bus.aBus (14 OAlgebs) at 0x12c647dc0),\n",
       "             ('vBus', Bus.vBus (14 OAlgebs) at 0x12c647d90),\n",
       "             ('pPV', PV.pPV (4 OAlgebs) at 0x12c647d30),\n",
       "             ('qPV', PV.qPV (4 OAlgebs) at 0x12c647df0),\n",
       "             ('pSlack', Slack.pSlack (1 OAlgeb) at 0x12c647970),\n",
       "             ('qSlack', Slack.qSlack (1 OAlgeb) at 0x12c647af0)])"
      ]
     },
     "execution_count": 7,
     "metadata": {},
     "output_type": "execute_result"
    }
   ],
   "source": [
    "sp.DCOPF.oalgebs"
   ]
  },
  {
   "cell_type": "code",
   "execution_count": 8,
   "metadata": {},
   "outputs": [],
   "source": [
    "sp.DCOPF.prepare()"
   ]
  },
  {
   "cell_type": "code",
   "execution_count": 9,
   "metadata": {},
   "outputs": [
    {
     "data": {
      "text/plain": [
       "odict_keys(['uBus', 'VnBus', 'vmaxBus', 'vminBus', 'v0Bus', 'a0Bus', 'uPQ', 'VnPQ', 'p0PQ', 'q0PQ', 'vmaxPQ', 'vminPQ', 'uPV', 'SnPV', 'VnPV', 'p0PV', 'q0PV', 'pmaxPV', 'pminPV', 'qmaxPV', 'qminPV', 'v0PV', 'vmaxPV', 'vminPV', 'raPV', 'xsPV', 'Pc1PV', 'Pc2PV', 'Qc1minPV', 'Qc1maxPV', 'Qc2minPV', 'Qc2maxPV', 'RagcPV', 'R10PV', 'R30PV', 'RqPV', 'apfPV', 'uSlack', 'SnSlack', 'VnSlack', 'p0Slack', 'q0Slack', 'pmaxSlack', 'pminSlack', 'qmaxSlack', 'qminSlack', 'v0Slack', 'vmaxSlack', 'vminSlack', 'raSlack', 'xsSlack', 'a0Slack', 'Pc1Slack', 'Pc2Slack', 'Qc1minSlack', 'Qc1maxSlack', 'Qc2minSlack', 'Qc2maxSlack', 'RagcSlack', 'R10Slack', 'R30Slack', 'RqSlack', 'apfSlack', 'uShunt', 'SnShunt', 'VnShunt', 'gShunt', 'bShunt', 'fnShunt', 'uLine', 'SnLine', 'fnLine', 'Vn1Line', 'Vn2Line', 'rLine', 'xLine', 'bLine', 'gLine', 'b1Line', 'g1Line', 'b2Line', 'g2Line', 'transLine', 'tapLine', 'phiLine', 'rate_aLine', 'rate_bLine', 'rate_cLine', 'aminLine', 'amaxLine', 'uArea', 'uGCost', 'typeGCost', 'startupGCost', 'shutdownGCost', 'c2GCost', 'c1GCost', 'c0GCost'])"
      ]
     },
     "execution_count": 9,
     "metadata": {},
     "output_type": "execute_result"
    }
   ],
   "source": [
    "sp.nparams.keys()"
   ]
  },
  {
   "cell_type": "code",
   "execution_count": 17,
   "metadata": {},
   "outputs": [
    {
     "data": {
      "text/plain": [
       "'line limits upper bound'"
      ]
     },
     "execution_count": 17,
     "metadata": {},
     "output_type": "execute_result"
    }
   ],
   "source": [
    "sp.DCOPF.om.lub.info"
   ]
  },
  {
   "cell_type": "code",
   "execution_count": null,
   "metadata": {},
   "outputs": [],
   "source": []
  },
  {
   "cell_type": "code",
   "execution_count": 11,
   "metadata": {},
   "outputs": [
    {
     "data": {
      "text/latex": [
       "$\\displaystyle aBus$"
      ],
      "text/plain": [
       "aBus"
      ]
     },
     "execution_count": 11,
     "metadata": {},
     "output_type": "execute_result"
    }
   ],
   "source": [
    "sp.DCOPF.syms.inputs_dict['aBus']"
   ]
  },
  {
   "cell_type": "code",
   "execution_count": 12,
   "metadata": {},
   "outputs": [
    {
     "data": {
      "text/plain": [
       "'uq'"
      ]
     },
     "execution_count": 12,
     "metadata": {},
     "output_type": "execute_result"
    }
   ],
   "source": [
    "sp.DCOPF.om.constrs['pb'].type"
   ]
  },
  {
   "cell_type": "code",
   "execution_count": 13,
   "metadata": {},
   "outputs": [
    {
     "name": "stdout",
     "output_type": "stream",
     "text": [
      "aBus 14\n",
      "vBus 14\n",
      "pPV 4\n",
      "qPV 4\n",
      "pSlack 1\n",
      "qSlack 1\n"
     ]
    }
   ],
   "source": [
    "for oname, oalgeb in sp.DCOPF.oalgebs.items():\n",
    "    print(oname, oalgeb.v.shape[0])"
   ]
  },
  {
   "cell_type": "code",
   "execution_count": 14,
   "metadata": {},
   "outputs": [
    {
     "ename": "AttributeError",
     "evalue": "'System' object has no attribute 'MatrixSymbol'",
     "output_type": "error",
     "traceback": [
      "\u001b[0;31m---------------------------------------------------------------------------\u001b[0m",
      "\u001b[0;31mAttributeError\u001b[0m                            Traceback (most recent call last)",
      "Cell \u001b[0;32mIn[14], line 2\u001b[0m\n\u001b[1;32m      1\u001b[0m n_buses \u001b[39m=\u001b[39m \u001b[39m14\u001b[39m\n\u001b[0;32m----> 2\u001b[0m aBus \u001b[39m=\u001b[39m sp\u001b[39m.\u001b[39;49mMatrixSymbol(\u001b[39m'\u001b[39m\u001b[39maBus\u001b[39m\u001b[39m'\u001b[39m, n_buses, \u001b[39m1\u001b[39m)\n",
      "\u001b[0;31mAttributeError\u001b[0m: 'System' object has no attribute 'MatrixSymbol'"
     ]
    }
   ],
   "source": [
    "n_buses = 14\n",
    "aBus = sp.MatrixSymbol('aBus', n_buses, 1)"
   ]
  },
  {
   "cell_type": "code",
   "execution_count": null,
   "metadata": {},
   "outputs": [],
   "source": [
    "aBus = smp.MatrixSymbol('aBus', 14, 1)\n",
    "aBus[2]"
   ]
  },
  {
   "cell_type": "code",
   "execution_count": null,
   "metadata": {},
   "outputs": [],
   "source": [
    "x = smp.Matrix(['aBus', 'vBus'])\n",
    "expr_subs = x.subs({'aBus': np.array([1,2,3])})\n",
    "\n",
    "print(expr_subs)"
   ]
  },
  {
   "cell_type": "code",
   "execution_count": null,
   "metadata": {},
   "outputs": [],
   "source": [
    "sp.DCOPF.om.constrs['pb'].expr"
   ]
  },
  {
   "cell_type": "code",
   "execution_count": null,
   "metadata": {},
   "outputs": [],
   "source": [
    "sp.DCOPF.prepare()"
   ]
  },
  {
   "cell_type": "code",
   "execution_count": null,
   "metadata": {},
   "outputs": [],
   "source": [
    "sp.DCOPF.syms.inputs_dict"
   ]
  },
  {
   "cell_type": "code",
   "execution_count": null,
   "metadata": {},
   "outputs": [],
   "source": [
    "sp.npdict"
   ]
  },
  {
   "cell_type": "code",
   "execution_count": null,
   "metadata": {},
   "outputs": [],
   "source": [
    "sp.Bus.vmin"
   ]
  },
  {
   "cell_type": "code",
   "execution_count": null,
   "metadata": {},
   "outputs": [],
   "source": [
    "sp.models"
   ]
  },
  {
   "cell_type": "code",
   "execution_count": null,
   "metadata": {},
   "outputs": [],
   "source": [
    "sp.DCOPF.om.vars"
   ]
  }
 ],
 "metadata": {
  "kernelspec": {
   "display_name": "ams",
   "language": "python",
   "name": "python3"
  },
  "language_info": {
   "codemirror_mode": {
    "name": "ipython",
    "version": 3
   },
   "file_extension": ".py",
   "mimetype": "text/x-python",
   "name": "python",
   "nbconvert_exporter": "python",
   "pygments_lexer": "ipython3",
   "version": "3.9.16"
  },
  "orig_nbformat": 4
 },
 "nbformat": 4,
 "nbformat_minor": 2
}
