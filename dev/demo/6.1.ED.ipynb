{
 "cells": [
  {
   "attachments": {},
   "cell_type": "markdown",
   "metadata": {},
   "source": [
    "# CoSim - RTED"
   ]
  },
  {
   "cell_type": "code",
   "execution_count": 1,
   "metadata": {},
   "outputs": [],
   "source": [
    "import numpy as np\n",
    "\n",
    "import andes\n",
    "import ams\n",
    "\n",
    "import pandas as pd\n",
    "\n",
    "import json\n",
    "\n",
    "import cvxpy as cp"
   ]
  },
  {
   "cell_type": "code",
   "execution_count": 2,
   "metadata": {},
   "outputs": [
    {
     "data": {
      "text/plain": [
       "'0.6.5.post69.dev0+g7921c58'"
      ]
     },
     "execution_count": 2,
     "metadata": {},
     "output_type": "execute_result"
    }
   ],
   "source": [
    "ams.__version__"
   ]
  },
  {
   "cell_type": "code",
   "execution_count": 3,
   "metadata": {},
   "outputs": [],
   "source": [
    "andes.config_logger(stream_level=20)"
   ]
  },
  {
   "cell_type": "code",
   "execution_count": 4,
   "metadata": {},
   "outputs": [],
   "source": [
    "ams.config_logger(stream_level=10)"
   ]
  },
  {
   "cell_type": "code",
   "execution_count": 5,
   "metadata": {},
   "outputs": [
    {
     "name": "stderr",
     "output_type": "stream",
     "text": [
      "Working directory: \"/Users/jinningwang/Documents/work/ams/dev/demo\"\n",
      "Input format guessed as xlsx.\n",
      "Parsing input file \"/Users/jinningwang/Documents/work/ams/ams/cases/ieee14/ieee14_ed.xlsx\"...\n",
      "Input file parsed in 0.2142 seconds.\n",
      "Adjust bus index to start from 0.\n",
      "System set up in 0.0035 seconds.\n"
     ]
    }
   ],
   "source": [
    "sp = ams.load(ams.get_case('ieee14/ieee14_ed.xlsx'),\n",
    "              setup=True,\n",
    "              )"
   ]
  },
  {
   "cell_type": "code",
   "execution_count": 6,
   "metadata": {},
   "outputs": [
    {
     "name": "stderr",
     "output_type": "stream",
     "text": [
      "ED data check passed.\n",
      "- Generating symbols for ED\n",
      "Set constrs pb: Rpd - Spg @ pg\n",
      "Code Constr: om.constrs[\"pb\"]=self.om.rtn.Rpd.v - self.om.rtn.Spg.v @ self.om.pg == 0\n",
      "Set constrs lub: PTDF1@pg - PTDF1*Rpd1@cdup - PTDF2@Rpd2@cdup - RAr@cdup\n",
      "Code Constr: om.constrs[\"lub\"]=self.om.rtn.PTDF1.v@self.om.pg - self.om.rtn.PTDF1.v @ self.om.rtn.Rpd1.v@self.om.rtn.cdup.v - self.om.rtn.PTDF2.v@self.om.rtn.Rpd2.v@self.om.rtn.cdup.v - self.om.rtn.RAr.v@self.om.rtn.cdup.v <= 0\n",
      "Set constrs llb: -PTDF1@pg + PTDF1*Rpd1@cdup + PTDF2@Rpd2@cdup - RAr@cdup\n",
      "Code Constr: om.constrs[\"llb\"]=-self.om.rtn.PTDF1.v@self.om.pg + self.om.rtn.PTDF1.v @ self.om.rtn.Rpd1.v@self.om.rtn.cdup.v + self.om.rtn.PTDF2.v@self.om.rtn.Rpd2.v@self.om.rtn.cdup.v - self.om.rtn.RAr.v@self.om.rtn.cdup.v <= 0\n",
      "Set constrs rgu: pg @ Mr - RR30\n",
      "Code Constr: om.constrs[\"rgu\"]=self.om.pg @ self.om.rtn.Mr.v - self.om.rtn.RR30.v <= 0\n",
      "Set constrs rgd: -pg @ Mr - RR30\n",
      "Code Constr: om.constrs[\"rgd\"]=-self.om.pg @ self.om.rtn.Mr.v - self.om.rtn.RR30.v <= 0\n",
      "Code Obj: om.obj=cp.Minimize(cp.sum(self.om.rtn.c2.v @ self.om.pg**2 + self.om.rtn.c1.v @ self.om.pg + self.om.rtn.ug.v @ self.om.rtn.c0.v))\n",
      "ED model set up in 0.0095 seconds.\n"
     ]
    },
    {
     "data": {
      "text/plain": [
       "True"
      ]
     },
     "execution_count": 6,
     "metadata": {},
     "output_type": "execute_result"
    }
   ],
   "source": [
    "sp.ED.setup(show_code=True)"
   ]
  },
  {
   "cell_type": "code",
   "execution_count": 7,
   "metadata": {},
   "outputs": [
    {
     "name": "stderr",
     "output_type": "stream",
     "text": [
      "ED solved as optimal in 0.0118 seconds with exit code 0.\n"
     ]
    },
    {
     "data": {
      "text/plain": [
       "True"
      ]
     },
     "execution_count": 7,
     "metadata": {},
     "output_type": "execute_result"
    }
   ],
   "source": [
    "sp.ED.run()"
   ]
  },
  {
   "cell_type": "code",
   "execution_count": 8,
   "metadata": {},
   "outputs": [
    {
     "data": {
      "text/plain": [
       "array([[0.5      , 0.5      , 0.5      , 0.5      , 0.5      , 0.5      ],\n",
       "       [0.5      , 0.5      , 0.5      , 0.5      , 0.5      , 0.5      ],\n",
       "       [0.3685   , 0.3740925, 0.379685 , 0.3852775, 0.39087  , 0.3964625],\n",
       "       [0.3685   , 0.3740925, 0.379685 , 0.3852775, 0.39087  , 0.3964625],\n",
       "       [0.5      , 0.5      , 0.5      , 0.5      , 0.5      , 0.5      ]])"
      ]
     },
     "execution_count": 8,
     "metadata": {},
     "output_type": "execute_result"
    }
   ],
   "source": [
    "sp.ED.pg.v"
   ]
  }
 ],
 "metadata": {
  "kernelspec": {
   "display_name": "ams",
   "language": "python",
   "name": "python3"
  },
  "language_info": {
   "codemirror_mode": {
    "name": "ipython",
    "version": 3
   },
   "file_extension": ".py",
   "mimetype": "text/x-python",
   "name": "python",
   "nbconvert_exporter": "python",
   "pygments_lexer": "ipython3",
   "version": "3.9.16"
  },
  "orig_nbformat": 4,
  "vscode": {
   "interpreter": {
    "hash": "d2b3bf80176349caa68dc4a3c77bd06eaade8abc678330f7d1c813c53380e5d2"
   }
  }
 },
 "nbformat": 4,
 "nbformat_minor": 2
}
