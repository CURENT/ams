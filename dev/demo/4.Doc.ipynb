{
 "cells": [
  {
   "attachments": {},
   "cell_type": "markdown",
   "metadata": {},
   "source": [
    "# Doc"
   ]
  },
  {
   "cell_type": "code",
   "execution_count": 1,
   "metadata": {},
   "outputs": [],
   "source": [
    "import numpy as np\n",
    "\n",
    "import andes\n",
    "import ams\n",
    "\n",
    "import cvxpy as cp"
   ]
  },
  {
   "cell_type": "code",
   "execution_count": 2,
   "metadata": {},
   "outputs": [
    {
     "data": {
      "text/plain": [
       "'0.6.5.post11.dev0+g3a06f12'"
      ]
     },
     "execution_count": 2,
     "metadata": {},
     "output_type": "execute_result"
    }
   ],
   "source": [
    "ams.__version__"
   ]
  },
  {
   "cell_type": "code",
   "execution_count": 3,
   "metadata": {},
   "outputs": [],
   "source": [
    "andes.config_logger(stream_level=10)"
   ]
  },
  {
   "cell_type": "code",
   "execution_count": 4,
   "metadata": {},
   "outputs": [
    {
     "name": "stderr",
     "output_type": "stream",
     "text": [
      "Working directory: \"/Users/jinningwang/Documents/work/ams/dev/demo\"\n",
      "Found files: ['/Users/jinningwang/Documents/work/mambaforge/envs/ams/lib/python3.9/site-packages/andes/cases/ieee14/ieee14_ace.xlsx']\n",
      "> Loaded config from file \"/Users/jinningwang/.andes/andes.rc\"\n",
      "> Loaded generated Python code in \"/Users/jinningwang/.andes/pycode\".\n",
      "Input format guessed as xlsx.\n",
      "Parsing input file \"/Users/jinningwang/Documents/work/mambaforge/envs/ams/lib/python3.9/site-packages/andes/cases/ieee14/ieee14_ace.xlsx\"...\n",
      "Input file parsed in 0.4415 seconds.\n",
      "Setting internal address for Bus\n",
      "Setting internal address for PQ\n",
      "Setting internal address for PV\n",
      "Setting internal address for Slack\n",
      "Setting internal address for Shunt\n",
      "Setting internal address for Line\n",
      "Setting internal address for Area\n",
      "System internal structure set up in 0.0266 seconds.\n"
     ]
    }
   ],
   "source": [
    "sa = andes.load(andes.get_case('ieee14/ieee14_ace.xlsx'),\n",
    "              setup=True,)"
   ]
  },
  {
   "cell_type": "code",
   "execution_count": 5,
   "metadata": {},
   "outputs": [],
   "source": [
    "ams.config_logger(stream_level=10)"
   ]
  },
  {
   "cell_type": "code",
   "execution_count": 6,
   "metadata": {},
   "outputs": [
    {
     "name": "stderr",
     "output_type": "stream",
     "text": [
      "Working directory: \"/Users/jinningwang/Documents/work/ams/dev/demo\"\n",
      "Found files: ['/Users/jinningwang/Documents/work/ams/ams/cases/ieee14/ieee14.xlsx']\n",
      "Input format guessed as xlsx.\n",
      "Parsing input file \"/Users/jinningwang/Documents/work/ams/ams/cases/ieee14/ieee14.xlsx\"...\n",
      "Input file parsed in 0.0417 seconds.\n",
      "Adjust bus index to start from 0.\n",
      "System set up in 0.0041 seconds.\n"
     ]
    }
   ],
   "source": [
    "sp = ams.load(ams.get_case('ieee14/ieee14.xlsx'), setup=True,)"
   ]
  },
  {
   "cell_type": "code",
   "execution_count": 7,
   "metadata": {},
   "outputs": [
    {
     "name": "stderr",
     "output_type": "stream",
     "text": [
      "- Generating symbols for RTED\n"
     ]
    }
   ],
   "source": [
    "sp.RTED.syms.generate_symbols()"
   ]
  },
  {
   "cell_type": "code",
   "execution_count": 8,
   "metadata": {},
   "outputs": [
    {
     "name": "stderr",
     "output_type": "stream",
     "text": [
      "tex_map: OrderedDict([('\\\\*\\\\*(\\\\d+)', '^{\\\\1}'), ('\\\\b(\\\\w+)\\\\s*\\\\*\\\\s*(\\\\w+)\\\\b', '\\\\1 \\\\2'), ('\\\\@', ' '), ('\\\\bpg\\\\b', 'p_{g}'), ('\\\\bpru\\\\b', 'p_{r,u}'), ('\\\\bprd\\\\b', 'p_{r,d}'), ('\\\\bc2\\\\b', 'c_{2}'), ('\\\\bc1\\\\b', 'c_{1}'), ('\\\\bc0\\\\b', 'c_{0}'), ('\\\\bpmax\\\\b', 'p_{max}'), ('\\\\bpmin\\\\b', 'p_{min}'), ('\\\\bpd1\\\\b', 'p_{d1}'), ('\\\\bpd2\\\\b', 'p_{d2}'), ('\\\\brate_a\\\\b', 'R_{ATEA}'), ('\\\\bPTDF1\\\\b', 'P_{TDF1}'), ('\\\\bPTDF2\\\\b', 'P_{TDF2}'), ('\\\\bcru\\\\b', 'c_{r,u}'), ('\\\\bcrd\\\\b', 'c_{r,d}'), ('\\\\bdu\\\\b', 'd_{u}'), ('\\\\bdd\\\\b', 'd_{d}'), ('\\\\bprs\\\\b', '\\\\sum'), ('\\\\bpg0\\\\b', 'p_{g0}'), ('\\\\bR10\\\\b', 'R_{10}')])\n",
      "pb expr after: sum(p_{d1}) + sum(p_{d2}) - sum(p_{g}) = 0\n",
      "lub expr after: P_{TDF1}   (p_{g} - p_{d1}) - P_{TDF2} p_{d2} - R_{ATEA} <= 0\n",
      "llb expr after: - P_{TDF1}   (p_{g} - p_{d1}) + P_{TDF2} p_{d2} - R_{ATEA} <= 0\n",
      "rbu expr after: \\sum   p_{r,u} - d_{u} = 0\n",
      "rbd expr after: \\sum   p_{r,d} - d_{d} = 0\n",
      "rru expr after: p_{g} + p_{r,u} - p_{max} <= 0\n",
      "rrd expr after: -p_{g} + p_{r,d} - p_{min} <= 0\n",
      "rgu expr after: p_{g} - p_{g0} - R_{10} <= 0\n",
      "rgd expr after: -p_{g} + p_{g0} - R_{10} <= 0\n"
     ]
    },
    {
     "data": {
      "text/plain": [
       "'Constraints\\n----------------------------------\\n\\n+------+----------------------------------+----------------------------------+\\n| Name |           Description            |            Expression            |\\n+======+==================================+==================================+\\n|  pb  | power balance                    | :math:`sum(p_{d1}) + sum(p_{d2}) |\\n|      |                                  | - sum(p_{g}) = 0`                |\\n+------+----------------------------------+----------------------------------+\\n|  lub | line limits upper bound          | :math:`P_{TDF1}   (p_{g} -       |\\n|      |                                  | p_{d1}) - P_{TDF2} p_{d2} -      |\\n|      |                                  | R_{ATEA} <= 0`                   |\\n+------+----------------------------------+----------------------------------+\\n|  llb | line limits lower bound          | :math:`- P_{TDF1}   (p_{g} -     |\\n|      |                                  | p_{d1}) + P_{TDF2} p_{d2} -      |\\n|      |                                  | R_{ATEA} <= 0`                   |\\n+------+----------------------------------+----------------------------------+\\n|  rbu | RegUp reserve balance            | :math:`\\\\sum   p_{r,u} - d_{u} =  |\\n|      |                                  | 0`                               |\\n+------+----------------------------------+----------------------------------+\\n|  rbd | RegDn reserve balance            | :math:`\\\\sum   p_{r,d} - d_{d} =  |\\n|      |                                  | 0`                               |\\n+------+----------------------------------+----------------------------------+\\n|  rru | RegUp reserve ramp               | :math:`p_{g} + p_{r,u} - p_{max} |\\n|      |                                  | <= 0`                            |\\n+------+----------------------------------+----------------------------------+\\n|  rrd | RegDn reserve ramp               | :math:`-p_{g} + p_{r,d} -        |\\n|      |                                  | p_{min} <= 0`                    |\\n+------+----------------------------------+----------------------------------+\\n|  rgu | ramp up limit of generator       | :math:`p_{g} - p_{g0} - R_{10}   |\\n|      | output                           | <= 0`                            |\\n+------+----------------------------------+----------------------------------+\\n|  rgd | ramp down limit of generator     | :math:`-p_{g} + p_{g0} - R_{10}  |\\n|      | output                           | <= 0`                            |\\n+------+----------------------------------+----------------------------------+\\n\\n'"
      ]
     },
     "execution_count": 8,
     "metadata": {},
     "output_type": "execute_result"
    }
   ],
   "source": [
    "sp.RTED.docum._constr_doc(max_width=78, export='rest')"
   ]
  },
  {
   "cell_type": "code",
   "execution_count": 9,
   "metadata": {},
   "outputs": [
    {
     "data": {
      "text/plain": [
       "'Objective\\n----------------------------------\\n\\n+------+----------------------------------+----------------------------------+\\n| Name |           Description            |            Expression            |\\n+======+==================================+==================================+\\n|  tc  | total generation and reserve     | :math:`min. \\\\sum(c_{2} p_{g}^{2} |\\n|      | cost                             | + c_{1} p_{g} + c_{0} + c_{r,u}  |\\n|      |                                  | p_{r,u} + c_{r,d} p_{r,d})`      |\\n+------+----------------------------------+----------------------------------+\\n\\n'"
      ]
     },
     "execution_count": 9,
     "metadata": {},
     "output_type": "execute_result"
    }
   ],
   "source": [
    "sp.RTED.docum._obj_doc(max_width=78, export='rest')"
   ]
  },
  {
   "cell_type": "code",
   "execution_count": 10,
   "metadata": {},
   "outputs": [
    {
     "data": {
      "text/plain": [
       "'Vars\\n----------------------------------\\n\\n+------+---------------+---------------+--------+---------------+------------+\\n| Name |    Symbol     |  Description  |  Unit  |    Source     | Properties |\\n+======+===============+===============+========+===============+============+\\n|  pg  | :math:`p_{g}` | active power  | *p.u.* | p<StaticGen>  |            |\\n|      |               | generation    |        |               |            |\\n|      |               | (system base) |        |               |            |\\n+------+---------------+---------------+--------+---------------+------------+\\n|  pru | :math:`p_{r,u | RegUp reserve | *p.u.* | pru<StaticGen | nonneg     |\\n|      | }`            | (system base) |        | >             |            |\\n+------+---------------+---------------+--------+---------------+------------+\\n|  prd | :math:`p_{r,d | RegDn reserve | *p.u.* | prd<StaticGen | nonneg     |\\n|      | }`            | (system base) |        | >             |            |\\n+------+---------------+---------------+--------+---------------+------------+\\n\\n'"
      ]
     },
     "execution_count": 10,
     "metadata": {},
     "output_type": "execute_result"
    }
   ],
   "source": [
    "sp.RTED.docum._var_doc(max_width=78, export='rest')"
   ]
  }
 ],
 "metadata": {
  "kernelspec": {
   "display_name": "ams",
   "language": "python",
   "name": "python3"
  },
  "language_info": {
   "codemirror_mode": {
    "name": "ipython",
    "version": 3
   },
   "file_extension": ".py",
   "mimetype": "text/x-python",
   "name": "python",
   "nbconvert_exporter": "python",
   "pygments_lexer": "ipython3",
   "version": "3.9.16"
  },
  "orig_nbformat": 4,
  "vscode": {
   "interpreter": {
    "hash": "d2b3bf80176349caa68dc4a3c77bd06eaade8abc678330f7d1c813c53380e5d2"
   }
  }
 },
 "nbformat": 4,
 "nbformat_minor": 2
}
