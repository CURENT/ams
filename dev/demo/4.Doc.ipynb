{
 "cells": [
  {
   "attachments": {},
   "cell_type": "markdown",
   "metadata": {},
   "source": [
    "# Doc"
   ]
  },
  {
   "cell_type": "code",
   "execution_count": 1,
   "metadata": {},
   "outputs": [],
   "source": [
    "import numpy as np\n",
    "\n",
    "import andes\n",
    "import ams\n",
    "\n",
    "import cvxpy as cp"
   ]
  },
  {
   "cell_type": "code",
   "execution_count": 2,
   "metadata": {},
   "outputs": [
    {
     "data": {
      "text/plain": [
       "'0.6.5.post18.dev0+gf9076bc'"
      ]
     },
     "execution_count": 2,
     "metadata": {},
     "output_type": "execute_result"
    }
   ],
   "source": [
    "ams.__version__"
   ]
  },
  {
   "cell_type": "code",
   "execution_count": 3,
   "metadata": {},
   "outputs": [],
   "source": [
    "andes.config_logger(stream_level=10)"
   ]
  },
  {
   "cell_type": "code",
   "execution_count": 4,
   "metadata": {},
   "outputs": [
    {
     "name": "stderr",
     "output_type": "stream",
     "text": [
      "Working directory: \"/Users/jinningwang/Documents/work/ams/dev/demo\"\n",
      "Found files: ['/Users/jinningwang/Documents/work/mambaforge/envs/ams/lib/python3.9/site-packages/andes/cases/ieee14/ieee14_ace.xlsx']\n",
      "> Loaded config from file \"/Users/jinningwang/.andes/andes.rc\"\n",
      "> Loaded generated Python code in \"/Users/jinningwang/.andes/pycode\".\n",
      "Input format guessed as xlsx.\n",
      "Parsing input file \"/Users/jinningwang/Documents/work/mambaforge/envs/ams/lib/python3.9/site-packages/andes/cases/ieee14/ieee14_ace.xlsx\"...\n",
      "Input file parsed in 0.3748 seconds.\n",
      "Setting internal address for Bus\n",
      "Setting internal address for PQ\n",
      "Setting internal address for PV\n",
      "Setting internal address for Slack\n",
      "Setting internal address for Shunt\n",
      "Setting internal address for Line\n",
      "Setting internal address for Area\n",
      "System internal structure set up in 0.0245 seconds.\n"
     ]
    }
   ],
   "source": [
    "sa = andes.load(andes.get_case('ieee14/ieee14_ace.xlsx'),\n",
    "              setup=True,)"
   ]
  },
  {
   "cell_type": "code",
   "execution_count": 5,
   "metadata": {},
   "outputs": [],
   "source": [
    "ams.config_logger(stream_level=10)"
   ]
  },
  {
   "cell_type": "code",
   "execution_count": 6,
   "metadata": {},
   "outputs": [
    {
     "name": "stderr",
     "output_type": "stream",
     "text": [
      "Working directory: \"/Users/jinningwang/Documents/work/ams/dev/demo\"\n",
      "Found files: ['/Users/jinningwang/Documents/work/ams/ams/cases/ieee14/ieee14.xlsx']\n",
      "ESD1: redefining <pqflag>. This is likely a modeling error.\n",
      "Input format guessed as xlsx.\n",
      "Parsing input file \"/Users/jinningwang/Documents/work/ams/ams/cases/ieee14/ieee14.xlsx\"...\n",
      "Input file parsed in 0.0397 seconds.\n",
      "Adjust bus index to start from 0.\n",
      "System set up in 0.0040 seconds.\n"
     ]
    }
   ],
   "source": [
    "sp = ams.load(ams.get_case('ieee14/ieee14.xlsx'), setup=True,)"
   ]
  },
  {
   "cell_type": "code",
   "execution_count": 7,
   "metadata": {},
   "outputs": [
    {
     "name": "stderr",
     "output_type": "stream",
     "text": [
      "- Generating symbols for RTED\n"
     ]
    }
   ],
   "source": [
    "sp.RTED.syms.generate_symbols()"
   ]
  },
  {
   "cell_type": "code",
   "execution_count": 8,
   "metadata": {},
   "outputs": [
    {
     "data": {
      "text/plain": [
       "OrderedDict([('sys_f', f_{sys}),\n",
       "             ('sys_mva', (S_{b, sys})),\n",
       "             (pg, p_{g}),\n",
       "             (pru, (p_{r, u})),\n",
       "             (prd, (p_{r, d})),\n",
       "             (c2, c_{2}),\n",
       "             (c1, c_{1}),\n",
       "             (c0, c_{0}),\n",
       "             (pmax, p_{max}),\n",
       "             (pmin, p_{min}),\n",
       "             (pd1, p_{d1}),\n",
       "             (pd2, p_{d2}),\n",
       "             (rate_a, R_{ATEA}),\n",
       "             (PTDF1, P_{TDF1}),\n",
       "             (PTDF2, P_{TDF2}),\n",
       "             (cru, (c_{r, u})),\n",
       "             (crd, (c_{r, d})),\n",
       "             (du, d_{u}),\n",
       "             (dd, d_{d}),\n",
       "             (prs, \\sum_{pr}),\n",
       "             (pg0, p_{g0}),\n",
       "             (R10, R_{10})])"
      ]
     },
     "execution_count": 8,
     "metadata": {},
     "output_type": "execute_result"
    }
   ],
   "source": [
    "sp.RTED.syms.tex_names"
   ]
  },
  {
   "cell_type": "code",
   "execution_count": 9,
   "metadata": {},
   "outputs": [
    {
     "name": "stderr",
     "output_type": "stream",
     "text": [
      "tex_map: OrderedDict([('\\\\*\\\\*(\\\\d+)', '^{\\\\1}'), ('\\\\b(\\\\w+)\\\\s*\\\\*\\\\s*(\\\\w+)\\\\b', '\\\\1 \\\\2'), ('\\\\@', ' ')])\n",
      "pb expr after: \\sum( pd1 ) +\\sum( pd2 ) - \\sum( pg ) = 0\n"
     ]
    },
    {
     "data": {
      "text/plain": [
       "'Constraints\\n----------------------------------\\n\\n+------+---------------+---------------------------------------------------+\\n| Name |  Description  |                    Expression                     |\\n+======+===============+===================================================+\\n|  pb  | power balance | :math:`\\\\sum( pd1 ) +\\\\sum( pd2 ) - \\\\sum( pg ) = 0` |\\n+------+---------------+---------------------------------------------------+\\n\\n'"
      ]
     },
     "execution_count": 9,
     "metadata": {},
     "output_type": "execute_result"
    }
   ],
   "source": [
    "sp.ACOPF.docum._constr_doc(max_width=78, export='rest')"
   ]
  }
 ],
 "metadata": {
  "kernelspec": {
   "display_name": "ams",
   "language": "python",
   "name": "python3"
  },
  "language_info": {
   "codemirror_mode": {
    "name": "ipython",
    "version": 3
   },
   "file_extension": ".py",
   "mimetype": "text/x-python",
   "name": "python",
   "nbconvert_exporter": "python",
   "pygments_lexer": "ipython3",
   "version": "3.9.16"
  },
  "orig_nbformat": 4,
  "vscode": {
   "interpreter": {
    "hash": "d2b3bf80176349caa68dc4a3c77bd06eaade8abc678330f7d1c813c53380e5d2"
   }
  }
 },
 "nbformat": 4,
 "nbformat_minor": 2
}
