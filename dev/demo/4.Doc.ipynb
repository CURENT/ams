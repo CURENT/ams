{
 "cells": [
  {
   "attachments": {},
   "cell_type": "markdown",
   "metadata": {},
   "source": [
    "# Doc"
   ]
  },
  {
   "cell_type": "code",
   "execution_count": 1,
   "metadata": {},
   "outputs": [],
   "source": [
    "import numpy as np\n",
    "\n",
    "import andes\n",
    "import ams\n",
    "\n",
    "import cvxpy as cp"
   ]
  },
  {
   "cell_type": "code",
   "execution_count": 2,
   "metadata": {},
   "outputs": [
    {
     "data": {
      "text/plain": [
       "'0.6.4.post38.dev0+gaa8bfca'"
      ]
     },
     "execution_count": 2,
     "metadata": {},
     "output_type": "execute_result"
    }
   ],
   "source": [
    "ams.__version__"
   ]
  },
  {
   "cell_type": "code",
   "execution_count": 3,
   "metadata": {},
   "outputs": [],
   "source": [
    "andes.config_logger(stream_level=10)"
   ]
  },
  {
   "cell_type": "code",
   "execution_count": 4,
   "metadata": {},
   "outputs": [
    {
     "name": "stderr",
     "output_type": "stream",
     "text": [
      "Working directory: \"/Users/jinningwang/Documents/work/ams/dev/demo\"\n",
      "Found files: ['/Users/jinningwang/Documents/work/mambaforge/envs/ams/lib/python3.9/site-packages/andes/cases/ieee14/ieee14_ace.xlsx']\n",
      "> Loaded config from file \"/Users/jinningwang/.andes/andes.rc\"\n",
      "> Loaded generated Python code in \"/Users/jinningwang/.andes/pycode\".\n",
      "Input format guessed as xlsx.\n",
      "Parsing input file \"/Users/jinningwang/Documents/work/mambaforge/envs/ams/lib/python3.9/site-packages/andes/cases/ieee14/ieee14_ace.xlsx\"...\n",
      "Input file parsed in 0.6034 seconds.\n",
      "Setting internal address for Bus\n",
      "Setting internal address for PQ\n",
      "Setting internal address for PV\n",
      "Setting internal address for Slack\n",
      "Setting internal address for Shunt\n",
      "Setting internal address for Line\n",
      "Setting internal address for Area\n",
      "System internal structure set up in 0.0399 seconds.\n"
     ]
    }
   ],
   "source": [
    "sa = andes.load(andes.get_case('ieee14/ieee14_ace.xlsx'),\n",
    "              setup=True,)"
   ]
  },
  {
   "cell_type": "code",
   "execution_count": 5,
   "metadata": {},
   "outputs": [],
   "source": [
    "ams.config_logger(stream_level=10)"
   ]
  },
  {
   "cell_type": "code",
   "execution_count": 6,
   "metadata": {},
   "outputs": [
    {
     "name": "stderr",
     "output_type": "stream",
     "text": [
      "Working directory: \"/Users/jinningwang/Documents/work/ams/dev/demo\"\n",
      "Found files: ['/Users/jinningwang/Documents/work/ams/ams/cases/matpower/case14.m']\n",
      "Input format guessed as matpower.\n",
      "Parsing input file \"/Users/jinningwang/Documents/work/ams/ams/cases/matpower/case14.m\"...\n",
      "Detected raw file encoding: {'encoding': 'ascii', 'confidence': 1.0, 'language': ''}\n",
      "CASE14    Power flow data for IEEE 14 bus test case.\n",
      "Input file parsed in 0.0072 seconds.\n",
      "Line rate_a is corrected to large value automatically.\n",
      "Adjusting the bus index to start from 0.\n",
      "System set up in 0.0034 seconds.\n"
     ]
    }
   ],
   "source": [
    "case1 = ams.get_case('matpower/case14.m')\n",
    "case2 = ams.get_case('ieee14/ieee14.xlsx')\n",
    "case3 = ams.get_case('matpower/case_ACTIVSg2000.m')\n",
    "sp = ams.load(case1, setup=True,)"
   ]
  },
  {
   "cell_type": "code",
   "execution_count": 7,
   "metadata": {},
   "outputs": [
    {
     "data": {
      "text/plain": [
       "tc: sum(c2 * pg**2 + c1 * pg + c0)"
      ]
     },
     "execution_count": 7,
     "metadata": {},
     "output_type": "execute_result"
    }
   ],
   "source": [
    "sp.DCOPF.obj"
   ]
  },
  {
   "cell_type": "code",
   "execution_count": 8,
   "metadata": {},
   "outputs": [
    {
     "data": {
      "text/plain": [
       "'sum(pd) - sum(pg)'"
      ]
     },
     "execution_count": 8,
     "metadata": {},
     "output_type": "execute_result"
    }
   ],
   "source": [
    "sp.DCOPF.constrs['pb'].e_str"
   ]
  },
  {
   "cell_type": "code",
   "execution_count": 9,
   "metadata": {},
   "outputs": [
    {
     "data": {
      "text/plain": [
       "OrderedDict([('pb', pb: sum(pd) - sum(pg)),\n",
       "             ('lub', lub: PTDF1 @ (pg - pd1) - PTDF2 * pd2 - rate_a),\n",
       "             ('llb', llb: - PTDF1 @ (pg - pd1) + PTDF2 * pd2 - rate_a)])"
      ]
     },
     "execution_count": 9,
     "metadata": {},
     "output_type": "execute_result"
    }
   ],
   "source": [
    "sp.DCOPF.docum.constrs"
   ]
  },
  {
   "cell_type": "code",
   "execution_count": 10,
   "metadata": {},
   "outputs": [
    {
     "data": {
      "text/plain": [
       "'Objective\\n----------------------------------\\n\\n+------+---------------+-----------------------+\\n| Name |    Symbol     |      Description      |\\n+======+===============+=======================+\\n|  tc  | :math:`p_{g}` | total generation cost |\\n+------+---------------+-----------------------+\\n\\n'"
      ]
     },
     "execution_count": 10,
     "metadata": {},
     "output_type": "execute_result"
    }
   ],
   "source": [
    "sp.DCOPF.docum._obj_doc(max_width=78, export='rest')"
   ]
  },
  {
   "cell_type": "code",
   "execution_count": 11,
   "metadata": {},
   "outputs": [
    {
     "data": {
      "text/plain": [
       "'.. _ACED:\\n\\n================================================================================\\nACED\\n================================================================================\\nType for ACOPF-based routines.\\n\\nCommon Routine Parameters: c2, c1, c0, pmax, pmin, pd, rate_a, qd\\n\\nCommon Routine Algebs: pg, aBus, vBus, qg\\n\\nCommon Constraints: pb, lub, llb\\n\\nAvailable routines:\\nACOPF_\\n\\n.. _ACOPF:\\n\\n--------------------------------------------------------------------------------\\nACOPF\\n--------------------------------------------------------------------------------\\nAC Optimal Power Flow routine.\\n\\nRoutine Algebs\\n----------------------------------\\n\\n+-------+-----------------+---------------------------+--------+\\n| Name  |     Symbol      |        Description        |  Unit  |\\n+=======+=================+===========================+========+\\n|  aBus | :math:`a_{Bus}` | bus voltage angle         | *rad*  |\\n+-------+-----------------+---------------------------+--------+\\n|  vBus | :math:`v_{Bus}` | bus voltage magnitude     | *p.u.* |\\n+-------+-----------------+---------------------------+--------+\\n|  pg   | :math:`p_{g}`   | active power generation   | *p.u.* |\\n+-------+-----------------+---------------------------+--------+\\n|  qg   | :math:`q_{g}`   | reactive power generation | *p.u.* |\\n+-------+-----------------+---------------------------+--------+\\n\\nRoutine Parameters\\n----------------------------------\\n\\n+---------+------------------+-------------------------------------------------+--------------+\\n|  Name   |      Symbol      |                   Description                   |     Unit     |\\n+=========+==================+=================================================+==============+\\n|  c2     | :math:`c_{2}`    | Gen cost coefficient 2                          | *$/(p.u.^2)* |\\n+---------+------------------+-------------------------------------------------+--------------+\\n|  c1     | :math:`c_{1}`    | Gen cost coefficient 1                          | *$/(p.u.^2)* |\\n+---------+------------------+-------------------------------------------------+--------------+\\n|  c0     | :math:`c_{0}`    | Gen cost coefficient 0                          | *$/(p.u.^2)* |\\n+---------+------------------+-------------------------------------------------+--------------+\\n|  pmax   | :math:`p_{max}`  | generator maximum active power in system base   | *p.u.*       |\\n+---------+------------------+-------------------------------------------------+--------------+\\n|  pmin   | :math:`p_{min}`  | generator minimum active power in system base   | *p.u.*       |\\n+---------+------------------+-------------------------------------------------+--------------+\\n|  pd     | :math:`p_{d}`    | active power load in system base                | *p.u.*       |\\n+---------+------------------+-------------------------------------------------+--------------+\\n|  pd1    | :math:`p_{d1}`   | active power load in system base in gen bus     | *p.u.*       |\\n+---------+------------------+-------------------------------------------------+--------------+\\n|  pd2    | :math:`p_{d2}`   | active power load in system base in non-gen bus | *p.u.*       |\\n+---------+------------------+-------------------------------------------------+--------------+\\n|  rate_a | :math:`R_{ATEA}` | long-term flow limit flow limit                 | *MVA*        |\\n+---------+------------------+-------------------------------------------------+--------------+\\n|  PTDF1  | :math:`P_{TDF1}` | PTDF matrix 1                                   |              |\\n+---------+------------------+-------------------------------------------------+--------------+\\n|  PTDF2  | :math:`P_{TDF2}` | PTDF matrix 2                                   |              |\\n+---------+------------------+-------------------------------------------------+--------------+\\n|  qd     | :math:`q_{d}`    | reactive power load in system base              | *p.u.*       |\\n+---------+------------------+-------------------------------------------------+--------------+\\n\\n\\n'"
      ]
     },
     "execution_count": 11,
     "metadata": {},
     "output_type": "execute_result"
    }
   ],
   "source": [
    "sp.ACED.doc_all(export='rest')"
   ]
  },
  {
   "cell_type": "code",
   "execution_count": 12,
   "metadata": {},
   "outputs": [
    {
     "data": {
      "text/plain": [
       "'Routine <ACOPF> in Type <ACED>\\nAC Optimal Power Flow routine.\\n\\nRoutine Algebs\\n\\nName  |        Description        | Unit\\n------+---------------------------+-----\\n aBus | bus voltage angle         | rad \\n vBus | bus voltage magnitude     | p.u.\\n pg   | active power generation   | p.u.\\n qg   | reactive power generation | p.u.\\n\\nRoutine Parameters\\n\\n Name   |                   Description                   |    Unit   \\n--------+-------------------------------------------------+-----------\\n c2     | Gen cost coefficient 2                          | $/(p.u.^2)\\n c1     | Gen cost coefficient 1                          | $/(p.u.^2)\\n c0     | Gen cost coefficient 0                          | $/(p.u.^2)\\n pmax   | generator maximum active power in system base   | p.u.      \\n pmin   | generator minimum active power in system base   | p.u.      \\n pd     | active power load in system base                | p.u.      \\n pd1    | active power load in system base in gen bus     | p.u.      \\n pd2    | active power load in system base in non-gen bus | p.u.      \\n rate_a | long-term flow limit flow limit                 | MVA       \\n PTDF1  | PTDF matrix 1                                   |           \\n PTDF2  | PTDF matrix 2                                   |           \\n qd     | reactive power load in system base              | p.u.      \\n\\n'"
      ]
     },
     "execution_count": 12,
     "metadata": {},
     "output_type": "execute_result"
    }
   ],
   "source": [
    "sp.ACOPF.doc()"
   ]
  },
  {
   "cell_type": "code",
   "execution_count": 13,
   "metadata": {},
   "outputs": [
    {
     "data": {
      "text/plain": [
       "'Supported Types and Routines\\n\\nType  |  Routines  \\n------+------------\\n ACED | ACOPF      \\n DCED | DCOPF      \\n PF   | DCPF, PFlow\\n\\n'"
      ]
     },
     "execution_count": 13,
     "metadata": {},
     "output_type": "execute_result"
    }
   ],
   "source": [
    "sp.supported_routines()"
   ]
  }
 ],
 "metadata": {
  "kernelspec": {
   "display_name": "ams",
   "language": "python",
   "name": "python3"
  },
  "language_info": {
   "codemirror_mode": {
    "name": "ipython",
    "version": 3
   },
   "file_extension": ".py",
   "mimetype": "text/x-python",
   "name": "python",
   "nbconvert_exporter": "python",
   "pygments_lexer": "ipython3",
   "version": "3.9.16"
  },
  "orig_nbformat": 4,
  "vscode": {
   "interpreter": {
    "hash": "d2b3bf80176349caa68dc4a3c77bd06eaade8abc678330f7d1c813c53380e5d2"
   }
  }
 },
 "nbformat": 4,
 "nbformat_minor": 2
}
