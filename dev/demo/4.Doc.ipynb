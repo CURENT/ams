{
 "cells": [
  {
   "attachments": {},
   "cell_type": "markdown",
   "metadata": {},
   "source": [
    "# Doc"
   ]
  },
  {
   "cell_type": "code",
   "execution_count": 1,
   "metadata": {},
   "outputs": [],
   "source": [
    "import numpy as np\n",
    "\n",
    "import andes\n",
    "import ams\n",
    "\n",
    "import cvxpy as cp"
   ]
  },
  {
   "cell_type": "code",
   "execution_count": 2,
   "metadata": {},
   "outputs": [
    {
     "data": {
      "text/plain": [
       "'0.6.5.post8.dev0+g7e0b427'"
      ]
     },
     "execution_count": 2,
     "metadata": {},
     "output_type": "execute_result"
    }
   ],
   "source": [
    "ams.__version__"
   ]
  },
  {
   "cell_type": "code",
   "execution_count": 3,
   "metadata": {},
   "outputs": [],
   "source": [
    "andes.config_logger(stream_level=10)"
   ]
  },
  {
   "cell_type": "code",
   "execution_count": 4,
   "metadata": {},
   "outputs": [
    {
     "name": "stderr",
     "output_type": "stream",
     "text": [
      "Working directory: \"/home/jwang/work/ams/dev/demo\"\n",
      "Found files: ['/home/jwang/.local/lib/python3.10/site-packages/andes/cases/ieee14/ieee14_ace.xlsx']\n",
      "> Loaded config from file \"/home/jwang/.andes/andes.rc\"\n",
      "> Loaded generated Python code in \"/home/jwang/.andes/pycode\".\n",
      "Input format guessed as xlsx.\n",
      "Parsing input file \"/home/jwang/.local/lib/python3.10/site-packages/andes/cases/ieee14/ieee14_ace.xlsx\"...\n",
      "Input file parsed in 0.4600 seconds.\n",
      "Setting internal address for Bus\n",
      "Setting internal address for PQ\n",
      "Setting internal address for PV\n",
      "Setting internal address for Slack\n",
      "Setting internal address for Shunt\n",
      "Setting internal address for Line\n",
      "Setting internal address for Area\n",
      "System internal structure set up in 0.0544 seconds.\n"
     ]
    }
   ],
   "source": [
    "sa = andes.load(andes.get_case('ieee14/ieee14_ace.xlsx'),\n",
    "              setup=True,)"
   ]
  },
  {
   "cell_type": "code",
   "execution_count": 5,
   "metadata": {},
   "outputs": [],
   "source": [
    "ams.config_logger(stream_level=10)"
   ]
  },
  {
   "cell_type": "code",
   "execution_count": 6,
   "metadata": {},
   "outputs": [
    {
     "name": "stderr",
     "output_type": "stream",
     "text": [
      "Working directory: \"/home/jwang/work/ams/dev/demo\"\n",
      "Found files: ['/home/jwang/work/ams/ams/cases/ieee14/ieee14.xlsx']\n",
      "Input format guessed as xlsx.\n",
      "Parsing input file \"/home/jwang/work/ams/ams/cases/ieee14/ieee14.xlsx\"...\n",
      "Input file parsed in 0.0993 seconds.\n",
      "Adjust bus index to start from 0.\n",
      "System set up in 0.0175 seconds.\n"
     ]
    }
   ],
   "source": [
    "sp = ams.load(ams.get_case('ieee14/ieee14.xlsx'), setup=True,)"
   ]
  },
  {
   "cell_type": "code",
   "execution_count": 7,
   "metadata": {},
   "outputs": [
    {
     "name": "stderr",
     "output_type": "stream",
     "text": [
      "- Generating symbols for DCOPF\n",
      "sub_map: OrderedDict([('\\\\b(\\\\w+)\\\\s*\\\\*\\\\s*(\\\\w+)\\\\b', '\\\\1 @ \\\\2'), ('\\\\bsum\\\\b', 'cp.sum'), ('\\\\bvar\\\\b', 'cp.Variable'), ('\\\\bproblem\\\\b', 'cp.Problem'), ('\\\\bpg\\\\b', 'self.pg'), ('\\\\bc2\\\\b', 'self.routine.c2.v'), ('\\\\bc1\\\\b', 'self.routine.c1.v'), ('\\\\bc0\\\\b', 'self.routine.c0.v'), ('\\\\bpmax\\\\b', 'self.routine.pmax.v'), ('\\\\bpmin\\\\b', 'self.routine.pmin.v'), ('\\\\bpd1\\\\b', 'self.routine.pd1.v'), ('\\\\bpd2\\\\b', 'self.routine.pd2.v'), ('\\\\brate_a\\\\b', 'self.routine.rate_a.v'), ('\\\\bPTDF1\\\\b', 'self.routine.PTDF1.v'), ('\\\\bPTDF2\\\\b', 'self.routine.PTDF2.v')])\n"
     ]
    },
    {
     "data": {
      "text/plain": [
       "'Objective\\n----------------------------------\\n\\n+------+-------------+---------------+\\n| Name | Description |  Expression   |\\n+======+=============+===============+\\n|  tc  | total cost  | :math:`p_{g}` |\\n+------+-------------+---------------+\\n\\n'"
      ]
     },
     "execution_count": 7,
     "metadata": {},
     "output_type": "execute_result"
    }
   ],
   "source": [
    "sp.DCOPF.docum._obj_doc(max_width=78, export='rest')"
   ]
  },
  {
   "cell_type": "code",
   "execution_count": 8,
   "metadata": {},
   "outputs": [
    {
     "data": {
      "text/plain": [
       "'sum(c2 * pg**2 + c1 * pg + c0)'"
      ]
     },
     "execution_count": 8,
     "metadata": {},
     "output_type": "execute_result"
    }
   ],
   "source": [
    "sp.DCOPF.obj.e_str"
   ]
  },
  {
   "cell_type": "code",
   "execution_count": 9,
   "metadata": {},
   "outputs": [
    {
     "data": {
      "text/plain": [
       "OrderedDict([('pg', pg),\n",
       "             ('c2', c2),\n",
       "             ('c1', c1),\n",
       "             ('c0', c0),\n",
       "             ('pmax', pmax),\n",
       "             ('pmin', pmin),\n",
       "             ('pd1', pd1),\n",
       "             ('pd2', pd2),\n",
       "             ('rate_a', rate_a),\n",
       "             ('PTDF1', PTDF1),\n",
       "             ('PTDF2', PTDF2),\n",
       "             ('sparselib', sparselib),\n",
       "             ('linsolve', linsolve),\n",
       "             ('sys_f', sys_f),\n",
       "             ('sys_mva', sys_mva)])"
      ]
     },
     "execution_count": 9,
     "metadata": {},
     "output_type": "execute_result"
    }
   ],
   "source": [
    "sp.DCOPF.syms.inputs_dict"
   ]
  },
  {
   "cell_type": "code",
   "execution_count": 10,
   "metadata": {},
   "outputs": [],
   "source": [
    "import sympy as syp\n",
    "obj = sp.DCOPF.obj.e_str\n",
    "expression = syp.sympify('c2 * pg**2 + c1 * pg + c0')"
   ]
  },
  {
   "cell_type": "code",
   "execution_count": 11,
   "metadata": {},
   "outputs": [
    {
     "data": {
      "text/plain": [
       "OrderedDict([('\\\\b(\\\\w+)\\\\s*\\\\*\\\\s*(\\\\w+)\\\\b', '\\\\1 * \\\\2'),\n",
       "             ('sum', '\\\\sum'),\n",
       "             ('\\\\bpg\\\\b', 'p_{g}'),\n",
       "             ('\\\\bc2\\\\b', 'c_{2}'),\n",
       "             ('\\\\bc1\\\\b', 'c_{1}'),\n",
       "             ('\\\\bc0\\\\b', 'c_{0}'),\n",
       "             ('\\\\bpmax\\\\b', 'p_{max}'),\n",
       "             ('\\\\bpmin\\\\b', 'p_{min}'),\n",
       "             ('\\\\bpd1\\\\b', 'p_{d1}'),\n",
       "             ('\\\\bpd2\\\\b', 'p_{d2}'),\n",
       "             ('\\\\brate_a\\\\b', 'R_{ATEA}'),\n",
       "             ('\\\\bPTDF1\\\\b', 'P_{TDF1}'),\n",
       "             ('\\\\bPTDF2\\\\b', 'P_{TDF2}')])"
      ]
     },
     "execution_count": 11,
     "metadata": {},
     "output_type": "execute_result"
    }
   ],
   "source": [
    "sp.DCOPF.syms.tex_map"
   ]
  },
  {
   "cell_type": "code",
   "execution_count": 12,
   "metadata": {},
   "outputs": [
    {
     "data": {
      "text/plain": [
       "'sum(c2 * pg**2 + c1 * pg + c0)'"
      ]
     },
     "execution_count": 12,
     "metadata": {},
     "output_type": "execute_result"
    }
   ],
   "source": [
    "sp.DCOPF.obj.e_str"
   ]
  },
  {
   "cell_type": "code",
   "execution_count": 17,
   "metadata": {},
   "outputs": [
    {
     "data": {
      "text/plain": [
       "'\\\\sum(c_{2} * p_{g}**2 + c_{1} * p_{g} + c_{0})'"
      ]
     },
     "execution_count": 17,
     "metadata": {},
     "output_type": "execute_result"
    }
   ],
   "source": [
    "import re\n",
    "obj = sp.DCOPF.obj.e_str\n",
    "for pattern, replacement in sp.DCOPF.syms.tex_map.items():\n",
    "    obj = re.sub(pattern, replacement, obj)\n",
    "\n",
    "obj"
   ]
  },
  {
   "cell_type": "code",
   "execution_count": null,
   "metadata": {},
   "outputs": [],
   "source": [
    "andes.utils.tab.math_wrap(['\\\\sum(c_{2} * p_{g}**2 + c_{1} * p_{g} + c_{0})'], export='rest')"
   ]
  },
  {
   "cell_type": "code",
   "execution_count": null,
   "metadata": {},
   "outputs": [],
   "source": [
    "syp.substitution"
   ]
  },
  {
   "cell_type": "code",
   "execution_count": null,
   "metadata": {},
   "outputs": [],
   "source": [
    "tex_map = sp.DCOPF.syms.tex_map\n",
    "expression = sum(symbol * expr for symbol, expr in zip(tex_map.keys(), tex_map.values()))"
   ]
  },
  {
   "cell_type": "code",
   "execution_count": null,
   "metadata": {},
   "outputs": [],
   "source": [
    "import sympy as syp\n",
    "syp.sympify('c2 * pg**2 + c1 * pg + c0')"
   ]
  },
  {
   "cell_type": "code",
   "execution_count": null,
   "metadata": {},
   "outputs": [],
   "source": []
  },
  {
   "cell_type": "code",
   "execution_count": null,
   "metadata": {},
   "outputs": [],
   "source": [
    "sp.DCOPF.constrs['pb'].e_str"
   ]
  },
  {
   "cell_type": "code",
   "execution_count": null,
   "metadata": {},
   "outputs": [],
   "source": [
    "sp.DCOPF.docum.constrs"
   ]
  },
  {
   "cell_type": "code",
   "execution_count": null,
   "metadata": {},
   "outputs": [],
   "source": [
    "sa.GENROU.Pe.v_str"
   ]
  },
  {
   "cell_type": "code",
   "execution_count": null,
   "metadata": {},
   "outputs": [],
   "source": [
    "sp.DCOPF.pg.src"
   ]
  },
  {
   "cell_type": "code",
   "execution_count": null,
   "metadata": {},
   "outputs": [],
   "source": [
    "sp.DCOPF.pg.owner.class_name"
   ]
  },
  {
   "cell_type": "code",
   "execution_count": null,
   "metadata": {},
   "outputs": [],
   "source": [
    "sp.DCOPF.docum._var_doc(max_width=78, export='rest')"
   ]
  },
  {
   "cell_type": "code",
   "execution_count": null,
   "metadata": {},
   "outputs": [],
   "source": [
    "sp.DCOPF.setup()"
   ]
  },
  {
   "cell_type": "code",
   "execution_count": null,
   "metadata": {},
   "outputs": [],
   "source": [
    "sp.DCOPF.syms.sub_map"
   ]
  },
  {
   "cell_type": "code",
   "execution_count": null,
   "metadata": {},
   "outputs": [],
   "source": [
    "sp.DCOPF.obj.e_str"
   ]
  },
  {
   "cell_type": "code",
   "execution_count": null,
   "metadata": {},
   "outputs": [],
   "source": [
    "sp.DCOPF.docum._obj_doc(max_width=78, export='rest')"
   ]
  },
  {
   "cell_type": "code",
   "execution_count": null,
   "metadata": {},
   "outputs": [],
   "source": [
    "sp.ACED.doc_all(export='rest')"
   ]
  },
  {
   "cell_type": "code",
   "execution_count": null,
   "metadata": {},
   "outputs": [],
   "source": [
    "sp.ACOPF.doc()"
   ]
  },
  {
   "cell_type": "code",
   "execution_count": null,
   "metadata": {},
   "outputs": [],
   "source": [
    "sp.supported_routines()"
   ]
  }
 ],
 "metadata": {
  "kernelspec": {
   "display_name": "ams",
   "language": "python",
   "name": "python3"
  },
  "language_info": {
   "codemirror_mode": {
    "name": "ipython",
    "version": 3
   },
   "file_extension": ".py",
   "mimetype": "text/x-python",
   "name": "python",
   "nbconvert_exporter": "python",
   "pygments_lexer": "ipython3",
   "version": "3.10.11"
  },
  "orig_nbformat": 4,
  "vscode": {
   "interpreter": {
    "hash": "d2b3bf80176349caa68dc4a3c77bd06eaade8abc678330f7d1c813c53380e5d2"
   }
  }
 },
 "nbformat": 4,
 "nbformat_minor": 2
}
