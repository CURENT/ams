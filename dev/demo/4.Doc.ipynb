{
 "cells": [
  {
   "attachments": {},
   "cell_type": "markdown",
   "metadata": {},
   "source": [
    "# Doc"
   ]
  },
  {
   "cell_type": "code",
   "execution_count": 1,
   "metadata": {},
   "outputs": [],
   "source": [
    "import numpy as np\n",
    "\n",
    "import andes\n",
    "import ams\n",
    "\n",
    "import cvxpy as cp"
   ]
  },
  {
   "cell_type": "code",
   "execution_count": 2,
   "metadata": {},
   "outputs": [
    {
     "data": {
      "text/plain": [
       "'0.6.4.post11+gf7362ec'"
      ]
     },
     "execution_count": 2,
     "metadata": {},
     "output_type": "execute_result"
    }
   ],
   "source": [
    "ams.__version__"
   ]
  },
  {
   "cell_type": "code",
   "execution_count": 3,
   "metadata": {},
   "outputs": [],
   "source": [
    "andes.config_logger(stream_level=10)"
   ]
  },
  {
   "cell_type": "code",
   "execution_count": 4,
   "metadata": {},
   "outputs": [
    {
     "name": "stderr",
     "output_type": "stream",
     "text": [
      "Working directory: \"/Users/jinningwang/Documents/work/ams/dev/demo\"\n",
      "Found files: ['/Users/jinningwang/Documents/work/mambaforge/envs/ams/lib/python3.9/site-packages/andes/cases/ieee14/ieee14_ace.xlsx']\n",
      "> Loaded config from file \"/Users/jinningwang/.andes/andes.rc\"\n",
      "> Loaded generated Python code in \"/Users/jinningwang/.andes/pycode\".\n",
      "Input format guessed as xlsx.\n",
      "Parsing input file \"/Users/jinningwang/Documents/work/mambaforge/envs/ams/lib/python3.9/site-packages/andes/cases/ieee14/ieee14_ace.xlsx\"...\n",
      "Input file parsed in 0.3826 seconds.\n",
      "Setting internal address for Bus\n",
      "Setting internal address for PQ\n",
      "Setting internal address for PV\n",
      "Setting internal address for Slack\n",
      "Setting internal address for Shunt\n",
      "Setting internal address for Line\n",
      "Setting internal address for Area\n",
      "System internal structure set up in 0.0249 seconds.\n"
     ]
    }
   ],
   "source": [
    "sa = andes.load(andes.get_case('ieee14/ieee14_ace.xlsx'),\n",
    "              setup=True,)"
   ]
  },
  {
   "cell_type": "code",
   "execution_count": 5,
   "metadata": {},
   "outputs": [],
   "source": [
    "ams.config_logger(stream_level=10)"
   ]
  },
  {
   "cell_type": "code",
   "execution_count": 6,
   "metadata": {},
   "outputs": [
    {
     "name": "stderr",
     "output_type": "stream",
     "text": [
      "Working directory: \"/Users/jinningwang/Documents/work/ams/dev/demo\"\n",
      "Found files: ['/Users/jinningwang/Documents/work/ams/ams/cases/matpower/case14.m']\n",
      "Input format guessed as matpower.\n",
      "Parsing input file \"/Users/jinningwang/Documents/work/ams/ams/cases/matpower/case14.m\"...\n",
      "Detected raw file encoding: {'encoding': 'ascii', 'confidence': 1.0, 'language': ''}\n",
      "CASE14    Power flow data for IEEE 14 bus test case.\n",
      "Input file parsed in 0.0056 seconds.\n",
      "Line rate_a is corrected to large value automatically.\n",
      "Adjusting the bus index to start from 0.\n",
      "System set up in 0.0029 seconds.\n"
     ]
    }
   ],
   "source": [
    "case1 = ams.get_case('matpower/case14.m')\n",
    "case2 = ams.get_case('ieee14/ieee14.xlsx')\n",
    "case3 = ams.get_case('matpower/case_ACTIVSg2000.m')\n",
    "sp = ams.load(case1, setup=True,)"
   ]
  },
  {
   "cell_type": "code",
   "execution_count": 7,
   "metadata": {},
   "outputs": [
    {
     "data": {
      "text/plain": [
       "'Supported Groups and Models\\n\\n   Group     |  Models  \\n-------------+----------\\n ACLine      | Line     \\n ACTopology  | Bus      \\n Collection  | Area     \\n Cost        | GCost    \\n Information | Summary  \\n StaticGen   | PV, Slack\\n StaticLoad  | PQ       \\n StaticShunt | Shunt    \\n\\n'"
      ]
     },
     "execution_count": 7,
     "metadata": {},
     "output_type": "execute_result"
    }
   ],
   "source": [
    "sp.supported_models()"
   ]
  },
  {
   "cell_type": "code",
   "execution_count": 8,
   "metadata": {},
   "outputs": [
    {
     "data": {
      "text/plain": [
       "'Model <Bus> in Group <ACTopology>\\nAC Bus model.\\n\\nParameters\\n\\n Name   |         Description         | Default | Unit | Properties\\n--------+-----------------------------+---------+------+-----------\\n idx    | unique device idx           |         |      |           \\n u      | connection status           | 1       | bool |           \\n name   | device name                 |         |      |           \\n Vn     | AC voltage rating           | 110     | kV   | non_zero  \\n vmax   | Voltage upper limit         | 1.100   | p.u. |           \\n vmin   | Voltage lower limit         | 0.900   | p.u. |           \\n v0     | initial voltage magnitude   | 1       | p.u. | non_zero  \\n a0     | initial voltage phase angle | 0       | rad  |           \\n xcoord | x coordinate (longitude)    | 0       |      |           \\n ycoord | y coordinate (latitude)     | 0       |      |           \\n area   | Area code                   |         |      |           \\n zone   | Zone code                   |         |      |           \\n owner  | Owner code                  |         |      |           \\n\\n\\nConfig Fields in [Bus]\\n\\n   Option     | Value | Info | Acceptable values\\n--------------+-------+------+------------------\\n allow_adjust | 1     |      |                  \\n adjust_lower | 0     |      |                  \\n adjust_upper | 1     |      |                  \\n\\n'"
      ]
     },
     "execution_count": 8,
     "metadata": {},
     "output_type": "execute_result"
    }
   ],
   "source": [
    "sp.Bus.doc()"
   ]
  },
  {
   "cell_type": "code",
   "execution_count": 9,
   "metadata": {},
   "outputs": [
    {
     "name": "stdout",
     "output_type": "stream",
     "text": [
      "python: can't open file '/home/jwang/work/ams/docs/source/genmodelref.py': [Errno 2] No such file or directory\n"
     ]
    }
   ],
   "source": [
    "!python /home/jwang/work/ams/docs/source/genmodelref.py"
   ]
  }
 ],
 "metadata": {
  "kernelspec": {
   "display_name": "ams",
   "language": "python",
   "name": "python3"
  },
  "language_info": {
   "codemirror_mode": {
    "name": "ipython",
    "version": 3
   },
   "file_extension": ".py",
   "mimetype": "text/x-python",
   "name": "python",
   "nbconvert_exporter": "python",
   "pygments_lexer": "ipython3",
   "version": "3.9.16"
  },
  "orig_nbformat": 4,
  "vscode": {
   "interpreter": {
    "hash": "d2b3bf80176349caa68dc4a3c77bd06eaade8abc678330f7d1c813c53380e5d2"
   }
  }
 },
 "nbformat": 4,
 "nbformat_minor": 2
}
