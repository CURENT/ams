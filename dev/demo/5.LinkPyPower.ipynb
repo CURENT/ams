{
 "cells": [
  {
   "attachments": {},
   "cell_type": "markdown",
   "metadata": {},
   "source": [
    "#  Link PyPower"
   ]
  },
  {
   "cell_type": "code",
   "execution_count": 1,
   "metadata": {},
   "outputs": [
    {
     "name": "stdout",
     "output_type": "stream",
     "text": [
      "0.5+72.g1518a2f.dirty\n",
      "1.8.5\n"
     ]
    }
   ],
   "source": [
    "import ams\n",
    "import andes\n",
    "\n",
    "print(ams.__version__)\n",
    "print(andes.__version__)"
   ]
  },
  {
   "cell_type": "code",
   "execution_count": 2,
   "metadata": {},
   "outputs": [
    {
     "data": {
      "text/plain": [
       "dict_keys(['version', 'baseMVA', 'bus', 'gen', 'branch', 'gencost'])"
      ]
     },
     "execution_count": 2,
     "metadata": {},
     "output_type": "execute_result"
    }
   ],
   "source": [
    "# NOTE: get a pypower case\n",
    "from ams.solver.pypower.interface import ppi\n",
    "\n",
    "spp = ppi()\n",
    "spp.from_ppc(ams.get_case('pypower/case14.py'))\n",
    "ppc = spp.ppc\n",
    "\n",
    "ppc.keys()"
   ]
  },
  {
   "cell_type": "code",
   "execution_count": 3,
   "metadata": {},
   "outputs": [],
   "source": [
    "sa = andes.load(andes.get_case('ieee14/ieee14_ace.xlsx'),\n",
    "                no_output=True,\n",
    "                setup=True,)"
   ]
  },
  {
   "cell_type": "code",
   "execution_count": 4,
   "metadata": {},
   "outputs": [
    {
     "ename": "AttributeError",
     "evalue": "'ModelCache' object has no attribute 'services_and_ext'",
     "output_type": "error",
     "traceback": [
      "\u001b[0;31m---------------------------------------------------------------------------\u001b[0m",
      "\u001b[0;31mAttributeError\u001b[0m                            Traceback (most recent call last)",
      "Cell \u001b[0;32mIn[4], line 1\u001b[0m\n\u001b[0;32m----> 1\u001b[0m sp \u001b[39m=\u001b[39m ams\u001b[39m.\u001b[39;49mload(ams\u001b[39m.\u001b[39;49mget_case(\u001b[39m'\u001b[39;49m\u001b[39mieee14/ieee14.xlsx\u001b[39;49m\u001b[39m'\u001b[39;49m),\n\u001b[1;32m      2\u001b[0m             setup\u001b[39m=\u001b[39;49m\u001b[39mTrue\u001b[39;49;00m)\n",
      "File \u001b[0;32m~/Documents/work/ams/ams/main.py:137\u001b[0m, in \u001b[0;36mload\u001b[0;34m(case, setup, use_input_path, **kwargs)\u001b[0m\n\u001b[1;32m    134\u001b[0m     \u001b[39mreturn\u001b[39;00m \u001b[39mNone\u001b[39;00m\n\u001b[1;32m    136\u001b[0m \u001b[39mif\u001b[39;00m setup:\n\u001b[0;32m--> 137\u001b[0m     system\u001b[39m.\u001b[39;49msetup()\n\u001b[1;32m    138\u001b[0m \u001b[39mreturn\u001b[39;00m system\n",
      "File \u001b[0;32m~/Documents/work/ams/ams/system.py:234\u001b[0m, in \u001b[0;36mSystem.setup\u001b[0;34m(self)\u001b[0m\n\u001b[1;32m    231\u001b[0m     ret \u001b[39m=\u001b[39m \u001b[39mFalse\u001b[39;00m\n\u001b[1;32m    232\u001b[0m     \u001b[39mreturn\u001b[39;00m ret\n\u001b[0;32m--> 234\u001b[0m \u001b[39mself\u001b[39;49m\u001b[39m.\u001b[39;49m_list2array()     \u001b[39m# `list2array` must come before `link_ext_param`\u001b[39;00m\n\u001b[1;32m    236\u001b[0m \u001b[39mself\u001b[39m\u001b[39m.\u001b[39mfind_devices()    \u001b[39m# find or add required devices\u001b[39;00m\n\u001b[1;32m    238\u001b[0m \u001b[39m# === no device addition or removal after this point ===\u001b[39;00m\n\u001b[1;32m    239\u001b[0m \u001b[39m# TODO: double check calc_pu_coeff\u001b[39;00m\n",
      "File \u001b[0;32m~/Documents/work/mambaforge/envs/ams/lib/python3.9/site-packages/andes/system.py:1952\u001b[0m, in \u001b[0;36mSystem._list2array\u001b[0;34m(self)\u001b[0m\n\u001b[1;32m   1947\u001b[0m \u001b[39mdef\u001b[39;00m \u001b[39m_list2array\u001b[39m(\u001b[39mself\u001b[39m):\n\u001b[1;32m   1948\u001b[0m \u001b[39m    \u001b[39m\u001b[39m\"\"\"\u001b[39;00m\n\u001b[1;32m   1949\u001b[0m \u001b[39m    Helper function to call models' ``list2array`` method, which usually\u001b[39;00m\n\u001b[1;32m   1950\u001b[0m \u001b[39m    performs memory preallocation.\u001b[39;00m\n\u001b[1;32m   1951\u001b[0m \u001b[39m    \"\"\"\u001b[39;00m\n\u001b[0;32m-> 1952\u001b[0m     \u001b[39mself\u001b[39;49m\u001b[39m.\u001b[39;49mcall_models(\u001b[39m'\u001b[39;49m\u001b[39mlist2array\u001b[39;49m\u001b[39m'\u001b[39;49m, \u001b[39mself\u001b[39;49m\u001b[39m.\u001b[39;49mmodels)\n",
      "File \u001b[0;32m~/Documents/work/mambaforge/envs/ams/lib/python3.9/site-packages/andes/system.py:1685\u001b[0m, in \u001b[0;36mSystem.call_models\u001b[0;34m(self, method, models, *args, **kwargs)\u001b[0m\n\u001b[1;32m   1683\u001b[0m ret \u001b[39m=\u001b[39m OrderedDict()\n\u001b[1;32m   1684\u001b[0m \u001b[39mfor\u001b[39;00m name, mdl \u001b[39min\u001b[39;00m models\u001b[39m.\u001b[39mitems():\n\u001b[0;32m-> 1685\u001b[0m     ret[name] \u001b[39m=\u001b[39m \u001b[39mgetattr\u001b[39;49m(mdl, method)(\u001b[39m*\u001b[39;49margs, \u001b[39m*\u001b[39;49m\u001b[39m*\u001b[39;49mkwargs)\n\u001b[1;32m   1687\u001b[0m     \u001b[39mif\u001b[39;00m \u001b[39mself\u001b[39m\u001b[39m.\u001b[39mconfig\u001b[39m.\u001b[39msave_stats:\n\u001b[1;32m   1688\u001b[0m         \u001b[39mif\u001b[39;00m method \u001b[39mnot\u001b[39;00m \u001b[39min\u001b[39;00m \u001b[39mself\u001b[39m\u001b[39m.\u001b[39mcall_stats[name]:\n",
      "File \u001b[0;32m~/Documents/work/mambaforge/envs/ams/lib/python3.9/site-packages/andes/core/model/model.py:1192\u001b[0m, in \u001b[0;36mModel.list2array\u001b[0;34m(self)\u001b[0m\n\u001b[1;32m   1189\u001b[0m \u001b[39mfor\u001b[39;00m instance \u001b[39min\u001b[39;00m \u001b[39mself\u001b[39m\u001b[39m.\u001b[39mnum_params\u001b[39m.\u001b[39mvalues():\n\u001b[1;32m   1190\u001b[0m     instance\u001b[39m.\u001b[39mto_array()\n\u001b[0;32m-> 1192\u001b[0m \u001b[39mfor\u001b[39;00m instance \u001b[39min\u001b[39;00m \u001b[39mself\u001b[39;49m\u001b[39m.\u001b[39;49mcache\u001b[39m.\u001b[39;49mservices_and_ext\u001b[39m.\u001b[39mvalues():\n\u001b[1;32m   1193\u001b[0m     instance\u001b[39m.\u001b[39massign_memory(\u001b[39mself\u001b[39m\u001b[39m.\u001b[39mn)\n\u001b[1;32m   1195\u001b[0m \u001b[39mfor\u001b[39;00m instance \u001b[39min\u001b[39;00m \u001b[39mself\u001b[39m\u001b[39m.\u001b[39mdiscrete\u001b[39m.\u001b[39mvalues():\n",
      "File \u001b[0;32m~/Documents/work/mambaforge/envs/ams/lib/python3.9/site-packages/andes/core/model/modelcache.py:24\u001b[0m, in \u001b[0;36mModelCache.__getattr__\u001b[0;34m(self, item)\u001b[0m\n\u001b[1;32m     21\u001b[0m     \u001b[39mif\u001b[39;00m item \u001b[39min\u001b[39;00m \u001b[39mself\u001b[39m\u001b[39m.\u001b[39m_callbacks:\n\u001b[1;32m     22\u001b[0m         \u001b[39mself\u001b[39m\u001b[39m.\u001b[39m\u001b[39m__dict__\u001b[39m[item] \u001b[39m=\u001b[39m \u001b[39mself\u001b[39m\u001b[39m.\u001b[39m_call(item)\n\u001b[0;32m---> 24\u001b[0m \u001b[39mreturn\u001b[39;00m \u001b[39mself\u001b[39;49m\u001b[39m.\u001b[39;49m\u001b[39m__getattribute__\u001b[39;49m(item)\n",
      "\u001b[0;31mAttributeError\u001b[0m: 'ModelCache' object has no attribute 'services_and_ext'"
     ]
    }
   ],
   "source": [
    "sp = ams.load(ams.get_case('ieee14/ieee14.xlsx'),\n",
    "            setup=True)"
   ]
  },
  {
   "cell_type": "code",
   "execution_count": null,
   "metadata": {},
   "outputs": [],
   "source": [
    "sp.Bus.flags"
   ]
  }
 ],
 "metadata": {
  "kernelspec": {
   "display_name": "ams",
   "language": "python",
   "name": "python3"
  },
  "language_info": {
   "codemirror_mode": {
    "name": "ipython",
    "version": 3
   },
   "file_extension": ".py",
   "mimetype": "text/x-python",
   "name": "python",
   "nbconvert_exporter": "python",
   "pygments_lexer": "ipython3",
   "version": "3.9.16"
  },
  "orig_nbformat": 4,
  "vscode": {
   "interpreter": {
    "hash": "d9202bbf0491b3c6145e36d5ba22687a8b95e024b0a1e787962165edd6294d6d"
   }
  }
 },
 "nbformat": 4,
 "nbformat_minor": 2
}
