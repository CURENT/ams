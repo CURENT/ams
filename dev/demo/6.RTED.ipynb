{
 "cells": [
  {
   "attachments": {},
   "cell_type": "markdown",
   "metadata": {},
   "source": [
    "# CoSim - RTED"
   ]
  },
  {
   "cell_type": "code",
   "execution_count": 1,
   "metadata": {},
   "outputs": [],
   "source": [
    "import numpy as np\n",
    "\n",
    "import andes\n",
    "import ams\n",
    "\n",
    "import pandas as pd\n",
    "\n",
    "import json\n",
    "\n",
    "import cvxpy as cp"
   ]
  },
  {
   "cell_type": "code",
   "execution_count": 2,
   "metadata": {},
   "outputs": [
    {
     "data": {
      "text/plain": [
       "'0.6.4.post71.dev0+g0291b4c'"
      ]
     },
     "execution_count": 2,
     "metadata": {},
     "output_type": "execute_result"
    }
   ],
   "source": [
    "ams.__version__"
   ]
  },
  {
   "cell_type": "code",
   "execution_count": 3,
   "metadata": {},
   "outputs": [],
   "source": [
    "andes.config_logger(stream_level=20)"
   ]
  },
  {
   "cell_type": "code",
   "execution_count": 4,
   "metadata": {},
   "outputs": [
    {
     "name": "stderr",
     "output_type": "stream",
     "text": [
      "Working directory: \"/Users/jinningwang/Documents/work/ams/dev/demo\"\n",
      "> Loaded config from file \"/Users/jinningwang/.andes/andes.rc\"\n",
      "> Loaded generated Python code in \"/Users/jinningwang/.andes/pycode\".\n",
      "Parsing input file \"/Users/jinningwang/Documents/work/mambaforge/envs/ams/lib/python3.9/site-packages/andes/cases/kundur/kundur_coi.xlsx\"...\n",
      "Input file parsed in 0.1354 seconds.\n",
      "System internal structure set up in 0.0225 seconds.\n"
     ]
    }
   ],
   "source": [
    "sa = andes.load(andes.get_case('kundur/kundur_coi.xlsx'),\n",
    "                setup=True,\n",
    "                no_output=True,\n",
    "                )\n"
   ]
  },
  {
   "cell_type": "code",
   "execution_count": 5,
   "metadata": {},
   "outputs": [
    {
     "name": "stderr",
     "output_type": "stream",
     "text": [
      "-> System connectivity check results:\n",
      "  No islanded bus detected.\n",
      "  System is interconnected.\n",
      "  Each island has a slack bus correctly defined and enabled.\n",
      "\n",
      "-> Power flow calculation\n",
      "           Numba: Off\n",
      "   Sparse solver: KLU\n",
      " Solution method: NR method\n",
      "Power flow initialized in 0.0037 seconds.\n",
      "0: |F(x)| = 14.9282832\n",
      "1: |F(x)| = 3.608627841\n",
      "2: |F(x)| = 0.1701107882\n",
      "3: |F(x)| = 0.002038626956\n",
      "4: |F(x)| = 3.745104035e-07\n",
      "Converged in 5 iterations in 0.0050 seconds.\n"
     ]
    },
    {
     "data": {
      "text/plain": [
       "True"
      ]
     },
     "execution_count": 5,
     "metadata": {},
     "output_type": "execute_result"
    }
   ],
   "source": [
    "sa.PFlow.run()"
   ]
  },
  {
   "cell_type": "code",
   "execution_count": 6,
   "metadata": {},
   "outputs": [
    {
     "name": "stderr",
     "output_type": "stream",
     "text": [
      "Initialization for dynamics completed in 0.0226 seconds.\n",
      "Initialization was successful.\n"
     ]
    }
   ],
   "source": [
    "_ = sa.TDS.init()"
   ]
  },
  {
   "cell_type": "code",
   "execution_count": 7,
   "metadata": {},
   "outputs": [
    {
     "data": {
      "text/plain": [
       "ConstService: COI.Mw, v=[0.5 0.5 0.5 0.5]"
      ]
     },
     "execution_count": 7,
     "metadata": {},
     "output_type": "execute_result"
    }
   ],
   "source": [
    "sa.COI.Mw"
   ]
  },
  {
   "cell_type": "code",
   "execution_count": 8,
   "metadata": {},
   "outputs": [
    {
     "data": {
      "text/plain": [
       "ExtState: COI.wgen, a=[4 5 6 7], v=[1. 1. 1. 1.], e=[]"
      ]
     },
     "execution_count": 8,
     "metadata": {},
     "output_type": "execute_result"
    }
   ],
   "source": [
    "sa.COI.wgen"
   ]
  },
  {
   "cell_type": "code",
   "execution_count": 9,
   "metadata": {},
   "outputs": [],
   "source": [
    "ams.config_logger(stream_level=10)"
   ]
  },
  {
   "cell_type": "code",
   "execution_count": 10,
   "metadata": {},
   "outputs": [
    {
     "name": "stderr",
     "output_type": "stream",
     "text": [
      "Working directory: \"/Users/jinningwang/Documents/work/ams/dev/demo\"\n"
     ]
    },
    {
     "ename": "AttributeError",
     "evalue": "'RTED' object has no attribute 'system'",
     "output_type": "error",
     "traceback": [
      "\u001b[0;31m---------------------------------------------------------------------------\u001b[0m",
      "\u001b[0;31mAttributeError\u001b[0m                            Traceback (most recent call last)",
      "Cell \u001b[0;32mIn[10], line 1\u001b[0m\n\u001b[0;32m----> 1\u001b[0m sp \u001b[39m=\u001b[39m ams\u001b[39m.\u001b[39;49mload(ams\u001b[39m.\u001b[39;49mget_case(\u001b[39m'\u001b[39;49m\u001b[39mieee14/ieee14_rted.xlsx\u001b[39;49m\u001b[39m'\u001b[39;49m),\n\u001b[1;32m      2\u001b[0m               setup\u001b[39m=\u001b[39;49m\u001b[39mTrue\u001b[39;49;00m,\n\u001b[1;32m      3\u001b[0m               )\n",
      "File \u001b[0;32m~/Documents/work/ams/ams/main.py:131\u001b[0m, in \u001b[0;36mload\u001b[0;34m(case, setup, use_input_path, **kwargs)\u001b[0m\n\u001b[1;32m    128\u001b[0m         \u001b[39mreturn\u001b[39;00m \u001b[39mNone\u001b[39;00m\n\u001b[1;32m    129\u001b[0m     case \u001b[39m=\u001b[39m case[\u001b[39m0\u001b[39m]\n\u001b[0;32m--> 131\u001b[0m system \u001b[39m=\u001b[39m System(case, \u001b[39m*\u001b[39;49m\u001b[39m*\u001b[39;49mkwargs)\n\u001b[1;32m    133\u001b[0m \u001b[39mif\u001b[39;00m \u001b[39mnot\u001b[39;00m ams\u001b[39m.\u001b[39mio\u001b[39m.\u001b[39mparse(system):\n\u001b[1;32m    134\u001b[0m     \u001b[39mreturn\u001b[39;00m \u001b[39mNone\u001b[39;00m\n",
      "File \u001b[0;32m~/Documents/work/ams/ams/system.py:157\u001b[0m, in \u001b[0;36mSystem.__init__\u001b[0;34m(self, case, name, config, config_path, default_config, options, **kwargs)\u001b[0m\n\u001b[1;32m    155\u001b[0m \u001b[39mself\u001b[39m\u001b[39m.\u001b[39mimport_groups()\n\u001b[1;32m    156\u001b[0m \u001b[39mself\u001b[39m\u001b[39m.\u001b[39mimport_models()\n\u001b[0;32m--> 157\u001b[0m \u001b[39mself\u001b[39;49m\u001b[39m.\u001b[39;49mimport_routines()\n",
      "File \u001b[0;32m~/Documents/work/ams/ams/system.py:203\u001b[0m, in \u001b[0;36mSystem.import_routines\u001b[0;34m(self)\u001b[0m\n\u001b[1;32m    201\u001b[0m the_class \u001b[39m=\u001b[39m \u001b[39mgetattr\u001b[39m(routine, cls_name)\n\u001b[1;32m    202\u001b[0m attr_name \u001b[39m=\u001b[39m cls_name\n\u001b[0;32m--> 203\u001b[0m \u001b[39mself\u001b[39m\u001b[39m.\u001b[39m\u001b[39m__dict__\u001b[39m[attr_name] \u001b[39m=\u001b[39m the_class(system\u001b[39m=\u001b[39;49m\u001b[39mself\u001b[39;49m, config\u001b[39m=\u001b[39;49m\u001b[39mself\u001b[39;49m\u001b[39m.\u001b[39;49m_config_object)\n\u001b[1;32m    204\u001b[0m \u001b[39mself\u001b[39m\u001b[39m.\u001b[39mroutines[attr_name] \u001b[39m=\u001b[39m \u001b[39mself\u001b[39m\u001b[39m.\u001b[39m\u001b[39m__dict__\u001b[39m[attr_name]\n\u001b[1;32m    205\u001b[0m \u001b[39mself\u001b[39m\u001b[39m.\u001b[39mroutines[attr_name]\u001b[39m.\u001b[39mconfig\u001b[39m.\u001b[39mcheck()\n",
      "File \u001b[0;32m~/Documents/work/ams/ams/routines/rted.py:156\u001b[0m, in \u001b[0;36mRTED.__init__\u001b[0;34m(self, system, config)\u001b[0m\n\u001b[1;32m    155\u001b[0m \u001b[39mdef\u001b[39;00m \u001b[39m__init__\u001b[39m(\u001b[39mself\u001b[39m, system, config):\n\u001b[0;32m--> 156\u001b[0m     RTEDData\u001b[39m.\u001b[39;49m\u001b[39m__init__\u001b[39;49m(\u001b[39mself\u001b[39;49m)\n\u001b[1;32m    157\u001b[0m     RTEDModel\u001b[39m.\u001b[39m\u001b[39m__init__\u001b[39m(\u001b[39mself\u001b[39m, system, config)\n",
      "File \u001b[0;32m~/Documents/work/ams/ams/routines/rted.py:50\u001b[0m, in \u001b[0;36mRTEDData.__init__\u001b[0;34m(self)\u001b[0m\n\u001b[1;32m     42\u001b[0m \u001b[39mself\u001b[39m\u001b[39m.\u001b[39mdd \u001b[39m=\u001b[39m RParam(info\u001b[39m=\u001b[39m\u001b[39m'\u001b[39m\u001b[39mRegDown reserve requirement\u001b[39m\u001b[39m'\u001b[39m,\n\u001b[1;32m     43\u001b[0m                  name\u001b[39m=\u001b[39m\u001b[39m'\u001b[39m\u001b[39mdd\u001b[39m\u001b[39m'\u001b[39m,\n\u001b[1;32m     44\u001b[0m                  src\u001b[39m=\u001b[39m\u001b[39m'\u001b[39m\u001b[39mdd\u001b[39m\u001b[39m'\u001b[39m,\n\u001b[0;32m   (...)\u001b[0m\n\u001b[1;32m     47\u001b[0m                  owner_name\u001b[39m=\u001b[39m\u001b[39m'\u001b[39m\u001b[39mAGCR\u001b[39m\u001b[39m'\u001b[39m,\n\u001b[1;32m     48\u001b[0m                  )\n\u001b[1;32m     49\u001b[0m \u001b[39m# FIXME: not generalized\u001b[39;00m\n\u001b[0;32m---> 50\u001b[0m all_zone \u001b[39m=\u001b[39m np\u001b[39m.\u001b[39marray(\u001b[39mself\u001b[39;49m\u001b[39m.\u001b[39;49msystem\u001b[39m.\u001b[39mZone\u001b[39m.\u001b[39midx\u001b[39m.\u001b[39mv)\n\u001b[1;32m     51\u001b[0m bus_idx \u001b[39m=\u001b[39m \u001b[39mself\u001b[39m\u001b[39m.\u001b[39msystem\u001b[39m.\u001b[39mStaticGen\u001b[39m.\u001b[39mget(src\u001b[39m=\u001b[39m\u001b[39m'\u001b[39m\u001b[39mbus\u001b[39m\u001b[39m'\u001b[39m, attr\u001b[39m=\u001b[39m\u001b[39m'\u001b[39m\u001b[39mv\u001b[39m\u001b[39m'\u001b[39m,\n\u001b[1;32m     52\u001b[0m                                     idx\u001b[39m=\u001b[39m\u001b[39mself\u001b[39m\u001b[39m.\u001b[39mpg\u001b[39m.\u001b[39mget_idx())\n\u001b[1;32m     53\u001b[0m zone_idx \u001b[39m=\u001b[39m \u001b[39mself\u001b[39m\u001b[39m.\u001b[39msystem\u001b[39m.\u001b[39mBus\u001b[39m.\u001b[39mget(src\u001b[39m=\u001b[39m\u001b[39m'\u001b[39m\u001b[39mzone\u001b[39m\u001b[39m'\u001b[39m, attr\u001b[39m=\u001b[39m\u001b[39m'\u001b[39m\u001b[39mv\u001b[39m\u001b[39m'\u001b[39m, idx\u001b[39m=\u001b[39mbus_idx)\n",
      "\u001b[0;31mAttributeError\u001b[0m: 'RTED' object has no attribute 'system'"
     ]
    }
   ],
   "source": [
    "sp = ams.load(ams.get_case('ieee14/ieee14_rted.xlsx'),\n",
    "              setup=True,\n",
    "              )"
   ]
  },
  {
   "cell_type": "code",
   "execution_count": null,
   "metadata": {},
   "outputs": [],
   "source": [
    "zone_idx = sp.Zone.find_idx(keys='idx', values=sp.AGCR.zone.v, allow_none=True, default=None)"
   ]
  },
  {
   "cell_type": "code",
   "execution_count": null,
   "metadata": {},
   "outputs": [],
   "source": [
    "bus_idx = sp.Bus.find_idx(keys='zone', values=zone_idx, allow_none=True, default=None)\n",
    "bus_idx"
   ]
  },
  {
   "cell_type": "code",
   "execution_count": null,
   "metadata": {},
   "outputs": [],
   "source": [
    "bus_idx = sp.StaticGen.get(src='bus', attr='v', idx=sp.RTED.pg.get_idx())\n",
    "zone_idx = sp.Bus.get(src='zone', attr='v', idx=bus_idx)\n",
    "zone_idx"
   ]
  },
  {
   "cell_type": "code",
   "execution_count": null,
   "metadata": {},
   "outputs": [],
   "source": [
    "all_zone = np.array(sp.Zone.idx.v)\n",
    "zone_list = np.array(len(all_zone) * [zone_idx])\n",
    "bool_array = (zone_list == all_zone[:, np.newaxis])\n",
    "bool_array"
   ]
  },
  {
   "cell_type": "code",
   "execution_count": null,
   "metadata": {},
   "outputs": [],
   "source": []
  },
  {
   "cell_type": "code",
   "execution_count": null,
   "metadata": {},
   "outputs": [],
   "source": []
  },
  {
   "cell_type": "code",
   "execution_count": null,
   "metadata": {},
   "outputs": [],
   "source": []
  },
  {
   "cell_type": "code",
   "execution_count": null,
   "metadata": {},
   "outputs": [],
   "source": [
    "sp.Zone.Bus.v"
   ]
  },
  {
   "cell_type": "code",
   "execution_count": null,
   "metadata": {},
   "outputs": [],
   "source": [
    "sp.Zone.idx_params"
   ]
  },
  {
   "cell_type": "code",
   "execution_count": null,
   "metadata": {},
   "outputs": [],
   "source": [
    "sp.PV.Zone.v"
   ]
  },
  {
   "cell_type": "code",
   "execution_count": null,
   "metadata": {},
   "outputs": [],
   "source": [
    "sa.COI.SynGen"
   ]
  },
  {
   "cell_type": "code",
   "execution_count": null,
   "metadata": {},
   "outputs": [],
   "source": [
    "sa.COI.SynGen"
   ]
  },
  {
   "cell_type": "code",
   "execution_count": null,
   "metadata": {},
   "outputs": [],
   "source": [
    "sp.AGCR.Zone.v"
   ]
  },
  {
   "cell_type": "code",
   "execution_count": null,
   "metadata": {},
   "outputs": [],
   "source": [
    "sp.AGCR.Bus.v"
   ]
  },
  {
   "cell_type": "code",
   "execution_count": null,
   "metadata": {},
   "outputs": [],
   "source": [
    "sa.COI.SynGen"
   ]
  },
  {
   "cell_type": "code",
   "execution_count": null,
   "metadata": {},
   "outputs": [],
   "source": [
    "sp.AGCR.zone.v"
   ]
  },
  {
   "cell_type": "code",
   "execution_count": null,
   "metadata": {},
   "outputs": [],
   "source": [
    "sp.AGCR.zone.v"
   ]
  },
  {
   "cell_type": "code",
   "execution_count": null,
   "metadata": {},
   "outputs": [],
   "source": [
    "sa.COI.SynGen"
   ]
  },
  {
   "cell_type": "code",
   "execution_count": null,
   "metadata": {},
   "outputs": [],
   "source": [
    "sa.Area.Bus"
   ]
  },
  {
   "cell_type": "code",
   "execution_count": null,
   "metadata": {},
   "outputs": [],
   "source": [
    "sp.RTED.pru.owner"
   ]
  },
  {
   "cell_type": "code",
   "execution_count": null,
   "metadata": {},
   "outputs": [],
   "source": [
    "sp.StaticGen.get(src='zone', attr='v', idx=sp.RTED.pru.get_idx())"
   ]
  },
  {
   "cell_type": "code",
   "execution_count": null,
   "metadata": {},
   "outputs": [],
   "source": [
    "sp.RTED.prus._v"
   ]
  },
  {
   "cell_type": "code",
   "execution_count": null,
   "metadata": {},
   "outputs": [],
   "source": [
    "sp.RTED.prus.u.owner"
   ]
  },
  {
   "cell_type": "code",
   "execution_count": null,
   "metadata": {},
   "outputs": [],
   "source": [
    "sp.RTED.services"
   ]
  },
  {
   "cell_type": "code",
   "execution_count": null,
   "metadata": {},
   "outputs": [],
   "source": [
    "sp.RTED.prus._v"
   ]
  },
  {
   "cell_type": "code",
   "execution_count": null,
   "metadata": {},
   "outputs": [],
   "source": [
    "sp.RTED.du.get_idx()"
   ]
  },
  {
   "cell_type": "code",
   "execution_count": null,
   "metadata": {},
   "outputs": [],
   "source": [
    "sp.RTED.setup()"
   ]
  },
  {
   "cell_type": "code",
   "execution_count": null,
   "metadata": {},
   "outputs": [],
   "source": [
    "sa = sp.to_andes(setup=False,\n",
    "                 addfile=andes.get_case('ieee14/ieee14_wt3.xlsx'),\n",
    "                 overwrite=True,\n",
    "                 keep=False,\n",
    "                 no_output=True,\n",
    "                 )\n",
    "\n",
    "sa.add(\"Toggle\", dict(model='SynGen', dev=\"GENROU_4\", t=11.0))\n",
    "\n",
    "sa.setup()"
   ]
  },
  {
   "cell_type": "code",
   "execution_count": null,
   "metadata": {},
   "outputs": [],
   "source": [
    "sp.ACOPF.run()"
   ]
  },
  {
   "cell_type": "code",
   "execution_count": null,
   "metadata": {},
   "outputs": [],
   "source": [
    "sp.ACOPF.pg"
   ]
  },
  {
   "cell_type": "code",
   "execution_count": null,
   "metadata": {},
   "outputs": [],
   "source": [
    "sp.dyn.send()"
   ]
  },
  {
   "cell_type": "code",
   "execution_count": null,
   "metadata": {},
   "outputs": [],
   "source": [
    "sa.PFlow.run()"
   ]
  },
  {
   "cell_type": "code",
   "execution_count": null,
   "metadata": {},
   "outputs": [],
   "source": [
    "idx_tg = sa.TGOV1.idx.v\n",
    "vmax0 = sa.TGOV1.get(src='VMAX', attr='v', idx=idx_tg)\n",
    "sa.TGOV1.set(src='VMAX', attr='v', idx=idx_tg, value=10 * vmax0)\n",
    "vmin0 = sa.TGOV1.get(src='VMIN', attr='v', idx=idx_tg)\n",
    "sa.TGOV1.set(src='VMIN', attr='v', idx=idx_tg, value=np.zeros_like(vmin0))"
   ]
  },
  {
   "cell_type": "code",
   "execution_count": null,
   "metadata": {},
   "outputs": [],
   "source": [
    "sa.TDS.config.tf = 10\n",
    "sa.TDS.run()"
   ]
  },
  {
   "cell_type": "code",
   "execution_count": null,
   "metadata": {},
   "outputs": [],
   "source": [
    "sa.TDS.config.tf = 20\n",
    "sa.TDS.run()"
   ]
  },
  {
   "cell_type": "code",
   "execution_count": null,
   "metadata": {},
   "outputs": [],
   "source": [
    "sp.dyn.send()"
   ]
  },
  {
   "cell_type": "code",
   "execution_count": null,
   "metadata": {},
   "outputs": [],
   "source": [
    "sp.dyn.receive()"
   ]
  }
 ],
 "metadata": {
  "kernelspec": {
   "display_name": "ams",
   "language": "python",
   "name": "python3"
  },
  "language_info": {
   "codemirror_mode": {
    "name": "ipython",
    "version": 3
   },
   "file_extension": ".py",
   "mimetype": "text/x-python",
   "name": "python",
   "nbconvert_exporter": "python",
   "pygments_lexer": "ipython3",
   "version": "3.10.11"
  },
  "orig_nbformat": 4,
  "vscode": {
   "interpreter": {
    "hash": "d2b3bf80176349caa68dc4a3c77bd06eaade8abc678330f7d1c813c53380e5d2"
   }
  }
 },
 "nbformat": 4,
 "nbformat_minor": 2
}
