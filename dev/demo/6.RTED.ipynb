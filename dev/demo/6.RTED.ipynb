{
 "cells": [
  {
   "attachments": {},
   "cell_type": "markdown",
   "metadata": {},
   "source": [
    "# CoSim - RTED"
   ]
  },
  {
   "cell_type": "code",
   "execution_count": 1,
   "metadata": {},
   "outputs": [],
   "source": [
    "import numpy as np\n",
    "\n",
    "import andes\n",
    "import ams\n",
    "\n",
    "import pandas as pd\n",
    "\n",
    "import json\n",
    "\n",
    "import cvxpy as cp"
   ]
  },
  {
   "cell_type": "code",
   "execution_count": 2,
   "metadata": {},
   "outputs": [
    {
     "data": {
      "text/plain": [
       "'0.6.4.post83.dev0+g065281c'"
      ]
     },
     "execution_count": 2,
     "metadata": {},
     "output_type": "execute_result"
    }
   ],
   "source": [
    "ams.__version__"
   ]
  },
  {
   "cell_type": "code",
   "execution_count": 3,
   "metadata": {},
   "outputs": [],
   "source": [
    "andes.config_logger(stream_level=20)"
   ]
  },
  {
   "cell_type": "code",
   "execution_count": 4,
   "metadata": {},
   "outputs": [
    {
     "name": "stderr",
     "output_type": "stream",
     "text": [
      "Working directory: \"/Users/jinningwang/Documents/work/ams/dev/demo\"\n",
      "> Loaded config from file \"/Users/jinningwang/.andes/andes.rc\"\n",
      "> Loaded generated Python code in \"/Users/jinningwang/.andes/pycode\".\n",
      "Parsing input file \"/Users/jinningwang/Documents/work/mambaforge/envs/ams/lib/python3.9/site-packages/andes/cases/kundur/kundur_coi.xlsx\"...\n",
      "Input file parsed in 0.1082 seconds.\n",
      "System internal structure set up in 0.0220 seconds.\n"
     ]
    }
   ],
   "source": [
    "sa = andes.load(andes.get_case('kundur/kundur_coi.xlsx'),\n",
    "                setup=True,\n",
    "                no_output=True,\n",
    "                )\n"
   ]
  },
  {
   "cell_type": "code",
   "execution_count": 5,
   "metadata": {},
   "outputs": [
    {
     "name": "stderr",
     "output_type": "stream",
     "text": [
      "-> System connectivity check results:\n",
      "  No islanded bus detected.\n",
      "  System is interconnected.\n",
      "  Each island has a slack bus correctly defined and enabled.\n",
      "\n",
      "-> Power flow calculation\n",
      "           Numba: Off\n",
      "   Sparse solver: KLU\n",
      " Solution method: NR method\n",
      "Power flow initialized in 0.0041 seconds.\n",
      "0: |F(x)| = 14.9282832\n",
      "1: |F(x)| = 3.608627841\n",
      "2: |F(x)| = 0.1701107882\n",
      "3: |F(x)| = 0.002038626956\n",
      "4: |F(x)| = 3.745104035e-07\n",
      "Converged in 5 iterations in 0.0052 seconds.\n"
     ]
    },
    {
     "data": {
      "text/plain": [
       "True"
      ]
     },
     "execution_count": 5,
     "metadata": {},
     "output_type": "execute_result"
    }
   ],
   "source": [
    "sa.PFlow.run()"
   ]
  },
  {
   "cell_type": "code",
   "execution_count": 6,
   "metadata": {},
   "outputs": [
    {
     "name": "stderr",
     "output_type": "stream",
     "text": [
      "Initialization for dynamics completed in 0.0209 seconds.\n",
      "Initialization was successful.\n"
     ]
    }
   ],
   "source": [
    "_ = sa.TDS.init()"
   ]
  },
  {
   "cell_type": "code",
   "execution_count": 7,
   "metadata": {},
   "outputs": [
    {
     "data": {
      "text/plain": [
       "ConstService: COI.Mw, v=[0.5 0.5 0.5 0.5]"
      ]
     },
     "execution_count": 7,
     "metadata": {},
     "output_type": "execute_result"
    }
   ],
   "source": [
    "sa.COI.Mw"
   ]
  },
  {
   "cell_type": "code",
   "execution_count": 8,
   "metadata": {},
   "outputs": [
    {
     "data": {
      "text/plain": [
       "ExtState: COI.wgen, a=[4 5 6 7], v=[1. 1. 1. 1.], e=[]"
      ]
     },
     "execution_count": 8,
     "metadata": {},
     "output_type": "execute_result"
    }
   ],
   "source": [
    "sa.COI.wgen"
   ]
  },
  {
   "cell_type": "code",
   "execution_count": 9,
   "metadata": {},
   "outputs": [],
   "source": [
    "ams.config_logger(stream_level=10)"
   ]
  },
  {
   "cell_type": "code",
   "execution_count": 10,
   "metadata": {},
   "outputs": [
    {
     "name": "stderr",
     "output_type": "stream",
     "text": [
      "Working directory: \"/Users/jinningwang/Documents/work/ams/dev/demo\"\n",
      "Input format guessed as xlsx.\n",
      "Parsing input file \"/Users/jinningwang/Documents/work/ams/ams/cases/ieee14/ieee14_rted.xlsx\"...\n",
      "Input file parsed in 0.0446 seconds.\n",
      "Adjust bus index to start from 0.\n",
      "System set up in 0.0041 seconds.\n"
     ]
    }
   ],
   "source": [
    "sp = ams.load(ams.get_case('ieee14/ieee14_rted.xlsx'),\n",
    "              setup=True,\n",
    "              )"
   ]
  },
  {
   "cell_type": "code",
   "execution_count": 11,
   "metadata": {},
   "outputs": [
    {
     "name": "stderr",
     "output_type": "stream",
     "text": [
      "RTED data check passed.\n",
      "- Generating symbols for RTED\n",
      "Set constrs pb: self.constrs[\"pb\"]=cp.sum(self.routine.pd.v) - cp.sum(self.pg) == 0\n",
      "Set constrs lub: self.constrs[\"lub\"]=self.routine.PTDF1.v @ (self.pg - self.routine.pd1.v) - self.routine.PTDF2.v @ self.routine.pd2.v - self.routine.rate_a.v <= 0\n",
      "Set constrs llb: self.constrs[\"llb\"]=- self.routine.PTDF1.v @ (self.pg - self.routine.pd1.v) + self.routine.PTDF2.v @ self.routine.pd2.v - self.routine.rate_a.v <= 0\n",
      "Set constrs rbu: self.constrs[\"rbu\"]=self.routine.prs.v @ self.pru - self.routine.du.v == 0\n",
      "Set constrs rbd: self.constrs[\"rbd\"]=self.routine.prs.v @ self.prd - self.routine.dd.v == 0\n",
      "Set constrs rru: self.constrs[\"rru\"]=self.pg + self.pru - self.routine.pmax.v <= 0\n",
      "Set constrs rrd: self.constrs[\"rrd\"]=-self.pg + self.prd - self.routine.pmin.v <= 0\n",
      "Set constrs rgu: self.constrs[\"rgu\"]=self.pg - self.routine.pg0.v - self.routine.R10.v <= 0\n",
      "Set constrs rgd: self.constrs[\"rgd\"]=-self.pg + self.routine.pg0.v - self.routine.R10.v <= 0\n",
      "RTED model set up in 0.0188 seconds.\n"
     ]
    },
    {
     "data": {
      "text/plain": [
       "True"
      ]
     },
     "execution_count": 11,
     "metadata": {},
     "output_type": "execute_result"
    }
   ],
   "source": [
    "sp.RTED.setup()"
   ]
  },
  {
   "cell_type": "code",
   "execution_count": 12,
   "metadata": {},
   "outputs": [
    {
     "data": {
      "text/plain": [
       "OrderedDict([('pb', pb: sum(pd) - sum(pg)),\n",
       "             ('lub', lub: PTDF1 @ (pg - pd1) - PTDF2 * pd2 - rate_a),\n",
       "             ('llb', llb: - PTDF1 @ (pg - pd1) + PTDF2 * pd2 - rate_a),\n",
       "             ('rbu', rbu: prs @ pru - du),\n",
       "             ('rbd', rbd: prs @ prd - dd),\n",
       "             ('rru', rru: pg + pru - pmax),\n",
       "             ('rrd', rrd: -pg + prd - pmin),\n",
       "             ('rgu', rgu: pg - pg0 - R10),\n",
       "             ('rgd', rgd: -pg + pg0 - R10)])"
      ]
     },
     "execution_count": 12,
     "metadata": {},
     "output_type": "execute_result"
    }
   ],
   "source": [
    "sp.RTED.constrs"
   ]
  },
  {
   "cell_type": "code",
   "execution_count": 13,
   "metadata": {},
   "outputs": [
    {
     "name": "stderr",
     "output_type": "stream",
     "text": [
      "RTED completed in 0.0132 seconds with exit code 0.\n"
     ]
    }
   ],
   "source": [
    "sp.RTED.run()"
   ]
  },
  {
   "cell_type": "code",
   "execution_count": 14,
   "metadata": {},
   "outputs": [
    {
     "data": {
      "text/plain": [
       "Var: StaticGen.prd, a=[10 11 12 13 14], v=[0.01666667 0.01666667 0.05       0.         0.01666667]"
      ]
     },
     "execution_count": 14,
     "metadata": {},
     "output_type": "execute_result"
    }
   ],
   "source": [
    "sp.RTED.prd"
   ]
  },
  {
   "cell_type": "code",
   "execution_count": null,
   "metadata": {},
   "outputs": [],
   "source": [
    "import cvxpy as cp"
   ]
  },
  {
   "cell_type": "code",
   "execution_count": null,
   "metadata": {},
   "outputs": [],
   "source": [
    "help(sp.Variable)"
   ]
  },
  {
   "cell_type": "code",
   "execution_count": null,
   "metadata": {},
   "outputs": [],
   "source": [
    "sp.RTED.prd"
   ]
  },
  {
   "cell_type": "code",
   "execution_count": null,
   "metadata": {},
   "outputs": [],
   "source": [
    "sa = sp.to_andes(setup=False,\n",
    "                 addfile=andes.get_case('ieee14/ieee14_wt3.xlsx'),\n",
    "                 overwrite=True,\n",
    "                 keep=False,\n",
    "                 no_output=True,\n",
    "                 )\n",
    "\n",
    "sa.add(\"Toggle\", dict(model='SynGen', dev=\"GENROU_4\", t=11.0))\n",
    "\n",
    "sa.setup()"
   ]
  },
  {
   "cell_type": "code",
   "execution_count": null,
   "metadata": {},
   "outputs": [],
   "source": [
    "sp.ACOPF.run()"
   ]
  },
  {
   "cell_type": "code",
   "execution_count": null,
   "metadata": {},
   "outputs": [],
   "source": [
    "sp.ACOPF.pg"
   ]
  },
  {
   "cell_type": "code",
   "execution_count": null,
   "metadata": {},
   "outputs": [],
   "source": [
    "sp.dyn.send()"
   ]
  },
  {
   "cell_type": "code",
   "execution_count": null,
   "metadata": {},
   "outputs": [],
   "source": [
    "sa.PFlow.run()"
   ]
  },
  {
   "cell_type": "code",
   "execution_count": null,
   "metadata": {},
   "outputs": [],
   "source": [
    "idx_tg = sa.TGOV1.idx.v\n",
    "vmax0 = sa.TGOV1.get(src='VMAX', attr='v', idx=idx_tg)\n",
    "sa.TGOV1.set(src='VMAX', attr='v', idx=idx_tg, value=10 * vmax0)\n",
    "vmin0 = sa.TGOV1.get(src='VMIN', attr='v', idx=idx_tg)\n",
    "sa.TGOV1.set(src='VMIN', attr='v', idx=idx_tg, value=np.zeros_like(vmin0))"
   ]
  },
  {
   "cell_type": "code",
   "execution_count": null,
   "metadata": {},
   "outputs": [],
   "source": [
    "sa.TDS.config.tf = 10\n",
    "sa.TDS.run()"
   ]
  },
  {
   "cell_type": "code",
   "execution_count": null,
   "metadata": {},
   "outputs": [],
   "source": [
    "sa.TDS.config.tf = 20\n",
    "sa.TDS.run()"
   ]
  },
  {
   "cell_type": "code",
   "execution_count": null,
   "metadata": {},
   "outputs": [],
   "source": [
    "sp.dyn.send()"
   ]
  },
  {
   "cell_type": "code",
   "execution_count": null,
   "metadata": {},
   "outputs": [],
   "source": [
    "sp.dyn.receive()"
   ]
  }
 ],
 "metadata": {
  "kernelspec": {
   "display_name": "ams",
   "language": "python",
   "name": "python3"
  },
  "language_info": {
   "codemirror_mode": {
    "name": "ipython",
    "version": 3
   },
   "file_extension": ".py",
   "mimetype": "text/x-python",
   "name": "python",
   "nbconvert_exporter": "python",
   "pygments_lexer": "ipython3",
   "version": "3.10.11"
  },
  "orig_nbformat": 4,
  "vscode": {
   "interpreter": {
    "hash": "d2b3bf80176349caa68dc4a3c77bd06eaade8abc678330f7d1c813c53380e5d2"
   }
  }
 },
 "nbformat": 4,
 "nbformat_minor": 2
}
