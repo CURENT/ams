{
 "cells": [
  {
   "attachments": {},
   "cell_type": "markdown",
   "metadata": {},
   "source": [
    "# CoSim - RTED"
   ]
  },
  {
   "cell_type": "code",
   "execution_count": 1,
   "metadata": {},
   "outputs": [],
   "source": [
    "import numpy as np\n",
    "\n",
    "import andes\n",
    "import ams\n",
    "\n",
    "import pandas as pd\n",
    "\n",
    "import json\n",
    "\n",
    "import cvxpy as cp"
   ]
  },
  {
   "cell_type": "code",
   "execution_count": 2,
   "metadata": {},
   "outputs": [
    {
     "data": {
      "text/plain": [
       "'0.6.5.post85.dev0+gfd25f07'"
      ]
     },
     "execution_count": 2,
     "metadata": {},
     "output_type": "execute_result"
    }
   ],
   "source": [
    "ams.__version__"
   ]
  },
  {
   "cell_type": "code",
   "execution_count": 3,
   "metadata": {},
   "outputs": [],
   "source": [
    "andes.config_logger(stream_level=20)"
   ]
  },
  {
   "cell_type": "code",
   "execution_count": 4,
   "metadata": {},
   "outputs": [],
   "source": [
    "ams.config_logger(stream_level=10)"
   ]
  },
  {
   "cell_type": "code",
   "execution_count": 5,
   "metadata": {},
   "outputs": [
    {
     "name": "stderr",
     "output_type": "stream",
     "text": [
      "Working directory: \"/home/jwang/work/ams/dev/demo\"\n",
      "Input format guessed as xlsx.\n",
      "Parsing input file \"/home/jwang/work/ams/ams/cases/ieee14/ieee14_rted.xlsx\"...\n",
      "Input file parsed in 0.2552 seconds.\n",
      "Adjust bus index to start from 0.\n",
      "System set up in 0.0152 seconds.\n"
     ]
    }
   ],
   "source": [
    "sp = ams.load(ams.get_case('ieee14/ieee14_rted.xlsx'),\n",
    "              setup=True,\n",
    "              )"
   ]
  },
  {
   "cell_type": "code",
   "execution_count": 6,
   "metadata": {},
   "outputs": [
    {
     "name": "stderr",
     "output_type": "stream",
     "text": [
      "- Generating symbols for RTED\n"
     ]
    }
   ],
   "source": [
    "sp.RTED.syms.generate_symbols()"
   ]
  },
  {
   "cell_type": "code",
   "execution_count": 7,
   "metadata": {},
   "outputs": [
    {
     "name": "stderr",
     "output_type": "stream",
     "text": [
      "Setup model of RTED\n",
      "RTED data check passed.\n",
      "- Generating symbols for RTED\n",
      "Set constrs pb: sum(pd1) + sum(pd2) - sum(pg)\n",
      "Set constrs lub: PTDF1 @ (pg - pd1) - PTDF2 * pd2 - rate_a\n",
      "Set constrs llb: - PTDF1 @ (pg - pd1) + PTDF2 * pd2 - rate_a\n",
      "Set constrs rbu: gs @ pru - du\n",
      "Set constrs rbd: gs @ prd - dd\n",
      "Set constrs rru: pg + pru - pmax\n",
      "Set constrs rrd: -pg + prd - pmin\n",
      "Set constrs rgu: pg - pg0 - R10\n",
      "Set constrs rgd: -pg + pg0 - R10\n",
      "RTED model set up in 0.0274 seconds.\n",
      "RTED solved as optimal in 0.0276 seconds with exit code 0.\n"
     ]
    },
    {
     "data": {
      "text/plain": [
       "True"
      ]
     },
     "execution_count": 7,
     "metadata": {},
     "output_type": "execute_result"
    }
   ],
   "source": [
    "sp.RTED.run()"
   ]
  },
  {
   "cell_type": "code",
   "execution_count": 8,
   "metadata": {},
   "outputs": [
    {
     "name": "stderr",
     "output_type": "stream",
     "text": [
      "Setup model for ACOPF\n",
      "ACOPF data check passed.\n",
      "- Generating symbols for ACOPF\n",
      "Set constrs pb: sum( pd1 ) +sum( pd2 ) - sum( pg )\n",
      "ACOPF model set up in 0.0084 seconds.\n",
      "Adjust bus index to start from 0.\n",
      "PYPOWER Version 5.1.4, 27-June-2018\n",
      " -- AC Optimal Power Flow\n",
      "\n"
     ]
    },
    {
     "name": "stdout",
     "output_type": "stream",
     "text": [
      "Python Interior Point Solver - PIPS, Version 1.0, 07-Feb-2011\n"
     ]
    },
    {
     "name": "stderr",
     "output_type": "stream",
     "text": [
      "ACOPF completed in 0.7179 seconds with exit code 0.\n",
      "RTED is converted to AC.\n"
     ]
    },
    {
     "name": "stdout",
     "output_type": "stream",
     "text": [
      "Converged!\n"
     ]
    },
    {
     "data": {
      "text/plain": [
       "True"
      ]
     },
     "execution_count": 8,
     "metadata": {},
     "output_type": "execute_result"
    }
   ],
   "source": [
    "sp.RTED.dc2ac()"
   ]
  },
  {
   "cell_type": "code",
   "execution_count": 9,
   "metadata": {},
   "outputs": [
    {
     "name": "stderr",
     "output_type": "stream",
     "text": [
      "JSON file written to \"ieee14_rted.json\"\n",
      "System convert to ANDES in 0.1589 seconds, saved as \"ieee14_rted.json\".\n",
      "Working directory: \"/home/jwang/work/ams/dev/demo\"\n",
      "> Loaded config from file \"/home/jwang/.andes/andes.rc\"\n",
      "> Loaded generated Python code in \"/home/jwang/.andes/pycode\".\n",
      "Parsing input file \"ieee14_rted.json\"...\n",
      "Input file parsed in 0.0032 seconds.\n",
      "Converted file is removed. Set \"no_keep=False\" to keep it.\n",
      "Addfile format guessed as xlsx.\n",
      "Parsing additional file \"/home/jwang/.local/lib/python3.10/site-packages/andes/cases/ieee14/ieee14_wt3.xlsx\"...\n",
      "Power flow models exist in the addfile. Only dynamic models will be used.\n",
      "Adjust IdxParam <GENROU.gen>\n",
      "Adjust IdxParam <REGCA1.gen>\n",
      "Addfile parsed in 0.1852 seconds.\n",
      "System has not been linked to ANDES. Call ``dyn.link_andes(adsys=sa)`` after setup ANDES system.\n",
      "System internal structure set up in 0.0571 seconds.\n",
      "AMS system 0x7f9a402cc7f0 is linked to the ANDES system 0x7f9955fc51e0.\n"
     ]
    }
   ],
   "source": [
    "sa = sp.to_andes(setup=False,\n",
    "                 addfile=andes.get_case('ieee14/ieee14_wt3.xlsx'),\n",
    "                 overwrite=True,\n",
    "                 keep=False,\n",
    "                 no_output=True,\n",
    "                 )\n",
    "\n",
    "sa.add(\"Toggle\", dict(model='SynGen', dev=\"GENROU_3\", t=11.0))\n",
    "\n",
    "sa.setup()\n",
    "\n",
    "sp.dyn.link_andes(sa)"
   ]
  },
  {
   "cell_type": "code",
   "execution_count": 10,
   "metadata": {},
   "outputs": [
    {
     "name": "stderr",
     "output_type": "stream",
     "text": [
      "RTED results has been converted to AC.\n",
      "Sending RTED results to ANDES <0x7f9955fc51e0>...\n",
      "Sending results to <pflow> models...\n",
      "Var <RTED.vBus> is mapped from <Bus.v0>.\n"
     ]
    },
    {
     "data": {
      "text/plain": [
       "True"
      ]
     },
     "execution_count": 10,
     "metadata": {},
     "output_type": "execute_result"
    }
   ],
   "source": [
    "sp.dyn.send()"
   ]
  },
  {
   "cell_type": "code",
   "execution_count": 11,
   "metadata": {},
   "outputs": [
    {
     "name": "stderr",
     "output_type": "stream",
     "text": [
      "-> System connectivity check results:\n",
      "  No islanded bus detected.\n",
      "  System is interconnected.\n",
      "  Each island has a slack bus correctly defined and enabled.\n",
      "\n",
      "-> Power flow calculation\n",
      "           Numba: Off\n",
      "   Sparse solver: KLU\n",
      " Solution method: NR method\n",
      "Power flow initialized in 0.0089 seconds.\n",
      "0: |F(x)| = 0.5605182162\n",
      "1: |F(x)| = 0.006202200463\n",
      "2: |F(x)| = 5.819382991e-06\n",
      "3: |F(x)| = 6.960640397e-12\n",
      "Converged in 4 iterations in 0.0133 seconds.\n"
     ]
    },
    {
     "data": {
      "text/plain": [
       "True"
      ]
     },
     "execution_count": 11,
     "metadata": {},
     "output_type": "execute_result"
    }
   ],
   "source": [
    "sa.PFlow.run()"
   ]
  },
  {
   "cell_type": "code",
   "execution_count": 12,
   "metadata": {},
   "outputs": [
    {
     "data": {
      "text/plain": [
       "True"
      ]
     },
     "execution_count": 12,
     "metadata": {},
     "output_type": "execute_result"
    }
   ],
   "source": [
    "idx_tg = sa.TGOV1.idx.v\n",
    "vmax0 = sa.TGOV1.get(src='VMAX', attr='v', idx=idx_tg)\n",
    "sa.TGOV1.set(src='VMAX', attr='v', idx=idx_tg, value=10 * vmax0)\n",
    "vmin0 = sa.TGOV1.get(src='VMIN', attr='v', idx=idx_tg)\n",
    "sa.TGOV1.set(src='VMIN', attr='v', idx=idx_tg, value=np.zeros_like(vmin0))"
   ]
  },
  {
   "cell_type": "code",
   "execution_count": 13,
   "metadata": {},
   "outputs": [],
   "source": [
    "sa.TDS.config.criteria = 0"
   ]
  },
  {
   "cell_type": "code",
   "execution_count": 14,
   "metadata": {},
   "outputs": [
    {
     "name": "stderr",
     "output_type": "stream",
     "text": [
      "\n",
      "-> Time Domain Simulation Summary:\n",
      "Sparse Solver: KLU\n",
      "Simulation time: 0.0-10 s.\n",
      "Fixed step size: h=33.33 ms. Shrink if not converged.\n",
      "Initialization for dynamics completed in 0.1329 seconds.\n",
      "Initialization was successful.\n"
     ]
    },
    {
     "data": {
      "application/vnd.jupyter.widget-view+json": {
       "model_id": "b69b555f5b47403d8161b427f1d96a9e",
       "version_major": 2,
       "version_minor": 0
      },
      "text/plain": [
       "  0%|          | 0/100 [00:00<?, ?%/s]"
      ]
     },
     "metadata": {},
     "output_type": "display_data"
    },
    {
     "name": "stdout",
     "output_type": "stream",
     "text": [
      "<Toggle Toggler_1>: Line.Line_1 status changed to 0 at t=1.0 sec.\n",
      "<Toggle Toggler_2>: Line.Line_1 status changed to 1 at t=1.1 sec.\n"
     ]
    },
    {
     "name": "stderr",
     "output_type": "stream",
     "text": [
      "Simulation to t=10.00 sec completed in 2.1539 seconds.\n"
     ]
    },
    {
     "data": {
      "text/plain": [
       "True"
      ]
     },
     "execution_count": 14,
     "metadata": {},
     "output_type": "execute_result"
    }
   ],
   "source": [
    "sa.TDS.config.tf = 10\n",
    "sa.TDS.run()"
   ]
  },
  {
   "cell_type": "code",
   "execution_count": 15,
   "metadata": {},
   "outputs": [
    {
     "data": {
      "application/vnd.jupyter.widget-view+json": {
       "model_id": "be770ef600874dd29bcdc5a461efc54c",
       "version_major": 2,
       "version_minor": 0
      },
      "text/plain": [
       "  0%|          | 0/100 [00:00<?, ?%/s]"
      ]
     },
     "metadata": {},
     "output_type": "display_data"
    },
    {
     "name": "stdout",
     "output_type": "stream",
     "text": [
      "<Toggle Toggle_3>: SynGen.GENROU_3 status changed to 0 at t=11.0 sec.\n"
     ]
    },
    {
     "name": "stderr",
     "output_type": "stream",
     "text": [
      "Simulation to t=15.00 sec completed in 2.3667 seconds.\n"
     ]
    },
    {
     "data": {
      "text/plain": [
       "True"
      ]
     },
     "execution_count": 15,
     "metadata": {},
     "output_type": "execute_result"
    }
   ],
   "source": [
    "sa.TDS.config.tf = 15\n",
    "sa.TDS.run()"
   ]
  },
  {
   "cell_type": "code",
   "execution_count": 16,
   "metadata": {},
   "outputs": [
    {
     "data": {
      "text/html": [
       "<div>\n",
       "<style scoped>\n",
       "    .dataframe tbody tr th:only-of-type {\n",
       "        vertical-align: middle;\n",
       "    }\n",
       "\n",
       "    .dataframe tbody tr th {\n",
       "        vertical-align: top;\n",
       "    }\n",
       "\n",
       "    .dataframe thead th {\n",
       "        text-align: right;\n",
       "    }\n",
       "</style>\n",
       "<table border=\"1\" class=\"dataframe\">\n",
       "  <thead>\n",
       "    <tr style=\"text-align: right;\">\n",
       "      <th></th>\n",
       "      <th>idx</th>\n",
       "      <th>u</th>\n",
       "      <th>name</th>\n",
       "      <th>bus</th>\n",
       "      <th>gen</th>\n",
       "      <th>coi</th>\n",
       "      <th>coi2</th>\n",
       "      <th>Sn</th>\n",
       "      <th>Vn</th>\n",
       "      <th>fn</th>\n",
       "      <th>...</th>\n",
       "      <th>gammaq</th>\n",
       "      <th>xd</th>\n",
       "      <th>xq</th>\n",
       "      <th>xd2</th>\n",
       "      <th>xq1</th>\n",
       "      <th>xq2</th>\n",
       "      <th>Td10</th>\n",
       "      <th>Td20</th>\n",
       "      <th>Tq10</th>\n",
       "      <th>Tq20</th>\n",
       "    </tr>\n",
       "    <tr>\n",
       "      <th>uid</th>\n",
       "      <th></th>\n",
       "      <th></th>\n",
       "      <th></th>\n",
       "      <th></th>\n",
       "      <th></th>\n",
       "      <th></th>\n",
       "      <th></th>\n",
       "      <th></th>\n",
       "      <th></th>\n",
       "      <th></th>\n",
       "      <th></th>\n",
       "      <th></th>\n",
       "      <th></th>\n",
       "      <th></th>\n",
       "      <th></th>\n",
       "      <th></th>\n",
       "      <th></th>\n",
       "      <th></th>\n",
       "      <th></th>\n",
       "      <th></th>\n",
       "      <th></th>\n",
       "    </tr>\n",
       "  </thead>\n",
       "  <tbody>\n",
       "    <tr>\n",
       "      <th>0</th>\n",
       "      <td>GENROU_1</td>\n",
       "      <td>1.0</td>\n",
       "      <td>GENROU_1</td>\n",
       "      <td>1</td>\n",
       "      <td>Slack_1</td>\n",
       "      <td>None</td>\n",
       "      <td>None</td>\n",
       "      <td>100.0</td>\n",
       "      <td>69.0</td>\n",
       "      <td>60.0</td>\n",
       "      <td>...</td>\n",
       "      <td>1.0</td>\n",
       "      <td>1.8</td>\n",
       "      <td>1.75</td>\n",
       "      <td>0.23</td>\n",
       "      <td>0.8</td>\n",
       "      <td>0.23</td>\n",
       "      <td>6.5</td>\n",
       "      <td>0.06</td>\n",
       "      <td>0.2</td>\n",
       "      <td>0.05</td>\n",
       "    </tr>\n",
       "    <tr>\n",
       "      <th>1</th>\n",
       "      <td>GENROU_2</td>\n",
       "      <td>1.0</td>\n",
       "      <td>GENROU_2</td>\n",
       "      <td>2</td>\n",
       "      <td>PV_2</td>\n",
       "      <td>None</td>\n",
       "      <td>None</td>\n",
       "      <td>100.0</td>\n",
       "      <td>69.0</td>\n",
       "      <td>60.0</td>\n",
       "      <td>...</td>\n",
       "      <td>1.0</td>\n",
       "      <td>1.8</td>\n",
       "      <td>1.75</td>\n",
       "      <td>0.28</td>\n",
       "      <td>0.8</td>\n",
       "      <td>0.28</td>\n",
       "      <td>6.5</td>\n",
       "      <td>0.06</td>\n",
       "      <td>0.2</td>\n",
       "      <td>0.05</td>\n",
       "    </tr>\n",
       "    <tr>\n",
       "      <th>2</th>\n",
       "      <td>GENROU_3</td>\n",
       "      <td>0.0</td>\n",
       "      <td>GENROU_3</td>\n",
       "      <td>3</td>\n",
       "      <td>PV_3</td>\n",
       "      <td>None</td>\n",
       "      <td>None</td>\n",
       "      <td>100.0</td>\n",
       "      <td>69.0</td>\n",
       "      <td>60.0</td>\n",
       "      <td>...</td>\n",
       "      <td>1.0</td>\n",
       "      <td>1.8</td>\n",
       "      <td>1.75</td>\n",
       "      <td>0.34</td>\n",
       "      <td>0.8</td>\n",
       "      <td>0.34</td>\n",
       "      <td>6.5</td>\n",
       "      <td>0.06</td>\n",
       "      <td>0.2</td>\n",
       "      <td>0.05</td>\n",
       "    </tr>\n",
       "    <tr>\n",
       "      <th>3</th>\n",
       "      <td>GENROU_4</td>\n",
       "      <td>1.0</td>\n",
       "      <td>GENROU_4</td>\n",
       "      <td>6</td>\n",
       "      <td>PV_4</td>\n",
       "      <td>None</td>\n",
       "      <td>None</td>\n",
       "      <td>100.0</td>\n",
       "      <td>138.0</td>\n",
       "      <td>60.0</td>\n",
       "      <td>...</td>\n",
       "      <td>1.0</td>\n",
       "      <td>1.8</td>\n",
       "      <td>1.75</td>\n",
       "      <td>0.28</td>\n",
       "      <td>0.8</td>\n",
       "      <td>0.28</td>\n",
       "      <td>6.5</td>\n",
       "      <td>0.06</td>\n",
       "      <td>0.2</td>\n",
       "      <td>0.05</td>\n",
       "    </tr>\n",
       "  </tbody>\n",
       "</table>\n",
       "<p>4 rows × 30 columns</p>\n",
       "</div>"
      ],
      "text/plain": [
       "          idx    u      name  bus      gen   coi  coi2     Sn     Vn    fn  \\\n",
       "uid                                                                          \n",
       "0    GENROU_1  1.0  GENROU_1    1  Slack_1  None  None  100.0   69.0  60.0   \n",
       "1    GENROU_2  1.0  GENROU_2    2     PV_2  None  None  100.0   69.0  60.0   \n",
       "2    GENROU_3  0.0  GENROU_3    3     PV_3  None  None  100.0   69.0  60.0   \n",
       "3    GENROU_4  1.0  GENROU_4    6     PV_4  None  None  100.0  138.0  60.0   \n",
       "\n",
       "     ...  gammaq   xd    xq   xd2  xq1   xq2  Td10  Td20  Tq10  Tq20  \n",
       "uid  ...                                                              \n",
       "0    ...     1.0  1.8  1.75  0.23  0.8  0.23   6.5  0.06   0.2  0.05  \n",
       "1    ...     1.0  1.8  1.75  0.28  0.8  0.28   6.5  0.06   0.2  0.05  \n",
       "2    ...     1.0  1.8  1.75  0.34  0.8  0.34   6.5  0.06   0.2  0.05  \n",
       "3    ...     1.0  1.8  1.75  0.28  0.8  0.28   6.5  0.06   0.2  0.05  \n",
       "\n",
       "[4 rows x 30 columns]"
      ]
     },
     "execution_count": 16,
     "metadata": {},
     "output_type": "execute_result"
    }
   ],
   "source": [
    "sa.GENROU.as_df()"
   ]
  },
  {
   "cell_type": "code",
   "execution_count": 17,
   "metadata": {},
   "outputs": [
    {
     "name": "stderr",
     "output_type": "stream",
     "text": [
      "Receiving ANDES <0x7f9955fc51e0> results to RTED.\n",
      "Receiving <tds> results to RTED...\n",
      "Generator online status are received from dynamic generators.\n",
      "Generator output power are received from dynamic generators.\n"
     ]
    },
    {
     "data": {
      "text/plain": [
       "True"
      ]
     },
     "execution_count": 17,
     "metadata": {},
     "output_type": "execute_result"
    }
   ],
   "source": [
    "sp.dyn.receive()"
   ]
  },
  {
   "cell_type": "code",
   "execution_count": 18,
   "metadata": {},
   "outputs": [
    {
     "data": {
      "text/plain": [
       "NumParam: GENROU.u, v=[1. 1. 0. 1.], vin=[1. 1. 1. 1.]"
      ]
     },
     "execution_count": 18,
     "metadata": {},
     "output_type": "execute_result"
    }
   ],
   "source": [
    "sa.GENROU.u"
   ]
  },
  {
   "cell_type": "code",
   "execution_count": 19,
   "metadata": {},
   "outputs": [
    {
     "data": {
      "text/plain": [
       "NumParam: PV.u, v=[1. 0. 1. 1.], vin=[1. 1. 1. 1.]"
      ]
     },
     "execution_count": 19,
     "metadata": {},
     "output_type": "execute_result"
    }
   ],
   "source": [
    "sp.PV.u"
   ]
  },
  {
   "cell_type": "code",
   "execution_count": 20,
   "metadata": {},
   "outputs": [
    {
     "data": {
      "text/plain": [
       "OrderedDict([('pg',\n",
       "              Var: StaticGen.pg, a=[0 1 2 3 4], v=[0.49997832 0.11666717 0.1500005  0.10000051 1.42711649]),\n",
       "             ('pru',\n",
       "              Var: StaticGen.pru, a=[5 6 7 8 9], v=[0.   0.   0.   0.05 0.05]),\n",
       "             ('prd',\n",
       "              Var: StaticGen.prd, a=[10 11 12 13 14], v=[0.01666667 0.01666667 0.05       0.         0.01666667]),\n",
       "             ('vBus',\n",
       "              Var: Bus.vBus, a=[14 15 16 17 18 19 20 21 22 23 24 25 26 27], v=[1.09999741 1.08292312 1.05407319 1.05693267 1.06400603 1.06136747\n",
       "               1.07097538 1.08353591 1.06768589 1.05919061 1.05685487 1.05050197\n",
       "               1.04884531 1.05926167])])"
      ]
     },
     "execution_count": 20,
     "metadata": {},
     "output_type": "execute_result"
    }
   ],
   "source": [
    "sp.RTED.vars"
   ]
  },
  {
   "cell_type": "code",
   "execution_count": 21,
   "metadata": {},
   "outputs": [
    {
     "name": "stderr",
     "output_type": "stream",
     "text": [
      "RTED data check passed.\n",
      "- Generating symbols for RTED\n",
      "Set constrs pb: sum(pd1) + sum(pd2) - sum(pg)\n",
      "Set constrs lub: PTDF1 @ (pg - pd1) - PTDF2 * pd2 - rate_a\n",
      "Set constrs llb: - PTDF1 @ (pg - pd1) + PTDF2 * pd2 - rate_a\n",
      "Set constrs rbu: gs @ pru - du\n",
      "Set constrs rbd: gs @ prd - dd\n",
      "Set constrs rru: pg + pru - pmax\n",
      "Set constrs rrd: -pg + prd - pmin\n",
      "Set constrs rgu: pg - pg0 - R10\n",
      "Set constrs rgd: -pg + pg0 - R10\n",
      "RTED model set up in 0.0297 seconds.\n",
      "RTED failed as infeasible with exit code 1!\n"
     ]
    },
    {
     "data": {
      "text/plain": [
       "False"
      ]
     },
     "execution_count": 21,
     "metadata": {},
     "output_type": "execute_result"
    }
   ],
   "source": [
    "sp.RTED.run()"
   ]
  },
  {
   "cell_type": "code",
   "execution_count": 22,
   "metadata": {},
   "outputs": [
    {
     "data": {
      "text/plain": [
       "Var: StaticGen.pg, a=[0 1 2 3 4], v=None"
      ]
     },
     "execution_count": 22,
     "metadata": {},
     "output_type": "execute_result"
    }
   ],
   "source": [
    "sp.RTED.pg"
   ]
  },
  {
   "cell_type": "code",
   "execution_count": 23,
   "metadata": {},
   "outputs": [
    {
     "name": "stderr",
     "output_type": "stream",
     "text": [
      "RTED is not solved optimally.\n"
     ]
    },
    {
     "data": {
      "text/plain": [
       "False"
      ]
     },
     "execution_count": 23,
     "metadata": {},
     "output_type": "execute_result"
    }
   ],
   "source": [
    "sp.dyn.send()"
   ]
  }
 ],
 "metadata": {
  "kernelspec": {
   "display_name": "ams",
   "language": "python",
   "name": "python3"
  },
  "language_info": {
   "codemirror_mode": {
    "name": "ipython",
    "version": 3
   },
   "file_extension": ".py",
   "mimetype": "text/x-python",
   "name": "python",
   "nbconvert_exporter": "python",
   "pygments_lexer": "ipython3",
   "version": "3.10.11"
  },
  "orig_nbformat": 4,
  "vscode": {
   "interpreter": {
    "hash": "d2b3bf80176349caa68dc4a3c77bd06eaade8abc678330f7d1c813c53380e5d2"
   }
  }
 },
 "nbformat": 4,
 "nbformat_minor": 2
}
