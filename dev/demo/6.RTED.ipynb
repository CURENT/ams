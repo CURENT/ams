{
 "cells": [
  {
   "attachments": {},
   "cell_type": "markdown",
   "metadata": {},
   "source": [
    "# CoSim - RTED"
   ]
  },
  {
   "cell_type": "code",
   "execution_count": 1,
   "metadata": {},
   "outputs": [],
   "source": [
    "import numpy as np\n",
    "\n",
    "import andes\n",
    "import ams\n",
    "\n",
    "import pandas as pd\n",
    "\n",
    "import json\n",
    "\n",
    "import cvxpy as cp"
   ]
  },
  {
   "cell_type": "code",
   "execution_count": 2,
   "metadata": {},
   "outputs": [
    {
     "data": {
      "text/plain": [
       "'0.6.4.post103.dev0+gf8d04e9'"
      ]
     },
     "execution_count": 2,
     "metadata": {},
     "output_type": "execute_result"
    }
   ],
   "source": [
    "ams.__version__"
   ]
  },
  {
   "cell_type": "code",
   "execution_count": 3,
   "metadata": {},
   "outputs": [],
   "source": [
    "andes.config_logger(stream_level=20)"
   ]
  },
  {
   "cell_type": "code",
   "execution_count": 4,
   "metadata": {},
   "outputs": [
    {
     "name": "stderr",
     "output_type": "stream",
     "text": [
      "Working directory: \"/home/jwang/work/ams/dev/demo\"\n",
      "> Loaded config from file \"/home/jwang/.andes/andes.rc\"\n",
      "> Loaded generated Python code in \"/home/jwang/.andes/pycode\".\n",
      "Parsing input file \"/home/jwang/.local/lib/python3.10/site-packages/andes/cases/kundur/kundur_coi.xlsx\"...\n",
      "Input file parsed in 0.1589 seconds.\n",
      "System internal structure set up in 0.0449 seconds.\n"
     ]
    }
   ],
   "source": [
    "sa = andes.load(andes.get_case('kundur/kundur_coi.xlsx'),\n",
    "                setup=True,\n",
    "                no_output=True,\n",
    "                )\n"
   ]
  },
  {
   "cell_type": "code",
   "execution_count": 5,
   "metadata": {},
   "outputs": [],
   "source": [
    "ams.config_logger(stream_level=10)"
   ]
  },
  {
   "cell_type": "code",
   "execution_count": 6,
   "metadata": {},
   "outputs": [
    {
     "name": "stderr",
     "output_type": "stream",
     "text": [
      "Working directory: \"/home/jwang/work/ams/dev/demo\"\n",
      "Input format guessed as xlsx.\n",
      "Parsing input file \"/home/jwang/work/ams/ams/cases/ieee14/ieee14_rted.xlsx\"...\n",
      "Input file parsed in 0.0636 seconds.\n",
      "Adjust bus index to start from 0.\n",
      "System set up in 0.0098 seconds.\n"
     ]
    }
   ],
   "source": [
    "sp = ams.load(ams.get_case('ieee14/ieee14_rted.xlsx'),\n",
    "              setup=True,\n",
    "              )"
   ]
  },
  {
   "cell_type": "code",
   "execution_count": 7,
   "metadata": {},
   "outputs": [
    {
     "name": "stderr",
     "output_type": "stream",
     "text": [
      "Setup model of RTED\n",
      "RTED pg0 are all zeros, correct to p0.\n",
      "RTED data check passed.\n",
      "- Generating symbols for RTED\n",
      "Set constrs pb: self.constrs[\"pb\"]=cp.sum(self.routine.pd.v) - cp.sum(self.pg) == 0\n",
      "Set constrs lub: self.constrs[\"lub\"]=self.routine.PTDF1.v @ (self.pg - self.routine.pd1.v) - self.routine.PTDF2.v @ self.routine.pd2.v - self.routine.rate_a.v <= 0\n",
      "Set constrs llb: self.constrs[\"llb\"]=- self.routine.PTDF1.v @ (self.pg - self.routine.pd1.v) + self.routine.PTDF2.v @ self.routine.pd2.v - self.routine.rate_a.v <= 0\n",
      "Set constrs rbu: self.constrs[\"rbu\"]=self.routine.prs.v @ self.pru - self.routine.du.v == 0\n",
      "Set constrs rbd: self.constrs[\"rbd\"]=self.routine.prs.v @ self.prd - self.routine.dd.v == 0\n",
      "Set constrs rru: self.constrs[\"rru\"]=self.pg + self.pru - self.routine.pmax.v <= 0\n",
      "Set constrs rrd: self.constrs[\"rrd\"]=-self.pg + self.prd - self.routine.pmin.v <= 0\n",
      "Set constrs rgu: self.constrs[\"rgu\"]=self.pg - self.routine.pg0.v - self.routine.R10.v <= 0\n",
      "Set constrs rgd: self.constrs[\"rgd\"]=-self.pg + self.routine.pg0.v - self.routine.R10.v <= 0\n",
      "RTED model set up in 0.0235 seconds.\n",
      "RTED completed in 0.0281 seconds with exit code 0.\n"
     ]
    }
   ],
   "source": [
    "sp.RTED.run()"
   ]
  },
  {
   "cell_type": "code",
   "execution_count": 8,
   "metadata": {},
   "outputs": [
    {
     "name": "stderr",
     "output_type": "stream",
     "text": [
      "Setup model for ACOPF\n",
      "ACOPF data check passed.\n",
      "- Generating symbols for ACOPF\n",
      "Set constrs pb: self.constrs[\"pb\"]=cp.sum(self.routine.pd.v) - cp.sum(self.pg) == 0\n",
      "ACOPF model set up in 0.0054 seconds.\n",
      "Adjust bus index to start from 0.\n",
      "PYPOWER Version 5.1.4, 27-June-2018\n",
      " -- AC Optimal Power Flow\n",
      "\n"
     ]
    },
    {
     "name": "stdout",
     "output_type": "stream",
     "text": [
      "Python Interior Point Solver - PIPS, Version 1.0, 07-Feb-2011\n"
     ]
    },
    {
     "name": "stderr",
     "output_type": "stream",
     "text": [
      "ACOPF completed in 0.6783 seconds with exit code 0.\n",
      "RTED is smoothed with ACOPF.\n"
     ]
    },
    {
     "name": "stdout",
     "output_type": "stream",
     "text": [
      "Converged!\n"
     ]
    },
    {
     "data": {
      "text/plain": [
       "True"
      ]
     },
     "execution_count": 8,
     "metadata": {},
     "output_type": "execute_result"
    }
   ],
   "source": [
    "sp.RTED.smooth()"
   ]
  },
  {
   "cell_type": "code",
   "execution_count": 9,
   "metadata": {},
   "outputs": [
    {
     "name": "stderr",
     "output_type": "stream",
     "text": [
      "JSON file written to \"ieee14_rted.json\"\n",
      "System convert to ANDES in 0.1631 seconds, save to \"ieee14_rted.json\".\n",
      "Working directory: \"/home/jwang/work/ams/dev/demo\"\n",
      "> Loaded config from file \"/home/jwang/.andes/andes.rc\"\n",
      "> Reloaded generated Python code of module \"pycode\".\n",
      "Parsing input file \"ieee14_rted.json\"...\n",
      "Input file parsed in 0.0033 seconds.\n",
      "Converted file is removed. Set \"keep = True\" to keep it.\n",
      "Addfile format guessed as xlsx.\n",
      "Parsing additional file \"/home/jwang/.local/lib/python3.10/site-packages/andes/cases/ieee14/ieee14_wt3.xlsx\"...\n",
      "Power flow models exist in the addfile. Only dynamic models will be kept.\n",
      "Correct SynGen idx to match StaticGen.\n",
      "Correct RenGen idx to match StaticGen.\n",
      "Addfile parsed in 0.1274 seconds.\n",
      "AMS system 0x7f4d86214430 link to ANDES system 0x7f4d845f5cf0 in 0.1350 seconds.\n",
      "System internal structure set up in 0.0485 seconds.\n"
     ]
    },
    {
     "data": {
      "text/plain": [
       "True"
      ]
     },
     "execution_count": 9,
     "metadata": {},
     "output_type": "execute_result"
    }
   ],
   "source": [
    "sa = sp.to_andes(setup=False,\n",
    "                 addfile=andes.get_case('ieee14/ieee14_wt3.xlsx'),\n",
    "                 overwrite=True,\n",
    "                 keep=False,\n",
    "                 no_output=True,\n",
    "                 )\n",
    "\n",
    "sa.add(\"Toggle\", dict(model='SynGen', dev=\"GENROU_4\", t=11.0))\n",
    "\n",
    "sa.setup()"
   ]
  },
  {
   "cell_type": "code",
   "execution_count": 10,
   "metadata": {},
   "outputs": [
    {
     "name": "stderr",
     "output_type": "stream",
     "text": [
      "RTED results has been smoothed.\n",
      "Sending RTED results to ANDES...\n",
      "Sending results to <pflow> models...\n",
      "Var <RTED.vBus> is mapped to <v0> of Bus.\n"
     ]
    },
    {
     "data": {
      "text/plain": [
       "True"
      ]
     },
     "execution_count": 10,
     "metadata": {},
     "output_type": "execute_result"
    }
   ],
   "source": [
    "sp.dyn.send()"
   ]
  },
  {
   "cell_type": "code",
   "execution_count": 11,
   "metadata": {},
   "outputs": [
    {
     "name": "stderr",
     "output_type": "stream",
     "text": [
      "-> System connectivity check results:\n",
      "  No islanded bus detected.\n",
      "  System is interconnected.\n",
      "  Each island has a slack bus correctly defined and enabled.\n",
      "\n",
      "-> Power flow calculation\n",
      "           Numba: Off\n",
      "   Sparse solver: KLU\n",
      " Solution method: NR method\n",
      "Power flow initialized in 0.0087 seconds.\n",
      "0: |F(x)| = 0.5605182162\n",
      "1: |F(x)| = 0.006202200463\n",
      "2: |F(x)| = 5.819382991e-06\n",
      "3: |F(x)| = 6.960640397e-12\n",
      "Converged in 4 iterations in 0.0132 seconds.\n"
     ]
    },
    {
     "data": {
      "text/plain": [
       "True"
      ]
     },
     "execution_count": 11,
     "metadata": {},
     "output_type": "execute_result"
    }
   ],
   "source": [
    "sa.PFlow.run()"
   ]
  },
  {
   "cell_type": "code",
   "execution_count": 12,
   "metadata": {},
   "outputs": [
    {
     "data": {
      "text/plain": [
       "RParam: StaticGen.pg0, v=[0. 0. 0. 0. 0.]"
      ]
     },
     "execution_count": 12,
     "metadata": {},
     "output_type": "execute_result"
    }
   ],
   "source": [
    "sp.RTED.pg0"
   ]
  },
  {
   "cell_type": "code",
   "execution_count": 13,
   "metadata": {},
   "outputs": [
    {
     "data": {
      "text/plain": [
       "True"
      ]
     },
     "execution_count": 13,
     "metadata": {},
     "output_type": "execute_result"
    }
   ],
   "source": [
    "idx_tg = sa.TGOV1.idx.v\n",
    "vmax0 = sa.TGOV1.get(src='VMAX', attr='v', idx=idx_tg)\n",
    "sa.TGOV1.set(src='VMAX', attr='v', idx=idx_tg, value=10 * vmax0)\n",
    "vmin0 = sa.TGOV1.get(src='VMIN', attr='v', idx=idx_tg)\n",
    "sa.TGOV1.set(src='VMIN', attr='v', idx=idx_tg, value=np.zeros_like(vmin0))"
   ]
  },
  {
   "cell_type": "code",
   "execution_count": 14,
   "metadata": {},
   "outputs": [
    {
     "name": "stderr",
     "output_type": "stream",
     "text": [
      "\n",
      "-> Time Domain Simulation Summary:\n",
      "Sparse Solver: KLU\n",
      "Simulation time: 0.0-10 s.\n",
      "Fixed step size: h=33.33 ms. Shrink if not converged.\n",
      "Initialization for dynamics completed in 0.1246 seconds.\n",
      "Initialization was successful.\n"
     ]
    },
    {
     "data": {
      "application/vnd.jupyter.widget-view+json": {
       "model_id": "c40ebb4221ed42b2b0afe7b8142af0cf",
       "version_major": 2,
       "version_minor": 0
      },
      "text/plain": [
       "  0%|          | 0/100 [00:00<?, ?%/s]"
      ]
     },
     "metadata": {},
     "output_type": "display_data"
    },
    {
     "name": "stdout",
     "output_type": "stream",
     "text": [
      "<Toggle Toggler_1>: Line.Line_1 status changed to 0 at t=1.0 sec.\n",
      "<Toggle Toggler_2>: Line.Line_1 status changed to 1 at t=1.1 sec.\n"
     ]
    },
    {
     "name": "stderr",
     "output_type": "stream",
     "text": [
      "Simulation to t=10.00 sec completed in 2.2809 seconds.\n"
     ]
    },
    {
     "data": {
      "text/plain": [
       "True"
      ]
     },
     "execution_count": 14,
     "metadata": {},
     "output_type": "execute_result"
    }
   ],
   "source": [
    "sa.TDS.config.tf = 10\n",
    "sa.TDS.run()"
   ]
  },
  {
   "cell_type": "code",
   "execution_count": 15,
   "metadata": {},
   "outputs": [],
   "source": [
    "# sa.TDS.config.tf = 20\n",
    "# sa.TDS.run()"
   ]
  },
  {
   "cell_type": "code",
   "execution_count": 16,
   "metadata": {},
   "outputs": [
    {
     "data": {
      "text/plain": [
       "<andes.system.System at 0x7f4d845f5cf0>"
      ]
     },
     "execution_count": 16,
     "metadata": {},
     "output_type": "execute_result"
    }
   ],
   "source": [
    "sp.dyn.sa"
   ]
  },
  {
   "cell_type": "code",
   "execution_count": 17,
   "metadata": {},
   "outputs": [
    {
     "name": "stderr",
     "output_type": "stream",
     "text": [
      "RTED results has been smoothed.\n",
      "Sending RTED results to ANDES...\n",
      "Sending results to <tds> models...\n",
      "Generator online status are sent to dynamic generators.\n",
      "Dynamic has been initialized, Bus angle and voltage are skipped.\n",
      "Var <RTED.pg> is mapped to <p0> of StaticGen.\n"
     ]
    }
   ],
   "source": [
    "sp.dyn.send()"
   ]
  },
  {
   "cell_type": "code",
   "execution_count": 18,
   "metadata": {},
   "outputs": [
    {
     "name": "stderr",
     "output_type": "stream",
     "text": [
      "Receiving ANDES results to RTED.\n",
      "Receiving <tds> results to RTED...\n",
      "Generator online status are received from dynamic generators.\n",
      "Generator output power are received from dynamic generators.\n"
     ]
    },
    {
     "data": {
      "text/plain": [
       "True"
      ]
     },
     "execution_count": 18,
     "metadata": {},
     "output_type": "execute_result"
    }
   ],
   "source": [
    "sp.dyn.receive()"
   ]
  }
 ],
 "metadata": {
  "kernelspec": {
   "display_name": "ams",
   "language": "python",
   "name": "python3"
  },
  "language_info": {
   "codemirror_mode": {
    "name": "ipython",
    "version": 3
   },
   "file_extension": ".py",
   "mimetype": "text/x-python",
   "name": "python",
   "nbconvert_exporter": "python",
   "pygments_lexer": "ipython3",
   "version": "3.10.11"
  },
  "orig_nbformat": 4,
  "vscode": {
   "interpreter": {
    "hash": "d2b3bf80176349caa68dc4a3c77bd06eaade8abc678330f7d1c813c53380e5d2"
   }
  }
 },
 "nbformat": 4,
 "nbformat_minor": 2
}
