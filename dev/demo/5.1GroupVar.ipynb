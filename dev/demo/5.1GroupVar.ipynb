{
 "cells": [
  {
   "attachments": {},
   "cell_type": "markdown",
   "metadata": {},
   "source": [
    "# Optimization"
   ]
  },
  {
   "cell_type": "code",
   "execution_count": 1,
   "metadata": {},
   "outputs": [],
   "source": [
    "import scipy\n",
    "import sympy as smp\n",
    "import numpy as np\n",
    "\n",
    "import andes\n",
    "import ams"
   ]
  },
  {
   "cell_type": "code",
   "execution_count": 2,
   "metadata": {},
   "outputs": [],
   "source": [
    "andes.config_logger(stream_level=10)"
   ]
  },
  {
   "cell_type": "code",
   "execution_count": 3,
   "metadata": {},
   "outputs": [
    {
     "name": "stderr",
     "output_type": "stream",
     "text": [
      "Working directory: \"/Users/jinningwang/Documents/work/ams/dev/demo\"\n",
      "Found files: ['/Users/jinningwang/Documents/work/mambaforge/envs/ams/lib/python3.9/site-packages/andes/cases/ieee14/ieee14_ace.xlsx']\n",
      "> Loaded config from file \"/Users/jinningwang/.andes/andes.rc\"\n",
      "> Loaded generated Python code in \"/Users/jinningwang/.andes/pycode\".\n",
      "Input format guessed as xlsx.\n",
      "Parsing input file \"/Users/jinningwang/Documents/work/mambaforge/envs/ams/lib/python3.9/site-packages/andes/cases/ieee14/ieee14_ace.xlsx\"...\n",
      "Input file parsed in 0.3804 seconds.\n",
      "Setting internal address for Bus\n",
      "Setting internal address for PQ\n",
      "Setting internal address for PV\n",
      "Setting internal address for Slack\n",
      "Setting internal address for Shunt\n",
      "Setting internal address for Line\n",
      "Setting internal address for Area\n",
      "System internal structure set up in 0.0248 seconds.\n"
     ]
    }
   ],
   "source": [
    "sa = andes.load(andes.get_case('ieee14/ieee14_ace.xlsx'),\n",
    "              setup=True,)"
   ]
  },
  {
   "cell_type": "code",
   "execution_count": 4,
   "metadata": {},
   "outputs": [],
   "source": [
    "ams.config_logger(stream_level=10)"
   ]
  },
  {
   "cell_type": "code",
   "execution_count": 5,
   "metadata": {},
   "outputs": [
    {
     "name": "stderr",
     "output_type": "stream",
     "text": [
      "Working directory: \"/Users/jinningwang/Documents/work/ams/dev/demo\"\n",
      "Found files: ['/Users/jinningwang/Documents/work/ams/ams/cases/matpower/case14.m']\n",
      "Input format guessed as matpower.\n",
      "Parsing input file \"/Users/jinningwang/Documents/work/ams/ams/cases/matpower/case14.m\"...\n",
      "Detected raw file encoding: {'encoding': 'ascii', 'confidence': 1.0, 'language': ''}\n",
      "CASE14    Power flow data for IEEE 14 bus test case.\n",
      "Input file parsed in 0.0324 seconds.\n",
      "out_dict OrderedDict([('v', array([1., 1., 1., 1., 1.])), ('vin', array([1., 1., 1., 1., 1.])), ('pu_coeff', array([1., 1., 1., 1., 1.]))])\n",
      "out_dict OrderedDict([('v', array(['PV 2', 'PV 3', 'PV 6', 'PV 8', 'Slack 1'], dtype='<U7'))])\n",
      "out_dict OrderedDict([('v', array([2, 3, 4, 5, 1]))])\n",
      "out_dict OrderedDict([('v', array([100., 100., 100., 100., 100.])), ('vin', array([100., 100., 100., 100., 100.])), ('pu_coeff', array([1., 1., 1., 1., 1.]))])\n",
      "out_dict OrderedDict([('v', array([110., 110., 110., 110., 110.])), ('vin', array([110., 110., 110., 110., 110.])), ('pu_coeff', array([1., 1., 1., 1., 1.]))])\n",
      "out_dict OrderedDict([('v', array([0.4  , 0.   , 0.   , 0.   , 2.324])), ('vin', array([0.4  , 0.   , 0.   , 0.   , 2.324])), ('pu_coeff', array([1., 1., 1., 1., 1.]))])\n",
      "out_dict OrderedDict([('v', array([ 0.424,  0.234,  0.122,  0.174, -0.169])), ('vin', array([ 0.424,  0.234,  0.122,  0.174, -0.169])), ('pu_coeff', array([1., 1., 1., 1., 1.]))])\n",
      "out_dict OrderedDict([('v', array([0., 0., 0., 0., 0.])), ('vin', array([0., 0., 0., 0., 0.])), ('pu_coeff', array([1., 1., 1., 1., 1.]))])\n",
      "out_dict OrderedDict([('v', array([0.3, 0.3, 0.3, 0.3, 0.3])), ('vin', array([0.3, 0.3, 0.3, 0.3, 0.3])), ('pu_coeff', array([1., 1., 1., 1., 1.]))])\n",
      "out_dict OrderedDict([('v', array([None, None, None, None, None], dtype=object))])\n",
      "System set up in 0.0181 seconds.\n"
     ]
    }
   ],
   "source": [
    "sp = ams.load(ams.get_case('matpower/case14.m'),\n",
    "              setup=True,)"
   ]
  },
  {
   "cell_type": "code",
   "execution_count": 11,
   "metadata": {},
   "outputs": [
    {
     "name": "stdout",
     "output_type": "stream",
     "text": [
      "device value [0.424 0.234 0.122 0.174] [-0.169]\n",
      "group value: [ 0.424  1.     0.122  0.174 -0.169]\n",
      "Alter group value\n",
      "device value [0.424 0.234 0.122 0.174] [-0.169]\n",
      "group value: [ 0.424  1.     0.122  0.174 -0.169]\n"
     ]
    }
   ],
   "source": [
    "print(\"device value\", sp.PV.q0.v, sp.Slack.q0.v)\n",
    "print(\"group value:\", sp.StaticGen.q0.v)\n",
    "sp.StaticGen.q0.v[1] = 1\n",
    "print(\"Alter group value\")\n",
    "print(\"device value\", sp.PV.q0.v, sp.Slack.q0.v)\n",
    "print(\"group value:\", sp.StaticGen.q0.v)"
   ]
  },
  {
   "cell_type": "code",
   "execution_count": null,
   "metadata": {},
   "outputs": [],
   "source": []
  }
 ],
 "metadata": {
  "kernelspec": {
   "display_name": "ams",
   "language": "python",
   "name": "python3"
  },
  "language_info": {
   "codemirror_mode": {
    "name": "ipython",
    "version": 3
   },
   "file_extension": ".py",
   "mimetype": "text/x-python",
   "name": "python",
   "nbconvert_exporter": "python",
   "pygments_lexer": "ipython3",
   "version": "3.10.9"
  },
  "orig_nbformat": 4,
  "vscode": {
   "interpreter": {
    "hash": "d2b3bf80176349caa68dc4a3c77bd06eaade8abc678330f7d1c813c53380e5d2"
   }
  }
 },
 "nbformat": 4,
 "nbformat_minor": 2
}
