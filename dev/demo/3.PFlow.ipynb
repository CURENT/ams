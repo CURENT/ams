{
 "cells": [
  {
   "attachments": {},
   "cell_type": "markdown",
   "metadata": {},
   "source": [
    "#  Routines PFlow"
   ]
  },
  {
   "cell_type": "code",
   "execution_count": 1,
   "metadata": {},
   "outputs": [
    {
     "name": "stdout",
     "output_type": "stream",
     "text": [
      "0.6.post9.dev0+g94f1297\n"
     ]
    }
   ],
   "source": [
    "import ams\n",
    "import numpy as np\n",
    "\n",
    "print(ams.__version__)"
   ]
  },
  {
   "cell_type": "code",
   "execution_count": 2,
   "metadata": {},
   "outputs": [],
   "source": [
    "ams.config_logger(stream_level=10)"
   ]
  },
  {
   "cell_type": "code",
   "execution_count": 3,
   "metadata": {},
   "outputs": [
    {
     "name": "stderr",
     "output_type": "stream",
     "text": [
      "Input format guessed as pypower.\n",
      "Parsing input file \"/home/jwang175/ams/ams/cases/pypower/case14.py\"...\n",
      "Input file parsed in 0.0043 seconds.\n",
      "System set up in 0.0019 seconds.\n"
     ]
    }
   ],
   "source": [
    "spa = ams.load(ams.get_case('pypower/case14.py'),\n",
    "               setup=True)"
   ]
  },
  {
   "cell_type": "code",
   "execution_count": 4,
   "metadata": {},
   "outputs": [
    {
     "name": "stderr",
     "output_type": "stream",
     "text": [
      "PYPOWER Version 5.1.4, 27-June-2018\n",
      "\n",
      "Newton's method power flow converged in 2 iterations.\n",
      "\n"
     ]
    },
    {
     "name": "stdout",
     "output_type": "stream",
     "text": [
      " -- AC Power Flow (Newton)\n",
      "\n"
     ]
    },
    {
     "data": {
      "text/plain": [
       "True"
      ]
     },
     "execution_count": 4,
     "metadata": {},
     "output_type": "execute_result"
    }
   ],
   "source": [
    "spa.PFlow.run()"
   ]
  },
  {
   "cell_type": "code",
   "execution_count": 5,
   "metadata": {},
   "outputs": [
    {
     "data": {
      "text/plain": [
       "OrderedDict([('a_Bus',\n",
       "              OrderedDict([('algeb', Bus.a (14 Algebs) at 0x7f23e42ce130),\n",
       "                           ('a', [0, 13])])),\n",
       "             ('v_Bus',\n",
       "              OrderedDict([('algeb', Bus.v (14 Algebs) at 0x7f23e42ce310),\n",
       "                           ('a', [14, 27])])),\n",
       "             ('q_PV',\n",
       "              OrderedDict([('algeb', PV.q (4 Algebs) at 0x7f23e42d89d0),\n",
       "                           ('a', [28, 31])])),\n",
       "             ('p_Slack',\n",
       "              OrderedDict([('algeb', Slack.p (1 Algeb) at 0x7f23e42663d0),\n",
       "                           ('a', [32])])),\n",
       "             ('q_Slack',\n",
       "              OrderedDict([('algeb', Slack.q (1 Algeb) at 0x7f23e4266610),\n",
       "                           ('a', [33])]))])"
      ]
     },
     "execution_count": 5,
     "metadata": {},
     "output_type": "execute_result"
    }
   ],
   "source": [
    "spa.PFlow.algebs"
   ]
  },
  {
   "cell_type": "code",
   "execution_count": 6,
   "metadata": {},
   "outputs": [
    {
     "data": {
      "text/plain": [
       "array([ 1.06000000e+00,  1.04500000e+00,  1.01000000e+00,  1.01900000e+00,\n",
       "        1.02000000e+00,  1.07000000e+00,  1.06200000e+00,  1.09000000e+00,\n",
       "        1.05600000e+00,  1.05100000e+00,  1.05700000e+00,  1.05500000e+00,\n",
       "        1.05000000e+00,  1.03600000e+00,  0.00000000e+00, -8.69173967e-02,\n",
       "       -2.22005881e-01, -1.80292512e-01, -1.53239908e-01, -2.48185820e-01,\n",
       "       -2.33350521e-01, -2.33175988e-01, -2.60752190e-01, -2.63544717e-01,\n",
       "       -2.58134196e-01, -2.63021118e-01, -2.64591915e-01, -2.79950812e-01,\n",
       "        4.24000000e+01,  2.34000000e+01,  1.22000000e+01,  1.74000000e+01,\n",
       "        2.32400000e+02, -1.69000000e+01])"
      ]
     },
     "execution_count": 6,
     "metadata": {},
     "output_type": "execute_result"
    }
   ],
   "source": [
    "spa.PFlow.v"
   ]
  },
  {
   "cell_type": "code",
   "execution_count": 7,
   "metadata": {},
   "outputs": [
    {
     "data": {
      "text/plain": [
       "array([1.06 , 1.045, 1.01 , 1.019, 1.02 , 1.07 , 1.062, 1.09 , 1.056,\n",
       "       1.051, 1.057, 1.055, 1.05 , 1.036])"
      ]
     },
     "execution_count": 7,
     "metadata": {},
     "output_type": "execute_result"
    }
   ],
   "source": [
    "spa.Bus.a.v"
   ]
  },
  {
   "cell_type": "code",
   "execution_count": 8,
   "metadata": {},
   "outputs": [
    {
     "data": {
      "text/plain": [
       "array([ 0.        , -0.0869174 , -0.22200588, -0.18029251, -0.15323991,\n",
       "       -0.24818582, -0.23335052, -0.23317599, -0.26075219, -0.26354472,\n",
       "       -0.2581342 , -0.26302112, -0.26459191, -0.27995081])"
      ]
     },
     "execution_count": 8,
     "metadata": {},
     "output_type": "execute_result"
    }
   ],
   "source": [
    "spa.Bus.v.v"
   ]
  },
  {
   "cell_type": "code",
   "execution_count": 9,
   "metadata": {},
   "outputs": [],
   "source": [
    "ppca = ams.io.pypower.system2ppc(spa)"
   ]
  },
  {
   "cell_type": "code",
   "execution_count": 10,
   "metadata": {},
   "outputs": [],
   "source": [
    "ppc = ams.io.pypower.py2ppc(ams.get_case('pypower/case14.py'))"
   ]
  },
  {
   "cell_type": "code",
   "execution_count": 11,
   "metadata": {},
   "outputs": [],
   "source": [
    "from ams.solver.pypower.runpf import runpf"
   ]
  },
  {
   "cell_type": "code",
   "execution_count": 12,
   "metadata": {},
   "outputs": [
    {
     "name": "stderr",
     "output_type": "stream",
     "text": [
      "PYPOWER Version 5.1.4, 27-June-2018\n",
      "\n",
      "Newton's method power flow converged in 2 iterations.\n",
      "\n"
     ]
    },
    {
     "name": "stdout",
     "output_type": "stream",
     "text": [
      " -- AC Power Flow (Newton)\n",
      "\n"
     ]
    }
   ],
   "source": [
    "ra, _ = runpf(ppca)"
   ]
  },
  {
   "cell_type": "code",
   "execution_count": 13,
   "metadata": {},
   "outputs": [
    {
     "name": "stderr",
     "output_type": "stream",
     "text": [
      "PYPOWER Version 5.1.4, 27-June-2018\n",
      "\n",
      "Newton's method power flow converged in 2 iterations.\n",
      "\n"
     ]
    },
    {
     "name": "stdout",
     "output_type": "stream",
     "text": [
      " -- AC Power Flow (Newton)\n",
      "\n"
     ]
    }
   ],
   "source": [
    "rc, _ = runpf(ppc)"
   ]
  },
  {
   "attachments": {},
   "cell_type": "markdown",
   "metadata": {},
   "source": [
    "Bus voltage"
   ]
  },
  {
   "cell_type": "code",
   "execution_count": 14,
   "metadata": {},
   "outputs": [
    {
     "data": {
      "text/plain": [
       "True"
      ]
     },
     "execution_count": 14,
     "metadata": {},
     "output_type": "execute_result"
    }
   ],
   "source": [
    "np.allclose(ra['bus'][:, 7], rc['bus'][:, 7], rtol=1e-05, atol=1e-08, equal_nan=False)"
   ]
  },
  {
   "attachments": {},
   "cell_type": "markdown",
   "metadata": {},
   "source": [
    "Bus angle"
   ]
  },
  {
   "cell_type": "code",
   "execution_count": 15,
   "metadata": {},
   "outputs": [
    {
     "data": {
      "text/plain": [
       "True"
      ]
     },
     "execution_count": 15,
     "metadata": {},
     "output_type": "execute_result"
    }
   ],
   "source": [
    "np.allclose(ra['bus'][:, 8], rc['bus'][:, 8], rtol=1e-05, atol=1e-08, equal_nan=False)"
   ]
  }
 ],
 "metadata": {
  "kernelspec": {
   "display_name": "Python 3",
   "language": "python",
   "name": "python3"
  },
  "language_info": {
   "codemirror_mode": {
    "name": "ipython",
    "version": 3
   },
   "file_extension": ".py",
   "mimetype": "text/x-python",
   "name": "python",
   "nbconvert_exporter": "python",
   "pygments_lexer": "ipython3",
   "version": "3.9.16"
  },
  "orig_nbformat": 4,
  "vscode": {
   "interpreter": {
    "hash": "e1a4d90b80a1cb3618c2a91ebbb923b8817dd472db86ccd34df1a28e253a5ec7"
   }
  }
 },
 "nbformat": 4,
 "nbformat_minor": 2
}
