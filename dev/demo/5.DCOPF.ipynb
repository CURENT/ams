{
 "cells": [
  {
   "attachments": {},
   "cell_type": "markdown",
   "metadata": {},
   "source": [
    "# DCOPF"
   ]
  },
  {
   "cell_type": "code",
   "execution_count": 1,
   "metadata": {},
   "outputs": [],
   "source": [
    "import scipy\n",
    "import sympy as smp\n",
    "import numpy as np\n",
    "import pandas as pd\n",
    "\n",
    "import andes\n",
    "from andes.shared import rad2deg\n",
    "import ams\n",
    "\n",
    "from ams.solver.pypower.makePTDF import makePTDF\n",
    "from ams.solver.pypower.makeBdc import makeBdc\n",
    "\n",
    "import pandapower as pp\n",
    "\n",
    "from pandapower.pypower.makePTDF import makePTDF as ppmakePTDF\n",
    "from pandapower.pd2ppc import _pd2ppc\n",
    "\n",
    "import pandapower.networks as ppnet\n",
    "from scipy.sparse import lil_matrix, csr_matrix, eye, linalg\n"
   ]
  },
  {
   "cell_type": "code",
   "execution_count": 2,
   "metadata": {},
   "outputs": [],
   "source": [
    "andes.config_logger(stream_level=10)"
   ]
  },
  {
   "cell_type": "code",
   "execution_count": 3,
   "metadata": {},
   "outputs": [
    {
     "name": "stderr",
     "output_type": "stream",
     "text": [
      "Working directory: \"/Users/jinningwang/Documents/work/ams/dev/demo\"\n",
      "Found files: ['/Users/jinningwang/Documents/work/mambaforge/envs/ams/lib/python3.9/site-packages/andes/cases/ieee14/ieee14_ace.xlsx']\n",
      "> Loaded config from file \"/Users/jinningwang/.andes/andes.rc\"\n",
      "> Loaded generated Python code in \"/Users/jinningwang/.andes/pycode\".\n",
      "Input format guessed as xlsx.\n",
      "Parsing input file \"/Users/jinningwang/Documents/work/mambaforge/envs/ams/lib/python3.9/site-packages/andes/cases/ieee14/ieee14_ace.xlsx\"...\n",
      "Input file parsed in 0.0421 seconds.\n",
      "Setting internal address for Bus\n",
      "Setting internal address for PQ\n",
      "Setting internal address for PV\n",
      "Setting internal address for Slack\n",
      "Setting internal address for Shunt\n",
      "Setting internal address for Line\n",
      "Setting internal address for Area\n",
      "System internal structure set up in 0.0305 seconds.\n"
     ]
    }
   ],
   "source": [
    "sa = andes.load(andes.get_case('ieee14/ieee14_ace.xlsx'),\n",
    "              setup=True,)"
   ]
  },
  {
   "cell_type": "code",
   "execution_count": 4,
   "metadata": {},
   "outputs": [],
   "source": [
    "ams.config_logger(stream_level=10)"
   ]
  },
  {
   "cell_type": "code",
   "execution_count": 5,
   "metadata": {},
   "outputs": [
    {
     "name": "stderr",
     "output_type": "stream",
     "text": [
      "Working directory: \"/Users/jinningwang/Documents/work/ams/dev/demo\"\n",
      "Found files: ['/Users/jinningwang/Documents/work/ams/ams/cases/matpower/case14.m']\n",
      "Input format guessed as matpower.\n",
      "Parsing input file \"/Users/jinningwang/Documents/work/ams/ams/cases/matpower/case14.m\"...\n",
      "Detected raw file encoding: {'encoding': 'ascii', 'confidence': 1.0, 'language': ''}\n",
      "CASE14    Power flow data for IEEE 14 bus test case.\n",
      "Input file parsed in 0.0165 seconds.\n",
      "System set up in 0.0037 seconds.\n"
     ]
    }
   ],
   "source": [
    "sp = ams.load(ams.get_case('matpower/case14.m'),\n",
    "              setup=True,)\n",
    "\n",
    "ppc = ams.io.pypower.system2ppc(sp)\n",
    "\n",
    "ppn = ppnet.case14()\n",
    "pp.rundcpp(ppn)\n",
    "_, ppci = _pd2ppc(ppn)"
   ]
  },
  {
   "cell_type": "code",
   "execution_count": 6,
   "metadata": {},
   "outputs": [
    {
     "data": {
      "text/plain": [
       "array([[ 0.00000000e+00, -8.38018650e-01, -7.46511686e-01,\n",
       "        -6.67457103e-01, -6.10585100e-01, -6.29142986e-01,\n",
       "        -6.57253254e-01, -6.57253254e-01, -6.51764652e-01,\n",
       "        -6.47744354e-01, -6.38606148e-01, -6.30930552e-01,\n",
       "        -6.32327286e-01, -6.43266147e-01],\n",
       "       [ 0.00000000e+00, -1.61981350e-01, -2.53488314e-01,\n",
       "        -3.32542897e-01, -3.89414900e-01, -3.70857014e-01,\n",
       "        -3.42746746e-01, -3.42746746e-01, -3.48235348e-01,\n",
       "        -3.52255646e-01, -3.61393852e-01, -3.69069448e-01,\n",
       "        -3.67672714e-01, -3.56733853e-01],\n",
       "       [ 0.00000000e+00,  2.73499369e-02, -5.32007743e-01,\n",
       "        -1.51328570e-01, -1.03094979e-01, -1.18834068e-01,\n",
       "        -1.42674605e-01, -1.42674605e-01, -1.38019679e-01,\n",
       "        -1.34610033e-01, -1.26859849e-01, -1.20350116e-01,\n",
       "        -1.21534697e-01, -1.30812031e-01],\n",
       "       [ 0.00000000e+00,  5.72375608e-02, -1.43380542e-01,\n",
       "        -3.16698288e-01, -2.15755713e-01, -2.48694255e-01,\n",
       "        -2.98587395e-01, -2.98587395e-01, -2.88845630e-01,\n",
       "        -2.81709972e-01, -2.65490495e-01, -2.51867019e-01,\n",
       "        -2.54346093e-01, -2.73761567e-01],\n",
       "       [ 0.00000000e+00,  7.73938527e-02, -7.11234009e-02,\n",
       "        -1.99430245e-01, -2.91734408e-01, -2.61614664e-01,\n",
       "        -2.15991254e-01, -2.15991254e-01, -2.24899343e-01,\n",
       "        -2.31424349e-01, -2.46255803e-01, -2.58713417e-01,\n",
       "        -2.56446496e-01, -2.38692550e-01],\n",
       "       [ 0.00000000e+00,  2.73499369e-02,  4.67992257e-01,\n",
       "        -1.51328570e-01, -1.03094979e-01, -1.18834068e-01,\n",
       "        -1.42674605e-01, -1.42674605e-01, -1.38019679e-01,\n",
       "        -1.34610033e-01, -1.26859849e-01, -1.20350116e-01,\n",
       "        -1.21534697e-01, -1.30812031e-01],\n",
       "       [ 0.00000000e+00,  7.99125242e-02,  3.06671106e-01,\n",
       "         5.02572103e-01, -3.01228484e-01, -3.89405555e-02,\n",
       "         3.58355977e-01,  3.58355977e-01,  2.80782803e-01,\n",
       "         2.23961923e-01,  9.48070543e-02, -1.36759985e-02,\n",
       "         6.06474522e-03,  1.60669174e-01],\n",
       "       [ 0.00000000e+00,  2.95210071e-03,  1.13289375e-02,\n",
       "         1.85658440e-02, -1.11278780e-02, -2.07492979e-01,\n",
       "        -6.33831601e-01, -6.33831601e-01, -4.46857825e-01,\n",
       "        -4.04318170e-01, -3.07624781e-01, -2.26407602e-01,\n",
       "        -2.41186754e-01, -3.56933271e-01],\n",
       "       [ 0.00000000e+00,  1.72287280e-03,  6.61167088e-03,\n",
       "         1.08351953e-02, -6.49433075e-03, -1.21094788e-01,\n",
       "        -1.65786376e-01, -1.65786376e-01, -2.60790288e-01,\n",
       "        -2.35963759e-01, -1.79532618e-01, -1.32133534e-01,\n",
       "        -1.40758781e-01, -2.08309501e-01],\n",
       "       [ 0.00000000e+00, -4.67497352e-03, -1.79406084e-02,\n",
       "        -2.94010394e-02,  1.76222088e-02, -6.71412233e-01,\n",
       "        -2.00382023e-01, -2.00382023e-01, -2.92351888e-01,\n",
       "        -3.59718071e-01, -5.12842602e-01, -6.41458864e-01,\n",
       "        -6.18054465e-01, -4.34757229e-01],\n",
       "       [ 0.00000000e+00, -2.81515958e-03, -1.08034142e-02,\n",
       "        -1.77046174e-02,  1.06116815e-02,  1.97867859e-01,\n",
       "        -1.20665362e-01, -1.20665362e-01, -1.76047461e-01,\n",
       "        -2.87314534e-01, -5.40226568e-01,  1.68321050e-01,\n",
       "         1.45234321e-01, -3.55750025e-02],\n",
       "       [ 0.00000000e+00, -4.13471844e-04, -1.58673336e-03,\n",
       "        -2.60033601e-03,  1.55857293e-03,  2.90615101e-02,\n",
       "        -1.77225227e-02, -1.77225227e-02, -2.58566757e-02,\n",
       "        -1.60966768e-02,  6.08797410e-03, -5.21144838e-01,\n",
       "        -1.69693546e-01, -8.87457652e-02],\n",
       "       [ 0.00000000e+00, -1.44634209e-03, -5.55046076e-03,\n",
       "        -9.09608594e-03,  5.45195438e-03,  1.01658398e-01,\n",
       "        -6.19941382e-02, -6.19941382e-02, -9.04477513e-02,\n",
       "        -5.63068599e-02,  2.12959923e-02, -2.88635076e-01,\n",
       "        -5.93595240e-01, -3.10436461e-01],\n",
       "       [ 0.00000000e+00, -6.97197323e-19, -1.10121206e-18,\n",
       "        -1.45024798e-18, -1.64853542e-18, -5.77571476e-18,\n",
       "         0.00000000e+00, -1.00000000e+00, -6.13573985e-18,\n",
       "        -6.21774380e-18, -6.40414022e-18, -7.23748863e-18,\n",
       "        -6.90873033e-18, -6.47371069e-18],\n",
       "       [ 0.00000000e+00,  2.95210071e-03,  1.13289375e-02,\n",
       "         1.85658440e-02, -1.11278780e-02, -2.07492979e-01,\n",
       "         3.66168399e-01,  3.66168399e-01, -4.46857825e-01,\n",
       "        -4.04318170e-01, -3.07624781e-01, -2.26407602e-01,\n",
       "        -2.41186754e-01, -3.56933271e-01],\n",
       "       [ 0.00000000e+00,  2.81515958e-03,  1.08034142e-02,\n",
       "         1.77046174e-02, -1.06116815e-02, -1.97867859e-01,\n",
       "         1.20665362e-01,  1.20665362e-01,  1.76047461e-01,\n",
       "        -7.12685466e-01, -4.59773432e-01, -1.68321050e-01,\n",
       "        -1.45234321e-01,  3.55750025e-02],\n",
       "       [ 0.00000000e+00,  1.85981394e-03,  7.13719412e-03,\n",
       "         1.16964219e-02, -7.01052731e-03, -1.30719908e-01,\n",
       "         7.97166609e-02,  7.97166609e-02,  1.16304427e-01,\n",
       "         7.24035366e-02, -2.73839664e-02, -1.90220086e-01,\n",
       "        -2.36711214e-01, -6.00817774e-01],\n",
       "       [ 0.00000000e+00,  2.81515958e-03,  1.08034142e-02,\n",
       "         1.77046174e-02, -1.06116815e-02, -1.97867859e-01,\n",
       "         1.20665362e-01,  1.20665362e-01,  1.76047461e-01,\n",
       "         2.87314534e-01, -4.59773432e-01, -1.68321050e-01,\n",
       "        -1.45234321e-01,  3.55750025e-02],\n",
       "       [ 0.00000000e+00, -4.13471844e-04, -1.58673336e-03,\n",
       "        -2.60033601e-03,  1.55857293e-03,  2.90615101e-02,\n",
       "        -1.77225227e-02, -1.77225227e-02, -2.58566757e-02,\n",
       "        -1.60966768e-02,  6.08797410e-03,  4.78855162e-01,\n",
       "        -1.69693546e-01, -8.87457652e-02],\n",
       "       [ 0.00000000e+00, -1.85981394e-03, -7.13719412e-03,\n",
       "        -1.16964219e-02,  7.01052731e-03,  1.30719908e-01,\n",
       "        -7.97166609e-02, -7.97166609e-02, -1.16304427e-01,\n",
       "        -7.24035366e-02,  2.73839664e-02,  1.90220086e-01,\n",
       "         2.36711214e-01, -3.99182226e-01]])"
      ]
     },
     "execution_count": 6,
     "metadata": {},
     "output_type": "execute_result"
    }
   ],
   "source": [
    "sp.mats.PTDF"
   ]
  }
 ],
 "metadata": {
  "kernelspec": {
   "display_name": "ams",
   "language": "python",
   "name": "python3"
  },
  "language_info": {
   "codemirror_mode": {
    "name": "ipython",
    "version": 3
   },
   "file_extension": ".py",
   "mimetype": "text/x-python",
   "name": "python",
   "nbconvert_exporter": "python",
   "pygments_lexer": "ipython3",
   "version": "3.10.11"
  },
  "orig_nbformat": 4,
  "vscode": {
   "interpreter": {
    "hash": "d2b3bf80176349caa68dc4a3c77bd06eaade8abc678330f7d1c813c53380e5d2"
   }
  }
 },
 "nbformat": 4,
 "nbformat_minor": 2
}
