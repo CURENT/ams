{
 "cells": [
  {
   "attachments": {},
   "cell_type": "markdown",
   "metadata": {},
   "source": [
    "# DCOPF"
   ]
  },
  {
   "cell_type": "code",
   "execution_count": 1,
   "metadata": {},
   "outputs": [],
   "source": [
    "import scipy\n",
    "import sympy as smp\n",
    "import numpy as np\n",
    "\n",
    "import andes\n",
    "import ams\n",
    "\n",
    "from ams.solver.pypower.makePTDF import makePTDF\n",
    "from ams.solver.pypower.makeBdc import makeBdc\n",
    "\n",
    "import pandapower as pp"
   ]
  },
  {
   "cell_type": "code",
   "execution_count": 2,
   "metadata": {},
   "outputs": [],
   "source": [
    "andes.config_logger(stream_level=10)"
   ]
  },
  {
   "cell_type": "code",
   "execution_count": 3,
   "metadata": {},
   "outputs": [
    {
     "name": "stderr",
     "output_type": "stream",
     "text": [
      "Working directory: \"/home/jwang/work/ams/dev/demo\"\n",
      "Found files: ['/home/jwang/.local/lib/python3.10/site-packages/andes/cases/ieee14/ieee14_ace.xlsx']\n",
      "> Loaded config from file \"/home/jwang/.andes/andes.rc\"\n",
      "> Loaded generated Python code in \"/home/jwang/.andes/pycode\".\n",
      "Input format guessed as xlsx.\n",
      "Parsing input file \"/home/jwang/.local/lib/python3.10/site-packages/andes/cases/ieee14/ieee14_ace.xlsx\"...\n",
      "Input file parsed in 0.0991 seconds.\n",
      "Setting internal address for Bus\n",
      "Setting internal address for PQ\n",
      "Setting internal address for PV\n",
      "Setting internal address for Slack\n",
      "Setting internal address for Shunt\n",
      "Setting internal address for Line\n",
      "Setting internal address for Area\n",
      "System internal structure set up in 0.0527 seconds.\n"
     ]
    }
   ],
   "source": [
    "sa = andes.load(andes.get_case('ieee14/ieee14_ace.xlsx'),\n",
    "              setup=True,)"
   ]
  },
  {
   "cell_type": "code",
   "execution_count": 4,
   "metadata": {},
   "outputs": [],
   "source": [
    "ams.config_logger(stream_level=10)"
   ]
  },
  {
   "cell_type": "code",
   "execution_count": 5,
   "metadata": {},
   "outputs": [
    {
     "name": "stderr",
     "output_type": "stream",
     "text": [
      "Working directory: \"/home/jwang/work/ams/dev/demo\"\n",
      "Found files: ['/home/jwang/work/ams/ams/cases/matpower/case14.m']\n",
      "Input format guessed as matpower.\n",
      "Parsing input file \"/home/jwang/work/ams/ams/cases/matpower/case14.m\"...\n",
      "Detected raw file encoding: {'encoding': 'ascii', 'confidence': 1.0, 'language': ''}\n",
      "CASE14    Power flow data for IEEE 14 bus test case.\n",
      "Input file parsed in 0.0114 seconds.\n",
      "System set up in 0.0039 seconds.\n"
     ]
    }
   ],
   "source": [
    "sp = ams.load(ams.get_case('matpower/case14.m'),\n",
    "              setup=True,)"
   ]
  },
  {
   "cell_type": "code",
   "execution_count": 6,
   "metadata": {},
   "outputs": [],
   "source": [
    "ppc = ams.io.pypower.system2ppc(sp)"
   ]
  },
  {
   "cell_type": "code",
   "execution_count": 7,
   "metadata": {},
   "outputs": [],
   "source": [
    "# Bdc = makeBdc(ppc[\"bus\"], ppc['branch'])"
   ]
  },
  {
   "cell_type": "code",
   "execution_count": 8,
   "metadata": {},
   "outputs": [
    {
     "name": "stderr",
     "output_type": "stream",
     "text": [
      "makePTDF: buses must be numbered consecutivelymakeBdc: buses must be numbered consecutively in bus matrix\n",
      "\n"
     ]
    },
    {
     "ename": "ValueError",
     "evalue": "column index exceeds matrix dimensions",
     "output_type": "error",
     "traceback": [
      "\u001b[0;31m---------------------------------------------------------------------------\u001b[0m",
      "\u001b[0;31mValueError\u001b[0m                                Traceback (most recent call last)",
      "Cell \u001b[0;32mIn[8], line 1\u001b[0m\n\u001b[0;32m----> 1\u001b[0m PTDF \u001b[39m=\u001b[39m makePTDF(ppc[\u001b[39m\"\u001b[39;49m\u001b[39mbaseMVA\u001b[39;49m\u001b[39m\"\u001b[39;49m], ppc[\u001b[39m\"\u001b[39;49m\u001b[39mbus\u001b[39;49m\u001b[39m\"\u001b[39;49m], ppc[\u001b[39m\"\u001b[39;49m\u001b[39mbranch\u001b[39;49m\u001b[39m\"\u001b[39;49m])\n",
      "File \u001b[0;32m~/work/ams/ams/solver/pypower/makePTDF.py:88\u001b[0m, in \u001b[0;36mmakePTDF\u001b[0;34m(baseMVA, bus, branch, slack, result_side, using_sparse_solver, branch_id, reduced)\u001b[0m\n\u001b[1;32m     86\u001b[0m             H[i:i\u001b[39m+\u001b[39m\u001b[39m32\u001b[39m, noslack] \u001b[39m=\u001b[39m Bbus_fact(Bf[i:i\u001b[39m+\u001b[39m\u001b[39m32\u001b[39m, noref]\u001b[39m.\u001b[39mreal\u001b[39m.\u001b[39mtoarray()\u001b[39m.\u001b[39mT)\u001b[39m.\u001b[39mT\n\u001b[1;32m     87\u001b[0m \u001b[39melse\u001b[39;00m:\n\u001b[0;32m---> 88\u001b[0m     Bbus, Bf, \u001b[39m*\u001b[39m_ \u001b[39m=\u001b[39m makeBdc(bus, branch)\n\u001b[1;32m     89\u001b[0m     Bbus, Bf \u001b[39m=\u001b[39m np\u001b[39m.\u001b[39mreal(Bbus\u001b[39m.\u001b[39mtoarray()), np\u001b[39m.\u001b[39mreal(Bf\u001b[39m.\u001b[39mtoarray())\n\u001b[1;32m     90\u001b[0m     \u001b[39mif\u001b[39;00m result_side \u001b[39m==\u001b[39m \u001b[39m1\u001b[39m:\n",
      "File \u001b[0;32m~/work/ams/ams/solver/pypower/makeBdc.py:66\u001b[0m, in \u001b[0;36mmakeBdc\u001b[0;34m(bus, branch, return_csr)\u001b[0m\n\u001b[1;32m     64\u001b[0m i \u001b[39m=\u001b[39m r_[\u001b[39mrange\u001b[39m(nl), \u001b[39mrange\u001b[39m(nl)]                   \u001b[39m## double set of row indices\u001b[39;00m\n\u001b[1;32m     65\u001b[0m \u001b[39m## connection matrix\u001b[39;00m\n\u001b[0;32m---> 66\u001b[0m Cft \u001b[39m=\u001b[39m sparse((r_[ones(nl), \u001b[39m-\u001b[39;49mones(nl)], (i, r_[f, t])), (nl, nb))\n\u001b[1;32m     68\u001b[0m \u001b[39m## build Bf such that Bf * Va is the vector of real branch powers injected\u001b[39;00m\n\u001b[1;32m     69\u001b[0m \u001b[39m## at each branch's \"from\" bus\u001b[39;00m\n\u001b[1;32m     70\u001b[0m Bf \u001b[39m=\u001b[39m sparse((r_[b, \u001b[39m-\u001b[39mb], (i, r_[f, t])), (nl, nb))\u001b[39m## = spdiags(b, 0, nl, nl) * Cft\u001b[39;00m\n",
      "File \u001b[0;32m~/.local/lib/python3.10/site-packages/scipy/sparse/_compressed.py:53\u001b[0m, in \u001b[0;36m_cs_matrix.__init__\u001b[0;34m(self, arg1, shape, dtype, copy)\u001b[0m\n\u001b[1;32m     49\u001b[0m \u001b[39melse\u001b[39;00m:\n\u001b[1;32m     50\u001b[0m     \u001b[39mif\u001b[39;00m \u001b[39mlen\u001b[39m(arg1) \u001b[39m==\u001b[39m \u001b[39m2\u001b[39m:\n\u001b[1;32m     51\u001b[0m         \u001b[39m# (data, ij) format\u001b[39;00m\n\u001b[1;32m     52\u001b[0m         other \u001b[39m=\u001b[39m \u001b[39mself\u001b[39m\u001b[39m.\u001b[39m\u001b[39m__class__\u001b[39m(\n\u001b[0;32m---> 53\u001b[0m             \u001b[39mself\u001b[39;49m\u001b[39m.\u001b[39;49m_coo_container(arg1, shape\u001b[39m=\u001b[39;49mshape, dtype\u001b[39m=\u001b[39;49mdtype)\n\u001b[1;32m     54\u001b[0m         )\n\u001b[1;32m     55\u001b[0m         \u001b[39mself\u001b[39m\u001b[39m.\u001b[39m_set_self(other)\n\u001b[1;32m     56\u001b[0m     \u001b[39melif\u001b[39;00m \u001b[39mlen\u001b[39m(arg1) \u001b[39m==\u001b[39m \u001b[39m3\u001b[39m:\n\u001b[1;32m     57\u001b[0m         \u001b[39m# (data, indices, indptr) format\u001b[39;00m\n",
      "File \u001b[0;32m~/.local/lib/python3.10/site-packages/scipy/sparse/_coo.py:197\u001b[0m, in \u001b[0;36mcoo_matrix.__init__\u001b[0;34m(self, arg1, shape, dtype, copy)\u001b[0m\n\u001b[1;32m    194\u001b[0m \u001b[39mif\u001b[39;00m dtype \u001b[39mis\u001b[39;00m \u001b[39mnot\u001b[39;00m \u001b[39mNone\u001b[39;00m:\n\u001b[1;32m    195\u001b[0m     \u001b[39mself\u001b[39m\u001b[39m.\u001b[39mdata \u001b[39m=\u001b[39m \u001b[39mself\u001b[39m\u001b[39m.\u001b[39mdata\u001b[39m.\u001b[39mastype(dtype, copy\u001b[39m=\u001b[39m\u001b[39mFalse\u001b[39;00m)\n\u001b[0;32m--> 197\u001b[0m \u001b[39mself\u001b[39;49m\u001b[39m.\u001b[39;49m_check()\n",
      "File \u001b[0;32m~/.local/lib/python3.10/site-packages/scipy/sparse/_coo.py:286\u001b[0m, in \u001b[0;36mcoo_matrix._check\u001b[0;34m(self)\u001b[0m\n\u001b[1;32m    284\u001b[0m     \u001b[39mraise\u001b[39;00m \u001b[39mValueError\u001b[39;00m(\u001b[39m'\u001b[39m\u001b[39mrow index exceeds matrix dimensions\u001b[39m\u001b[39m'\u001b[39m)\n\u001b[1;32m    285\u001b[0m \u001b[39mif\u001b[39;00m \u001b[39mself\u001b[39m\u001b[39m.\u001b[39mcol\u001b[39m.\u001b[39mmax() \u001b[39m>\u001b[39m\u001b[39m=\u001b[39m \u001b[39mself\u001b[39m\u001b[39m.\u001b[39mshape[\u001b[39m1\u001b[39m]:\n\u001b[0;32m--> 286\u001b[0m     \u001b[39mraise\u001b[39;00m \u001b[39mValueError\u001b[39;00m(\u001b[39m'\u001b[39m\u001b[39mcolumn index exceeds matrix dimensions\u001b[39m\u001b[39m'\u001b[39m)\n\u001b[1;32m    287\u001b[0m \u001b[39mif\u001b[39;00m \u001b[39mself\u001b[39m\u001b[39m.\u001b[39mrow\u001b[39m.\u001b[39mmin() \u001b[39m<\u001b[39m \u001b[39m0\u001b[39m:\n\u001b[1;32m    288\u001b[0m     \u001b[39mraise\u001b[39;00m \u001b[39mValueError\u001b[39;00m(\u001b[39m'\u001b[39m\u001b[39mnegative row index found\u001b[39m\u001b[39m'\u001b[39m)\n",
      "\u001b[0;31mValueError\u001b[0m: column index exceeds matrix dimensions"
     ]
    }
   ],
   "source": [
    "PTDF = makePTDF(ppc[\"baseMVA\"], ppc[\"bus\"], ppc[\"branch\"])"
   ]
  },
  {
   "cell_type": "code",
   "execution_count": null,
   "metadata": {},
   "outputs": [],
   "source": [
    "ppc = sp."
   ]
  },
  {
   "cell_type": "code",
   "execution_count": null,
   "metadata": {},
   "outputs": [],
   "source": [
    "sp.DCOPF.setup()"
   ]
  },
  {
   "cell_type": "code",
   "execution_count": null,
   "metadata": {},
   "outputs": [],
   "source": [
    "sp.DCOPF.om.mdl.solve()"
   ]
  },
  {
   "cell_type": "code",
   "execution_count": null,
   "metadata": {},
   "outputs": [],
   "source": []
  }
 ],
 "metadata": {
  "kernelspec": {
   "display_name": "ams",
   "language": "python",
   "name": "python3"
  },
  "language_info": {
   "codemirror_mode": {
    "name": "ipython",
    "version": 3
   },
   "file_extension": ".py",
   "mimetype": "text/x-python",
   "name": "python",
   "nbconvert_exporter": "python",
   "pygments_lexer": "ipython3",
   "version": "3.10.11"
  },
  "orig_nbformat": 4,
  "vscode": {
   "interpreter": {
    "hash": "d2b3bf80176349caa68dc4a3c77bd06eaade8abc678330f7d1c813c53380e5d2"
   }
  }
 },
 "nbformat": 4,
 "nbformat_minor": 2
}
