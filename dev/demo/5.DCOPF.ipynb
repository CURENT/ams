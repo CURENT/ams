{
 "cells": [
  {
   "attachments": {},
   "cell_type": "markdown",
   "metadata": {},
   "source": [
    "# DCOPF"
   ]
  },
  {
   "cell_type": "code",
   "execution_count": 1,
   "metadata": {},
   "outputs": [],
   "source": [
    "import numpy as np\n",
    "\n",
    "import andes\n",
    "import ams\n",
    "\n",
    "import cvxpy as cp"
   ]
  },
  {
   "cell_type": "code",
   "execution_count": 2,
   "metadata": {},
   "outputs": [],
   "source": [
    "andes.config_logger(stream_level=10)"
   ]
  },
  {
   "cell_type": "code",
   "execution_count": 3,
   "metadata": {},
   "outputs": [
    {
     "name": "stderr",
     "output_type": "stream",
     "text": [
      "Working directory: \"/Users/jinningwang/Documents/work/ams/dev/demo\"\n",
      "Found files: ['/Users/jinningwang/Documents/work/mambaforge/envs/ams/lib/python3.9/site-packages/andes/cases/ieee14/ieee14_ace.xlsx']\n",
      "> Loaded config from file \"/Users/jinningwang/.andes/andes.rc\"\n",
      "> Loaded generated Python code in \"/Users/jinningwang/.andes/pycode\".\n",
      "Input format guessed as xlsx.\n",
      "Parsing input file \"/Users/jinningwang/Documents/work/mambaforge/envs/ams/lib/python3.9/site-packages/andes/cases/ieee14/ieee14_ace.xlsx\"...\n",
      "Input file parsed in 0.3748 seconds.\n",
      "Setting internal address for Bus\n",
      "Setting internal address for PQ\n",
      "Setting internal address for PV\n",
      "Setting internal address for Slack\n",
      "Setting internal address for Shunt\n",
      "Setting internal address for Line\n",
      "Setting internal address for Area\n",
      "System internal structure set up in 0.0275 seconds.\n"
     ]
    }
   ],
   "source": [
    "sa = andes.load(andes.get_case('ieee14/ieee14_ace.xlsx'),\n",
    "              setup=True,)"
   ]
  },
  {
   "cell_type": "code",
   "execution_count": 4,
   "metadata": {},
   "outputs": [],
   "source": [
    "ams.config_logger(stream_level=10)"
   ]
  },
  {
   "cell_type": "code",
   "execution_count": 5,
   "metadata": {},
   "outputs": [
    {
     "name": "stderr",
     "output_type": "stream",
     "text": [
      "Working directory: \"/Users/jinningwang/Documents/work/ams/dev/demo\"\n",
      "Found files: ['/Users/jinningwang/Documents/work/ams/ams/cases/matpower/case_ACTIVSg2000.m']\n",
      "Input format guessed as matpower.\n",
      "Parsing input file \"/Users/jinningwang/Documents/work/ams/ams/cases/matpower/case_ACTIVSg2000.m\"...\n",
      "Detected raw file encoding: {'encoding': 'ascii', 'confidence': 1.0, 'language': ''}\n",
      "CASE_ACTIVSG2000  Synthetic Texas 2000-bus power system model.\n",
      "Input file parsed in 0.4909 seconds.\n",
      "The bus index is not continuous, adjusted automatically.\n",
      "System set up in 0.7829 seconds.\n"
     ]
    }
   ],
   "source": [
    "case1 = ams.get_case('matpower/case14.m')\n",
    "case2 = ams.get_case('ieee14/ieee14.xlsx')\n",
    "case3 = ams.get_case('matpower/case_ACTIVSg2000.m')\n",
    "sp = ams.load(case3, setup=True,)"
   ]
  },
  {
   "cell_type": "code",
   "execution_count": 6,
   "metadata": {},
   "outputs": [
    {
     "name": "stderr",
     "output_type": "stream",
     "text": [
      "- Generating symbols for DCOPF\n",
      "DCOPF model set up in 0.0127 seconds.\n"
     ]
    },
    {
     "data": {
      "text/plain": [
       "True"
      ]
     },
     "execution_count": 6,
     "metadata": {},
     "output_type": "execute_result"
    }
   ],
   "source": [
    "sp.DCOPF.setup()"
   ]
  },
  {
   "cell_type": "code",
   "execution_count": 7,
   "metadata": {},
   "outputs": [
    {
     "name": "stdout",
     "output_type": "stream",
     "text": [
      "Set parameter Username\n",
      "Academic license - for non-commercial use only - expires 2024-05-21\n"
     ]
    },
    {
     "data": {
      "text/plain": [
       "5156858.123147191"
      ]
     },
     "execution_count": 7,
     "metadata": {},
     "output_type": "execute_result"
    }
   ],
   "source": [
    "sp.DCOPF.om.mdl.solve(verbose=False, solver=cp.GUROBI)"
   ]
  },
  {
   "cell_type": "code",
   "execution_count": 8,
   "metadata": {},
   "outputs": [
    {
     "data": {
      "text/plain": [
       "array([ 1.5825    ,  0.2573    ,  0.6187    ,  0.1       ,  1.4963    ,\n",
       "        1.35      ,  0.9315    ,  2.085     ,  0.675     ,  1.1063    ,\n",
       "        1.219     ,  0.441     ,  0.9756    ,  0.9756    ,  0.2682    ,\n",
       "        0.2682    ,  0.2682    ,  0.5364    ,  1.2       ,  0.056     ,\n",
       "        0.02      ,  0.015     ,  2.3       ,  1.0688    ,  1.2038    ,\n",
       "        0.5764    ,  0.5764    ,  0.5764    ,  0.5764    ,  0.5764    ,\n",
       "        0.5764    ,  0.2865    ,  0.2865    ,  0.2865    ,  0.8595    ,\n",
       "        1.125     ,  0.8662    ,  0.5625    ,  1.1437    ,  0.27      ,\n",
       "        1.1754    ,  1.1754    ,  1.1754    ,  1.5045    ,  2.18      ,\n",
       "        0.8333    ,  1.6667    ,  0.597     ,  0.06      ,  7.2       ,\n",
       "        0.6       ,  1.0155    ,  1.125     ,  0.225     ,  0.8438    ,\n",
       "        0.2       ,  0.2       ,  0.4       ,  0.507     ,  0.1       ,\n",
       "        0.795     ,  0.075     ,  1.125     ,  0.8032    ,  0.8032    ,\n",
       "        0.8032    ,  0.5541    ,  0.5541    ,  0.5541    ,  0.5541    ,\n",
       "        0.5541    ,  0.5541    ,  1.3628    ,  2.1645    ,  0.2813    ,\n",
       "        1.2713    ,  1.125     ,  1.5       ,  0.9787    ,  1.5675    ,\n",
       "        0.0039    ,  0.2682    ,  1.341     ,  1.8075    ,  1.8388    ,\n",
       "        1.8388    ,  1.8388    ,  1.2422    ,  1.2422    ,  1.2422    ,\n",
       "        1.2422    ,  0.6037    ,  1.125     ,  1.2765    ,  0.7485    ,\n",
       "        1.8675    ,  1.7437    ,  0.5625    ,  0.75      ,  1.5       ,\n",
       "        0.9045    ,  1.2       ,  0.445     ,  0.5302    ,  0.63      ,\n",
       "        0.561     ,  0.561     ,  0.4725    ,  0.9       ,  0.297     ,\n",
       "        1.4775    ,  1.0125    ,  0.9488    ,  0.855     ,  0.1539    ,\n",
       "        0.1539    ,  0.1539    ,  0.759     ,  0.6862    ,  1.512     ,\n",
       "        4.1       ,  6.224     ,  0.934     ,  0.285     ,  0.2748    ,\n",
       "        1.5       ,  0.442     ,  1.44      ,  1.44      ,  1.44      ,\n",
       "        1.7233    ,  1.7233    ,  1.7233    ,  0.47      ,  0.529     ,\n",
       "        0.529     ,  0.529     ,  0.7302    ,  0.7302    ,  0.7302    ,\n",
       "        1.056     ,  0.014     ,  0.235     ,  0.076     ,  0.28      ,\n",
       "        0.28      ,  0.28      ,  0.28      ,  0.28      ,  0.28      ,\n",
       "        1.35      ,  0.3954    ,  0.3954    ,  0.1008    ,  0.1008    ,\n",
       "        0.1008    ,  0.1008    ,  0.2016    ,  0.198     ,  1.41      ,\n",
       "        2.124     ,  0.5933    ,  0.5933    ,  0.5933    ,  0.09      ,\n",
       "        1.5075    ,  1.125     ,  1.5007    ,  1.5225    ,  0.75      ,\n",
       "        1.8377    ,  0.24      ,  0.61      ,  0.104     ,  0.801     ,\n",
       "        0.801     ,  0.801     ,  1.8377    ,  1.8377    ,  1.512     ,\n",
       "        0.69      ,  0.9       ,  0.048     ,  0.042     ,  0.064     ,\n",
       "        3.0847    ,  3.0847    ,  3.0847    ,  3.0847    ,  3.0847    ,\n",
       "        3.0847    ,  0.847     ,  3.1735    ,  3.1735    ,  0.106     ,\n",
       "        0.018     ,  1.3148    ,  1.3148    ,  1.3148    ,  1.239     ,\n",
       "        0.0324    ,  0.0171    ,  1.265     ,  0.016     ,  0.45      ,\n",
       "        1.125     ,  2.4867    ,  2.4867    ,  2.4867    ,  1.6875    ,\n",
       "        1.125     , 12.15      , 12.15      ,  0.8032    ,  0.8032    ,\n",
       "        0.8032    ,  0.032     ,  1.15      ,  1.15      ,  1.15      ,\n",
       "        0.827     ,  1.3913    ,  1.3913    ,  0.7884    ,  0.7884    ,\n",
       "        0.7884    ,  2.8407    ,  2.8407    ,  2.8407    ,  0.084     ,\n",
       "        2.075     ,  3.024     ,  0.104     ,  2.1333    ,  2.1333    ,\n",
       "        2.1333    ,  2.1333    ,  2.1333    ,  2.1333    ,  2.09      ,\n",
       "        2.09      ,  1.242     ,  0.894     ,  0.894     ,  0.894     ,\n",
       "        0.894     ,  1.22      ,  1.22      ,  1.22      ,  1.188     ,\n",
       "        1.188     ,  0.124     ,  0.032     ,  0.867     ,  0.867     ,\n",
       "        0.867     ,  0.867     ,  0.867     ,  0.867     ,  0.4239    ,\n",
       "        0.4239    ,  0.639     ,  1.278     ,  0.595     ,  0.595     ,\n",
       "        0.595     ,  0.        ,  0.        ,  0.034     ,  0.096     ,\n",
       "        0.044     ,  0.574     ,  0.574     ,  0.574     ,  0.574     ,\n",
       "        1.07033333,  1.07033333,  1.07033333,  1.07033333,  1.07033333,\n",
       "        1.07033333,  1.69      ,  1.69      ,  1.69      ,  0.4137    ,\n",
       "        0.653     ,  0.0105    ,  0.225     ,  0.055     ,  0.0795    ,\n",
       "        0.1042    ,  0.3052    ,  0.605     ,  0.605     ,  1.21      ,\n",
       "        1.7718    ,  1.9845    ,  0.084     ,  4.46      ,  4.46      ,\n",
       "        2.796     ,  2.166     ,  2.166     ,  0.7052    ,  0.7052    ,\n",
       "        0.7052    ,  0.7052    ,  1.779     ,  5.523     ,  5.523     ,\n",
       "        5.523     ,  0.61      ,  1.83      ,  2.98      ,  2.98      ,\n",
       "        2.98      ,  1.8333    ,  1.8333    ,  1.8333    ,  0.582     ,\n",
       "        0.582     ,  0.514     ,  0.771     ,  0.045     ,  0.072     ,\n",
       "        0.045     ,  0.072     ,  0.18      ,  0.11      ,  0.072     ,\n",
       "        0.072     ,  0.084     ,  0.6187    ,  0.6187    ,  0.619     ,\n",
       "        0.032     ,  0.7418    ,  0.7418    ,  0.7418    ,  0.7418    ,\n",
       "        0.12      ,  0.515     ,  1.03      ,  0.023     ,  0.046     ,\n",
       "        0.015     ,  0.04      ,  0.064     ,  1.089     ,  1.089     ,\n",
       "        0.515     ,  1.63      ,  1.63      ,  1.63      ,  1.63      ,\n",
       "        1.63      ,  0.04      ,  0.224     ,  0.474     ,  0.474     ,\n",
       "        0.948     ,  0.032     ,  0.291     ,  0.075     ,  0.075     ,\n",
       "        0.044     ,  1.8845    ,  1.8845    ,  1.149     ,  1.149     ,\n",
       "        1.149     ,  1.149     ,  1.149     ,  1.149     ,  2.2865    ,\n",
       "        2.2865    ,  2.2865    ,  2.2865    , 13.543     , 13.543     ,\n",
       "        1.5       ,  0.51      ,  0.51      ,  1.96      ,  1.96      ,\n",
       "        1.96      ,  1.96      ,  1.96      ,  1.96      ,  0.037     ,\n",
       "        0.043     ,  0.163     ,  2.0655    ,  2.0655    ,  2.0655    ,\n",
       "        2.0655    ,  3.807     ,  0.59      ,  0.59      ,  0.59      ,\n",
       "        0.59      ,  0.102     ,  1.106     ,  1.106     ,  1.106     ,\n",
       "        1.106     ,  1.106     ,  1.106     ,  0.8772    ,  0.8772    ,\n",
       "        3.5087    ,  0.069     ,  0.48      ,  0.05      ,  0.35      ,\n",
       "        0.075     ,  2.3095    ,  2.3095    ,  2.3095    ,  2.3095    ,\n",
       "        0.04      ,  2.295     ,  2.295     ,  1.785     ,  1.785     ,\n",
       "        1.785     ,  3.046     ,  0.9064    ,  0.9064    ,  0.9064    ,\n",
       "        1.8128    ,  0.257     ,  0.15      ,  0.075     ,  0.2122    ,\n",
       "        0.2122    ,  0.2122    ,  0.2122    ,  0.4245    ,  0.9668    ,\n",
       "        0.9668    ,  0.9668    ,  0.9668    ,  0.5801    ,  1.2448    ,\n",
       "        1.2448    ,  1.2448    ,  1.2448    ,  1.019     ,  0.0141    ,\n",
       "        1.3605    ,  3.1383    ,  3.1383    ,  3.1383    ,  3.1383    ,\n",
       "        2.0526    ,  2.0526    ,  2.0526    ,  2.05      ,  0.163     ,\n",
       "        2.252     ,  2.252     ,  2.252     ,  1.027     ,  1.0727    ,\n",
       "        1.0727    ,  1.0727    ,  1.0727    ,  1.0727    ,  1.0727    ,\n",
       "        1.8366    ,  1.8366    ,  1.8366    ,  1.8366    ,  1.8366    ,\n",
       "        5.428     ,  0.72      ,  0.72      ,  0.72      ,  0.72      ,\n",
       "        1.44      ,  4.464     ,  0.631     ,  0.93      ,  1.024     ,\n",
       "        0.882     ,  0.882     ,  0.068     ,  1.722     ,  1.722     ,\n",
       "        1.125     ,  1.125     ,  1.125     ,  1.125     ,  1.911     ,\n",
       "        1.722     ,  1.722     ,  1.722     ,  1.0052    ,  1.3       ,\n",
       "        1.3       ,  1.0052    ,  1.0052    ,  1.0052    ,  1.0052    ,\n",
       "        1.0052    ,  0.75      ,  0.81      ,  0.117     ,  0.33      ,\n",
       "        0.7048    ,  0.7048    ,  0.7048    ,  0.7048    ,  0.518     ,\n",
       "        0.518     ,  0.518     ,  0.518     ,  0.518     ,  0.518     ,\n",
       "        1.7802    ,  1.7802    ,  2.7747    ,  2.7747    ,  2.349     ,\n",
       "        2.349     ,  2.349     ,  2.349     ,  2.6931    ,  2.6931    ,\n",
       "        0.855     ,  0.03      ,  1.0551    ,  1.0551    ,  6.6       ,\n",
       "        6.6       ,  6.6       ,  0.012     ,  0.7179    ,  0.066     ,\n",
       "        0.5238    ,  0.5238    ,  0.315     ,  0.2946    ])"
      ]
     },
     "execution_count": 8,
     "metadata": {},
     "output_type": "execute_result"
    }
   ],
   "source": [
    "sp.DCOPF.om.pg.value"
   ]
  }
 ],
 "metadata": {
  "kernelspec": {
   "display_name": "ams",
   "language": "python",
   "name": "python3"
  },
  "language_info": {
   "codemirror_mode": {
    "name": "ipython",
    "version": 3
   },
   "file_extension": ".py",
   "mimetype": "text/x-python",
   "name": "python",
   "nbconvert_exporter": "python",
   "pygments_lexer": "ipython3",
   "version": "3.9.16"
  },
  "orig_nbformat": 4,
  "vscode": {
   "interpreter": {
    "hash": "d2b3bf80176349caa68dc4a3c77bd06eaade8abc678330f7d1c813c53380e5d2"
   }
  }
 },
 "nbformat": 4,
 "nbformat_minor": 2
}
