{
 "cells": [
  {
   "attachments": {},
   "cell_type": "markdown",
   "metadata": {},
   "source": [
    "# DCOPF"
   ]
  },
  {
   "cell_type": "code",
   "execution_count": 1,
   "metadata": {},
   "outputs": [],
   "source": [
    "import scipy\n",
    "import sympy as smp\n",
    "import numpy as np\n",
    "import pandas as pd\n",
    "\n",
    "import andes\n",
    "from andes.shared import rad2deg\n",
    "import ams\n",
    "\n",
    "from ams.solver.pypower.makePTDF import makePTDF\n",
    "from ams.solver.pypower.makeBdc import makeBdc\n",
    "\n",
    "import pandapower as pp\n",
    "\n",
    "from pandapower.pypower.makePTDF import makePTDF as ppmakePTDF\n",
    "from pandapower.pd2ppc import _pd2ppc\n",
    "\n",
    "import pandapower.networks as ppnet\n",
    "from scipy.sparse import lil_matrix, csr_matrix, eye, linalg\n"
   ]
  },
  {
   "cell_type": "code",
   "execution_count": 2,
   "metadata": {},
   "outputs": [],
   "source": [
    "andes.config_logger(stream_level=10)"
   ]
  },
  {
   "cell_type": "code",
   "execution_count": 3,
   "metadata": {},
   "outputs": [
    {
     "name": "stderr",
     "output_type": "stream",
     "text": [
      "Working directory: \"/Users/jinningwang/Documents/work/ams/dev/demo\"\n",
      "Found files: ['/Users/jinningwang/Documents/work/mambaforge/envs/ams/lib/python3.9/site-packages/andes/cases/ieee14/ieee14_ace.xlsx']\n",
      "> Loaded config from file \"/Users/jinningwang/.andes/andes.rc\"\n",
      "> Loaded generated Python code in \"/Users/jinningwang/.andes/pycode\".\n",
      "Input format guessed as xlsx.\n",
      "Parsing input file \"/Users/jinningwang/Documents/work/mambaforge/envs/ams/lib/python3.9/site-packages/andes/cases/ieee14/ieee14_ace.xlsx\"...\n",
      "Input file parsed in 0.0427 seconds.\n",
      "Setting internal address for Bus\n",
      "Setting internal address for PQ\n",
      "Setting internal address for PV\n",
      "Setting internal address for Slack\n",
      "Setting internal address for Shunt\n",
      "Setting internal address for Line\n",
      "Setting internal address for Area\n",
      "System internal structure set up in 0.0267 seconds.\n"
     ]
    }
   ],
   "source": [
    "sa = andes.load(andes.get_case('ieee14/ieee14_ace.xlsx'),\n",
    "              setup=True,)"
   ]
  },
  {
   "cell_type": "code",
   "execution_count": 4,
   "metadata": {},
   "outputs": [],
   "source": [
    "ams.config_logger(stream_level=10)"
   ]
  },
  {
   "cell_type": "code",
   "execution_count": 5,
   "metadata": {},
   "outputs": [
    {
     "name": "stderr",
     "output_type": "stream",
     "text": [
      "Working directory: \"/Users/jinningwang/Documents/work/ams/dev/demo\"\n",
      "Found files: ['/Users/jinningwang/Documents/work/ams/ams/cases/matpower/case14.m']\n",
      "Input format guessed as matpower.\n",
      "Parsing input file \"/Users/jinningwang/Documents/work/ams/ams/cases/matpower/case14.m\"...\n",
      "Detected raw file encoding: {'encoding': 'ascii', 'confidence': 1.0, 'language': ''}\n",
      "CASE14    Power flow data for IEEE 14 bus test case.\n",
      "Input file parsed in 0.0479 seconds.\n",
      "System set up in 0.0009 seconds.\n"
     ]
    }
   ],
   "source": [
    "sp = ams.load(ams.get_case('matpower/case14.m'),\n",
    "              setup=True,)\n",
    "\n",
    "ppc = ams.io.pypower.system2ppc(sp)\n",
    "\n",
    "ppn = ppnet.case14()\n",
    "pp.rundcpp(ppn)\n",
    "_, ppci = _pd2ppc(ppn)"
   ]
  },
  {
   "cell_type": "code",
   "execution_count": 6,
   "metadata": {},
   "outputs": [
    {
     "name": "stderr",
     "output_type": "stream",
     "text": [
      "f=[ 0  0  1  1  1  2  3  3  3  4  5  5  5  6  6  8  8  9 11 12], t=[ 1  4  2  3  4  3  4  6  8  5 10 11 12  7  8  9 13 10 12 13]\n"
     ]
    }
   ],
   "source": [
    "Cft, Bbus, Bf, Pbusinj, Pfinj = sp.mats.mBdc()"
   ]
  },
  {
   "cell_type": "code",
   "execution_count": null,
   "metadata": {},
   "outputs": [],
   "source": [
    "F_BUS = 0\n",
    "T_BUS = 1\n",
    "branch = ppci['branch']\n",
    "nl=branch.shape[0]\n",
    "\n",
    "f = np.real(branch[:, F_BUS]).astype(np.int64)                           ## list of \"from\" buses\n",
    "t = np.real(branch[:, T_BUS]).astype(np.int64)                           ## list of \"to\" buses\n",
    "i = np.r_[range(nl), range(nl)]                   ## double set of row indices\n",
    "\n",
    "print(f\"bus={ppci['bus'][:, 0]}\")\n",
    "print(f\"f={f}\\nt={t}\\ni={i}\")"
   ]
  },
  {
   "cell_type": "code",
   "execution_count": null,
   "metadata": {},
   "outputs": [],
   "source": [
    "F_BUS = 0\n",
    "T_BUS = 1\n",
    "branch = ppc['branch']\n",
    "nl=branch.shape[0]\n",
    "\n",
    "f = np.real(branch[:, F_BUS]).astype(np.int64)                           ## list of \"from\" buses\n",
    "t = np.real(branch[:, T_BUS]).astype(np.int64)                           ## list of \"to\" buses\n",
    "i = np.r_[range(nl), range(nl)]                   ## double set of row indices\n",
    "\n",
    "print(f\"bus={ppc['bus'][:, 0]}\")\n",
    "print(f\"f={f}\\nt={t}\\ni={i}\")"
   ]
  },
  {
   "cell_type": "code",
   "execution_count": null,
   "metadata": {},
   "outputs": [],
   "source": [
    "ppc['branch'][:, 0]"
   ]
  },
  {
   "cell_type": "code",
   "execution_count": null,
   "metadata": {},
   "outputs": [],
   "source": [
    "ppc['branch'][:, 1]"
   ]
  },
  {
   "cell_type": "code",
   "execution_count": null,
   "metadata": {},
   "outputs": [],
   "source": [
    "ppc['bus'][:, 0]"
   ]
  },
  {
   "cell_type": "code",
   "execution_count": null,
   "metadata": {},
   "outputs": [],
   "source": [
    "Bbus.shape"
   ]
  },
  {
   "cell_type": "code",
   "execution_count": null,
   "metadata": {},
   "outputs": [],
   "source": [
    "print(f\"ppc: bus-{ppc['bus'].shape}, branch-{ppc['branch'].shape}, gen-{ppc['gen'].shape}\")\n",
    "print(f\"ppc: bus-{ppci['bus'].shape}, branch-{ppci['branch'].shape}, gen-{ppci['gen'].shape}\")"
   ]
  },
  {
   "cell_type": "code",
   "execution_count": null,
   "metadata": {},
   "outputs": [],
   "source": [
    "# pd.DataFrame(ppci['branch']).round(1)"
   ]
  },
  {
   "cell_type": "code",
   "execution_count": null,
   "metadata": {},
   "outputs": [],
   "source": [
    "# pd.DataFrame(ppc['branch'])"
   ]
  },
  {
   "cell_type": "code",
   "execution_count": null,
   "metadata": {},
   "outputs": [],
   "source": [
    "self = sp.mats\n",
    "\n",
    "nb = self.system.Bus.n\n",
    "nl = self.system.Line.n\n",
    "\n",
    "u = self.system.Line.u.v.astype(bool)       # in-service lines\n",
    "b = self.system.Line.x.v[u]                 # series susceptance\n",
    "tap = self.system.Line.tap.v[u] * rad2deg   # tap ratio\n",
    "b = b / tap\n",
    "\n",
    "f = self.system.Bus.idx2uid(self.system.Line.bus1.v)    # List of \"from\" buses\n",
    "t = self.system.Bus.idx2uid(self.system.Line.bus2.v)    # List of \"to\" buses\n",
    "f = np.array(f)[u]\n",
    "t = np.array(t)[u]\n",
    "i = np.concatenate((np.arange(nl), np.arange(nl)))      # Double set of row indices\n",
    "v = np.concatenate((np.ones(nl), -np.ones(nl)))         # Values for the connection matrix\n",
    "\n",
    "# Connection matrix\n",
    "Cft = csr_matrix((v, (i, np.concatenate((f, t)))), shape=(nl, nb))\n",
    "\n",
    "print(nl, nb)"
   ]
  },
  {
   "cell_type": "code",
   "execution_count": null,
   "metadata": {},
   "outputs": [],
   "source": [
    "sp.Line.as_df().head(3)"
   ]
  },
  {
   "cell_type": "code",
   "execution_count": null,
   "metadata": {},
   "outputs": [],
   "source": [
    "ppc['branch'][:, 0]"
   ]
  },
  {
   "cell_type": "code",
   "execution_count": null,
   "metadata": {},
   "outputs": [],
   "source": [
    "ppc['bus'][:, 0]"
   ]
  },
  {
   "cell_type": "code",
   "execution_count": null,
   "metadata": {},
   "outputs": [],
   "source": [
    "f"
   ]
  },
  {
   "cell_type": "code",
   "execution_count": null,
   "metadata": {},
   "outputs": [],
   "source": [
    "sp.mats.mBdc()"
   ]
  },
  {
   "cell_type": "code",
   "execution_count": null,
   "metadata": {},
   "outputs": [],
   "source": [
    "Bbus, Bf, ptdf = sp.mats.PTDF"
   ]
  },
  {
   "cell_type": "code",
   "execution_count": null,
   "metadata": {},
   "outputs": [],
   "source": [
    "ppn = ppnet.case14()\n",
    "\n",
    "pp.rundcpp(ppn)\n",
    "\n",
    "_, ppci = _pd2ppc(ppn)\n",
    "\n",
    "ppptdf = ppmakePTDF(ppci[\"baseMVA\"], ppci[\"bus\"], ppci[\"branch\"],)\n"
   ]
  },
  {
   "cell_type": "code",
   "execution_count": null,
   "metadata": {},
   "outputs": [],
   "source": [
    "ptdf.shape"
   ]
  },
  {
   "cell_type": "code",
   "execution_count": null,
   "metadata": {},
   "outputs": [],
   "source": [
    "ppptdf.shape"
   ]
  },
  {
   "cell_type": "code",
   "execution_count": null,
   "metadata": {},
   "outputs": [],
   "source": [
    "pp.rundcpp(ppc)\n",
    "\n",
    "ptdf = ppmakePTDF(ppc[\"baseMVA\"], ppc[\"bus\"], ppc[\"branch\"],\n",
    "                  )"
   ]
  },
  {
   "cell_type": "code",
   "execution_count": null,
   "metadata": {},
   "outputs": [],
   "source": [
    "PTDF = makePTDF(ppc[\"baseMVA\"], ppc[\"bus\"], ppc[\"branch\"])"
   ]
  },
  {
   "cell_type": "code",
   "execution_count": null,
   "metadata": {},
   "outputs": [],
   "source": [
    "ppc = sp."
   ]
  },
  {
   "cell_type": "code",
   "execution_count": null,
   "metadata": {},
   "outputs": [],
   "source": []
  }
 ],
 "metadata": {
  "kernelspec": {
   "display_name": "ams",
   "language": "python",
   "name": "python3"
  },
  "language_info": {
   "codemirror_mode": {
    "name": "ipython",
    "version": 3
   },
   "file_extension": ".py",
   "mimetype": "text/x-python",
   "name": "python",
   "nbconvert_exporter": "python",
   "pygments_lexer": "ipython3",
   "version": "3.10.11"
  },
  "orig_nbformat": 4,
  "vscode": {
   "interpreter": {
    "hash": "d2b3bf80176349caa68dc4a3c77bd06eaade8abc678330f7d1c813c53380e5d2"
   }
  }
 },
 "nbformat": 4,
 "nbformat_minor": 2
}
