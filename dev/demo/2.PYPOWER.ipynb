{
 "cells": [
  {
   "attachments": {},
   "cell_type": "markdown",
   "metadata": {},
   "source": [
    "#  PYPOWER Function"
   ]
  },
  {
   "cell_type": "code",
   "execution_count": 1,
   "metadata": {},
   "outputs": [
    {
     "data": {
      "text/plain": [
       "'0.6.post8.dev0+g6977521'"
      ]
     },
     "execution_count": 1,
     "metadata": {},
     "output_type": "execute_result"
    }
   ],
   "source": [
    "import ams\n",
    "\n",
    "ams.__version__"
   ]
  },
  {
   "cell_type": "code",
   "execution_count": 2,
   "metadata": {},
   "outputs": [],
   "source": [
    "ams.config_logger(stream_level=20)"
   ]
  },
  {
   "cell_type": "code",
   "execution_count": 3,
   "metadata": {},
   "outputs": [
    {
     "name": "stderr",
     "output_type": "stream",
     "text": [
      "Parsing input file \"/home/jwang175/ams/ams/cases/pypower/case14.py\"...\n",
      "Input file parsed in 0.0039 seconds.\n",
      "System set up in 0.0020 seconds.\n"
     ]
    }
   ],
   "source": [
    "spp = ams.load(ams.get_case('pypower/case14.py'),\n",
    "                    setup=True)\n",
    "ppc = ams.io.pypower.system2ppc(spp)"
   ]
  },
  {
   "cell_type": "code",
   "execution_count": 4,
   "metadata": {},
   "outputs": [],
   "source": [
    "from ams.solver.pypower.runpf import runpf, rundcpf\n",
    "from ams.solver.pypower.runopf import runopf, rundcopf\n",
    "from ams.solver.pypower.runuopf import runuopf, runduopf"
   ]
  },
  {
   "cell_type": "code",
   "execution_count": 5,
   "metadata": {},
   "outputs": [
    {
     "name": "stderr",
     "output_type": "stream",
     "text": [
      "PYPOWER Version 5.1.4, 27-June-2018\n",
      " -- DC Power Flow\n",
      "\n"
     ]
    }
   ],
   "source": [
    "r_dcpf = rundcpf(ppc)"
   ]
  },
  {
   "cell_type": "code",
   "execution_count": 6,
   "metadata": {},
   "outputs": [
    {
     "name": "stderr",
     "output_type": "stream",
     "text": [
      "PYPOWER Version 5.1.4, 27-June-2018\n",
      "\n",
      "Newton's method power flow converged in 2 iterations.\n",
      "\n"
     ]
    },
    {
     "name": "stdout",
     "output_type": "stream",
     "text": [
      " -- AC Power Flow (Newton)\n",
      "\n"
     ]
    }
   ],
   "source": [
    "r_pf = runpf(ppc)"
   ]
  },
  {
   "cell_type": "code",
   "execution_count": 7,
   "metadata": {},
   "outputs": [
    {
     "name": "stderr",
     "output_type": "stream",
     "text": [
      "PYPOWER Version 5.1.4, 27-June-2018\n",
      " -- DC Optimal Power Flow\n",
      "\n"
     ]
    },
    {
     "name": "stdout",
     "output_type": "stream",
     "text": [
      "Python Interior Point Solver - PIPS, Version 1.0, 07-Feb-2011\n",
      "Converged!\n"
     ]
    }
   ],
   "source": [
    "r_dcopf = rundcopf(ppc)"
   ]
  },
  {
   "cell_type": "code",
   "execution_count": 8,
   "metadata": {},
   "outputs": [
    {
     "name": "stderr",
     "output_type": "stream",
     "text": [
      "PYPOWER Version 5.1.4, 27-June-2018\n",
      " -- AC Optimal Power Flow\n",
      "\n"
     ]
    },
    {
     "name": "stdout",
     "output_type": "stream",
     "text": [
      "Python Interior Point Solver - PIPS, Version 1.0, 07-Feb-2011\n",
      "Converged!\n"
     ]
    }
   ],
   "source": [
    "r_opf = runopf(ppc)"
   ]
  },
  {
   "cell_type": "code",
   "execution_count": 9,
   "metadata": {},
   "outputs": [],
   "source": [
    "r_duopf = runduopf(ppc)"
   ]
  },
  {
   "cell_type": "code",
   "execution_count": 10,
   "metadata": {},
   "outputs": [],
   "source": [
    "r_uopf = runuopf(ppc)"
   ]
  }
 ],
 "metadata": {
  "kernelspec": {
   "display_name": "Python 3",
   "language": "python",
   "name": "python3"
  },
  "language_info": {
   "codemirror_mode": {
    "name": "ipython",
    "version": 3
   },
   "file_extension": ".py",
   "mimetype": "text/x-python",
   "name": "python",
   "nbconvert_exporter": "python",
   "pygments_lexer": "ipython3",
   "version": "3.9.16"
  },
  "orig_nbformat": 4,
  "vscode": {
   "interpreter": {
    "hash": "e1a4d90b80a1cb3618c2a91ebbb923b8817dd472db86ccd34df1a28e253a5ec7"
   }
  }
 },
 "nbformat": 4,
 "nbformat_minor": 2
}
