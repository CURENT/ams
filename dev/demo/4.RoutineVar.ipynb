{
 "cells": [
  {
   "attachments": {},
   "cell_type": "markdown",
   "metadata": {},
   "source": [
    "#  Routine Var"
   ]
  },
  {
   "cell_type": "code",
   "execution_count": 1,
   "metadata": {},
   "outputs": [
    {
     "name": "stdout",
     "output_type": "stream",
     "text": [
      "0.6.1.post14.dev0+g32619ba\n"
     ]
    }
   ],
   "source": [
    "import ams\n",
    "import numpy as np\n",
    "\n",
    "print(ams.__version__)"
   ]
  },
  {
   "cell_type": "code",
   "execution_count": 2,
   "metadata": {},
   "outputs": [],
   "source": [
    "ams.config_logger(stream_level=10)"
   ]
  },
  {
   "cell_type": "code",
   "execution_count": 3,
   "metadata": {},
   "outputs": [
    {
     "name": "stderr",
     "output_type": "stream",
     "text": [
      "Input format guessed as pypower.\n",
      "Parsing input file \"/Users/jinningwang/Documents/work/ams/ams/cases/pypower/case14.py\"...\n",
      "Input file parsed in 0.0038 seconds.\n",
      "System set up in 0.0011 seconds.\n"
     ]
    }
   ],
   "source": [
    "spa = ams.load(ams.get_case('pypower/case14.py'),\n",
    "               setup=True)"
   ]
  },
  {
   "cell_type": "code",
   "execution_count": 4,
   "metadata": {},
   "outputs": [
    {
     "data": {
      "text/plain": [
       "OrderedDict([('aBus', <ams.core.var.RAlgeb at 0x146980f10>),\n",
       "             ('vBus', <ams.core.var.RAlgeb at 0x146980f40>),\n",
       "             ('qPV', <ams.core.var.RAlgeb at 0x146980f70>),\n",
       "             ('pSlack', <ams.core.var.RAlgeb at 0x146980fa0>),\n",
       "             ('qSlack', <ams.core.var.RAlgeb at 0x146980fd0>)])"
      ]
     },
     "execution_count": 4,
     "metadata": {},
     "output_type": "execute_result"
    }
   ],
   "source": [
    "spa.PFlow.ralgebs"
   ]
  },
  {
   "cell_type": "code",
   "execution_count": 5,
   "metadata": {},
   "outputs": [
    {
     "name": "stderr",
     "output_type": "stream",
     "text": [
      "PYPOWER Version 5.1.4, 27-June-2018\n",
      "\n",
      "Newton's method power flow converged in 2 iterations.\n",
      "\n"
     ]
    },
    {
     "name": "stdout",
     "output_type": "stream",
     "text": [
      " -- AC Power Flow (Newton)\n",
      "\n"
     ]
    },
    {
     "data": {
      "text/plain": [
       "True"
      ]
     },
     "execution_count": 5,
     "metadata": {},
     "output_type": "execute_result"
    }
   ],
   "source": [
    "spa.PFlow.run()"
   ]
  },
  {
   "cell_type": "code",
   "execution_count": 6,
   "metadata": {},
   "outputs": [
    {
     "data": {
      "text/plain": [
       "array([ 0.        , -0.0869174 , -0.22200588, -0.18029251, -0.15323991,\n",
       "       -0.24818582, -0.23335052, -0.23317599, -0.26075219, -0.26354472,\n",
       "       -0.2581342 , -0.26302112, -0.26459191, -0.27995081])"
      ]
     },
     "execution_count": 6,
     "metadata": {},
     "output_type": "execute_result"
    }
   ],
   "source": [
    "spa.PFlow.ralgebs['aBus'].v"
   ]
  },
  {
   "cell_type": "code",
   "execution_count": 7,
   "metadata": {},
   "outputs": [],
   "source": [
    "spa.Bus.a.v[0] = -1"
   ]
  },
  {
   "cell_type": "code",
   "execution_count": 8,
   "metadata": {},
   "outputs": [
    {
     "data": {
      "text/plain": [
       "array([-1.        , -0.0869174 , -0.22200588, -0.18029251, -0.15323991,\n",
       "       -0.24818582, -0.23335052, -0.23317599, -0.26075219, -0.26354472,\n",
       "       -0.2581342 , -0.26302112, -0.26459191, -0.27995081])"
      ]
     },
     "execution_count": 8,
     "metadata": {},
     "output_type": "execute_result"
    }
   ],
   "source": [
    "spa.Bus.a.v"
   ]
  },
  {
   "cell_type": "code",
   "execution_count": 9,
   "metadata": {},
   "outputs": [
    {
     "data": {
      "text/plain": [
       "array([ 0.        , -0.0869174 , -0.22200588, -0.18029251, -0.15323991,\n",
       "       -0.24818582, -0.23335052, -0.23317599, -0.26075219, -0.26354472,\n",
       "       -0.2581342 , -0.26302112, -0.26459191, -0.27995081])"
      ]
     },
     "execution_count": 9,
     "metadata": {},
     "output_type": "execute_result"
    }
   ],
   "source": [
    "spa.PFlow.ralgebs['aBus'].v"
   ]
  }
 ],
 "metadata": {
  "kernelspec": {
   "display_name": "Python 3",
   "language": "python",
   "name": "python3"
  },
  "language_info": {
   "codemirror_mode": {
    "name": "ipython",
    "version": 3
   },
   "file_extension": ".py",
   "mimetype": "text/x-python",
   "name": "python",
   "nbconvert_exporter": "python",
   "pygments_lexer": "ipython3",
   "version": "3.9.16"
  },
  "orig_nbformat": 4,
  "vscode": {
   "interpreter": {
    "hash": "e1a4d90b80a1cb3618c2a91ebbb923b8817dd472db86ccd34df1a28e253a5ec7"
   }
  }
 },
 "nbformat": 4,
 "nbformat_minor": 2
}
