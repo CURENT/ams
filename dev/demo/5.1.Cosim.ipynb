{
 "cells": [
  {
   "attachments": {},
   "cell_type": "markdown",
   "metadata": {},
   "source": [
    "# Cosim"
   ]
  },
  {
   "cell_type": "code",
   "execution_count": 1,
   "metadata": {},
   "outputs": [],
   "source": [
    "import numpy as np\n",
    "\n",
    "import andes\n",
    "import ams\n",
    "\n",
    "import pandas as pd\n",
    "\n",
    "import json\n",
    "\n",
    "import cvxpy as cp"
   ]
  },
  {
   "cell_type": "code",
   "execution_count": 2,
   "metadata": {},
   "outputs": [
    {
     "data": {
      "text/plain": [
       "'0.6.4.post43.dev0+gbb05166'"
      ]
     },
     "execution_count": 2,
     "metadata": {},
     "output_type": "execute_result"
    }
   ],
   "source": [
    "ams.__version__"
   ]
  },
  {
   "cell_type": "code",
   "execution_count": 3,
   "metadata": {},
   "outputs": [],
   "source": [
    "andes.config_logger(stream_level=20)"
   ]
  },
  {
   "cell_type": "code",
   "execution_count": 4,
   "metadata": {},
   "outputs": [
    {
     "name": "stderr",
     "output_type": "stream",
     "text": [
      "Working directory: \"/Users/jinningwang/Documents/work/ams/dev/demo\"\n",
      "> Loaded config from file \"/Users/jinningwang/.andes/andes.rc\"\n",
      "> Loaded generated Python code in \"/Users/jinningwang/.andes/pycode\".\n",
      "Parsing input file \"/Users/jinningwang/Documents/work/mambaforge/envs/ams/lib/python3.9/site-packages/andes/cases/ieee14/ieee14_ace.xlsx\"...\n",
      "Input file parsed in 0.1112 seconds.\n",
      "System internal structure set up in 0.0232 seconds.\n"
     ]
    }
   ],
   "source": [
    "sa = andes.load(andes.get_case('ieee14/ieee14_ace.xlsx'),\n",
    "              setup=True,)"
   ]
  },
  {
   "cell_type": "code",
   "execution_count": 5,
   "metadata": {},
   "outputs": [],
   "source": [
    "ams.config_logger(stream_level=10)"
   ]
  },
  {
   "cell_type": "code",
   "execution_count": 6,
   "metadata": {},
   "outputs": [
    {
     "name": "stderr",
     "output_type": "stream",
     "text": [
      "-> System connectivity check results:\n",
      "  No islanded bus detected.\n",
      "  System is interconnected.\n",
      "  Each island has a slack bus correctly defined and enabled.\n",
      "\n",
      "-> Power flow calculation\n",
      "           Numba: Off\n",
      "   Sparse solver: KLU\n",
      " Solution method: NR method\n",
      "Power flow initialized in 0.0073 seconds.\n",
      "0: |F(x)| = 0.5605182134\n",
      "1: |F(x)| = 0.006202200332\n",
      "2: |F(x)| = 5.819382825e-06\n",
      "3: |F(x)| = 6.957087684e-12\n",
      "Converged in 4 iterations in 0.0064 seconds.\n",
      "Report saved to \"ieee14_ace_out.txt\" in 0.0012 seconds.\n"
     ]
    },
    {
     "data": {
      "text/plain": [
       "True"
      ]
     },
     "execution_count": 6,
     "metadata": {},
     "output_type": "execute_result"
    }
   ],
   "source": [
    "sa.PFlow.run()"
   ]
  },
  {
   "cell_type": "code",
   "execution_count": 7,
   "metadata": {},
   "outputs": [
    {
     "name": "stderr",
     "output_type": "stream",
     "text": [
      "Working directory: \"/Users/jinningwang/Documents/work/ams/dev/demo\"\n",
      "Input format guessed as xlsx.\n",
      "Parsing input file \"/Users/jinningwang/Documents/work/ams/ams/cases/ieee14/ieee14.xlsx\"...\n",
      "Input file parsed in 0.0288 seconds.\n",
      "Adjusting the bus index to start from 0.\n",
      "System set up in 0.0024 seconds.\n"
     ]
    }
   ],
   "source": [
    "sp = ams.load(ams.get_case('ieee14/ieee14.xlsx'),\n",
    "              setup=True,)"
   ]
  },
  {
   "cell_type": "code",
   "execution_count": 8,
   "metadata": {},
   "outputs": [
    {
     "name": "stderr",
     "output_type": "stream",
     "text": [
      "JSON file written to \"ieee14.json\"\n",
      "System convert to ANDES in 0.1058 seconds, save to \"ieee14.json\".\n",
      "Working directory: \"/Users/jinningwang/Documents/work/ams/dev/demo\"\n",
      "> Loaded config from file \"/Users/jinningwang/.andes/andes.rc\"\n",
      "> Reloaded generated Python code of module \"pycode\".\n",
      "Parsing input file \"ieee14.json\"...\n",
      "Input file parsed in 0.0022 seconds.\n",
      "Converted file is removed. Set \"keep = True\" to keep it.\n",
      "Addfile format guessed as xlsx.\n",
      "Parsing additional file \"/Users/jinningwang/Documents/work/mambaforge/envs/ams/lib/python3.9/site-packages/andes/cases/ieee14/ieee14_dyn_only.xlsx\"...\n",
      "Correct SynGen idx to match StaticGen.\n",
      "Addfile parsed in 0.0268 seconds.\n",
      "AMS system 0x15e736220 link to ANDES system 0x164c8bcd0\n",
      "System internal structure set up in 0.0266 seconds.\n"
     ]
    },
    {
     "data": {
      "text/plain": [
       "True"
      ]
     },
     "execution_count": 8,
     "metadata": {},
     "output_type": "execute_result"
    }
   ],
   "source": [
    "sa = sp.to_andes(setup=False,\n",
    "                 addfile=andes.get_case('ieee14/ieee14_dyn_only.xlsx'),\n",
    "                 overwrite=True,\n",
    "                 keep=False,\n",
    "                 no_output=True,)\n",
    "\n",
    "sa.add(\"Toggle\", dict(model='SynGen', dev=\"GENROU_4\", t=11.0))\n",
    "\n",
    "sa.setup()"
   ]
  },
  {
   "cell_type": "code",
   "execution_count": 9,
   "metadata": {},
   "outputs": [
    {
     "name": "stderr",
     "output_type": "stream",
     "text": [
      "Setup model for ACOPF\n",
      "- Generating symbols for ACOPF\n",
      "Set constrs power balance: self.constrs[\"pb\"]=cp.sum(self.routine.pd.v) - cp.sum(self.pg) == 0\n",
      "ACOPF model set up in 0.0027 seconds.\n",
      "Adjusting the bus index to start from 0.\n",
      "PYPOWER Version 5.1.4, 27-June-2018\n",
      " -- AC Optimal Power Flow\n",
      "\n"
     ]
    },
    {
     "name": "stdout",
     "output_type": "stream",
     "text": [
      "Python Interior Point Solver - PIPS, Version 1.0, 07-Feb-2011\n"
     ]
    },
    {
     "name": "stderr",
     "output_type": "stream",
     "text": [
      "ACOPF completed in 0.2418 seconds with exit code 0.\n"
     ]
    },
    {
     "name": "stdout",
     "output_type": "stream",
     "text": [
      "Converged!\n"
     ]
    },
    {
     "data": {
      "text/plain": [
       "0"
      ]
     },
     "execution_count": 9,
     "metadata": {},
     "output_type": "execute_result"
    }
   ],
   "source": [
    "sp.ACOPF.run()"
   ]
  },
  {
   "cell_type": "code",
   "execution_count": 10,
   "metadata": {},
   "outputs": [
    {
     "data": {
      "text/plain": [
       "Var: StaticGen.pg, a=[28 29 30 31 32], v=[0.49996655 0.10000065 0.10000064 0.10000065 1.49809555]"
      ]
     },
     "execution_count": 10,
     "metadata": {},
     "output_type": "execute_result"
    }
   ],
   "source": [
    "sp.ACOPF.pg"
   ]
  },
  {
   "cell_type": "code",
   "execution_count": 11,
   "metadata": {},
   "outputs": [],
   "source": [
    "# sp.PV.set(src='u', attr='v', idx='PV_2', value=0)"
   ]
  },
  {
   "cell_type": "code",
   "execution_count": 12,
   "metadata": {},
   "outputs": [
    {
     "name": "stderr",
     "output_type": "stream",
     "text": [
      "Adjusting the bus index to start from 0.\n",
      "PYPOWER Version 5.1.4, 27-June-2018\n",
      " -- AC Optimal Power Flow\n",
      "\n"
     ]
    },
    {
     "name": "stdout",
     "output_type": "stream",
     "text": [
      "Python Interior Point Solver - PIPS, Version 1.0, 07-Feb-2011\n"
     ]
    },
    {
     "name": "stderr",
     "output_type": "stream",
     "text": [
      "ACOPF completed in 0.2368 seconds with exit code 0.\n"
     ]
    },
    {
     "name": "stdout",
     "output_type": "stream",
     "text": [
      "Converged!\n"
     ]
    },
    {
     "data": {
      "text/plain": [
       "0"
      ]
     },
     "execution_count": 12,
     "metadata": {},
     "output_type": "execute_result"
    }
   ],
   "source": [
    "sp.ACOPF.run()"
   ]
  },
  {
   "cell_type": "code",
   "execution_count": 13,
   "metadata": {},
   "outputs": [
    {
     "data": {
      "text/plain": [
       "Var: StaticGen.pg, a=[28 29 30 31 32], v=[0.49996655 0.10000065 0.10000064 0.10000065 1.49809555]"
      ]
     },
     "execution_count": 13,
     "metadata": {},
     "output_type": "execute_result"
    }
   ],
   "source": [
    "sp.ACOPF.pg"
   ]
  },
  {
   "cell_type": "code",
   "execution_count": 14,
   "metadata": {},
   "outputs": [
    {
     "name": "stderr",
     "output_type": "stream",
     "text": [
      "Sending model online status to ANDES...\n",
      "Sending ACOPF results to ANDES...\n"
     ]
    },
    {
     "data": {
      "text/plain": [
       "True"
      ]
     },
     "execution_count": 14,
     "metadata": {},
     "output_type": "execute_result"
    }
   ],
   "source": [
    "sp.dyn.send()"
   ]
  },
  {
   "cell_type": "code",
   "execution_count": 15,
   "metadata": {},
   "outputs": [
    {
     "name": "stderr",
     "output_type": "stream",
     "text": [
      "-> System connectivity check results:\n",
      "  No islanded bus detected.\n",
      "  System is interconnected.\n",
      "  Each island has a slack bus correctly defined and enabled.\n",
      "\n",
      "-> Power flow calculation\n",
      "           Numba: Off\n",
      "   Sparse solver: KLU\n",
      " Solution method: NR method\n",
      "Power flow initialized in 0.0065 seconds.\n",
      "0: |F(x)| = 0.697239972\n",
      "1: |F(x)| = 0.03123382496\n",
      "2: |F(x)| = 9.221449594e-05\n",
      "3: |F(x)| = 8.563380977e-10\n",
      "Converged in 4 iterations in 0.0116 seconds.\n"
     ]
    },
    {
     "data": {
      "text/plain": [
       "True"
      ]
     },
     "execution_count": 15,
     "metadata": {},
     "output_type": "execute_result"
    }
   ],
   "source": [
    "sa.PFlow.run()"
   ]
  },
  {
   "cell_type": "code",
   "execution_count": 16,
   "metadata": {},
   "outputs": [
    {
     "data": {
      "text/plain": [
       "True"
      ]
     },
     "execution_count": 16,
     "metadata": {},
     "output_type": "execute_result"
    }
   ],
   "source": [
    "idx_tg = sa.TGOV1.idx.v\n",
    "vmax0 = sa.TGOV1.get(src='VMAX', attr='v', idx=idx_tg)\n",
    "sa.TGOV1.set(src='VMAX', attr='v', idx=idx_tg, value=10 * vmax0)\n",
    "vmin0 = sa.TGOV1.get(src='VMIN', attr='v', idx=idx_tg)\n",
    "sa.TGOV1.set(src='VMIN', attr='v', idx=idx_tg, value=np.zeros_like(vmin0))"
   ]
  },
  {
   "cell_type": "code",
   "execution_count": 17,
   "metadata": {},
   "outputs": [
    {
     "name": "stderr",
     "output_type": "stream",
     "text": [
      "\n",
      "-> Time Domain Simulation Summary:\n",
      "Sparse Solver: KLU\n",
      "Simulation time: 0.0-10 s.\n",
      "Fixed step size: h=33.33 ms. Shrink if not converged.\n",
      "Initialization for dynamics completed in 0.0319 seconds.\n",
      "Initialization was successful.\n"
     ]
    },
    {
     "data": {
      "application/vnd.jupyter.widget-view+json": {
       "model_id": "e6810e403ffd459bb294c2fbedb9d196",
       "version_major": 2,
       "version_minor": 0
      },
      "text/plain": [
       "  0%|          | 0/100 [00:00<?, ?%/s]"
      ]
     },
     "metadata": {},
     "output_type": "display_data"
    },
    {
     "name": "stdout",
     "output_type": "stream",
     "text": [
      "<Fault 1>: Applying fault on Bus (idx=7) at t=1.0 sec.\n",
      "<Fault 1>: Clearing fault on Bus (idx=7) at t=1.03333 sec.\n"
     ]
    },
    {
     "name": "stderr",
     "output_type": "stream",
     "text": [
      "Simulation to t=10.00 sec completed in 0.4495 seconds.\n"
     ]
    },
    {
     "data": {
      "text/plain": [
       "True"
      ]
     },
     "execution_count": 17,
     "metadata": {},
     "output_type": "execute_result"
    }
   ],
   "source": [
    "sa.TDS.config.tf = 10\n",
    "sa.TDS.run()"
   ]
  },
  {
   "cell_type": "code",
   "execution_count": 18,
   "metadata": {},
   "outputs": [
    {
     "data": {
      "application/vnd.jupyter.widget-view+json": {
       "model_id": "470437e4ed3940a68e36c7079e2c1f3d",
       "version_major": 2,
       "version_minor": 0
      },
      "text/plain": [
       "  0%|          | 0/100 [00:00<?, ?%/s]"
      ]
     },
     "metadata": {},
     "output_type": "display_data"
    },
    {
     "name": "stdout",
     "output_type": "stream",
     "text": [
      "<Toggle Toggle_2>: SynGen.GENROU_4 status changed to 0 at t=11.0 sec.\n"
     ]
    },
    {
     "name": "stderr",
     "output_type": "stream",
     "text": [
      "Simulation to t=20.00 sec completed in 0.6308 seconds.\n"
     ]
    },
    {
     "data": {
      "text/plain": [
       "True"
      ]
     },
     "execution_count": 18,
     "metadata": {},
     "output_type": "execute_result"
    }
   ],
   "source": [
    "sa.TDS.config.tf = 20\n",
    "sa.TDS.run()"
   ]
  },
  {
   "cell_type": "code",
   "execution_count": 19,
   "metadata": {},
   "outputs": [
    {
     "name": "stderr",
     "output_type": "stream",
     "text": [
      "Receiving model online status from ANDES...\n"
     ]
    },
    {
     "data": {
      "text/plain": [
       "True"
      ]
     },
     "execution_count": 19,
     "metadata": {},
     "output_type": "execute_result"
    }
   ],
   "source": [
    "sp.dyn.receive()"
   ]
  },
  {
   "cell_type": "code",
   "execution_count": null,
   "metadata": {},
   "outputs": [],
   "source": []
  }
 ],
 "metadata": {
  "kernelspec": {
   "display_name": "ams",
   "language": "python",
   "name": "python3"
  },
  "language_info": {
   "codemirror_mode": {
    "name": "ipython",
    "version": 3
   },
   "file_extension": ".py",
   "mimetype": "text/x-python",
   "name": "python",
   "nbconvert_exporter": "python",
   "pygments_lexer": "ipython3",
   "version": "3.9.16"
  },
  "orig_nbformat": 4,
  "vscode": {
   "interpreter": {
    "hash": "d2b3bf80176349caa68dc4a3c77bd06eaade8abc678330f7d1c813c53380e5d2"
   }
  }
 },
 "nbformat": 4,
 "nbformat_minor": 2
}
