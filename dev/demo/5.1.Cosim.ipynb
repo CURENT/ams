{
 "cells": [
  {
   "attachments": {},
   "cell_type": "markdown",
   "metadata": {},
   "source": [
    "# Cosim"
   ]
  },
  {
   "cell_type": "code",
   "execution_count": 1,
   "metadata": {},
   "outputs": [],
   "source": [
    "import numpy as np\n",
    "\n",
    "import andes\n",
    "import ams\n",
    "\n",
    "import pandas as pd\n",
    "\n",
    "import json\n",
    "\n",
    "import cvxpy as cp"
   ]
  },
  {
   "cell_type": "code",
   "execution_count": 2,
   "metadata": {},
   "outputs": [
    {
     "data": {
      "text/plain": [
       "'0.6.4.post38.dev0+gaa8bfca'"
      ]
     },
     "execution_count": 2,
     "metadata": {},
     "output_type": "execute_result"
    }
   ],
   "source": [
    "ams.__version__"
   ]
  },
  {
   "cell_type": "code",
   "execution_count": 3,
   "metadata": {},
   "outputs": [],
   "source": [
    "andes.config_logger(stream_level=20)"
   ]
  },
  {
   "cell_type": "code",
   "execution_count": 4,
   "metadata": {},
   "outputs": [
    {
     "name": "stderr",
     "output_type": "stream",
     "text": [
      "Working directory: \"/Users/jinningwang/Documents/work/ams/dev/demo\"\n",
      "> Loaded config from file \"/Users/jinningwang/.andes/andes.rc\"\n",
      "> Loaded generated Python code in \"/Users/jinningwang/.andes/pycode\".\n",
      "Parsing input file \"/Users/jinningwang/Documents/work/mambaforge/envs/ams/lib/python3.9/site-packages/andes/cases/ieee14/ieee14_ace.xlsx\"...\n",
      "Input file parsed in 0.1260 seconds.\n",
      "System internal structure set up in 0.0224 seconds.\n"
     ]
    }
   ],
   "source": [
    "sa = andes.load(andes.get_case('ieee14/ieee14_ace.xlsx'),\n",
    "              setup=True,)"
   ]
  },
  {
   "cell_type": "code",
   "execution_count": 5,
   "metadata": {},
   "outputs": [],
   "source": [
    "ams.config_logger(stream_level=10)"
   ]
  },
  {
   "cell_type": "code",
   "execution_count": 6,
   "metadata": {},
   "outputs": [
    {
     "name": "stderr",
     "output_type": "stream",
     "text": [
      "Working directory: \"/Users/jinningwang/Documents/work/ams/dev/demo\"\n",
      "Input format guessed as xlsx.\n",
      "Parsing input file \"/Users/jinningwang/Documents/work/ams/ams/cases/ieee14/ieee14.xlsx\"...\n",
      "Input file parsed in 0.0308 seconds.\n",
      "Adjusting the bus index to start from 0.\n",
      "System set up in 0.0058 seconds.\n",
      "xlsx file written to \"ieee14.xlsx\"\n",
      "System convert to ANDES in 0.1398 seconds, save to \"ieee14.xlsx\".\n",
      "Working directory: \"/Users/jinningwang/Documents/work/ams/dev/demo\"\n",
      "> Loaded config from file \"/Users/jinningwang/.andes/andes.rc\"\n",
      "> Reloaded generated Python code of module \"pycode\".\n",
      "Parsing input file \"ieee14.xlsx\"...\n",
      "Input file parsed in 0.0266 seconds.\n",
      "Addfile format guessed as xlsx.\n",
      "Parsing additional file \"/Users/jinningwang/Documents/work/mambaforge/envs/ams/lib/python3.9/site-packages/andes/cases/ieee14/ieee14_dyn_only.xlsx\"...\n",
      "Correct SynGen to match StaticGen.\n",
      "Addfile parsed in 0.0258 seconds.\n",
      "System internal structure set up in 0.0289 seconds.\n"
     ]
    }
   ],
   "source": [
    "sp = ams.load(ams.get_case('ieee14/ieee14.xlsx'),\n",
    "              setup=True,)\n",
    "\n",
    "sa = sp.to_andes(overwrite=True,\n",
    "                 addfile=andes.get_case('ieee14/ieee14_dyn_only.xlsx'),\n",
    "                 no_output=True,)"
   ]
  },
  {
   "cell_type": "code",
   "execution_count": 7,
   "metadata": {},
   "outputs": [
    {
     "name": "stderr",
     "output_type": "stream",
     "text": [
      "Setup model of DCOPF\n",
      "- Generating symbols for DCOPF\n",
      "Set constrs power balance: self.constrs[\"pb\"]=cp.sum(self.routine.pd.v) - cp.sum(self.pg) == 0\n",
      "Set constrs line limits upper bound: self.constrs[\"lub\"]=self.routine.PTDF1.v @ (self.pg - self.routine.pd1.v) - self.routine.PTDF2.v @ self.routine.pd2.v - self.routine.rate_a.v <= 0\n",
      "Set constrs line limits lower bound: self.constrs[\"llb\"]=- self.routine.PTDF1.v @ (self.pg - self.routine.pd1.v) + self.routine.PTDF2.v @ self.routine.pd2.v - self.routine.rate_a.v <= 0\n",
      "DCOPF model set up in 0.0058 seconds.\n",
      "DCOPF completed in 0.0068 seconds with exit code 0.\n"
     ]
    }
   ],
   "source": [
    "sp.DCOPF.run()"
   ]
  },
  {
   "cell_type": "code",
   "execution_count": 8,
   "metadata": {},
   "outputs": [
    {
     "name": "stderr",
     "output_type": "stream",
     "text": [
      "Setup model for ACOPF\n",
      "- Generating symbols for ACOPF\n",
      "Set constrs power balance: self.constrs[\"pb\"]=cp.sum(self.routine.pd.v) - cp.sum(self.pg) == 0\n",
      "ACOPF model set up in 0.0053 seconds.\n",
      "Adjusting the bus index to start from 0.\n",
      "PYPOWER Version 5.1.4, 27-June-2018\n",
      " -- AC Optimal Power Flow\n",
      "\n"
     ]
    },
    {
     "name": "stdout",
     "output_type": "stream",
     "text": [
      "Python Interior Point Solver - PIPS, Version 1.0, 07-Feb-2011\n"
     ]
    },
    {
     "name": "stderr",
     "output_type": "stream",
     "text": [
      "ACOPF completed in 0.2622 seconds with exit code 0.\n"
     ]
    },
    {
     "name": "stdout",
     "output_type": "stream",
     "text": [
      "Converged!\n"
     ]
    },
    {
     "data": {
      "text/plain": [
       "0"
      ]
     },
     "execution_count": 8,
     "metadata": {},
     "output_type": "execute_result"
    }
   ],
   "source": [
    "sp.ACOPF.run()"
   ]
  },
  {
   "cell_type": "code",
   "execution_count": 9,
   "metadata": {},
   "outputs": [
    {
     "name": "stderr",
     "output_type": "stream",
     "text": [
      "Sending ACOPF results into ANDES...\n"
     ]
    }
   ],
   "source": [
    "sp.sync_andes(sa)"
   ]
  },
  {
   "cell_type": "code",
   "execution_count": 10,
   "metadata": {},
   "outputs": [
    {
     "name": "stderr",
     "output_type": "stream",
     "text": [
      "-> System connectivity check results:\n",
      "  No islanded bus detected.\n",
      "  System is interconnected.\n",
      "  Each island has a slack bus correctly defined and enabled.\n",
      "\n",
      "-> Power flow calculation\n",
      "           Numba: Off\n",
      "   Sparse solver: KLU\n",
      " Solution method: NR method\n",
      "Power flow initialized in 0.0050 seconds.\n",
      "0: |F(x)| = 0.697239972\n",
      "1: |F(x)| = 0.03123382496\n",
      "2: |F(x)| = 9.221449594e-05\n",
      "3: |F(x)| = 8.563380977e-10\n",
      "Converged in 4 iterations in 0.0115 seconds.\n"
     ]
    },
    {
     "data": {
      "text/plain": [
       "True"
      ]
     },
     "execution_count": 10,
     "metadata": {},
     "output_type": "execute_result"
    }
   ],
   "source": [
    "sa.PFlow.run()"
   ]
  },
  {
   "cell_type": "code",
   "execution_count": 11,
   "metadata": {},
   "outputs": [
    {
     "name": "stderr",
     "output_type": "stream",
     "text": [
      "\n",
      "-> Time Domain Simulation Summary:\n",
      "Sparse Solver: KLU\n",
      "Simulation time: 0.0-20.0 s.\n",
      "Fixed step size: h=33.33 ms. Shrink if not converged.\n",
      "Suspect initialization issue! Simulation may crash!\n",
      "\n",
      "    Name      | Var. Value | Eqn. Mismatch\n",
      "--------------+------------+--------------\n",
      " LL_y TGOV1 1 | 1.506      | -0.456       \n",
      " LL_y TGOV1 4 | 0.100      | 0.200        \n",
      " LL_y TGOV1 5 | 0.100      | 0.200        \n",
      "\n",
      "\n",
      "Initialization for dynamics completed in 0.0309 seconds.\n",
      "Initialization failed!!\n",
      "If you are developing a new model, check the initialization with\n",
      "   andes -v 10 run -r tds --init ieee14.xlsx\n",
      "Otherwise, check the variables that are initialized out of limits.\n"
     ]
    },
    {
     "data": {
      "application/vnd.jupyter.widget-view+json": {
       "model_id": "3524ac25c5c4407b860c71740366d467",
       "version_major": 2,
       "version_minor": 0
      },
      "text/plain": [
       "  0%|          | 0/100 [00:00<?, ?%/s]"
      ]
     },
     "metadata": {},
     "output_type": "display_data"
    },
    {
     "name": "stdout",
     "output_type": "stream",
     "text": [
      "<Fault 1>: Applying fault on Bus (idx=7) at t=1.0 sec.\n",
      "<Fault 1>: Clearing fault on Bus (idx=7) at t=1.03333 sec.\n"
     ]
    },
    {
     "name": "stderr",
     "output_type": "stream",
     "text": [
      "Simulation to t=20.00 sec completed in 4.8199 seconds.\n"
     ]
    },
    {
     "data": {
      "text/plain": [
       "True"
      ]
     },
     "execution_count": 11,
     "metadata": {},
     "output_type": "execute_result"
    }
   ],
   "source": [
    "sa.TDS.run()"
   ]
  }
 ],
 "metadata": {
  "kernelspec": {
   "display_name": "ams",
   "language": "python",
   "name": "python3"
  },
  "language_info": {
   "codemirror_mode": {
    "name": "ipython",
    "version": 3
   },
   "file_extension": ".py",
   "mimetype": "text/x-python",
   "name": "python",
   "nbconvert_exporter": "python",
   "pygments_lexer": "ipython3",
   "version": "3.9.16"
  },
  "orig_nbformat": 4,
  "vscode": {
   "interpreter": {
    "hash": "d2b3bf80176349caa68dc4a3c77bd06eaade8abc678330f7d1c813c53380e5d2"
   }
  }
 },
 "nbformat": 4,
 "nbformat_minor": 2
}
