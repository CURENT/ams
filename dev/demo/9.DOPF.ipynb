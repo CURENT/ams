{
 "cells": [
  {
   "attachments": {},
   "cell_type": "markdown",
   "metadata": {},
   "source": [
    "# Distributional OPF"
   ]
  },
  {
   "cell_type": "code",
   "execution_count": 1,
   "metadata": {},
   "outputs": [],
   "source": [
    "import numpy as np\n",
    "\n",
    "import andes\n",
    "import ams\n",
    "\n",
    "import pandas as pd\n",
    "\n",
    "import json\n",
    "\n",
    "import cvxpy as cp"
   ]
  },
  {
   "cell_type": "code",
   "execution_count": 2,
   "metadata": {},
   "outputs": [
    {
     "data": {
      "text/plain": [
       "'0.6.5.post106.dev0+g3c1c341'"
      ]
     },
     "execution_count": 2,
     "metadata": {},
     "output_type": "execute_result"
    }
   ],
   "source": [
    "ams.__version__"
   ]
  },
  {
   "cell_type": "code",
   "execution_count": 3,
   "metadata": {},
   "outputs": [],
   "source": [
    "ams.config_logger(stream_level=10)"
   ]
  },
  {
   "cell_type": "code",
   "execution_count": 4,
   "metadata": {},
   "outputs": [
    {
     "name": "stderr",
     "output_type": "stream",
     "text": [
      "Input format guessed as matpower.\n",
      "Parsing input file \"/Users/jinningwang/Documents/work/ams/ams/cases/ieee123/case123_v1.m\"...\n",
      "Input file parsed in 0.0157 seconds.\n",
      "Adjust bus index to start from 0.\n",
      "System set up in 0.0242 seconds.\n"
     ]
    }
   ],
   "source": [
    "sp = ams.load(ams.get_case('ieee123/case123_v1.m'),\n",
    "              setup=True,\n",
    "              )"
   ]
  },
  {
   "cell_type": "code",
   "execution_count": 5,
   "metadata": {},
   "outputs": [
    {
     "name": "stderr",
     "output_type": "stream",
     "text": [
      "DOPF data check passed.\n",
      "- Generating symbols for DOPF\n",
      "Set constrs pinj: CftT@(pl - r * isq ) - pd - pn\n",
      "Code Constr: om.constrs[\"pinj\"]=self.om.rtn.CftT.v@(self.om.pl - self.om.rtn.r.v @ self.om.isq ) - self.om.rtn.pd.v - self.om.pn == 0\n",
      "Set constrs qinj: CftT@(ql - x * isq ) - qd - qn\n",
      "Code Constr: om.constrs[\"qinj\"]=self.om.rtn.CftT.v@(self.om.ql - self.om.rtn.x.v @ self.om.isq ) - self.om.rtn.qd.v - self.om.qn == 0\n",
      "Set constrs vu: vsq - vmax**2\n",
      "Code Constr: om.constrs[\"vu\"]=self.om.vsq - self.om.rtn.vmax.v**2 <= 0\n",
      "Set constrs vl: -vsq + vmin**2\n",
      "Code Constr: om.constrs[\"vl\"]=-self.om.vsq + self.om.rtn.vmin.v**2 <= 0\n",
      "Set constrs lvd: Cft@vsq - 2*(r * pl + x * ql) + (r**2 + x**2) @ isq\n",
      "Code Constr: om.constrs[\"lvd\"]=self.om.rtn.Cft.v@self.om.vsq - 2*(self.om.rtn.r.v @ self.om.pl + self.om.rtn.x.v @ self.om.ql) + (self.om.rtn.r.v**2 + self.om.rtn.x.v**2) @ self.om.isq == 0\n",
      "Set constrs lc: norm(vstack([2*(pl), 2*(ql), isq - Cft@vsq]), 2) - isq - Cft@vsq\n",
      "Code Constr: om.constrs[\"lc\"]=cp.norm(cp.vstack([2*(self.om.pl), 2*(self.om.ql), self.om.isq - self.om.rtn.Cft.v@self.om.vsq]), 2) - self.om.isq - self.om.rtn.Cft.v@self.om.vsq <= 0\n",
      "Set constrs lub: isq - rate_a**2\n",
      "Code Constr: om.constrs[\"lub\"]=self.om.isq - self.om.rtn.rate_a.v**2 <= 0\n",
      "Set constrs llb: -isq + rate_a**2\n",
      "Code Constr: om.constrs[\"llb\"]=-self.om.isq + self.om.rtn.rate_a.v**2 <= 0\n",
      "Set constrs pgb: Cg@pn - pg\n",
      "Code Constr: om.constrs[\"pgb\"]=self.om.rtn.Cg.v@self.om.pn - self.om.pg == 0\n",
      "Set constrs qgb: Cg@qn - qg\n",
      "Code Constr: om.constrs[\"qgb\"]=self.om.rtn.Cg.v@self.om.qn - self.om.qg == 0\n",
      "Code Obj: om.obj=cp.Minimize(cp.sum(self.om.pn))\n",
      "DOPF model set up in 0.0278 seconds.\n"
     ]
    },
    {
     "data": {
      "text/plain": [
       "True"
      ]
     },
     "execution_count": 5,
     "metadata": {},
     "output_type": "execute_result"
    }
   ],
   "source": [
    "sp.DOPF.setup(show_code=True)"
   ]
  },
  {
   "cell_type": "code",
   "execution_count": 6,
   "metadata": {},
   "outputs": [
    {
     "name": "stderr",
     "output_type": "stream",
     "text": [
      "DOPF failed as infeasible with exit code 1!\n"
     ]
    },
    {
     "data": {
      "text/plain": [
       "False"
      ]
     },
     "execution_count": 6,
     "metadata": {},
     "output_type": "execute_result"
    }
   ],
   "source": [
    "sp.DOPF.run()"
   ]
  }
 ],
 "metadata": {
  "kernelspec": {
   "display_name": "ams",
   "language": "python",
   "name": "python3"
  },
  "language_info": {
   "codemirror_mode": {
    "name": "ipython",
    "version": 3
   },
   "file_extension": ".py",
   "mimetype": "text/x-python",
   "name": "python",
   "nbconvert_exporter": "python",
   "pygments_lexer": "ipython3",
   "version": "3.9.16"
  },
  "orig_nbformat": 4,
  "vscode": {
   "interpreter": {
    "hash": "d2b3bf80176349caa68dc4a3c77bd06eaade8abc678330f7d1c813c53380e5d2"
   }
  }
 },
 "nbformat": 4,
 "nbformat_minor": 2
}
