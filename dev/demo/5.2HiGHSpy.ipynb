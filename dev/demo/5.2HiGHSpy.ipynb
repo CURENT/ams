{
 "cells": [
  {
   "attachments": {},
   "cell_type": "markdown",
   "metadata": {},
   "source": [
    "# HiGHSPy"
   ]
  },
  {
   "cell_type": "code",
   "execution_count": 1,
   "metadata": {},
   "outputs": [],
   "source": [
    "import numpy as np\n",
    "from scipy.sparse import csc_matrix\n",
    "\n",
    "from highspy import Highs"
   ]
  },
  {
   "cell_type": "code",
   "execution_count": 2,
   "metadata": {},
   "outputs": [],
   "source": [
    "c = np.array([1.0, -2.0])  # Coefficients of the linear objective function\n",
    "Q = csc_matrix([[2.0, 0.5], [0.5, 1.0]])  # Coefficient matrix of the quadratic objective function\n",
    "A = csc_matrix([[1.0, 1.0], [1.0, 0.0], [0.0, 1.0]])  # Constraint matrix\n",
    "l = np.array([1.0, 0.0, 0.0])  # Lower bounds on the constraints\n",
    "u = np.array([1.0, np.inf, np.inf])  # Upper bounds on the constraints"
   ]
  },
  {
   "cell_type": "code",
   "execution_count": 5,
   "metadata": {},
   "outputs": [
    {
     "ename": "TypeError",
     "evalue": "passModel(): incompatible function arguments. The following argument types are supported:\n    1. (self: highspy.highs_bindings._Highs, arg0: highspy.highs_bindings.HighsModel) -> highspy.highs_bindings.HighsStatus\n    2. (self: highspy.highs_bindings._Highs, arg0: int, arg1: int, arg2: int, arg3: int, arg4: int, arg5: int, arg6: int, arg7: float, arg8: numpy.ndarray[numpy.float64], arg9: numpy.ndarray[numpy.float64], arg10: numpy.ndarray[numpy.float64], arg11: numpy.ndarray[numpy.float64], arg12: numpy.ndarray[numpy.float64], arg13: numpy.ndarray[numpy.int32], arg14: numpy.ndarray[numpy.int32], arg15: numpy.ndarray[numpy.float64], arg16: numpy.ndarray[numpy.int32], arg17: numpy.ndarray[numpy.int32], arg18: numpy.ndarray[numpy.float64], arg19: numpy.ndarray[numpy.int32]) -> highspy.highs_bindings.HighsStatus\n    3. (self: highspy.highs_bindings._Highs, arg0: highspy.highs_bindings.HighsLp) -> highspy.highs_bindings.HighsStatus\n    4. (self: highspy.highs_bindings._Highs, arg0: int, arg1: int, arg2: int, arg3: int, arg4: int, arg5: float, arg6: numpy.ndarray[numpy.float64], arg7: numpy.ndarray[numpy.float64], arg8: numpy.ndarray[numpy.float64], arg9: numpy.ndarray[numpy.float64], arg10: numpy.ndarray[numpy.float64], arg11: numpy.ndarray[numpy.int32], arg12: numpy.ndarray[numpy.int32], arg13: numpy.ndarray[numpy.float64], arg14: numpy.ndarray[numpy.int32]) -> highspy.highs_bindings.HighsStatus\n\nInvoked with: <highspy.highs.Highs object at 0x1264144a0>, <2x2 sparse matrix of type '<class 'numpy.float64'>'\n\twith 4 stored elements in Compressed Sparse Column format>, array([ 1., -2.]), <3x2 sparse matrix of type '<class 'numpy.float64'>'\n\twith 4 stored elements in Compressed Sparse Column format>, array([1., 0., 0.]), array([ 1., inf, inf])",
     "output_type": "error",
     "traceback": [
      "\u001b[0;31m---------------------------------------------------------------------------\u001b[0m",
      "\u001b[0;31mTypeError\u001b[0m                                 Traceback (most recent call last)",
      "Cell \u001b[0;32mIn[5], line 4\u001b[0m\n\u001b[1;32m      2\u001b[0m problem \u001b[39m=\u001b[39m Highs()\n\u001b[1;32m      3\u001b[0m problem\u001b[39m.\u001b[39msetOptionValue(\u001b[39m\"\u001b[39m\u001b[39msolver\u001b[39m\u001b[39m\"\u001b[39m, \u001b[39m\"\u001b[39m\u001b[39mipm\u001b[39m\u001b[39m\"\u001b[39m)  \u001b[39m# Select the solver (e.g., \"ipm\" for interior point method)\u001b[39;00m\n\u001b[0;32m----> 4\u001b[0m problem\u001b[39m.\u001b[39;49mpassModel(Q, c, A, l, u)\n\u001b[1;32m      6\u001b[0m \u001b[39m# Solve the QP problem\u001b[39;00m\n\u001b[1;32m      7\u001b[0m problem\u001b[39m.\u001b[39mrun()\n",
      "\u001b[0;31mTypeError\u001b[0m: passModel(): incompatible function arguments. The following argument types are supported:\n    1. (self: highspy.highs_bindings._Highs, arg0: highspy.highs_bindings.HighsModel) -> highspy.highs_bindings.HighsStatus\n    2. (self: highspy.highs_bindings._Highs, arg0: int, arg1: int, arg2: int, arg3: int, arg4: int, arg5: int, arg6: int, arg7: float, arg8: numpy.ndarray[numpy.float64], arg9: numpy.ndarray[numpy.float64], arg10: numpy.ndarray[numpy.float64], arg11: numpy.ndarray[numpy.float64], arg12: numpy.ndarray[numpy.float64], arg13: numpy.ndarray[numpy.int32], arg14: numpy.ndarray[numpy.int32], arg15: numpy.ndarray[numpy.float64], arg16: numpy.ndarray[numpy.int32], arg17: numpy.ndarray[numpy.int32], arg18: numpy.ndarray[numpy.float64], arg19: numpy.ndarray[numpy.int32]) -> highspy.highs_bindings.HighsStatus\n    3. (self: highspy.highs_bindings._Highs, arg0: highspy.highs_bindings.HighsLp) -> highspy.highs_bindings.HighsStatus\n    4. (self: highspy.highs_bindings._Highs, arg0: int, arg1: int, arg2: int, arg3: int, arg4: int, arg5: float, arg6: numpy.ndarray[numpy.float64], arg7: numpy.ndarray[numpy.float64], arg8: numpy.ndarray[numpy.float64], arg9: numpy.ndarray[numpy.float64], arg10: numpy.ndarray[numpy.float64], arg11: numpy.ndarray[numpy.int32], arg12: numpy.ndarray[numpy.int32], arg13: numpy.ndarray[numpy.float64], arg14: numpy.ndarray[numpy.int32]) -> highspy.highs_bindings.HighsStatus\n\nInvoked with: <highspy.highs.Highs object at 0x1264144a0>, <2x2 sparse matrix of type '<class 'numpy.float64'>'\n\twith 4 stored elements in Compressed Sparse Column format>, array([ 1., -2.]), <3x2 sparse matrix of type '<class 'numpy.float64'>'\n\twith 4 stored elements in Compressed Sparse Column format>, array([1., 0., 0.]), array([ 1., inf, inf])"
     ]
    }
   ],
   "source": [
    "# Create a HiGHS object and set the problem\n",
    "problem = Highs()\n",
    "problem.setOptionValue(\"solver\", \"ipm\")  # Select the solver (e.g., \"ipm\" for interior point method)\n",
    "problem.passModel(Q, c, A, l, u)\n",
    "\n",
    "# Solve the QP problem\n",
    "problem.run()\n",
    "\n",
    "# Get the solution\n",
    "solution = problem.getSolution()"
   ]
  }
 ],
 "metadata": {
  "kernelspec": {
   "display_name": "ams",
   "language": "python",
   "name": "python3"
  },
  "language_info": {
   "codemirror_mode": {
    "name": "ipython",
    "version": 3
   },
   "file_extension": ".py",
   "mimetype": "text/x-python",
   "name": "python",
   "nbconvert_exporter": "python",
   "pygments_lexer": "ipython3",
   "version": "3.9.16"
  },
  "orig_nbformat": 4,
  "vscode": {
   "interpreter": {
    "hash": "d2b3bf80176349caa68dc4a3c77bd06eaade8abc678330f7d1c813c53380e5d2"
   }
  }
 },
 "nbformat": 4,
 "nbformat_minor": 2
}
