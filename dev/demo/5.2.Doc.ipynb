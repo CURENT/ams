{
 "cells": [
  {
   "cell_type": "code",
   "execution_count": 1,
   "metadata": {},
   "outputs": [],
   "source": [
    "import os\n",
    "import ams"
   ]
  },
  {
   "cell_type": "code",
   "execution_count": 2,
   "metadata": {},
   "outputs": [],
   "source": [
    "ss = ams.load(ams.get_case('ieee14/ieee14.xlsx'))"
   ]
  },
  {
   "cell_type": "code",
   "execution_count": 3,
   "metadata": {},
   "outputs": [
    {
     "data": {
      "text/plain": [
       "'Supported Groups and Models\\n\\n+---------------------+----------------+\\n|        Group        |     Models     |\\n+=====================+================+\\n|  :ref:`ACLine`      | :ref:`Line`    |\\n+---------------------+----------------+\\n|  :ref:`ACTopology`  | :ref:`Bus`     |\\n+---------------------+----------------+\\n|  :ref:`Collection`  | :ref:`Area`    |\\n+---------------------+----------------+\\n|  :ref:`Cost`        | :ref:`GCost`   |\\n+---------------------+----------------+\\n|  :ref:`Information` | :ref:`Summary` |\\n+---------------------+----------------+\\n|  :ref:`StaticGen`   | :ref:`PV`      |\\n+---------------------+----------------+\\n|  :ref:`StaticLoad`  | :ref:`PQ`      |\\n+---------------------+----------------+\\n|  :ref:`StaticShunt` | :ref:`Shunt`   |\\n+---------------------+----------------+\\n|  :ref:`Undefined`   | :ref:`Slack`   |\\n+---------------------+----------------+\\n\\n'"
      ]
     },
     "execution_count": 3,
     "metadata": {},
     "output_type": "execute_result"
    }
   ],
   "source": [
    "ss.supported_models(export='rest')"
   ]
  },
  {
   "cell_type": "code",
   "execution_count": 4,
   "metadata": {},
   "outputs": [],
   "source": [
    "\n",
    "out = \"\"\".. _modelref:\n",
    "\n",
    "***************\n",
    "Model reference\n",
    "***************\n",
    "\n",
    "Use the left navigation pane to locate the group and model\n",
    "and view details.\n",
    "\n",
    "\"\"\"\n",
    "\n",
    "out += ss.supported_models(export='rest')\n",
    "\n",
    "out += '\\n'\n",
    "out += '.. toctree ::\\n'\n",
    "out += '    :maxdepth: 2\\n'\n",
    "out += '    :hidden:\\n'\n",
    "out += '\\n'\n",
    "\n",
    "file_tpl = '    groupdoc/{}\\n'\n",
    "\n",
    "for group in ss.groups.values():\n",
    "    out += file_tpl.format(group.class_name)\n",
    "\n",
    "with open('modelref.rst', 'w') as f:\n",
    "    f.write(out)\n",
    "\n",
    "# write individual files\n",
    "\n",
    "os.makedirs('groupdoc', exist_ok=True)\n",
    "\n",
    "for group in ss.groups.values():\n",
    "    with open(f'groupdoc/{group.class_name}.rst', 'w') as f:\n",
    "        f.write(group.doc_all(export='rest'))\n"
   ]
  },
  {
   "cell_type": "code",
   "execution_count": 5,
   "metadata": {},
   "outputs": [
    {
     "data": {
      "text/plain": [
       "odict_values([<ams.models.group.ACLine object at 0x1276794f0>, <ams.models.group.ACTopology object at 0x127679490>, <ams.models.group.Collection object at 0x127679550>, <ams.models.group.Cost object at 0x127679520>, <ams.models.group.DynLoad object at 0x127679580>, <ams.models.group.Information object at 0x1276795b0>, <ams.models.group.StaticGen object at 0x1276795e0>, <ams.models.group.StaticLoad object at 0x127679610>, <ams.models.group.StaticShunt object at 0x127679640>, <ams.models.group.Undefined object at 0x127679670>])"
      ]
     },
     "execution_count": 5,
     "metadata": {},
     "output_type": "execute_result"
    }
   ],
   "source": [
    "ss.groups.values()"
   ]
  }
 ],
 "metadata": {
  "kernelspec": {
   "display_name": "ams",
   "language": "python",
   "name": "python3"
  },
  "language_info": {
   "codemirror_mode": {
    "name": "ipython",
    "version": 3
   },
   "file_extension": ".py",
   "mimetype": "text/x-python",
   "name": "python",
   "nbconvert_exporter": "python",
   "pygments_lexer": "ipython3",
   "version": "3.9.16"
  },
  "orig_nbformat": 4,
  "vscode": {
   "interpreter": {
    "hash": "d9202bbf0491b3c6145e36d5ba22687a8b95e024b0a1e787962165edd6294d6d"
   }
  }
 },
 "nbformat": 4,
 "nbformat_minor": 2
}
