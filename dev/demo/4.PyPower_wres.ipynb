{
 "cells": [
  {
   "attachments": {},
   "cell_type": "markdown",
   "metadata": {},
   "source": [
    "#  PyPower zonal reserve user function"
   ]
  },
  {
   "cell_type": "code",
   "execution_count": 1,
   "metadata": {},
   "outputs": [
    {
     "name": "stdout",
     "output_type": "stream",
     "text": [
      "0.5+40.g1185c9d.dirty\n"
     ]
    }
   ],
   "source": [
    "import ams\n",
    "\n",
    "print(ams.__version__)"
   ]
  },
  {
   "cell_type": "code",
   "execution_count": 2,
   "metadata": {},
   "outputs": [],
   "source": [
    "from ams.solver.pypower.interface import ppi\n",
    "\n",
    "spp = ppi()\n",
    "spp.from_ppc(ams.get_case('pypower/t_case30_userfcns.py'))\n",
    "ppc = spp.ppc"
   ]
  },
  {
   "attachments": {},
   "cell_type": "markdown",
   "metadata": {},
   "source": [
    "Call the existing ``runopf_w_res`` function."
   ]
  },
  {
   "cell_type": "code",
   "execution_count": 3,
   "metadata": {},
   "outputs": [],
   "source": [
    "from ams.solver.pypower.runopf_w_res import runopf_w_res"
   ]
  },
  {
   "cell_type": "code",
   "execution_count": 4,
   "metadata": {},
   "outputs": [
    {
     "name": "stdout",
     "output_type": "stream",
     "text": [
      "Python Interior Point Solver - PIPS, Version 1.0, 07-Feb-2011\n",
      "Converged!\n"
     ]
    }
   ],
   "source": [
    "r_wres = runopf_w_res(ppc)"
   ]
  },
  {
   "attachments": {},
   "cell_type": "markdown",
   "metadata": {},
   "source": [
    "Call the ``toggle`` function"
   ]
  },
  {
   "cell_type": "code",
   "execution_count": 5,
   "metadata": {},
   "outputs": [],
   "source": [
    "from ams.solver.pypower.toggle_reserves import toggle_reserves\n",
    "from ams.solver.pypower.runopf import runopf, rundcopf"
   ]
  },
  {
   "cell_type": "code",
   "execution_count": 6,
   "metadata": {},
   "outputs": [
    {
     "name": "stdout",
     "output_type": "stream",
     "text": [
      "Python Interior Point Solver - PIPS, Version 1.0, 07-Feb-2011\n",
      "Converged!\n"
     ]
    }
   ],
   "source": [
    "ppc_t = toggle_reserves(ppc, 'on')\n",
    "r_opf = runopf(ppc_t)"
   ]
  },
  {
   "cell_type": "code",
   "execution_count": 7,
   "metadata": {},
   "outputs": [
    {
     "data": {
      "text/plain": [
       "{'zones': array([[1., 1., 1., 1., 1., 1.],\n",
       "        [0., 0., 0., 0., 1., 1.]]),\n",
       " 'req': array([60., 20.]),\n",
       " 'cost': array([1.9, 2. , 3. , 4. , 5. , 5.5]),\n",
       " 'qty': array([25., 25., 25., 25., 25., 25.]),\n",
       " 'rgens': array([ True,  True,  True,  True,  True,  True]),\n",
       " 'igr': array([0, 1, 2, 3, 4, 5]),\n",
       " 'R': array([2.49998538e+01, 1.50001275e+01, 1.45948891e-05, 7.29801837e-06,\n",
       "        1.93879715e+01, 6.12032576e-01]),\n",
       " 'Rmin': array([0., 0., 0., 0., 0., 0.]),\n",
       " 'Rmax': array([25., 25., 25., 25., 25., 25.]),\n",
       " 'mu': {'l': array([0.        , 0.        , 0.99999898, 1.99999948, 0.        ,\n",
       "         0.        ]),\n",
       "  'u': array([0.10000159, 0.        , 0.        , 0.        , 0.        ,\n",
       "         0.        ]),\n",
       "  'Pmax': array([0.        , 0.        , 0.        , 0.        , 0.49967872,\n",
       "         0.        ])},\n",
       " 'prc': array([2.00000216, 2.00000216, 2.00000216, 2.00000216, 5.49968085,\n",
       "        5.49968085]),\n",
       " 'totalcost': 177.80608700897432}"
      ]
     },
     "execution_count": 7,
     "metadata": {},
     "output_type": "execute_result"
    }
   ],
   "source": [
    "r_opf['reserves']"
   ]
  }
 ],
 "metadata": {
  "kernelspec": {
   "display_name": "ams",
   "language": "python",
   "name": "python3"
  },
  "language_info": {
   "codemirror_mode": {
    "name": "ipython",
    "version": 3
   },
   "file_extension": ".py",
   "mimetype": "text/x-python",
   "name": "python",
   "nbconvert_exporter": "python",
   "pygments_lexer": "ipython3",
   "version": "3.9.0"
  },
  "orig_nbformat": 4,
  "vscode": {
   "interpreter": {
    "hash": "d9202bbf0491b3c6145e36d5ba22687a8b95e024b0a1e787962165edd6294d6d"
   }
  }
 },
 "nbformat": 4,
 "nbformat_minor": 2
}
