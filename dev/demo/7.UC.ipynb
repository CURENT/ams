{
 "cells": [
  {
   "attachments": {},
   "cell_type": "markdown",
   "metadata": {},
   "source": [
    "# Unit Commitment"
   ]
  },
  {
   "cell_type": "code",
   "execution_count": 1,
   "metadata": {},
   "outputs": [],
   "source": [
    "import numpy as np\n",
    "\n",
    "import andes\n",
    "import ams\n",
    "\n",
    "import pandas as pd\n",
    "\n",
    "import json\n",
    "\n",
    "import cvxpy as cp"
   ]
  },
  {
   "cell_type": "code",
   "execution_count": 2,
   "metadata": {},
   "outputs": [
    {
     "data": {
      "text/plain": [
       "'0.6.7.post55.dev0+g8115b0f'"
      ]
     },
     "execution_count": 2,
     "metadata": {},
     "output_type": "execute_result"
    }
   ],
   "source": [
    "ams.__version__"
   ]
  },
  {
   "cell_type": "code",
   "execution_count": 3,
   "metadata": {},
   "outputs": [],
   "source": [
    "ams.config_logger(stream_level=10)"
   ]
  },
  {
   "cell_type": "code",
   "execution_count": 4,
   "metadata": {},
   "outputs": [
    {
     "name": "stderr",
     "output_type": "stream",
     "text": [
      "Input format guessed as xlsx.\n",
      "Parsing input file \"/Users/jinningwang/Documents/work/ams/ams/cases/ieee14/ieee14_uced.xlsx\"...\n",
      "Input file parsed in 0.1519 seconds.\n",
      "Adjust bus index to start from 0.\n",
      "System set up in 0.0030 seconds.\n",
      "Input format guessed as xlsx.\n",
      "Parsing input file \"/Users/jinningwang/Documents/work/ams/ams/cases/ieee39/ieee39_uced.xlsx\"...\n",
      "Input file parsed in 0.0523 seconds.\n",
      "Adjust bus index to start from 0.\n",
      "System set up in 0.0044 seconds.\n"
     ]
    }
   ],
   "source": [
    "case14 = ams.get_case('ieee14/ieee14_uced.xlsx')\n",
    "case39 = ams.get_case('ieee39/ieee39_uced.xlsx')\n",
    "\n",
    "sp0 = ams.load(case14, setup=True)\n",
    "sp = ams.load(case39, setup=True)"
   ]
  },
  {
   "cell_type": "code",
   "execution_count": 5,
   "metadata": {},
   "outputs": [
    {
     "data": {
      "text/html": [
       "<div>\n",
       "<style scoped>\n",
       "    .dataframe tbody tr th:only-of-type {\n",
       "        vertical-align: middle;\n",
       "    }\n",
       "\n",
       "    .dataframe tbody tr th {\n",
       "        vertical-align: top;\n",
       "    }\n",
       "\n",
       "    .dataframe thead th {\n",
       "        text-align: right;\n",
       "    }\n",
       "</style>\n",
       "<table border=\"1\" class=\"dataframe\">\n",
       "  <thead>\n",
       "    <tr style=\"text-align: right;\">\n",
       "      <th></th>\n",
       "      <th>idx</th>\n",
       "      <th>zone</th>\n",
       "      <th>Sn</th>\n",
       "    </tr>\n",
       "  </thead>\n",
       "  <tbody>\n",
       "    <tr>\n",
       "      <th>0</th>\n",
       "      <td>PV_30</td>\n",
       "      <td>ZONE2</td>\n",
       "      <td>1040.0</td>\n",
       "    </tr>\n",
       "    <tr>\n",
       "      <th>1</th>\n",
       "      <td>PV_32</td>\n",
       "      <td>ZONE1</td>\n",
       "      <td>725.0</td>\n",
       "    </tr>\n",
       "    <tr>\n",
       "      <th>2</th>\n",
       "      <td>PV_33</td>\n",
       "      <td>ZONE3</td>\n",
       "      <td>652.0</td>\n",
       "    </tr>\n",
       "    <tr>\n",
       "      <th>3</th>\n",
       "      <td>PV_34</td>\n",
       "      <td>ZONE3</td>\n",
       "      <td>508.0</td>\n",
       "    </tr>\n",
       "    <tr>\n",
       "      <th>4</th>\n",
       "      <td>PV_35</td>\n",
       "      <td>ZONE3</td>\n",
       "      <td>687.0</td>\n",
       "    </tr>\n",
       "    <tr>\n",
       "      <th>5</th>\n",
       "      <td>PV_36</td>\n",
       "      <td>ZONE3</td>\n",
       "      <td>580.0</td>\n",
       "    </tr>\n",
       "    <tr>\n",
       "      <th>6</th>\n",
       "      <td>PV_37</td>\n",
       "      <td>ZONE2</td>\n",
       "      <td>564.0</td>\n",
       "    </tr>\n",
       "    <tr>\n",
       "      <th>7</th>\n",
       "      <td>PV_38</td>\n",
       "      <td>ZONE3</td>\n",
       "      <td>865.0</td>\n",
       "    </tr>\n",
       "    <tr>\n",
       "      <th>8</th>\n",
       "      <td>PV_39</td>\n",
       "      <td>ZONE1</td>\n",
       "      <td>1100.0</td>\n",
       "    </tr>\n",
       "    <tr>\n",
       "      <th>9</th>\n",
       "      <td>Slack_31</td>\n",
       "      <td>ZONE1</td>\n",
       "      <td>1500.0</td>\n",
       "    </tr>\n",
       "  </tbody>\n",
       "</table>\n",
       "</div>"
      ],
      "text/plain": [
       "        idx   zone      Sn\n",
       "0     PV_30  ZONE2  1040.0\n",
       "1     PV_32  ZONE1   725.0\n",
       "2     PV_33  ZONE3   652.0\n",
       "3     PV_34  ZONE3   508.0\n",
       "4     PV_35  ZONE3   687.0\n",
       "5     PV_36  ZONE3   580.0\n",
       "6     PV_37  ZONE2   564.0\n",
       "7     PV_38  ZONE3   865.0\n",
       "8     PV_39  ZONE1  1100.0\n",
       "9  Slack_31  ZONE1  1500.0"
      ]
     },
     "execution_count": 5,
     "metadata": {},
     "output_type": "execute_result"
    }
   ],
   "source": [
    "stg = pd.DataFrame()\n",
    "stg['idx'] = sp.StaticGen.get(src='idx', attr='v', idx=sp.StaticGen.get_idx())\n",
    "stg['zone'] = sp.StaticGen.get(src='zone', attr='v', idx=sp.StaticGen.get_idx())\n",
    "stg['Sn'] = sp.StaticGen.get(src='Sn', attr='v', idx=sp.StaticGen.get_idx())\n",
    "stg"
   ]
  },
  {
   "cell_type": "code",
   "execution_count": 6,
   "metadata": {},
   "outputs": [
    {
     "name": "stderr",
     "output_type": "stream",
     "text": [
      "RTED data check passed.\n",
      "- Generating symbols for RTED\n",
      "Set constrs pb: sum(pd) - sum(pg) == 0\n",
      "Set constrs pinj: Cg@(pn - pd) - pg == 0\n",
      "Set constrs lub: PTDF @ (pn - pd) - rate_a <= 0\n",
      "Set constrs llb: - PTDF @ (pn - pd) - rate_a <= 0\n",
      "Set constrs rbu: gs @ pru - du == 0\n",
      "Set constrs rbd: gs @ prd - dd == 0\n",
      "Set constrs rru: pg + pru - pmax <= 0\n",
      "Set constrs rrd: -pg + prd - pmin <= 0\n",
      "Set constrs rgu: pg - pg0 - R10h <= 0\n",
      "Set constrs rgd: -pg + pg0 - R10h <= 0\n",
      "RTED model set up in 0.0090 seconds.\n"
     ]
    },
    {
     "data": {
      "text/plain": [
       "True"
      ]
     },
     "execution_count": 6,
     "metadata": {},
     "output_type": "execute_result"
    }
   ],
   "source": [
    "sp.RTED.setup()"
   ]
  },
  {
   "cell_type": "code",
   "execution_count": 7,
   "metadata": {},
   "outputs": [
    {
     "name": "stdout",
     "output_type": "stream",
     "text": [
      "Set parameter Username\n",
      "Academic license - for non-commercial use only - expires 2024-05-21\n"
     ]
    },
    {
     "name": "stderr",
     "output_type": "stream",
     "text": [
      "RTED solved as optimal in 0.0268 seconds with exit code 0.\n"
     ]
    },
    {
     "data": {
      "text/plain": [
       "True"
      ]
     },
     "execution_count": 7,
     "metadata": {},
     "output_type": "execute_result"
    }
   ],
   "source": [
    "sp.RTED.run(solver='GUROBI', reoptimize=True)"
   ]
  },
  {
   "cell_type": "code",
   "execution_count": 8,
   "metadata": {},
   "outputs": [
    {
     "name": "stderr",
     "output_type": "stream",
     "text": [
      "Setup model of ED\n",
      "ED data check passed.\n",
      "- Generating symbols for ED\n",
      "Set constrs pb: pds - Spg @ pg == 0\n",
      "Set constrs pinj: Cg @ (pn - pdR) - pg == 0\n",
      "Set constrs lub: PTDF @ (pn - pdR) - RAr@cdup <= 0\n",
      "Set constrs llb: -PTDF @ (pn - pdR) - RAr@cdup <= 0\n",
      "Set constrs rgu: pg @ Mr - RR30 <= 0\n",
      "Set constrs rgd: -pg @ Mr - RR30 <= 0\n",
      "Set constrs rgu0: pg[:, 0] - pg0 - R30 <= 0\n",
      "Set constrs rgd0: - pg[:, 0] + pg0 - R30 <= 0\n",
      "ED model set up in 0.0076 seconds.\n",
      "ED solved as optimal in 0.0542 seconds with exit code 0.\n"
     ]
    },
    {
     "data": {
      "text/plain": [
       "True"
      ]
     },
     "execution_count": 8,
     "metadata": {},
     "output_type": "execute_result"
    }
   ],
   "source": [
    "sp.ED.run()"
   ]
  },
  {
   "cell_type": "code",
   "execution_count": 9,
   "metadata": {},
   "outputs": [],
   "source": [
    "# FIXME: Non-spinning reserve demand will result into infeasibility\n",
    "\n",
    "sp.NSR.demand.v = np.array([0., 0, 0])"
   ]
  },
  {
   "cell_type": "code",
   "execution_count": 10,
   "metadata": {},
   "outputs": [
    {
     "name": "stderr",
     "output_type": "stream",
     "text": [
      "Setup model of UC\n",
      "UC data check passed.\n",
      "- Generating symbols for UC\n",
      "Set constrs pb: pds - Spg @ zug == 0\n",
      "Set constrs pinj: Cg @ (pn - pdR) - pg == 0\n",
      "Set constrs lub: PTDF @ (pn - pdR) - RAr@cdup <= 0\n",
      "Set constrs llb: -PTDF @ (pn - pdR) - RAr@cdup <= 0\n",
      "Set constrs rgu: pg @ Mr - RR30 <= 0\n",
      "Set constrs rgd: -pg @ Mr - RR30 <= 0\n",
      "Set constrs rgu0: pg[:, 0] - pg0 - R30 <= 0\n",
      "Set constrs rgd0: - pg[:, 0] + pg0 - R30 <= 0\n",
      "Set constrs actv: ugd @ Mr - vgd[:, 1:] <= 0\n",
      "Set constrs actv0: ugd[:, 0] - ug0  - vgd[:, 0] <= 0\n",
      "Set constrs actw: -ugd @ Mr - wgd[:, 1:] <= 0\n",
      "Set constrs actw0: -ugd[:, 0] + ug0 - wgd[:, 0] <= 0\n",
      "Set constrs zuglb: - zug + pg <= 0\n",
      "Set constrs zugub: zug - pg - Mzug[0] * (1 - ugd) <= 0\n",
      "Set constrs zugub2: zug - Mzug[0] * ugd <= 0\n",
      "Set constrs nsr: gs@(-pg + zug) + Rdnsr <= 0\n",
      "Set constrs sr: gs@(zug - multiply(Rpmax, ugd)) + Rdsr <= 0\n",
      "UC model set up in 0.0183 seconds.\n",
      "UC solved as optimal in 0.1724 seconds with exit code 0.\n"
     ]
    },
    {
     "data": {
      "text/plain": [
       "True"
      ]
     },
     "execution_count": 10,
     "metadata": {},
     "output_type": "execute_result"
    }
   ],
   "source": [
    "sp.UC.run(solver='GUROBI', reoptimize=True)"
   ]
  },
  {
   "cell_type": "code",
   "execution_count": 11,
   "metadata": {},
   "outputs": [
    {
     "data": {
      "text/plain": [
       "array([[-0., -0., -0., -0., -0., -0., -0., -0., -0., -0., -0., -0., -0.,\n",
       "        -0., -0., -0., -0., -0., -0., -0., -0., -0., -0., -0.],\n",
       "       [ 0.,  0.,  0.,  0.,  0.,  0.,  0.,  0.,  0.,  0.,  0.,  0.,  0.,\n",
       "         0.,  0.,  0.,  0.,  0.,  0.,  0.,  0.,  0.,  0.,  0.],\n",
       "       [ 0.,  0.,  0.,  0.,  0.,  0.,  0.,  0.,  0.,  0.,  0.,  0.,  0.,\n",
       "         0.,  0.,  0.,  0.,  0.,  0.,  0.,  0.,  0.,  0.,  0.]])"
      ]
     },
     "execution_count": 11,
     "metadata": {},
     "output_type": "execute_result"
    }
   ],
   "source": [
    "rtn = sp.UC\n",
    "\n",
    "# spinning reserve\n",
    "np.matmul(rtn.gs.v, (rtn.zug.v - np.multiply(rtn.Rpmax.v, rtn.ugd.v))) + rtn.Rdsr.v\n",
    "\n",
    "# non-spinning reserve\n",
    "np.matmul(rtn.gs.v, (- rtn.pg.v + rtn.zug.v)) + rtn.Rdnsr.v"
   ]
  }
 ],
 "metadata": {
  "kernelspec": {
   "display_name": "ams",
   "language": "python",
   "name": "python3"
  },
  "language_info": {
   "codemirror_mode": {
    "name": "ipython",
    "version": 3
   },
   "file_extension": ".py",
   "mimetype": "text/x-python",
   "name": "python",
   "nbconvert_exporter": "python",
   "pygments_lexer": "ipython3",
   "version": "3.9.16"
  },
  "orig_nbformat": 4,
  "vscode": {
   "interpreter": {
    "hash": "d2b3bf80176349caa68dc4a3c77bd06eaade8abc678330f7d1c813c53380e5d2"
   }
  }
 },
 "nbformat": 4,
 "nbformat_minor": 2
}
