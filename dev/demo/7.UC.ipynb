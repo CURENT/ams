{
 "cells": [
  {
   "attachments": {},
   "cell_type": "markdown",
   "metadata": {},
   "source": [
    "# Unit Commitment"
   ]
  },
  {
   "cell_type": "code",
   "execution_count": 1,
   "metadata": {},
   "outputs": [],
   "source": [
    "import numpy as np\n",
    "\n",
    "import andes\n",
    "import ams\n",
    "\n",
    "import pandas as pd\n",
    "\n",
    "import json\n",
    "\n",
    "import cvxpy as cp"
   ]
  },
  {
   "cell_type": "code",
   "execution_count": 2,
   "metadata": {},
   "outputs": [
    {
     "data": {
      "text/plain": [
       "'0.6.5.post73.dev0+g9cb5963'"
      ]
     },
     "execution_count": 2,
     "metadata": {},
     "output_type": "execute_result"
    }
   ],
   "source": [
    "ams.__version__"
   ]
  },
  {
   "cell_type": "code",
   "execution_count": 3,
   "metadata": {},
   "outputs": [],
   "source": [
    "ams.config_logger(stream_level=10)"
   ]
  },
  {
   "cell_type": "code",
   "execution_count": 4,
   "metadata": {},
   "outputs": [
    {
     "name": "stderr",
     "output_type": "stream",
     "text": [
      "Input format guessed as xlsx.\n",
      "Parsing input file \"/home/jwang/work/ams/ams/cases/ieee14/ieee14_uc.xlsx\"...\n",
      "Input file parsed in 0.2663 seconds.\n",
      "Adjust bus index to start from 0.\n",
      "System set up in 0.0119 seconds.\n"
     ]
    }
   ],
   "source": [
    "sp = ams.load(ams.get_case('ieee14/ieee14_uc.xlsx'),\n",
    "              setup=True,\n",
    "              )"
   ]
  },
  {
   "cell_type": "code",
   "execution_count": 5,
   "metadata": {},
   "outputs": [
    {
     "data": {
      "text/plain": [
       "6"
      ]
     },
     "execution_count": 5,
     "metadata": {},
     "output_type": "execute_result"
    }
   ],
   "source": [
    "sp.TimeSlot.n"
   ]
  },
  {
   "cell_type": "code",
   "execution_count": 6,
   "metadata": {},
   "outputs": [
    {
     "name": "stderr",
     "output_type": "stream",
     "text": [
      "ED data check passed.\n",
      "- Generating symbols for ED\n",
      "Set constrs pb: sum(pd1) + sum(pd2) - sum(pg)\n",
      "Code Constr: om.constrs[\"pb\"]=cp.sum(self.om.rtn.pd1.v) + cp.sum(self.om.rtn.pd2.v) - cp.sum(self.om.pg) == 0\n",
      "Set constrs lub: PTDF1 @ (pg - pd1) - PTDF2 * pd2 - rate_a\n",
      "Code Constr: om.constrs[\"lub\"]=self.om.rtn.PTDF1.v @ (self.om.pg - self.om.rtn.pd1.v) - self.om.rtn.PTDF2.v @ self.om.rtn.pd2.v - self.om.rtn.rate_a.v <= 0\n"
     ]
    },
    {
     "ename": "ValueError",
     "evalue": "Cannot broadcast dimensions  (5, 6) (5,)",
     "output_type": "error",
     "traceback": [
      "\u001b[0;31m---------------------------------------------------------------------------\u001b[0m",
      "\u001b[0;31mValueError\u001b[0m                                Traceback (most recent call last)",
      "Cell \u001b[0;32mIn[6], line 1\u001b[0m\n\u001b[0;32m----> 1\u001b[0m sp\u001b[39m.\u001b[39;49mED\u001b[39m.\u001b[39;49msetup(show_code\u001b[39m=\u001b[39;49m\u001b[39mTrue\u001b[39;49;00m)\n",
      "File \u001b[0;32m~/work/ams/ams/routines/routine.py:191\u001b[0m, in \u001b[0;36mRoutineModel.setup\u001b[0;34m(self, **kwargs)\u001b[0m\n\u001b[1;32m    189\u001b[0m     logger\u001b[39m.\u001b[39merror(\u001b[39mf\u001b[39m\u001b[39m'\u001b[39m\u001b[39m{\u001b[39;00m\u001b[39mself\u001b[39m\u001b[39m.\u001b[39mclass_name\u001b[39m}\u001b[39;00m\u001b[39m data check failed, setup may run into error!\u001b[39m\u001b[39m'\u001b[39m)\n\u001b[1;32m    190\u001b[0m show_code \u001b[39m=\u001b[39m kwargs\u001b[39m.\u001b[39mget(\u001b[39m'\u001b[39m\u001b[39mshow_code\u001b[39m\u001b[39m'\u001b[39m, \u001b[39mFalse\u001b[39;00m)\n\u001b[0;32m--> 191\u001b[0m results, elapsed_time \u001b[39m=\u001b[39m \u001b[39mself\u001b[39;49m\u001b[39m.\u001b[39;49mom\u001b[39m.\u001b[39;49msetup(show_code\u001b[39m=\u001b[39;49mshow_code)\n\u001b[1;32m    192\u001b[0m common_info \u001b[39m=\u001b[39m \u001b[39mf\u001b[39m\u001b[39m\"\u001b[39m\u001b[39m{\u001b[39;00m\u001b[39mself\u001b[39m\u001b[39m.\u001b[39mclass_name\u001b[39m}\u001b[39;00m\u001b[39m model set up \u001b[39m\u001b[39m\"\u001b[39m\n\u001b[1;32m    193\u001b[0m \u001b[39mif\u001b[39;00m results:\n",
      "File \u001b[0;32m~/work/ams/ams/utils/__init__.py:10\u001b[0m, in \u001b[0;36mtimer.<locals>.wrapper\u001b[0;34m(*args, **kwargs)\u001b[0m\n\u001b[1;32m      8\u001b[0m \u001b[39mdef\u001b[39;00m \u001b[39mwrapper\u001b[39m(\u001b[39m*\u001b[39margs, \u001b[39m*\u001b[39m\u001b[39m*\u001b[39mkwargs):\n\u001b[1;32m      9\u001b[0m     t0, _ \u001b[39m=\u001b[39m elapsed()\n\u001b[0;32m---> 10\u001b[0m     result \u001b[39m=\u001b[39m func(\u001b[39m*\u001b[39;49margs, \u001b[39m*\u001b[39;49m\u001b[39m*\u001b[39;49mkwargs)\n\u001b[1;32m     11\u001b[0m     _, s \u001b[39m=\u001b[39m elapsed(t0)\n\u001b[1;32m     12\u001b[0m     \u001b[39mreturn\u001b[39;00m result, s\n",
      "File \u001b[0;32m~/work/ams/ams/opt/omodel.py:539\u001b[0m, in \u001b[0;36mOModel.setup\u001b[0;34m(self, show_code)\u001b[0m\n\u001b[1;32m    537\u001b[0m \u001b[39m# --- add constraints ---\u001b[39;00m\n\u001b[1;32m    538\u001b[0m \u001b[39mfor\u001b[39;00m constr \u001b[39min\u001b[39;00m rtn\u001b[39m.\u001b[39mconstrs\u001b[39m.\u001b[39mvalues():\n\u001b[0;32m--> 539\u001b[0m     constr\u001b[39m.\u001b[39;49mparse(show_code\u001b[39m=\u001b[39;49mshow_code)\n\u001b[1;32m    540\u001b[0m \u001b[39m# --- parse objective functions ---\u001b[39;00m\n\u001b[1;32m    541\u001b[0m \u001b[39mif\u001b[39;00m rtn\u001b[39m.\u001b[39mtype \u001b[39m==\u001b[39m \u001b[39m'\u001b[39m\u001b[39mPF\u001b[39m\u001b[39m'\u001b[39m:\n\u001b[1;32m    542\u001b[0m     \u001b[39m# NOTE: power flow type has no objective function\u001b[39;00m\n",
      "File \u001b[0;32m~/work/ams/ams/opt/omodel.py:381\u001b[0m, in \u001b[0;36mConstraint.parse\u001b[0;34m(self, show_code)\u001b[0m\n\u001b[1;32m    379\u001b[0m \u001b[39mif\u001b[39;00m show_code:\n\u001b[1;32m    380\u001b[0m     logger\u001b[39m.\u001b[39minfo(\u001b[39mf\u001b[39m\u001b[39m\"\u001b[39m\u001b[39mCode Constr: \u001b[39m\u001b[39m{\u001b[39;00mcode_constr\u001b[39m}\u001b[39;00m\u001b[39m\"\u001b[39m)\n\u001b[0;32m--> 381\u001b[0m exec(code_constr)\n\u001b[1;32m    382\u001b[0m exec(\u001b[39mf\u001b[39m\u001b[39m'\u001b[39m\u001b[39msetattr(om, self.name, om.constrs[\u001b[39m\u001b[39m\"\u001b[39m\u001b[39m{\u001b[39;00m\u001b[39mself\u001b[39m\u001b[39m.\u001b[39mname\u001b[39m}\u001b[39;00m\u001b[39m\"\u001b[39m\u001b[39m])\u001b[39m\u001b[39m'\u001b[39m)\n\u001b[1;32m    383\u001b[0m \u001b[39mreturn\u001b[39;00m \u001b[39mTrue\u001b[39;00m\n",
      "File \u001b[0;32m<string>:1\u001b[0m\n",
      "File \u001b[0;32m~/work/miniconda/envs/ams/lib/python3.10/site-packages/cvxpy/expressions/expression.py:50\u001b[0m, in \u001b[0;36m_cast_other.<locals>.cast_op\u001b[0;34m(self, other)\u001b[0m\n\u001b[1;32m     47\u001b[0m \u001b[39m\u001b[39m\u001b[39m\"\"\"A wrapped binary operator that can handle non-Expression arguments.\u001b[39;00m\n\u001b[1;32m     48\u001b[0m \u001b[39m\"\"\"\u001b[39;00m\n\u001b[1;32m     49\u001b[0m other \u001b[39m=\u001b[39m \u001b[39mself\u001b[39m\u001b[39m.\u001b[39mcast_to_const(other)\n\u001b[0;32m---> 50\u001b[0m \u001b[39mreturn\u001b[39;00m binary_op(\u001b[39mself\u001b[39;49m, other)\n",
      "File \u001b[0;32m~/work/miniconda/envs/ams/lib/python3.10/site-packages/cvxpy/expressions/expression.py:575\u001b[0m, in \u001b[0;36mExpression.__sub__\u001b[0;34m(self, other)\u001b[0m\n\u001b[1;32m    571\u001b[0m \u001b[39m@_cast_other\u001b[39m\n\u001b[1;32m    572\u001b[0m \u001b[39mdef\u001b[39;00m \u001b[39m__sub__\u001b[39m(\u001b[39mself\u001b[39m, other: \u001b[39m\"\u001b[39m\u001b[39mExpression\u001b[39m\u001b[39m\"\u001b[39m) \u001b[39m-\u001b[39m\u001b[39m>\u001b[39m \u001b[39m\"\u001b[39m\u001b[39mExpression\u001b[39m\u001b[39m\"\u001b[39m:\n\u001b[1;32m    573\u001b[0m \u001b[39m    \u001b[39m\u001b[39m\"\"\"Expression : The difference of two expressions.\u001b[39;00m\n\u001b[1;32m    574\u001b[0m \u001b[39m    \"\"\"\u001b[39;00m\n\u001b[0;32m--> 575\u001b[0m     \u001b[39mreturn\u001b[39;00m \u001b[39mself\u001b[39;49m \u001b[39m+\u001b[39;49m \u001b[39m-\u001b[39;49mother\n",
      "File \u001b[0;32m~/work/miniconda/envs/ams/lib/python3.10/site-packages/cvxpy/expressions/expression.py:50\u001b[0m, in \u001b[0;36m_cast_other.<locals>.cast_op\u001b[0;34m(self, other)\u001b[0m\n\u001b[1;32m     47\u001b[0m \u001b[39m\u001b[39m\u001b[39m\"\"\"A wrapped binary operator that can handle non-Expression arguments.\u001b[39;00m\n\u001b[1;32m     48\u001b[0m \u001b[39m\"\"\"\u001b[39;00m\n\u001b[1;32m     49\u001b[0m other \u001b[39m=\u001b[39m \u001b[39mself\u001b[39m\u001b[39m.\u001b[39mcast_to_const(other)\n\u001b[0;32m---> 50\u001b[0m \u001b[39mreturn\u001b[39;00m binary_op(\u001b[39mself\u001b[39;49m, other)\n",
      "File \u001b[0;32m~/work/miniconda/envs/ams/lib/python3.10/site-packages/cvxpy/expressions/expression.py:561\u001b[0m, in \u001b[0;36mExpression.__add__\u001b[0;34m(self, other)\u001b[0m\n\u001b[1;32m    559\u001b[0m     \u001b[39mreturn\u001b[39;00m \u001b[39mself\u001b[39m\n\u001b[1;32m    560\u001b[0m \u001b[39mself\u001b[39m, other \u001b[39m=\u001b[39m \u001b[39mself\u001b[39m\u001b[39m.\u001b[39mbroadcast(\u001b[39mself\u001b[39m, other)\n\u001b[0;32m--> 561\u001b[0m \u001b[39mreturn\u001b[39;00m cvxtypes\u001b[39m.\u001b[39;49madd_expr()([\u001b[39mself\u001b[39;49m, other])\n",
      "File \u001b[0;32m~/work/miniconda/envs/ams/lib/python3.10/site-packages/cvxpy/atoms/affine/add_expr.py:34\u001b[0m, in \u001b[0;36mAddExpression.__init__\u001b[0;34m(self, arg_groups)\u001b[0m\n\u001b[1;32m     31\u001b[0m \u001b[39mdef\u001b[39;00m \u001b[39m__init__\u001b[39m(\u001b[39mself\u001b[39m, arg_groups) \u001b[39m-\u001b[39m\u001b[39m>\u001b[39m \u001b[39mNone\u001b[39;00m:\n\u001b[1;32m     32\u001b[0m     \u001b[39m# For efficiency group args as sums.\u001b[39;00m\n\u001b[1;32m     33\u001b[0m     \u001b[39mself\u001b[39m\u001b[39m.\u001b[39m_arg_groups \u001b[39m=\u001b[39m arg_groups\n\u001b[0;32m---> 34\u001b[0m     \u001b[39msuper\u001b[39;49m(AddExpression, \u001b[39mself\u001b[39;49m)\u001b[39m.\u001b[39;49m\u001b[39m__init__\u001b[39;49m(\u001b[39m*\u001b[39;49marg_groups)\n\u001b[1;32m     35\u001b[0m     \u001b[39mself\u001b[39m\u001b[39m.\u001b[39margs \u001b[39m=\u001b[39m []\n\u001b[1;32m     36\u001b[0m     \u001b[39mfor\u001b[39;00m group \u001b[39min\u001b[39;00m arg_groups:\n",
      "File \u001b[0;32m~/work/miniconda/envs/ams/lib/python3.10/site-packages/cvxpy/atoms/atom.py:51\u001b[0m, in \u001b[0;36mAtom.__init__\u001b[0;34m(self, *args)\u001b[0m\n\u001b[1;32m     49\u001b[0m \u001b[39mself\u001b[39m\u001b[39m.\u001b[39margs \u001b[39m=\u001b[39m [Atom\u001b[39m.\u001b[39mcast_to_const(arg) \u001b[39mfor\u001b[39;00m arg \u001b[39min\u001b[39;00m args]\n\u001b[1;32m     50\u001b[0m \u001b[39mself\u001b[39m\u001b[39m.\u001b[39mvalidate_arguments()\n\u001b[0;32m---> 51\u001b[0m \u001b[39mself\u001b[39m\u001b[39m.\u001b[39m_shape \u001b[39m=\u001b[39m \u001b[39mself\u001b[39;49m\u001b[39m.\u001b[39;49mshape_from_args()\n\u001b[1;32m     52\u001b[0m \u001b[39mif\u001b[39;00m \u001b[39mlen\u001b[39m(\u001b[39mself\u001b[39m\u001b[39m.\u001b[39m_shape) \u001b[39m>\u001b[39m \u001b[39m2\u001b[39m:\n\u001b[1;32m     53\u001b[0m     \u001b[39mraise\u001b[39;00m \u001b[39mValueError\u001b[39;00m(\u001b[39m\"\u001b[39m\u001b[39mAtoms must be at most 2D.\u001b[39m\u001b[39m\"\u001b[39m)\n",
      "File \u001b[0;32m~/work/miniconda/envs/ams/lib/python3.10/site-packages/cvxpy/atoms/affine/add_expr.py:42\u001b[0m, in \u001b[0;36mAddExpression.shape_from_args\u001b[0;34m(self)\u001b[0m\n\u001b[1;32m     39\u001b[0m \u001b[39mdef\u001b[39;00m \u001b[39mshape_from_args\u001b[39m(\u001b[39mself\u001b[39m) \u001b[39m-\u001b[39m\u001b[39m>\u001b[39m Tuple[\u001b[39mint\u001b[39m, \u001b[39m.\u001b[39m\u001b[39m.\u001b[39m\u001b[39m.\u001b[39m]:\n\u001b[1;32m     40\u001b[0m \u001b[39m    \u001b[39m\u001b[39m\"\"\"Returns the (row, col) shape of the expression.\u001b[39;00m\n\u001b[1;32m     41\u001b[0m \u001b[39m    \"\"\"\u001b[39;00m\n\u001b[0;32m---> 42\u001b[0m     \u001b[39mreturn\u001b[39;00m u\u001b[39m.\u001b[39;49mshape\u001b[39m.\u001b[39;49msum_shapes([arg\u001b[39m.\u001b[39;49mshape \u001b[39mfor\u001b[39;49;00m arg \u001b[39min\u001b[39;49;00m \u001b[39mself\u001b[39;49m\u001b[39m.\u001b[39;49margs])\n",
      "File \u001b[0;32m~/work/miniconda/envs/ams/lib/python3.10/site-packages/cvxpy/utilities/shape.py:50\u001b[0m, in \u001b[0;36msum_shapes\u001b[0;34m(shapes)\u001b[0m\n\u001b[1;32m     47\u001b[0m \u001b[39mfor\u001b[39;00m t \u001b[39min\u001b[39;00m shapes[\u001b[39m1\u001b[39m:]:\n\u001b[1;32m     48\u001b[0m     \u001b[39m# Only allow broadcasting for 0D arrays or summation of scalars.\u001b[39;00m\n\u001b[1;32m     49\u001b[0m     \u001b[39mif\u001b[39;00m shape \u001b[39m!=\u001b[39m t \u001b[39mand\u001b[39;00m \u001b[39mlen\u001b[39m(squeezed(shape)) \u001b[39m!=\u001b[39m \u001b[39m0\u001b[39m \u001b[39mand\u001b[39;00m \u001b[39mlen\u001b[39m(squeezed(t)) \u001b[39m!=\u001b[39m \u001b[39m0\u001b[39m:\n\u001b[0;32m---> 50\u001b[0m         \u001b[39mraise\u001b[39;00m \u001b[39mValueError\u001b[39;00m(\n\u001b[1;32m     51\u001b[0m             \u001b[39m\"\u001b[39m\u001b[39mCannot broadcast dimensions \u001b[39m\u001b[39m\"\u001b[39m \u001b[39m+\u001b[39m\n\u001b[1;32m     52\u001b[0m             \u001b[39mlen\u001b[39m(shapes)\u001b[39m*\u001b[39m\u001b[39m\"\u001b[39m\u001b[39m \u001b[39m\u001b[39m%s\u001b[39;00m\u001b[39m\"\u001b[39m \u001b[39m%\u001b[39m \u001b[39mtuple\u001b[39m(shapes))\n\u001b[1;32m     54\u001b[0m     longer \u001b[39m=\u001b[39m shape \u001b[39mif\u001b[39;00m \u001b[39mlen\u001b[39m(shape) \u001b[39m>\u001b[39m\u001b[39m=\u001b[39m \u001b[39mlen\u001b[39m(t) \u001b[39melse\u001b[39;00m t\n\u001b[1;32m     55\u001b[0m     shorter \u001b[39m=\u001b[39m shape \u001b[39mif\u001b[39;00m \u001b[39mlen\u001b[39m(shape) \u001b[39m<\u001b[39m \u001b[39mlen\u001b[39m(t) \u001b[39melse\u001b[39;00m t\n",
      "\u001b[0;31mValueError\u001b[0m: Cannot broadcast dimensions  (5, 6) (5,)"
     ]
    }
   ],
   "source": [
    "sp.ED.setup(show_code=True)"
   ]
  },
  {
   "cell_type": "code",
   "execution_count": null,
   "metadata": {},
   "outputs": [],
   "source": [
    "sp.UC.syms.generate_symbols()"
   ]
  },
  {
   "cell_type": "code",
   "execution_count": null,
   "metadata": {},
   "outputs": [],
   "source": [
    "sp.UC.setup(show_code=True)"
   ]
  },
  {
   "cell_type": "code",
   "execution_count": null,
   "metadata": {},
   "outputs": [],
   "source": [
    "sp.UC.run()"
   ]
  },
  {
   "cell_type": "code",
   "execution_count": null,
   "metadata": {},
   "outputs": [],
   "source": [
    "sp.UC.obj.e_str"
   ]
  },
  {
   "cell_type": "code",
   "execution_count": null,
   "metadata": {},
   "outputs": [],
   "source": [
    "sp.UC.ug.shape"
   ]
  }
 ],
 "metadata": {
  "kernelspec": {
   "display_name": "ams",
   "language": "python",
   "name": "python3"
  },
  "language_info": {
   "codemirror_mode": {
    "name": "ipython",
    "version": 3
   },
   "file_extension": ".py",
   "mimetype": "text/x-python",
   "name": "python",
   "nbconvert_exporter": "python",
   "pygments_lexer": "ipython3",
   "version": "3.10.11"
  },
  "orig_nbformat": 4,
  "vscode": {
   "interpreter": {
    "hash": "d2b3bf80176349caa68dc4a3c77bd06eaade8abc678330f7d1c813c53380e5d2"
   }
  }
 },
 "nbformat": 4,
 "nbformat_minor": 2
}
