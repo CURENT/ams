{
 "cells": [
  {
   "attachments": {},
   "cell_type": "markdown",
   "metadata": {},
   "source": [
    "# Unit Commitment"
   ]
  },
  {
   "cell_type": "code",
   "execution_count": 1,
   "metadata": {},
   "outputs": [],
   "source": [
    "import numpy as np\n",
    "\n",
    "import andes\n",
    "import ams\n",
    "\n",
    "import pandas as pd\n",
    "\n",
    "import json\n",
    "\n",
    "import cvxpy as cp"
   ]
  },
  {
   "cell_type": "code",
   "execution_count": 2,
   "metadata": {},
   "outputs": [
    {
     "data": {
      "text/plain": [
       "'0.6.5.post94.dev0+ga02fa3b'"
      ]
     },
     "execution_count": 2,
     "metadata": {},
     "output_type": "execute_result"
    }
   ],
   "source": [
    "ams.__version__"
   ]
  },
  {
   "cell_type": "code",
   "execution_count": 3,
   "metadata": {},
   "outputs": [],
   "source": [
    "ams.config_logger(stream_level=10)"
   ]
  },
  {
   "cell_type": "code",
   "execution_count": 4,
   "metadata": {},
   "outputs": [
    {
     "name": "stderr",
     "output_type": "stream",
     "text": [
      "Input format guessed as xlsx.\n",
      "Parsing input file \"/Users/jinningwang/Documents/work/ams/ams/cases/ieee14/ieee14_rted.xlsx\"...\n",
      "Input file parsed in 0.4025 seconds.\n",
      "Adjust bus index to start from 0.\n",
      "System set up in 0.0039 seconds.\n"
     ]
    }
   ],
   "source": [
    "sp = ams.load(ams.get_case('ieee14/ieee14_rted.xlsx'),\n",
    "              setup=True,\n",
    "              )"
   ]
  },
  {
   "cell_type": "code",
   "execution_count": 5,
   "metadata": {},
   "outputs": [
    {
     "name": "stderr",
     "output_type": "stream",
     "text": [
      "Setup model of RTED\n",
      "RTED data check passed.\n",
      "- Generating symbols for RTED\n",
      "Set constrs pb: sum(pd1) + sum(pd2) - sum(pg)\n",
      "Set constrs lub: PTDF1 @ (pg - pd1) - PTDF2 * pd2 - rate_a\n",
      "Set constrs llb: - PTDF1 @ (pg - pd1) + PTDF2 * pd2 - rate_a\n",
      "Set constrs rbu: gs @ pru - du\n",
      "Set constrs rbd: gs @ prd - dd\n",
      "Set constrs rru: pg + pru - pmax\n",
      "Set constrs rrd: -pg + prd - pmin\n",
      "Set constrs rgu: pg - pg0 - R10\n",
      "Set constrs rgd: -pg + pg0 - R10\n",
      "RTED model set up in 0.0098 seconds.\n",
      "RTED solved as optimal in 0.0098 seconds with exit code 0.\n"
     ]
    },
    {
     "data": {
      "text/plain": [
       "True"
      ]
     },
     "execution_count": 5,
     "metadata": {},
     "output_type": "execute_result"
    }
   ],
   "source": [
    "sp.RTED.run()"
   ]
  },
  {
   "cell_type": "code",
   "execution_count": 6,
   "metadata": {},
   "outputs": [
    {
     "name": "stderr",
     "output_type": "stream",
     "text": [
      "Input format guessed as xlsx.\n",
      "Parsing input file \"/Users/jinningwang/Documents/work/ams/ams/cases/ieee14/ieee14_uc.xlsx\"...\n",
      "Input file parsed in 0.0409 seconds.\n",
      "Adjust bus index to start from 0.\n",
      "System set up in 0.0032 seconds.\n"
     ]
    }
   ],
   "source": [
    "sp = ams.load(ams.get_case('ieee14/ieee14_uc.xlsx'),\n",
    "              setup=True,\n",
    "              )"
   ]
  },
  {
   "cell_type": "code",
   "execution_count": 7,
   "metadata": {},
   "outputs": [
    {
     "name": "stderr",
     "output_type": "stream",
     "text": [
      "Setup model of ED\n",
      "ED data check passed.\n",
      "- Generating symbols for ED\n",
      "Set constrs pb: pds - Spg @ pg\n",
      "Set constrs lub: PTDF1@pg - PTDF1@pd1s - PTDF2@pd2s - RAr@cdup\n",
      "Set constrs llb: -PTDF1@pg + PTDF1@pd1s + PTDF2@pd2s - RAr@cdup\n",
      "Set constrs rgu: pg @ Mr - RR30\n",
      "Set constrs rgd: -pg @ Mr - RR30\n",
      "ED model set up in 0.0138 seconds.\n",
      "ED solved as optimal in 0.0165 seconds with exit code 0.\n"
     ]
    },
    {
     "data": {
      "text/plain": [
       "True"
      ]
     },
     "execution_count": 7,
     "metadata": {},
     "output_type": "execute_result"
    }
   ],
   "source": [
    "sp.ED.run()"
   ]
  },
  {
   "cell_type": "code",
   "execution_count": 8,
   "metadata": {},
   "outputs": [
    {
     "name": "stderr",
     "output_type": "stream",
     "text": [
      "UC data check passed.\n",
      "- Generating symbols for UC\n",
      "Set constrs actv: ugd @ Mr - vgd[:, 1:]\n",
      "Set constrs actv0: ugd[:, 0] - ug0  - vgd[:, 0]\n",
      "Set constrs actw: -ugd @ Mr - wgd[:, 1:]\n",
      "Set constrs actw0: -ugd[:, 0] + ug0 - wgd[:, 0]\n",
      "UC model set up in 0.0163 seconds.\n"
     ]
    },
    {
     "data": {
      "text/plain": [
       "True"
      ]
     },
     "execution_count": 8,
     "metadata": {},
     "output_type": "execute_result"
    }
   ],
   "source": [
    "sp.UC.setup()"
   ]
  },
  {
   "cell_type": "code",
   "execution_count": 9,
   "metadata": {},
   "outputs": [
    {
     "name": "stdout",
     "output_type": "stream",
     "text": [
      "Set parameter Username\n",
      "Academic license - for non-commercial use only - expires 2024-05-21\n"
     ]
    },
    {
     "name": "stderr",
     "output_type": "stream",
     "text": [
      "UC solved as optimal in 0.0274 seconds with exit code 0.\n"
     ]
    },
    {
     "data": {
      "text/plain": [
       "True"
      ]
     },
     "execution_count": 9,
     "metadata": {},
     "output_type": "execute_result"
    }
   ],
   "source": [
    "sp.UC.run(solver='GUROBI')"
   ]
  },
  {
   "cell_type": "code",
   "execution_count": 10,
   "metadata": {},
   "outputs": [
    {
     "data": {
      "text/plain": [
       "Var: StaticGen.ugd, a=[5 6 7 8 9], v=[[0. 0. 0. 0. 0. 0.]\n",
       " [0. 0. 0. 0. 0. 0.]\n",
       " [0. 0. 0. 0. 0. 0.]\n",
       " [0. 0. 0. 0. 0. 0.]\n",
       " [0. 0. 0. 0. 0. 0.]]"
      ]
     },
     "execution_count": 10,
     "metadata": {},
     "output_type": "execute_result"
    }
   ],
   "source": [
    "sp.UC.ugd"
   ]
  },
  {
   "cell_type": "code",
   "execution_count": 11,
   "metadata": {},
   "outputs": [
    {
     "data": {
      "text/plain": [
       "Var: StaticGen.vgd, a=[10 11 12 13 14], v=[[1. 1. 1. 1. 1. 1.]\n",
       " [1. 1. 1. 1. 1. 1.]\n",
       " [1. 1. 1. 1. 1. 1.]\n",
       " [1. 1. 1. 1. 1. 1.]\n",
       " [1. 1. 1. 1. 1. 1.]]"
      ]
     },
     "execution_count": 11,
     "metadata": {},
     "output_type": "execute_result"
    }
   ],
   "source": [
    "sp.UC.vgd"
   ]
  },
  {
   "cell_type": "code",
   "execution_count": 12,
   "metadata": {},
   "outputs": [
    {
     "data": {
      "text/plain": [
       "Var: StaticGen.wgd, a=[15 16 17 18 19], v=[[1. 1. 1. 1. 1. 1.]\n",
       " [1. 1. 1. 1. 1. 1.]\n",
       " [1. 1. 1. 1. 1. 1.]\n",
       " [1. 1. 1. 1. 1. 1.]\n",
       " [1. 1. 1. 1. 1. 1.]]"
      ]
     },
     "execution_count": 12,
     "metadata": {},
     "output_type": "execute_result"
    }
   ],
   "source": [
    "sp.UC.wgd"
   ]
  }
 ],
 "metadata": {
  "kernelspec": {
   "display_name": "ams",
   "language": "python",
   "name": "python3"
  },
  "language_info": {
   "codemirror_mode": {
    "name": "ipython",
    "version": 3
   },
   "file_extension": ".py",
   "mimetype": "text/x-python",
   "name": "python",
   "nbconvert_exporter": "python",
   "pygments_lexer": "ipython3",
   "version": "3.9.16"
  },
  "orig_nbformat": 4,
  "vscode": {
   "interpreter": {
    "hash": "d2b3bf80176349caa68dc4a3c77bd06eaade8abc678330f7d1c813c53380e5d2"
   }
  }
 },
 "nbformat": 4,
 "nbformat_minor": 2
}
