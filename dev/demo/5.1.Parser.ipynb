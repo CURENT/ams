{
 "cells": [
  {
   "attachments": {},
   "cell_type": "markdown",
   "metadata": {},
   "source": [
    "#  Link PyPower"
   ]
  },
  {
   "cell_type": "code",
   "execution_count": 1,
   "metadata": {},
   "outputs": [
    {
     "name": "stdout",
     "output_type": "stream",
     "text": [
      "0.5+152.g3c4dd2c.dirty\n",
      "1.8.5\n"
     ]
    }
   ],
   "source": [
    "from collections import OrderedDict\n",
    "\n",
    "import numpy as np\n",
    "import pandas as pd\n",
    "\n",
    "import ams\n",
    "import andes\n",
    "from ams.solver.ipp import to_ppc\n",
    "from ams.solver.pypower.runpf import runpf\n",
    "\n",
    "print(ams.__version__)\n",
    "print(andes.__version__)"
   ]
  },
  {
   "cell_type": "code",
   "execution_count": 2,
   "metadata": {},
   "outputs": [],
   "source": [
    "ams.config_logger(stream_level=20)"
   ]
  },
  {
   "cell_type": "code",
   "execution_count": 3,
   "metadata": {},
   "outputs": [
    {
     "name": "stdout",
     "output_type": "stream",
     "text": [
      "Generating code for 1 models on 8 processes.\n"
     ]
    }
   ],
   "source": [
    "sa = andes.load(andes.get_case('ieee14/ieee14_ace.xlsx'),\n",
    "                no_output=True,\n",
    "                setup=True,\n",
    "                pflow=True,)"
   ]
  },
  {
   "cell_type": "code",
   "execution_count": 4,
   "metadata": {},
   "outputs": [],
   "source": [
    "# import pandapower as pp\n",
    "# import pandapower.networks\n",
    "# net = pandapower.networks.case14()\n",
    "# pp.runpp(net)"
   ]
  },
  {
   "cell_type": "code",
   "execution_count": 5,
   "metadata": {},
   "outputs": [
    {
     "name": "stderr",
     "output_type": "stream",
     "text": [
      "Parsing input file \"/Users/jinningwang/Documents/work/ams/ams/cases/ieee14/ieee14.xlsx\"...\n",
      "Input file parsed in 0.0435 seconds.\n",
      "System internal structure set up in 0.0050 seconds.\n"
     ]
    },
    {
     "data": {
      "text/plain": [
       "True"
      ]
     },
     "execution_count": 5,
     "metadata": {},
     "output_type": "execute_result"
    }
   ],
   "source": [
    "xlsx = ams.load(ams.get_case('ieee14/ieee14.xlsx'),\n",
    "            setup=True)\n",
    "ams.io.xlsx.write(xlsx, 'xlsxl_out.xlsx', overwrite=True)"
   ]
  },
  {
   "cell_type": "code",
   "execution_count": 6,
   "metadata": {},
   "outputs": [
    {
     "data": {
      "text/plain": [
       "OrderedDict([('Summary', Summary (0 devices) at 0x124399fd0),\n",
       "             ('Bus', Bus (14 devices) at 0x1243a2310),\n",
       "             ('PQ', PQ (11 devices) at 0x1243a66a0),\n",
       "             ('PV', PV (4 devices) at 0x1243a6ca0),\n",
       "             ('Slack', Slack (1 device) at 0x1243ae820),\n",
       "             ('Shunt', Shunt (2 devices) at 0x1243b52b0),\n",
       "             ('Line', Line (20 devices) at 0x1243b5730),\n",
       "             ('Area', Area (2 devices) at 0x1243c1370),\n",
       "             ('GCost', GCost (5 devices) at 0x1243c1760)])"
      ]
     },
     "execution_count": 6,
     "metadata": {},
     "output_type": "execute_result"
    }
   ],
   "source": [
    "xlsx.models"
   ]
  },
  {
   "cell_type": "code",
   "execution_count": 7,
   "metadata": {},
   "outputs": [
    {
     "name": "stderr",
     "output_type": "stream",
     "text": [
      "Parsing input file \"/Users/jinningwang/Documents/work/ams/ams/cases/matpower/case14.m\"...\n",
      "Input file parsed in 0.0059 seconds.\n",
      "System internal structure set up in 0.0011 seconds.\n"
     ]
    }
   ],
   "source": [
    "mpc = ams.load(ams.get_case('matpower/case14.m'),\n",
    "            setup=True)\n",
    "mpc_out = ams.io.matpower.system2mpc(mpc)"
   ]
  },
  {
   "cell_type": "code",
   "execution_count": 8,
   "metadata": {},
   "outputs": [
    {
     "data": {
      "text/plain": [
       "OrderedDict([('Summary', Summary (0 devices) at 0x1245c0a60),\n",
       "             ('Bus', Bus (14 devices) at 0x1245c0c70),\n",
       "             ('PQ', PQ (11 devices) at 0x1245c45b0),\n",
       "             ('PV', PV (4 devices) at 0x1245c49a0),\n",
       "             ('Slack', Slack (1 device) at 0x1245cc5e0),\n",
       "             ('Shunt', Shunt (1 device) at 0x1245d3070),\n",
       "             ('Line', Line (20 devices) at 0x1245d3430),\n",
       "             ('Area', Area (0 devices) at 0x1245d3fa0),\n",
       "             ('GCost', GCost (5 devices) at 0x1245d9280)])"
      ]
     },
     "execution_count": 8,
     "metadata": {},
     "output_type": "execute_result"
    }
   ],
   "source": [
    "mpc.models"
   ]
  },
  {
   "cell_type": "code",
   "execution_count": 9,
   "metadata": {},
   "outputs": [
    {
     "data": {
      "text/html": [
       "<div>\n",
       "<style scoped>\n",
       "    .dataframe tbody tr th:only-of-type {\n",
       "        vertical-align: middle;\n",
       "    }\n",
       "\n",
       "    .dataframe tbody tr th {\n",
       "        vertical-align: top;\n",
       "    }\n",
       "\n",
       "    .dataframe thead th {\n",
       "        text-align: right;\n",
       "    }\n",
       "</style>\n",
       "<table border=\"1\" class=\"dataframe\">\n",
       "  <thead>\n",
       "    <tr style=\"text-align: right;\">\n",
       "      <th></th>\n",
       "      <th>idx</th>\n",
       "      <th>u</th>\n",
       "      <th>name</th>\n",
       "      <th>gen</th>\n",
       "      <th>type</th>\n",
       "      <th>startup</th>\n",
       "      <th>shutdown</th>\n",
       "      <th>c2</th>\n",
       "      <th>c1</th>\n",
       "      <th>c0</th>\n",
       "    </tr>\n",
       "    <tr>\n",
       "      <th>uid</th>\n",
       "      <th></th>\n",
       "      <th></th>\n",
       "      <th></th>\n",
       "      <th></th>\n",
       "      <th></th>\n",
       "      <th></th>\n",
       "      <th></th>\n",
       "      <th></th>\n",
       "      <th></th>\n",
       "      <th></th>\n",
       "    </tr>\n",
       "  </thead>\n",
       "  <tbody>\n",
       "    <tr>\n",
       "      <th>0</th>\n",
       "      <td>GCost_1</td>\n",
       "      <td>1.0</td>\n",
       "      <td>GCost_0</td>\n",
       "      <td>1</td>\n",
       "      <td>2.0</td>\n",
       "      <td>0.0</td>\n",
       "      <td>0.0</td>\n",
       "      <td>0.043029</td>\n",
       "      <td>20.0</td>\n",
       "      <td>0.0</td>\n",
       "    </tr>\n",
       "    <tr>\n",
       "      <th>1</th>\n",
       "      <td>GCost_2</td>\n",
       "      <td>1.0</td>\n",
       "      <td>GCost_1</td>\n",
       "      <td>2</td>\n",
       "      <td>2.0</td>\n",
       "      <td>0.0</td>\n",
       "      <td>0.0</td>\n",
       "      <td>0.250000</td>\n",
       "      <td>20.0</td>\n",
       "      <td>0.0</td>\n",
       "    </tr>\n",
       "    <tr>\n",
       "      <th>2</th>\n",
       "      <td>GCost_3</td>\n",
       "      <td>1.0</td>\n",
       "      <td>GCost_2</td>\n",
       "      <td>3</td>\n",
       "      <td>2.0</td>\n",
       "      <td>0.0</td>\n",
       "      <td>0.0</td>\n",
       "      <td>0.010000</td>\n",
       "      <td>40.0</td>\n",
       "      <td>0.0</td>\n",
       "    </tr>\n",
       "    <tr>\n",
       "      <th>3</th>\n",
       "      <td>GCost_4</td>\n",
       "      <td>1.0</td>\n",
       "      <td>GCost_3</td>\n",
       "      <td>4</td>\n",
       "      <td>2.0</td>\n",
       "      <td>0.0</td>\n",
       "      <td>0.0</td>\n",
       "      <td>0.010000</td>\n",
       "      <td>40.0</td>\n",
       "      <td>0.0</td>\n",
       "    </tr>\n",
       "    <tr>\n",
       "      <th>4</th>\n",
       "      <td>GCost_5</td>\n",
       "      <td>1.0</td>\n",
       "      <td>GCost_4</td>\n",
       "      <td>5</td>\n",
       "      <td>2.0</td>\n",
       "      <td>0.0</td>\n",
       "      <td>0.0</td>\n",
       "      <td>0.010000</td>\n",
       "      <td>40.0</td>\n",
       "      <td>0.0</td>\n",
       "    </tr>\n",
       "  </tbody>\n",
       "</table>\n",
       "</div>"
      ],
      "text/plain": [
       "         idx    u     name gen  type  startup  shutdown        c2    c1   c0\n",
       "uid                                                                         \n",
       "0    GCost_1  1.0  GCost_0   1   2.0      0.0       0.0  0.043029  20.0  0.0\n",
       "1    GCost_2  1.0  GCost_1   2   2.0      0.0       0.0  0.250000  20.0  0.0\n",
       "2    GCost_3  1.0  GCost_2   3   2.0      0.0       0.0  0.010000  40.0  0.0\n",
       "3    GCost_4  1.0  GCost_3   4   2.0      0.0       0.0  0.010000  40.0  0.0\n",
       "4    GCost_5  1.0  GCost_4   5   2.0      0.0       0.0  0.010000  40.0  0.0"
      ]
     },
     "execution_count": 9,
     "metadata": {},
     "output_type": "execute_result"
    }
   ],
   "source": [
    "mpc.GCost.as_df()"
   ]
  },
  {
   "cell_type": "code",
   "execution_count": 10,
   "metadata": {},
   "outputs": [
    {
     "data": {
      "text/plain": [
       "dict_keys(['version', 'baseMVA', 'bus', 'gen', 'branch', 'gencost', 'bus_name'])"
      ]
     },
     "execution_count": 10,
     "metadata": {},
     "output_type": "execute_result"
    }
   ],
   "source": [
    "mpc_out.keys()"
   ]
  },
  {
   "cell_type": "code",
   "execution_count": 11,
   "metadata": {},
   "outputs": [
    {
     "name": "stderr",
     "output_type": "stream",
     "text": [
      "Parsing input file \"/Users/jinningwang/Documents/work/ams/ams/cases/ieee14/ieee14.raw\"...\n",
      "Input file parsed in 0.0108 seconds.\n",
      "System internal structure set up in 0.0015 seconds.\n"
     ]
    }
   ],
   "source": [
    "raw = ams.load(ams.get_case('ieee14/ieee14.raw'))"
   ]
  },
  {
   "cell_type": "code",
   "execution_count": 12,
   "metadata": {},
   "outputs": [
    {
     "data": {
      "text/plain": [
       "OrderedDict([('Summary', Summary (0 devices) at 0x124603520),\n",
       "             ('Bus', Bus (14 devices) at 0x1246036a0),\n",
       "             ('PQ', PQ (11 devices) at 0x124603760),\n",
       "             ('PV', PV (4 devices) at 0x12461e1c0),\n",
       "             ('Slack', Slack (1 device) at 0x12461edc0),\n",
       "             ('Shunt', Shunt (2 devices) at 0x124625850),\n",
       "             ('Line', Line (20 devices) at 0x124625c10),\n",
       "             ('Area', Area (2 devices) at 0x12462b7c0),\n",
       "             ('GCost', GCost (0 devices) at 0x12462ba60)])"
      ]
     },
     "execution_count": 12,
     "metadata": {},
     "output_type": "execute_result"
    }
   ],
   "source": [
    "raw.models"
   ]
  }
 ],
 "metadata": {
  "kernelspec": {
   "display_name": "ams",
   "language": "python",
   "name": "python3"
  },
  "language_info": {
   "codemirror_mode": {
    "name": "ipython",
    "version": 3
   },
   "file_extension": ".py",
   "mimetype": "text/x-python",
   "name": "python",
   "nbconvert_exporter": "python",
   "pygments_lexer": "ipython3",
   "version": "3.9.16"
  },
  "orig_nbformat": 4,
  "vscode": {
   "interpreter": {
    "hash": "d9202bbf0491b3c6145e36d5ba22687a8b95e024b0a1e787962165edd6294d6d"
   }
  }
 },
 "nbformat": 4,
 "nbformat_minor": 2
}
