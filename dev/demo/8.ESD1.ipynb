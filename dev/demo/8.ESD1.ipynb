{
 "cells": [
  {
   "attachments": {},
   "cell_type": "markdown",
   "metadata": {},
   "source": [
    "# ESD"
   ]
  },
  {
   "cell_type": "code",
   "execution_count": 1,
   "metadata": {},
   "outputs": [],
   "source": [
    "import numpy as np\n",
    "\n",
    "import andes\n",
    "import ams\n",
    "\n",
    "import pandas as pd\n",
    "\n",
    "import json\n",
    "\n",
    "import cvxpy as cp\n",
    "\n",
    "import re"
   ]
  },
  {
   "cell_type": "code",
   "execution_count": 2,
   "metadata": {},
   "outputs": [
    {
     "data": {
      "text/plain": [
       "'0.6.7.post43.dev0+g5832638'"
      ]
     },
     "execution_count": 2,
     "metadata": {},
     "output_type": "execute_result"
    }
   ],
   "source": [
    "ams.__version__"
   ]
  },
  {
   "cell_type": "code",
   "execution_count": 3,
   "metadata": {},
   "outputs": [],
   "source": [
    "ams.config_logger(stream_level=10)"
   ]
  },
  {
   "cell_type": "code",
   "execution_count": 4,
   "metadata": {},
   "outputs": [
    {
     "name": "stderr",
     "output_type": "stream",
     "text": [
      "Input format guessed as xlsx.\n",
      "Parsing input file \"/Users/jinningwang/Documents/work/ams/ams/cases/ieee39/ieee39_esd1.xlsx\"...\n",
      "Input file parsed in 0.1910 seconds.\n",
      "Adjust bus index to start from 0.\n",
      "System set up in 0.0069 seconds.\n"
     ]
    }
   ],
   "source": [
    "sp = ams.load(ams.get_case('ieee39/ieee39_esd1.xlsx'),\n",
    "              setup=True,\n",
    "              )"
   ]
  },
  {
   "cell_type": "code",
   "execution_count": 5,
   "metadata": {},
   "outputs": [
    {
     "name": "stderr",
     "output_type": "stream",
     "text": [
      "Setup model of RTED\n",
      "RTED data check passed.\n",
      "- Generating symbols for RTED\n",
      "Set constrs pb: sum(pd) - sum(pg) == 0\n",
      "Set constrs pinj: Cg@(pn - pd) - pg == 0\n",
      "Set constrs lub: PTDF @ (pn - pd) - rate_a <= 0\n",
      "Set constrs llb: - PTDF @ (pn - pd) - rate_a <= 0\n",
      "Set constrs rbu: gs @ pru - du == 0\n",
      "Set constrs rbd: gs @ prd - dd == 0\n",
      "Set constrs rru: pg + pru - pmax <= 0\n",
      "Set constrs rrd: -pg + prd - pmin <= 0\n",
      "Set constrs rgu: pg - pg0 - R10h <= 0\n",
      "Set constrs rgd: -pg + pg0 - R10h <= 0\n",
      "RTED model set up in 0.0230 seconds.\n"
     ]
    },
    {
     "name": "stdout",
     "output_type": "stream",
     "text": [
      "Set parameter Username\n",
      "Academic license - for non-commercial use only - expires 2024-05-21\n"
     ]
    },
    {
     "name": "stderr",
     "output_type": "stream",
     "text": [
      "RTED solved as optimal in 0.0308 seconds with exit code 0.\n"
     ]
    },
    {
     "data": {
      "text/plain": [
       "True"
      ]
     },
     "execution_count": 5,
     "metadata": {},
     "output_type": "execute_result"
    }
   ],
   "source": [
    "sp.RTED.run(solver=cp.GUROBI, reoptimize=True)"
   ]
  },
  {
   "cell_type": "code",
   "execution_count": 6,
   "metadata": {},
   "outputs": [
    {
     "data": {
      "text/plain": [
       "629.8546048020892"
      ]
     },
     "execution_count": 6,
     "metadata": {},
     "output_type": "execute_result"
    }
   ],
   "source": [
    "sp.RTED.obj.v"
   ]
  },
  {
   "cell_type": "code",
   "execution_count": 7,
   "metadata": {},
   "outputs": [
    {
     "name": "stderr",
     "output_type": "stream",
     "text": [
      "Setup model of RTED2\n",
      "RTED2 data check passed.\n",
      "- Generating symbols for RTED2\n",
      "Set constrs pb: sum(pd) - sum(pg) == 0\n",
      "Set constrs pinj: Cg@(pn - pd) - pg == 0\n",
      "Set constrs lub: PTDF @ (pn - pd) - rate_a <= 0\n",
      "Set constrs llb: - PTDF @ (pn - pd) - rate_a <= 0\n",
      "Set constrs rbu: gs @ pru - du == 0\n",
      "Set constrs rbd: gs @ prd - dd == 0\n",
      "Set constrs rru: pg + pru - pmax <= 0\n",
      "Set constrs rrd: -pg + prd - pmin <= 0\n",
      "Set constrs rgu: pg - pg0 - R10h <= 0\n",
      "Set constrs rgd: -pg + pg0 - R10h <= 0\n",
      "Set constrs pges: e1s@pg - zc + zd == 0\n",
      "Set constrs eb: uc + ud - 1 == 0\n",
      "Set constrs SOClb: -SOC + SOCmin <= 0\n",
      "Set constrs SOCub: SOC - SOCmax <= 0\n",
      "Set constrs zclb: - zc + pec <= 0\n",
      "Set constrs zcub: zc - pec - Mb@(1-uc) <= 0\n",
      "Set constrs zcub2: zc - Mb@uc <= 0\n",
      "Set constrs zdlb: - zd + ped <= 0\n",
      "Set constrs zdub: zd - ped - Mb@(1-ud) <= 0\n",
      "Set constrs zdub2: zd - Mb@ud <= 0\n",
      "Set constrs SOCb: SOC - SOCinit - power(dth, 1)*REn*EtaC*zc - power(dth, 1)*REn*REtaD*zd == 0\n",
      "RTED2 model set up in 0.0182 seconds.\n",
      "RTED2 solved as optimal in 0.0211 seconds with exit code 0.\n"
     ]
    },
    {
     "data": {
      "text/plain": [
       "True"
      ]
     },
     "execution_count": 7,
     "metadata": {},
     "output_type": "execute_result"
    }
   ],
   "source": [
    "sp.RTED2.run(solver=cp.GUROBI, reoptimize=True)"
   ]
  },
  {
   "cell_type": "code",
   "execution_count": 12,
   "metadata": {},
   "outputs": [
    {
     "name": "stdout",
     "output_type": "stream",
     "text": [
      "Objective: 629.8546048020892\n",
      "------------------\n",
      "Objective: 629.8546048240468\n",
      "ESD1 SOC level: [0.20548643]\n",
      "Charging: uc=[1.]; pec=[6.58371675], zc=[6.58371675]\n",
      "Discharging: ud=[0.]; ped=[-150.], zd=[0.]\n"
     ]
    }
   ],
   "source": [
    "rtn = sp.RTED\n",
    "\n",
    "print(f\"Objective: {rtn.obj.v}\")\n",
    "\n",
    "print(\"------------------\")\n",
    "\n",
    "rtn = sp.RTED2\n",
    "\n",
    "print(f\"Objective: {rtn.obj.v}\")\n",
    "print(f\"ESD1 SOC level: {rtn.SOC.v}\")\n",
    "print(f\"Charging: uc={rtn.uc.v}; pec={rtn.pec.v}, zc={rtn.zc.v}\")\n",
    "print(f\"Discharging: ud={rtn.ud.v}; ped={rtn.ped.v}, zd={rtn.zd.v}\")"
   ]
  }
 ],
 "metadata": {
  "kernelspec": {
   "display_name": "ams",
   "language": "python",
   "name": "python3"
  },
  "language_info": {
   "codemirror_mode": {
    "name": "ipython",
    "version": 3
   },
   "file_extension": ".py",
   "mimetype": "text/x-python",
   "name": "python",
   "nbconvert_exporter": "python",
   "pygments_lexer": "ipython3",
   "version": "3.9.16"
  },
  "orig_nbformat": 4,
  "vscode": {
   "interpreter": {
    "hash": "d2b3bf80176349caa68dc4a3c77bd06eaade8abc678330f7d1c813c53380e5d2"
   }
  }
 },
 "nbformat": 4,
 "nbformat_minor": 2
}
