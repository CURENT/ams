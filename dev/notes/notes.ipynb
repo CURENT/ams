{
 "cells": [
  {
   "cell_type": "code",
   "execution_count": 1,
   "metadata": {},
   "outputs": [],
   "source": [
    "import os\n",
    "import ams"
   ]
  },
  {
   "cell_type": "code",
   "execution_count": 2,
   "metadata": {},
   "outputs": [],
   "source": [
    "file_name = \"opf.py\"\n",
    "fig_name = \"opf.svg\"\n",
    "\n",
    "ams_root = ams.utils.paths.ams_root()\n",
    "\n",
    "pypower_path = os.path.join(ams_root, 'solver/pypower')\n",
    "figfolder_path = os.path.join(ams_root, 'dev/notes/fig')\n",
    "\n",
    "file_path = os.path.join(pypower_path, file_name)\n",
    "fig_path = os.path.join(figfolder_path, fig_name)"
   ]
  },
  {
   "cell_type": "code",
   "execution_count": 8,
   "metadata": {},
   "outputs": [
    {
     "data": {
      "text/plain": [
       "'/home/jwang175/dev'"
      ]
     },
     "execution_count": 8,
     "metadata": {},
     "output_type": "execute_result"
    }
   ],
   "source": [
    "os.path.normpath(os.path.join(ams_root, '../../dev'))"
   ]
  },
  {
   "cell_type": "code",
   "execution_count": 4,
   "metadata": {},
   "outputs": [
    {
     "data": {
      "text/plain": [
       "'/home/jwang175/ams/ams'"
      ]
     },
     "execution_count": 4,
     "metadata": {},
     "output_type": "execute_result"
    }
   ],
   "source": [
    "ams_root"
   ]
  },
  {
   "cell_type": "code",
   "execution_count": 3,
   "metadata": {},
   "outputs": [
    {
     "name": "stdout",
     "output_type": "stream",
     "text": [
      "\n",
      "\tERROR: While writing '/home/jwang175/ams/ams/dev/notes/fig/opf.svg': [Errno 2] No such file or directory: '/home/jwang175/ams/ams/dev/notes/fig/opf.svg'\n"
     ]
    }
   ],
   "source": [
    "!pydeps {file_path} -o {fig_path} --exclude-exact ams ams.main ams.system ams.core ams.utils numpy"
   ]
  }
 ],
 "metadata": {
  "kernelspec": {
   "display_name": "ams",
   "language": "python",
   "name": "python3"
  },
  "language_info": {
   "codemirror_mode": {
    "name": "ipython",
    "version": 3
   },
   "file_extension": ".py",
   "mimetype": "text/x-python",
   "name": "python",
   "nbconvert_exporter": "python",
   "pygments_lexer": "ipython3",
   "version": "3.9.16"
  },
  "orig_nbformat": 4,
  "vscode": {
   "interpreter": {
    "hash": "6a56141f77ddb7073ce83346af3d1a1215f9a2c362a18226b22139fea58207e1"
   }
  }
 },
 "nbformat": 4,
 "nbformat_minor": 2
}
