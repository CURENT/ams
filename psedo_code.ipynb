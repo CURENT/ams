{
 "cells": [
  {
   "cell_type": "markdown",
   "metadata": {},
   "source": [
    "```python\n",
    "import ams\n",
    "\n",
    "# load case\n",
    "ss = ams.load('ieee14.xlsx')\n",
    "\n",
    "# build DAED model\n",
    "ss.build('daed')\n",
    "\n",
    "# solve DAED model\n",
    "ss.run('daed')\n",
    "\n",
    "# show DAED results\n",
    "ss.show('daed')\n",
    "\n",
    "# Correct an show DAED results with ACOPF\n",
    "ss.acc('daed')\n",
    "ss.show('daed')\n",
    "\n",
    "# multi-timescale dispatch\n",
    "ss.mrun('dauc', 'daed', **kwargs)\n",
    "\n",
    "# co-simulation with ANDES\n",
    "\n",
    "ss.run('andes')\n",
    "\n",
    "```"
   ]
  }
 ],
 "metadata": {
  "kernelspec": {
   "display_name": "Python 3.9.13 ('ams')",
   "language": "python",
   "name": "python3"
  },
  "language_info": {
   "name": "python",
   "version": "3.9.13"
  },
  "orig_nbformat": 4,
  "vscode": {
   "interpreter": {
    "hash": "d9202bbf0491b3c6145e36d5ba22687a8b95e024b0a1e787962165edd6294d6d"
   }
  }
 },
 "nbformat": 4,
 "nbformat_minor": 2
}
