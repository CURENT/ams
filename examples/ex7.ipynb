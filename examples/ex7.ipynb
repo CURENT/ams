{
 "cells": [
  {
   "attachments": {},
   "cell_type": "markdown",
   "metadata": {},
   "source": [
    "# Export Simulation Results"
   ]
  },
  {
   "cell_type": "markdown",
   "metadata": {},
   "source": [
    "In AMS, the results can be output in different formats.\n",
    "\n",
    "One is the plain-text format, where it lists all solved dispatch requests.\n",
    "Another is the CSV format, where the dispatch results are exported to a CSV file."
   ]
  },
  {
   "cell_type": "code",
   "execution_count": 1,
   "metadata": {},
   "outputs": [],
   "source": [
    "import os\n",
    "\n",
    "import ams\n",
    "\n",
    "import pandas as pd"
   ]
  },
  {
   "cell_type": "code",
   "execution_count": 2,
   "metadata": {},
   "outputs": [],
   "source": [
    "ams.config_logger(stream_level=20)"
   ]
  },
  {
   "cell_type": "markdown",
   "metadata": {},
   "source": [
    "## Import case and run simulation"
   ]
  },
  {
   "cell_type": "code",
   "execution_count": 3,
   "metadata": {},
   "outputs": [
    {
     "name": "stderr",
     "output_type": "stream",
     "text": [
      "Parsing input file \"/Users/jinningwang/work/ams/ams/cases/5bus/pjm5bus_demo.xlsx\"...\n",
      "Input file parsed in 0.0669 seconds.\n",
      "Zero Line parameters detected, adjusted to default values: rate_b, rate_c.\n",
      "All bus type are PQ, adjusted given load and generator connection status.\n",
      "System set up in 0.0024 seconds.\n"
     ]
    }
   ],
   "source": [
    "sp = ams.load(ams.get_case('5bus/pjm5bus_demo.xlsx'),\n",
    "              setup=True,\n",
    "              no_output=False,)"
   ]
  },
  {
   "cell_type": "code",
   "execution_count": 4,
   "metadata": {},
   "outputs": [
    {
     "name": "stderr",
     "output_type": "stream",
     "text": [
      "Building system matrices\n",
      "Parsing OModel for <DCOPF>\n",
      "Evaluating OModel for <DCOPF>\n",
      "Finalizing OModel for <DCOPF>\n",
      "<DCOPF> initialized in 0.0100 seconds.\n",
      "<DCOPF> solved as optimal in 0.0074 seconds, converged in 8 iterations with CLARABEL.\n",
      "Report saved to \"pjm5bus_demo_out.txt\" in 0.0009 seconds.\n"
     ]
    },
    {
     "data": {
      "text/plain": [
       "True"
      ]
     },
     "execution_count": 4,
     "metadata": {},
     "output_type": "execute_result"
    }
   ],
   "source": [
    "sp.DCOPF.run(solver='CLARABEL')"
   ]
  },
  {
   "cell_type": "markdown",
   "metadata": {},
   "source": [
    "## Report to plain text"
   ]
  },
  {
   "cell_type": "markdown",
   "metadata": {},
   "source": [
    "Then, the system method ``report()`` can generated a plain-text report of the simulation results.\n",
    "\n",
    "If multiple simulation runs are performed, the report will contain all of them."
   ]
  },
  {
   "cell_type": "code",
   "execution_count": 5,
   "metadata": {},
   "outputs": [
    {
     "name": "stderr",
     "output_type": "stream",
     "text": [
      "Report saved to \"pjm5bus_demo_out.txt\" in 0.0014 seconds.\n"
     ]
    },
    {
     "data": {
      "text/plain": [
       "True"
      ]
     },
     "execution_count": 5,
     "metadata": {},
     "output_type": "execute_result"
    }
   ],
   "source": [
    "sp.report()"
   ]
  },
  {
   "cell_type": "markdown",
   "metadata": {},
   "source": [
    "The report is like:"
   ]
  },
  {
   "cell_type": "code",
   "execution_count": 6,
   "metadata": {},
   "outputs": [
    {
     "name": "stdout",
     "output_type": "stream",
     "text": [
      "AMS 1.0.11.post8.dev0+g530c81aa\n",
      "Copyright (C) 2023-2025 Jinning Wang\n",
      "\n",
      "AMS comes with ABSOLUTELY NO WARRANTY\n",
      "Case file: /Users/jinningwang/work/ams/ams/cases/5bus/pjm5bus_demo.xlsx\n",
      "Report time: 05/27/2025 11:04:29 PM\n",
      "\n",
      "\n",
      "========== System Statistics ==========\n",
      "Buses                              5\n",
      "Generators                         5\n",
      "Loads                              3\n",
      "Shunts                             0\n",
      "Lines                              7\n",
      "Transformers                       0\n",
      "Areas                              3\n",
      "Zones                              5\n",
      "\n",
      "============================== DCOPF ==============================\n",
      "                            P (p.u.)\n",
      "\n",
      "Generation                        10\n",
      "Load                              10\n",
      "\n",
      "Bus DATA:\n",
      "                                Name       vBus (p.u.)        aBus (rad)       pi ($/p.u.)\n",
      "\n",
      "0                                  A                 0          0.023989          0.077623\n",
      "1                                  B                 0          0.034668              0.01\n",
      "2                                  C                 0          0.013068               0.3\n",
      "3                                  D                 0                -0           0.15705\n",
      "4                                  E                 0          0.022896          0.091705\n",
      "\n",
      "Line DATA:\n",
      "                                Name        plf (p.u.)      mu1 ($/p.u.)      mu2 ($/p.u.)\n",
      "\n",
      "Line_1                       Line AB          -0.38001                 0                 0\n",
      "Line_2                       Line AD           0.78912                 0                 0\n",
      "Line_3                       Line AE           0.17089                 0                 0\n",
      "Line_4                       Line BC                 2                 0           0.34198\n",
      "Line_5                       Line CD           0.43998                 0                 0\n",
      "Line_6                       Line DE          -0.77089                 0                 0\n",
      "Line_7                      Line AB2          -0.38001                 0                 0\n",
      "\n",
      "StaticGen DATA:\n",
      "                                Name         pg (p.u.)      pmaxe (p.u.)      pmine (p.u.)\n",
      "\n",
      "PV_1                            Alta               0.2               2.1               0.2\n",
      "PV_3                        Solitude              1.44               5.2               0.5\n",
      "PV_5                        Brighton               0.6                 6               0.6\n",
      "PV_2                            PV 2              5.76                99               -99\n",
      "Slack_4                     Sundance                 2                 2               0.2\n",
      "\n",
      "\n"
     ]
    }
   ],
   "source": [
    "report_file = \"pjm5bus_demo_out.txt\"\n",
    "\n",
    "with open(report_file, 'r') as file:\n",
    "    report_content = file.read()\n",
    "\n",
    "print(report_content)"
   ]
  },
  {
   "cell_type": "markdown",
   "metadata": {},
   "source": [
    "## Export to CSV"
   ]
  },
  {
   "cell_type": "markdown",
   "metadata": {},
   "source": [
    "The dispatch simulation can also be exported to a CSV file."
   ]
  },
  {
   "cell_type": "code",
   "execution_count": 7,
   "metadata": {},
   "outputs": [
    {
     "name": "stderr",
     "output_type": "stream",
     "text": [
      "Parsing OModel for <ED>\n",
      "Evaluating OModel for <ED>\n",
      "Finalizing OModel for <ED>\n",
      "<ED> initialized in 0.0462 seconds.\n",
      "<ED> solved as optimal in 0.0293 seconds, converged in 12 iterations with CLARABEL.\n",
      "Report saved to \"pjm5bus_demo_out.txt\" in 0.0118 seconds.\n"
     ]
    },
    {
     "data": {
      "text/plain": [
       "True"
      ]
     },
     "execution_count": 7,
     "metadata": {},
     "output_type": "execute_result"
    }
   ],
   "source": [
    "sp.ED.run(solver='CLARABEL')"
   ]
  },
  {
   "cell_type": "code",
   "execution_count": 8,
   "metadata": {},
   "outputs": [
    {
     "data": {
      "text/plain": [
       "'pjm5bus_demo_ED.csv'"
      ]
     },
     "execution_count": 8,
     "metadata": {},
     "output_type": "execute_result"
    }
   ],
   "source": [
    "out_csv = sp.ED.export_csv()\n",
    "\n",
    "out_csv"
   ]
  },
  {
   "cell_type": "code",
   "execution_count": 9,
   "metadata": {},
   "outputs": [],
   "source": [
    "df = pd.read_csv(out_csv)"
   ]
  },
  {
   "cell_type": "markdown",
   "metadata": {},
   "source": [
    "In the exported CSV file, each row represents a timeslot, and each column represents a variable."
   ]
  },
  {
   "cell_type": "code",
   "execution_count": 10,
   "metadata": {},
   "outputs": [
    {
     "data": {
      "application/vnd.microsoft.datawrangler.viewer.v0+json": {
       "columns": [
        {
         "name": "index",
         "rawType": "int64",
         "type": "integer"
        },
        {
         "name": "Time",
         "rawType": "object",
         "type": "string"
        },
        {
         "name": "pg PV_1",
         "rawType": "float64",
         "type": "float"
        },
        {
         "name": "pg PV_3",
         "rawType": "float64",
         "type": "float"
        },
        {
         "name": "pg PV_5",
         "rawType": "float64",
         "type": "float"
        },
        {
         "name": "pg PV_2",
         "rawType": "float64",
         "type": "float"
        },
        {
         "name": "pg Slack_4",
         "rawType": "float64",
         "type": "float"
        },
        {
         "name": "vBus 0",
         "rawType": "float64",
         "type": "float"
        },
        {
         "name": "vBus 1",
         "rawType": "float64",
         "type": "float"
        },
        {
         "name": "vBus 2",
         "rawType": "float64",
         "type": "float"
        },
        {
         "name": "vBus 3",
         "rawType": "float64",
         "type": "float"
        }
       ],
       "ref": "f996795f-b055-4913-aeac-d9fdfbe782b9",
       "rows": [
        [
         "0",
         "EDT1",
         "0.2",
         "0.5",
         "0.6",
         "4.828936",
         "1.801064",
         "0.0",
         "0.0",
         "0.0",
         "0.0"
        ],
        [
         "1",
         "EDT2",
         "0.2",
         "0.5",
         "0.6",
         "4.825838",
         "1.434162",
         "0.0",
         "0.0",
         "0.0",
         "0.0"
        ],
        [
         "2",
         "EDT3",
         "0.2",
         "0.5",
         "0.6",
         "4.823074",
         "1.106926",
         "0.0",
         "0.0",
         "0.0",
         "0.0"
        ],
        [
         "3",
         "EDT4",
         "0.2",
         "0.5",
         "0.6",
         "4.821818",
         "0.958182",
         "0.0",
         "0.0",
         "0.0",
         "0.0"
        ],
        [
         "4",
         "EDT5",
         "0.2",
         "0.5",
         "0.6",
         "4.821148",
         "0.878852",
         "0.0",
         "0.0",
         "0.0",
         "0.0"
        ],
        [
         "5",
         "EDT6",
         "0.2",
         "0.5",
         "0.6",
         "4.821651",
         "0.938349",
         "0.0",
         "0.0",
         "0.0",
         "0.0"
        ],
        [
         "6",
         "EDT7",
         "0.2",
         "0.5",
         "0.6",
         "4.825335",
         "1.374664",
         "0.0",
         "0.0",
         "0.0",
         "0.0"
        ],
        [
         "7",
         "EDT8",
         "0.2",
         "0.5",
         "0.6",
         "4.82969",
         "1.89031",
         "0.0",
         "0.0",
         "0.0",
         "0.0"
        ],
        [
         "8",
         "EDT9",
         "0.2",
         "0.575115",
         "0.6",
         "4.904885",
         "2.0",
         "0.0",
         "0.0",
         "0.0",
         "0.0"
        ],
        [
         "9",
         "EDT10",
         "0.2",
         "0.690766",
         "0.6",
         "5.019234",
         "2.0",
         "0.0",
         "0.0",
         "0.0",
         "0.0"
        ],
        [
         "10",
         "EDT11",
         "0.2",
         "0.806417",
         "0.6",
         "5.133583",
         "2.0",
         "0.0",
         "0.0",
         "0.0",
         "0.0"
        ],
        [
         "11",
         "EDT12",
         "0.2",
         "0.927096",
         "0.6",
         "5.252904",
         "2.0",
         "0.0",
         "0.0",
         "0.0",
         "0.0"
        ],
        [
         "12",
         "EDT13",
         "0.2",
         "1.032691",
         "0.6",
         "5.357309",
         "2.0",
         "0.0",
         "0.0",
         "0.0",
         "0.0"
        ],
        [
         "13",
         "EDT14",
         "0.2",
         "1.173484",
         "0.6",
         "5.496517",
         "2.0",
         "0.0",
         "0.0",
         "0.0",
         "0.0"
        ],
        [
         "14",
         "EDT15",
         "0.2",
         "1.289135",
         "0.6",
         "5.610865",
         "2.0",
         "0.0",
         "0.0",
         "0.0",
         "0.0"
        ],
        [
         "15",
         "EDT16",
         "0.2",
         "1.374616",
         "0.6",
         "5.695384",
         "2.0",
         "0.0",
         "0.0",
         "0.0",
         "0.0"
        ],
        [
         "16",
         "EDT17",
         "0.2",
         "1.439984",
         "0.6",
         "5.760016",
         "2.0",
         "0.0",
         "0.0",
         "0.0",
         "0.0"
        ],
        [
         "17",
         "EDT18",
         "0.2",
         "1.439984",
         "0.6",
         "5.760016",
         "2.0",
         "0.0",
         "0.0",
         "0.0",
         "0.0"
        ],
        [
         "18",
         "EDT19",
         "0.2",
         "1.394729",
         "0.6",
         "5.715271",
         "2.0",
         "0.0",
         "0.0",
         "0.0",
         "0.0"
        ],
        [
         "19",
         "EDT20",
         "0.2",
         "1.218738",
         "0.6",
         "5.541262",
         "2.0",
         "0.0",
         "0.0",
         "0.0",
         "0.0"
        ],
        [
         "20",
         "EDT21",
         "0.2",
         "1.088002",
         "0.6",
         "5.411998",
         "2.0",
         "0.0",
         "0.0",
         "0.0",
         "0.0"
        ],
        [
         "21",
         "EDT22",
         "0.2",
         "0.962295",
         "0.6",
         "5.287705",
         "2.0",
         "0.0",
         "0.0",
         "0.0",
         "0.0"
        ],
        [
         "22",
         "EDT23",
         "0.2",
         "0.680709",
         "0.6",
         "5.009291",
         "2.0",
         "0.0",
         "0.0",
         "0.0",
         "0.0"
        ],
        [
         "23",
         "EDT24",
         "0.2",
         "0.5",
         "0.6",
         "4.828183",
         "1.711817",
         "0.0",
         "0.0",
         "0.0",
         "0.0"
        ]
       ],
       "shape": {
        "columns": 10,
        "rows": 24
       }
      },
      "text/html": [
       "<div>\n",
       "<style scoped>\n",
       "    .dataframe tbody tr th:only-of-type {\n",
       "        vertical-align: middle;\n",
       "    }\n",
       "\n",
       "    .dataframe tbody tr th {\n",
       "        vertical-align: top;\n",
       "    }\n",
       "\n",
       "    .dataframe thead th {\n",
       "        text-align: right;\n",
       "    }\n",
       "</style>\n",
       "<table border=\"1\" class=\"dataframe\">\n",
       "  <thead>\n",
       "    <tr style=\"text-align: right;\">\n",
       "      <th></th>\n",
       "      <th>Time</th>\n",
       "      <th>pg PV_1</th>\n",
       "      <th>pg PV_3</th>\n",
       "      <th>pg PV_5</th>\n",
       "      <th>pg PV_2</th>\n",
       "      <th>pg Slack_4</th>\n",
       "      <th>vBus 0</th>\n",
       "      <th>vBus 1</th>\n",
       "      <th>vBus 2</th>\n",
       "      <th>vBus 3</th>\n",
       "    </tr>\n",
       "  </thead>\n",
       "  <tbody>\n",
       "    <tr>\n",
       "      <th>0</th>\n",
       "      <td>EDT1</td>\n",
       "      <td>0.2</td>\n",
       "      <td>0.500000</td>\n",
       "      <td>0.6</td>\n",
       "      <td>4.828936</td>\n",
       "      <td>1.801064</td>\n",
       "      <td>0.0</td>\n",
       "      <td>0.0</td>\n",
       "      <td>0.0</td>\n",
       "      <td>0.0</td>\n",
       "    </tr>\n",
       "    <tr>\n",
       "      <th>1</th>\n",
       "      <td>EDT2</td>\n",
       "      <td>0.2</td>\n",
       "      <td>0.500000</td>\n",
       "      <td>0.6</td>\n",
       "      <td>4.825838</td>\n",
       "      <td>1.434162</td>\n",
       "      <td>0.0</td>\n",
       "      <td>0.0</td>\n",
       "      <td>0.0</td>\n",
       "      <td>0.0</td>\n",
       "    </tr>\n",
       "    <tr>\n",
       "      <th>2</th>\n",
       "      <td>EDT3</td>\n",
       "      <td>0.2</td>\n",
       "      <td>0.500000</td>\n",
       "      <td>0.6</td>\n",
       "      <td>4.823074</td>\n",
       "      <td>1.106926</td>\n",
       "      <td>0.0</td>\n",
       "      <td>0.0</td>\n",
       "      <td>0.0</td>\n",
       "      <td>0.0</td>\n",
       "    </tr>\n",
       "    <tr>\n",
       "      <th>3</th>\n",
       "      <td>EDT4</td>\n",
       "      <td>0.2</td>\n",
       "      <td>0.500000</td>\n",
       "      <td>0.6</td>\n",
       "      <td>4.821818</td>\n",
       "      <td>0.958182</td>\n",
       "      <td>0.0</td>\n",
       "      <td>0.0</td>\n",
       "      <td>0.0</td>\n",
       "      <td>0.0</td>\n",
       "    </tr>\n",
       "    <tr>\n",
       "      <th>4</th>\n",
       "      <td>EDT5</td>\n",
       "      <td>0.2</td>\n",
       "      <td>0.500000</td>\n",
       "      <td>0.6</td>\n",
       "      <td>4.821148</td>\n",
       "      <td>0.878852</td>\n",
       "      <td>0.0</td>\n",
       "      <td>0.0</td>\n",
       "      <td>0.0</td>\n",
       "      <td>0.0</td>\n",
       "    </tr>\n",
       "    <tr>\n",
       "      <th>5</th>\n",
       "      <td>EDT6</td>\n",
       "      <td>0.2</td>\n",
       "      <td>0.500000</td>\n",
       "      <td>0.6</td>\n",
       "      <td>4.821651</td>\n",
       "      <td>0.938349</td>\n",
       "      <td>0.0</td>\n",
       "      <td>0.0</td>\n",
       "      <td>0.0</td>\n",
       "      <td>0.0</td>\n",
       "    </tr>\n",
       "    <tr>\n",
       "      <th>6</th>\n",
       "      <td>EDT7</td>\n",
       "      <td>0.2</td>\n",
       "      <td>0.500000</td>\n",
       "      <td>0.6</td>\n",
       "      <td>4.825335</td>\n",
       "      <td>1.374664</td>\n",
       "      <td>0.0</td>\n",
       "      <td>0.0</td>\n",
       "      <td>0.0</td>\n",
       "      <td>0.0</td>\n",
       "    </tr>\n",
       "    <tr>\n",
       "      <th>7</th>\n",
       "      <td>EDT8</td>\n",
       "      <td>0.2</td>\n",
       "      <td>0.500000</td>\n",
       "      <td>0.6</td>\n",
       "      <td>4.829690</td>\n",
       "      <td>1.890310</td>\n",
       "      <td>0.0</td>\n",
       "      <td>0.0</td>\n",
       "      <td>0.0</td>\n",
       "      <td>0.0</td>\n",
       "    </tr>\n",
       "    <tr>\n",
       "      <th>8</th>\n",
       "      <td>EDT9</td>\n",
       "      <td>0.2</td>\n",
       "      <td>0.575115</td>\n",
       "      <td>0.6</td>\n",
       "      <td>4.904885</td>\n",
       "      <td>2.000000</td>\n",
       "      <td>0.0</td>\n",
       "      <td>0.0</td>\n",
       "      <td>0.0</td>\n",
       "      <td>0.0</td>\n",
       "    </tr>\n",
       "    <tr>\n",
       "      <th>9</th>\n",
       "      <td>EDT10</td>\n",
       "      <td>0.2</td>\n",
       "      <td>0.690766</td>\n",
       "      <td>0.6</td>\n",
       "      <td>5.019234</td>\n",
       "      <td>2.000000</td>\n",
       "      <td>0.0</td>\n",
       "      <td>0.0</td>\n",
       "      <td>0.0</td>\n",
       "      <td>0.0</td>\n",
       "    </tr>\n",
       "    <tr>\n",
       "      <th>10</th>\n",
       "      <td>EDT11</td>\n",
       "      <td>0.2</td>\n",
       "      <td>0.806417</td>\n",
       "      <td>0.6</td>\n",
       "      <td>5.133583</td>\n",
       "      <td>2.000000</td>\n",
       "      <td>0.0</td>\n",
       "      <td>0.0</td>\n",
       "      <td>0.0</td>\n",
       "      <td>0.0</td>\n",
       "    </tr>\n",
       "    <tr>\n",
       "      <th>11</th>\n",
       "      <td>EDT12</td>\n",
       "      <td>0.2</td>\n",
       "      <td>0.927096</td>\n",
       "      <td>0.6</td>\n",
       "      <td>5.252904</td>\n",
       "      <td>2.000000</td>\n",
       "      <td>0.0</td>\n",
       "      <td>0.0</td>\n",
       "      <td>0.0</td>\n",
       "      <td>0.0</td>\n",
       "    </tr>\n",
       "    <tr>\n",
       "      <th>12</th>\n",
       "      <td>EDT13</td>\n",
       "      <td>0.2</td>\n",
       "      <td>1.032691</td>\n",
       "      <td>0.6</td>\n",
       "      <td>5.357309</td>\n",
       "      <td>2.000000</td>\n",
       "      <td>0.0</td>\n",
       "      <td>0.0</td>\n",
       "      <td>0.0</td>\n",
       "      <td>0.0</td>\n",
       "    </tr>\n",
       "    <tr>\n",
       "      <th>13</th>\n",
       "      <td>EDT14</td>\n",
       "      <td>0.2</td>\n",
       "      <td>1.173484</td>\n",
       "      <td>0.6</td>\n",
       "      <td>5.496517</td>\n",
       "      <td>2.000000</td>\n",
       "      <td>0.0</td>\n",
       "      <td>0.0</td>\n",
       "      <td>0.0</td>\n",
       "      <td>0.0</td>\n",
       "    </tr>\n",
       "    <tr>\n",
       "      <th>14</th>\n",
       "      <td>EDT15</td>\n",
       "      <td>0.2</td>\n",
       "      <td>1.289135</td>\n",
       "      <td>0.6</td>\n",
       "      <td>5.610865</td>\n",
       "      <td>2.000000</td>\n",
       "      <td>0.0</td>\n",
       "      <td>0.0</td>\n",
       "      <td>0.0</td>\n",
       "      <td>0.0</td>\n",
       "    </tr>\n",
       "    <tr>\n",
       "      <th>15</th>\n",
       "      <td>EDT16</td>\n",
       "      <td>0.2</td>\n",
       "      <td>1.374616</td>\n",
       "      <td>0.6</td>\n",
       "      <td>5.695384</td>\n",
       "      <td>2.000000</td>\n",
       "      <td>0.0</td>\n",
       "      <td>0.0</td>\n",
       "      <td>0.0</td>\n",
       "      <td>0.0</td>\n",
       "    </tr>\n",
       "    <tr>\n",
       "      <th>16</th>\n",
       "      <td>EDT17</td>\n",
       "      <td>0.2</td>\n",
       "      <td>1.439984</td>\n",
       "      <td>0.6</td>\n",
       "      <td>5.760016</td>\n",
       "      <td>2.000000</td>\n",
       "      <td>0.0</td>\n",
       "      <td>0.0</td>\n",
       "      <td>0.0</td>\n",
       "      <td>0.0</td>\n",
       "    </tr>\n",
       "    <tr>\n",
       "      <th>17</th>\n",
       "      <td>EDT18</td>\n",
       "      <td>0.2</td>\n",
       "      <td>1.439984</td>\n",
       "      <td>0.6</td>\n",
       "      <td>5.760016</td>\n",
       "      <td>2.000000</td>\n",
       "      <td>0.0</td>\n",
       "      <td>0.0</td>\n",
       "      <td>0.0</td>\n",
       "      <td>0.0</td>\n",
       "    </tr>\n",
       "    <tr>\n",
       "      <th>18</th>\n",
       "      <td>EDT19</td>\n",
       "      <td>0.2</td>\n",
       "      <td>1.394729</td>\n",
       "      <td>0.6</td>\n",
       "      <td>5.715271</td>\n",
       "      <td>2.000000</td>\n",
       "      <td>0.0</td>\n",
       "      <td>0.0</td>\n",
       "      <td>0.0</td>\n",
       "      <td>0.0</td>\n",
       "    </tr>\n",
       "    <tr>\n",
       "      <th>19</th>\n",
       "      <td>EDT20</td>\n",
       "      <td>0.2</td>\n",
       "      <td>1.218738</td>\n",
       "      <td>0.6</td>\n",
       "      <td>5.541262</td>\n",
       "      <td>2.000000</td>\n",
       "      <td>0.0</td>\n",
       "      <td>0.0</td>\n",
       "      <td>0.0</td>\n",
       "      <td>0.0</td>\n",
       "    </tr>\n",
       "    <tr>\n",
       "      <th>20</th>\n",
       "      <td>EDT21</td>\n",
       "      <td>0.2</td>\n",
       "      <td>1.088002</td>\n",
       "      <td>0.6</td>\n",
       "      <td>5.411998</td>\n",
       "      <td>2.000000</td>\n",
       "      <td>0.0</td>\n",
       "      <td>0.0</td>\n",
       "      <td>0.0</td>\n",
       "      <td>0.0</td>\n",
       "    </tr>\n",
       "    <tr>\n",
       "      <th>21</th>\n",
       "      <td>EDT22</td>\n",
       "      <td>0.2</td>\n",
       "      <td>0.962295</td>\n",
       "      <td>0.6</td>\n",
       "      <td>5.287705</td>\n",
       "      <td>2.000000</td>\n",
       "      <td>0.0</td>\n",
       "      <td>0.0</td>\n",
       "      <td>0.0</td>\n",
       "      <td>0.0</td>\n",
       "    </tr>\n",
       "    <tr>\n",
       "      <th>22</th>\n",
       "      <td>EDT23</td>\n",
       "      <td>0.2</td>\n",
       "      <td>0.680709</td>\n",
       "      <td>0.6</td>\n",
       "      <td>5.009291</td>\n",
       "      <td>2.000000</td>\n",
       "      <td>0.0</td>\n",
       "      <td>0.0</td>\n",
       "      <td>0.0</td>\n",
       "      <td>0.0</td>\n",
       "    </tr>\n",
       "    <tr>\n",
       "      <th>23</th>\n",
       "      <td>EDT24</td>\n",
       "      <td>0.2</td>\n",
       "      <td>0.500000</td>\n",
       "      <td>0.6</td>\n",
       "      <td>4.828183</td>\n",
       "      <td>1.711817</td>\n",
       "      <td>0.0</td>\n",
       "      <td>0.0</td>\n",
       "      <td>0.0</td>\n",
       "      <td>0.0</td>\n",
       "    </tr>\n",
       "  </tbody>\n",
       "</table>\n",
       "</div>"
      ],
      "text/plain": [
       "     Time  pg PV_1   pg PV_3  pg PV_5   pg PV_2  pg Slack_4  vBus 0  vBus 1  \\\n",
       "0    EDT1      0.2  0.500000      0.6  4.828936    1.801064     0.0     0.0   \n",
       "1    EDT2      0.2  0.500000      0.6  4.825838    1.434162     0.0     0.0   \n",
       "2    EDT3      0.2  0.500000      0.6  4.823074    1.106926     0.0     0.0   \n",
       "3    EDT4      0.2  0.500000      0.6  4.821818    0.958182     0.0     0.0   \n",
       "4    EDT5      0.2  0.500000      0.6  4.821148    0.878852     0.0     0.0   \n",
       "5    EDT6      0.2  0.500000      0.6  4.821651    0.938349     0.0     0.0   \n",
       "6    EDT7      0.2  0.500000      0.6  4.825335    1.374664     0.0     0.0   \n",
       "7    EDT8      0.2  0.500000      0.6  4.829690    1.890310     0.0     0.0   \n",
       "8    EDT9      0.2  0.575115      0.6  4.904885    2.000000     0.0     0.0   \n",
       "9   EDT10      0.2  0.690766      0.6  5.019234    2.000000     0.0     0.0   \n",
       "10  EDT11      0.2  0.806417      0.6  5.133583    2.000000     0.0     0.0   \n",
       "11  EDT12      0.2  0.927096      0.6  5.252904    2.000000     0.0     0.0   \n",
       "12  EDT13      0.2  1.032691      0.6  5.357309    2.000000     0.0     0.0   \n",
       "13  EDT14      0.2  1.173484      0.6  5.496517    2.000000     0.0     0.0   \n",
       "14  EDT15      0.2  1.289135      0.6  5.610865    2.000000     0.0     0.0   \n",
       "15  EDT16      0.2  1.374616      0.6  5.695384    2.000000     0.0     0.0   \n",
       "16  EDT17      0.2  1.439984      0.6  5.760016    2.000000     0.0     0.0   \n",
       "17  EDT18      0.2  1.439984      0.6  5.760016    2.000000     0.0     0.0   \n",
       "18  EDT19      0.2  1.394729      0.6  5.715271    2.000000     0.0     0.0   \n",
       "19  EDT20      0.2  1.218738      0.6  5.541262    2.000000     0.0     0.0   \n",
       "20  EDT21      0.2  1.088002      0.6  5.411998    2.000000     0.0     0.0   \n",
       "21  EDT22      0.2  0.962295      0.6  5.287705    2.000000     0.0     0.0   \n",
       "22  EDT23      0.2  0.680709      0.6  5.009291    2.000000     0.0     0.0   \n",
       "23  EDT24      0.2  0.500000      0.6  4.828183    1.711817     0.0     0.0   \n",
       "\n",
       "    vBus 2  vBus 3  \n",
       "0      0.0     0.0  \n",
       "1      0.0     0.0  \n",
       "2      0.0     0.0  \n",
       "3      0.0     0.0  \n",
       "4      0.0     0.0  \n",
       "5      0.0     0.0  \n",
       "6      0.0     0.0  \n",
       "7      0.0     0.0  \n",
       "8      0.0     0.0  \n",
       "9      0.0     0.0  \n",
       "10     0.0     0.0  \n",
       "11     0.0     0.0  \n",
       "12     0.0     0.0  \n",
       "13     0.0     0.0  \n",
       "14     0.0     0.0  \n",
       "15     0.0     0.0  \n",
       "16     0.0     0.0  \n",
       "17     0.0     0.0  \n",
       "18     0.0     0.0  \n",
       "19     0.0     0.0  \n",
       "20     0.0     0.0  \n",
       "21     0.0     0.0  \n",
       "22     0.0     0.0  \n",
       "23     0.0     0.0  "
      ]
     },
     "execution_count": 10,
     "metadata": {},
     "output_type": "execute_result"
    }
   ],
   "source": [
    "df.iloc[:, :10]"
   ]
  },
  {
   "cell_type": "markdown",
   "metadata": {},
   "source": [
    "## Cleanup"
   ]
  },
  {
   "cell_type": "markdown",
   "metadata": {},
   "source": [
    "Remove the output files."
   ]
  },
  {
   "cell_type": "code",
   "execution_count": 11,
   "metadata": {},
   "outputs": [],
   "source": [
    "os.remove('pjm5bus_demo_out.txt')\n",
    "os.remove('pjm5bus_demo_ED.csv')"
   ]
  }
 ],
 "metadata": {
  "kernelspec": {
   "display_name": "ams",
   "language": "python",
   "name": "python3"
  },
  "language_info": {
   "codemirror_mode": {
    "name": "ipython",
    "version": 3
   },
   "file_extension": ".py",
   "mimetype": "text/x-python",
   "name": "python",
   "nbconvert_exporter": "python",
   "pygments_lexer": "ipython3",
   "version": "3.12.0"
  },
  "orig_nbformat": 4
 },
 "nbformat": 4,
 "nbformat_minor": 2
}
