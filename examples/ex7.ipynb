{
 "cells": [
  {
   "attachments": {},
   "cell_type": "markdown",
   "metadata": {},
   "source": [
    "# Output Simulation Results"
   ]
  },
  {
   "cell_type": "markdown",
   "metadata": {},
   "source": [
    "In AMS, the results can be output in different formats.\n",
    "\n",
    "One is the plain-text format, where it lists all solved dispatch requests.\n",
    "Another is the CSV format, where the dispatch results are exported to a CSV file."
   ]
  },
  {
   "cell_type": "code",
   "execution_count": 1,
   "metadata": {},
   "outputs": [],
   "source": [
    "import os\n",
    "\n",
    "import ams\n",
    "\n",
    "import datetime\n",
    "\n",
    "import pandas as pd"
   ]
  },
  {
   "cell_type": "code",
   "execution_count": 2,
   "metadata": {},
   "outputs": [
    {
     "name": "stdout",
     "output_type": "stream",
     "text": [
      "Last run time: 2024-11-24 17:47:25\n",
      "ams:0.9.12\n"
     ]
    }
   ],
   "source": [
    "print(\"Last run time:\", datetime.datetime.now().strftime(\"%Y-%m-%d %H:%M:%S\"))\n",
    "\n",
    "print(f'ams:{ams.__version__}')"
   ]
  },
  {
   "cell_type": "code",
   "execution_count": 3,
   "metadata": {},
   "outputs": [],
   "source": [
    "ams.config_logger(stream_level=20)"
   ]
  },
  {
   "cell_type": "markdown",
   "metadata": {},
   "source": [
    "## Import case and run simulation"
   ]
  },
  {
   "cell_type": "code",
   "execution_count": 4,
   "metadata": {},
   "outputs": [
    {
     "name": "stderr",
     "output_type": "stream",
     "text": [
      "Working directory: \"/Users/jinningwang/work/ams/examples\"\n",
      "Parsing input file \"/Users/jinningwang/work/miniconda3/envs/amsre/lib/python3.12/site-packages/ams/cases/5bus/pjm5bus_demo.xlsx\"...\n",
      "Input file parsed in 0.0218 seconds.\n",
      "Zero line rates detacted in rate_b, rate_c, adjusted to 999.\n",
      "System set up in 0.0019 seconds.\n"
     ]
    }
   ],
   "source": [
    "sp = ams.load(ams.get_case('5bus/pjm5bus_demo.xlsx'),\n",
    "                  setup=True,\n",
    "                  no_output=False,)"
   ]
  },
  {
   "cell_type": "code",
   "execution_count": 5,
   "metadata": {},
   "outputs": [
    {
     "name": "stderr",
     "output_type": "stream",
     "text": [
      "Building system matrices\n",
      "Parsing OModel for <DCOPF>\n",
      "Evaluating OModel for <DCOPF>\n",
      "Finalizing OModel for <DCOPF>\n",
      "<DCOPF> initialized in 0.0081 seconds.\n",
      "<DCOPF> solved as optimal in 0.0064 seconds, converged in 8 iterations with CLARABEL.\n"
     ]
    },
    {
     "data": {
      "text/plain": [
       "True"
      ]
     },
     "execution_count": 5,
     "metadata": {},
     "output_type": "execute_result"
    }
   ],
   "source": [
    "sp.DCOPF.run(solver='CLARABEL')"
   ]
  },
  {
   "cell_type": "markdown",
   "metadata": {},
   "source": [
    "## Report to plain text"
   ]
  },
  {
   "cell_type": "markdown",
   "metadata": {},
   "source": [
    "Then, the system method ``report()`` can generated a plain-text report of the simulation results.\n",
    "\n",
    "If multiple simulation runs are performed, the report will contain all of them."
   ]
  },
  {
   "cell_type": "code",
   "execution_count": 6,
   "metadata": {},
   "outputs": [
    {
     "name": "stderr",
     "output_type": "stream",
     "text": [
      "Report saved to \"pjm5bus_demo_out.txt\" in 0.0012 seconds.\n"
     ]
    },
    {
     "data": {
      "text/plain": [
       "True"
      ]
     },
     "execution_count": 6,
     "metadata": {},
     "output_type": "execute_result"
    }
   ],
   "source": [
    "sp.report()"
   ]
  },
  {
   "cell_type": "markdown",
   "metadata": {},
   "source": [
    "The report is like:"
   ]
  },
  {
   "cell_type": "code",
   "execution_count": 7,
   "metadata": {},
   "outputs": [
    {
     "name": "stdout",
     "output_type": "stream",
     "text": [
      "AMS 0.9.12\n",
      "Copyright (C) 2023-2024 Jinning Wang\n",
      "\n",
      "AMS comes with ABSOLUTELY NO WARRANTY\n",
      "Case file: /Users/jinningwang/work/miniconda3/envs/amsre/lib/python3.12/site-packages/ams/cases/5bus/pjm5bus_demo.xlsx\n",
      "Report time: 11/24/2024 05:47:25 PM\n",
      "\n",
      "\n",
      "========== System Statistics ==========\n",
      "Buses                              5\n",
      "Generators                         4\n",
      "Loads                              3\n",
      "Shunts                             0\n",
      "Lines                              7\n",
      "Transformers                       0\n",
      "Areas                              3\n",
      "Regions                            2\n",
      "\n",
      "============================== DCOPF ==============================\n",
      "                            P (p.u.)\n",
      "\n",
      "Generation                        10\n",
      "Load                              10\n",
      "\n",
      "Bus DATA:\n",
      "                                Name        aBus (rad)\n",
      "\n",
      "Bus_1                              A           0.02086\n",
      "Bus_2                              B          0.001022\n",
      "Bus_3                              C          0.018174\n",
      "Bus_4                              D                -0\n",
      "Bus_5                              E          0.020847\n",
      "\n",
      "StaticGen DATA:\n",
      "                                Name         pg (p.u.)\n",
      "\n",
      "Slack_4                     Sundance                 2\n",
      "PV_1                            Alta               2.1\n",
      "PV_3                        Solitude               5.2\n",
      "PV_5                        Brighton               0.7\n",
      "\n",
      "\n"
     ]
    }
   ],
   "source": [
    "report_file = \"pjm5bus_demo_out.txt\"\n",
    "\n",
    "with open(report_file, 'r') as file:\n",
    "    report_content = file.read()\n",
    "\n",
    "print(report_content)"
   ]
  },
  {
   "cell_type": "markdown",
   "metadata": {},
   "source": [
    "## Export to CSV"
   ]
  },
  {
   "cell_type": "markdown",
   "metadata": {},
   "source": [
    "The dispatch simulation can also be exported to a CSV file."
   ]
  },
  {
   "cell_type": "code",
   "execution_count": 8,
   "metadata": {},
   "outputs": [
    {
     "name": "stderr",
     "output_type": "stream",
     "text": [
      "Parsing OModel for <ED>\n",
      "Evaluating OModel for <ED>\n",
      "Finalizing OModel for <ED>\n",
      "<ED> initialized in 0.0281 seconds.\n",
      "<ED> solved as optimal in 0.0136 seconds, converged in 9 iterations with CLARABEL.\n"
     ]
    },
    {
     "data": {
      "text/plain": [
       "True"
      ]
     },
     "execution_count": 8,
     "metadata": {},
     "output_type": "execute_result"
    }
   ],
   "source": [
    "sp.ED.run(solver='CLARABEL')"
   ]
  },
  {
   "cell_type": "code",
   "execution_count": 9,
   "metadata": {},
   "outputs": [
    {
     "data": {
      "text/plain": [
       "'pjm5bus_demo_ED.csv'"
      ]
     },
     "execution_count": 9,
     "metadata": {},
     "output_type": "execute_result"
    }
   ],
   "source": [
    "sp.ED.export_csv()"
   ]
  },
  {
   "cell_type": "code",
   "execution_count": 10,
   "metadata": {},
   "outputs": [],
   "source": [
    "df = pd.read_csv('pjm5bus_demo_ED.csv')"
   ]
  },
  {
   "cell_type": "markdown",
   "metadata": {},
   "source": [
    "In the exported CSV file, each row represents a timeslot, and each column represents a variable."
   ]
  },
  {
   "cell_type": "code",
   "execution_count": 11,
   "metadata": {},
   "outputs": [
    {
     "data": {
      "text/html": [
       "<div>\n",
       "<style scoped>\n",
       "    .dataframe tbody tr th:only-of-type {\n",
       "        vertical-align: middle;\n",
       "    }\n",
       "\n",
       "    .dataframe tbody tr th {\n",
       "        vertical-align: top;\n",
       "    }\n",
       "\n",
       "    .dataframe thead th {\n",
       "        text-align: right;\n",
       "    }\n",
       "</style>\n",
       "<table border=\"1\" class=\"dataframe\">\n",
       "  <thead>\n",
       "    <tr style=\"text-align: right;\">\n",
       "      <th></th>\n",
       "      <th>Time</th>\n",
       "      <th>pg Slack_4</th>\n",
       "      <th>pg PV_1</th>\n",
       "      <th>pg PV_3</th>\n",
       "      <th>pg PV_5</th>\n",
       "      <th>aBus Bus_1</th>\n",
       "      <th>aBus Bus_2</th>\n",
       "      <th>aBus Bus_3</th>\n",
       "      <th>aBus Bus_4</th>\n",
       "      <th>aBus Bus_5</th>\n",
       "    </tr>\n",
       "  </thead>\n",
       "  <tbody>\n",
       "    <tr>\n",
       "      <th>0</th>\n",
       "      <td>EDT1</td>\n",
       "      <td>2.0</td>\n",
       "      <td>2.1</td>\n",
       "      <td>3.23</td>\n",
       "      <td>0.6</td>\n",
       "      <td>0.016353</td>\n",
       "      <td>-0.006165</td>\n",
       "      <td>0.002219</td>\n",
       "      <td>-0.0</td>\n",
       "      <td>0.016613</td>\n",
       "    </tr>\n",
       "    <tr>\n",
       "      <th>1</th>\n",
       "      <td>EDT2</td>\n",
       "      <td>2.0</td>\n",
       "      <td>2.1</td>\n",
       "      <td>2.86</td>\n",
       "      <td>0.6</td>\n",
       "      <td>0.015611</td>\n",
       "      <td>-0.007540</td>\n",
       "      <td>-0.000840</td>\n",
       "      <td>-0.0</td>\n",
       "      <td>0.016002</td>\n",
       "    </tr>\n",
       "    <tr>\n",
       "      <th>2</th>\n",
       "      <td>EDT3</td>\n",
       "      <td>2.0</td>\n",
       "      <td>2.1</td>\n",
       "      <td>2.53</td>\n",
       "      <td>0.6</td>\n",
       "      <td>0.014948</td>\n",
       "      <td>-0.008766</td>\n",
       "      <td>-0.003569</td>\n",
       "      <td>-0.0</td>\n",
       "      <td>0.015457</td>\n",
       "    </tr>\n",
       "    <tr>\n",
       "      <th>3</th>\n",
       "      <td>EDT4</td>\n",
       "      <td>2.0</td>\n",
       "      <td>2.1</td>\n",
       "      <td>2.38</td>\n",
       "      <td>0.6</td>\n",
       "      <td>0.014647</td>\n",
       "      <td>-0.009323</td>\n",
       "      <td>-0.004809</td>\n",
       "      <td>-0.0</td>\n",
       "      <td>0.015210</td>\n",
       "    </tr>\n",
       "    <tr>\n",
       "      <th>4</th>\n",
       "      <td>EDT5</td>\n",
       "      <td>2.0</td>\n",
       "      <td>2.1</td>\n",
       "      <td>2.30</td>\n",
       "      <td>0.6</td>\n",
       "      <td>0.014487</td>\n",
       "      <td>-0.009620</td>\n",
       "      <td>-0.005471</td>\n",
       "      <td>-0.0</td>\n",
       "      <td>0.015078</td>\n",
       "    </tr>\n",
       "    <tr>\n",
       "      <th>5</th>\n",
       "      <td>EDT6</td>\n",
       "      <td>2.0</td>\n",
       "      <td>2.1</td>\n",
       "      <td>2.36</td>\n",
       "      <td>0.6</td>\n",
       "      <td>0.014607</td>\n",
       "      <td>-0.009397</td>\n",
       "      <td>-0.004975</td>\n",
       "      <td>-0.0</td>\n",
       "      <td>0.015177</td>\n",
       "    </tr>\n",
       "  </tbody>\n",
       "</table>\n",
       "</div>"
      ],
      "text/plain": [
       "   Time  pg Slack_4  pg PV_1  pg PV_3  pg PV_5  aBus Bus_1  aBus Bus_2  \\\n",
       "0  EDT1         2.0      2.1     3.23      0.6    0.016353   -0.006165   \n",
       "1  EDT2         2.0      2.1     2.86      0.6    0.015611   -0.007540   \n",
       "2  EDT3         2.0      2.1     2.53      0.6    0.014948   -0.008766   \n",
       "3  EDT4         2.0      2.1     2.38      0.6    0.014647   -0.009323   \n",
       "4  EDT5         2.0      2.1     2.30      0.6    0.014487   -0.009620   \n",
       "5  EDT6         2.0      2.1     2.36      0.6    0.014607   -0.009397   \n",
       "\n",
       "   aBus Bus_3  aBus Bus_4  aBus Bus_5  \n",
       "0    0.002219        -0.0    0.016613  \n",
       "1   -0.000840        -0.0    0.016002  \n",
       "2   -0.003569        -0.0    0.015457  \n",
       "3   -0.004809        -0.0    0.015210  \n",
       "4   -0.005471        -0.0    0.015078  \n",
       "5   -0.004975        -0.0    0.015177  "
      ]
     },
     "execution_count": 11,
     "metadata": {},
     "output_type": "execute_result"
    }
   ],
   "source": [
    "df.iloc[:, :10]"
   ]
  },
  {
   "cell_type": "markdown",
   "metadata": {},
   "source": [
    "## Cleanup"
   ]
  },
  {
   "cell_type": "markdown",
   "metadata": {},
   "source": [
    "Remove the output files."
   ]
  },
  {
   "cell_type": "code",
   "execution_count": 12,
   "metadata": {},
   "outputs": [],
   "source": [
    "os.remove('pjm5bus_demo_out.txt')\n",
    "os.remove('pjm5bus_demo_ED.csv')"
   ]
  }
 ],
 "metadata": {
  "kernelspec": {
   "display_name": "amsre",
   "language": "python",
   "name": "python3"
  },
  "language_info": {
   "codemirror_mode": {
    "name": "ipython",
    "version": 3
   },
   "file_extension": ".py",
   "mimetype": "text/x-python",
   "name": "python",
   "nbconvert_exporter": "python",
   "pygments_lexer": "ipython3",
   "version": "3.12.0"
  },
  "orig_nbformat": 4
 },
 "nbformat": 4,
 "nbformat_minor": 2
}
