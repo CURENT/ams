{
 "cells": [
  {
   "attachments": {},
   "cell_type": "markdown",
   "metadata": {},
   "source": [
    "# Simulate"
   ]
  },
  {
   "cell_type": "markdown",
   "metadata": {},
   "source": [
    "This example gives a \"hello world\" example to use AMS."
   ]
  },
  {
   "attachments": {},
   "cell_type": "markdown",
   "metadata": {},
   "source": [
    "## Import and Setting the Verbosity Level"
   ]
  },
  {
   "attachments": {},
   "cell_type": "markdown",
   "metadata": {},
   "source": [
    "We first import the `ams` library."
   ]
  },
  {
   "cell_type": "code",
   "execution_count": 1,
   "metadata": {},
   "outputs": [],
   "source": [
    "import ams"
   ]
  },
  {
   "attachments": {},
   "cell_type": "markdown",
   "metadata": {},
   "source": [
    "We can configure the verbosity level for logging (output messages) by passing a verbosity level (10-DEBUG, 20-INFO, 30-WARNING, 40-ERROR, 50-CRITICAL) to the `stream_level` argument of `ams.main.config_logger()`. Verbose level 10 is useful for getting debug output.\n",
    "\n",
    "The logging level can be altered by calling ``config_logger`` again with new ``stream_level`` and ``file_level``."
   ]
  },
  {
   "cell_type": "code",
   "execution_count": 2,
   "metadata": {},
   "outputs": [],
   "source": [
    "ams.config_logger(stream_level=20)"
   ]
  },
  {
   "attachments": {},
   "cell_type": "markdown",
   "metadata": {},
   "source": [
    "Note that the above ``ams.config_logger()`` is a shorthand to ``ams.main.config_logger()``.\n",
    "\n",
    "If this step is omitted, the default `INFO` level (`stream_level=20`) will be used."
   ]
  },
  {
   "attachments": {},
   "cell_type": "markdown",
   "metadata": {},
   "source": [
    "## Run Simulations"
   ]
  },
  {
   "attachments": {},
   "cell_type": "markdown",
   "metadata": {},
   "source": [
    "### Load Case"
   ]
  },
  {
   "attachments": {},
   "cell_type": "markdown",
   "metadata": {},
   "source": [
    "AMS supports multiple input file formats, including AMS ``.xlsx`` file, MATPOWER ``.m`` file, PYPOWER ``.py`` file, and PSS/E ``.raw`` file.\n",
    "\n",
    "Here we use the AMS ``.xlsx`` file as an example. The source file locates at ``$HOME/ams/ams/cases/ieee39/ieee39_uced.xlsx``."
   ]
  },
  {
   "cell_type": "code",
   "execution_count": 3,
   "metadata": {},
   "outputs": [
    {
     "name": "stderr",
     "output_type": "stream",
     "text": [
      "Parsing input file \"/Users/jinningwang/work/ams/ams/cases/5bus/pjm5bus_demo.xlsx\"...\n",
      "Input file parsed in 0.1986 seconds.\n",
      "Zero line rates detacted in rate_b, rate_c, adjusted to 999.\n",
      "System set up in 0.0033 seconds.\n"
     ]
    }
   ],
   "source": [
    "sp = ams.load(ams.get_case('5bus/pjm5bus_demo.xlsx'),\n",
    "              setup=True,\n",
    "              no_output=True,)"
   ]
  },
  {
   "attachments": {},
   "cell_type": "markdown",
   "metadata": {},
   "source": [
    "### Inspect Models and Routines"
   ]
  },
  {
   "attachments": {},
   "cell_type": "markdown",
   "metadata": {},
   "source": [
    "In AMS, ``model`` refers to the device-level models, and they are registered to an OrderedDict ``models``."
   ]
  },
  {
   "cell_type": "code",
   "execution_count": 4,
   "metadata": {},
   "outputs": [
    {
     "data": {
      "text/plain": [
       "OrderedDict([('Summary', Summary (3 devices) at 0x11f65aa10),\n",
       "             ('Bus', Bus (5 devices) at 0x11f6fece0),\n",
       "             ('PQ', PQ (3 devices) at 0x11f744070),\n",
       "             ('Slack', Slack (1 device) at 0x11f744730),\n",
       "             ('PV', PV (4 devices) at 0x11f7451b0),\n",
       "             ('Shunt', Shunt (0 devices) at 0x11f745c60),\n",
       "             ('Line', Line (7 devices) at 0x11f7460b0),\n",
       "             ('Jumper', Jumper (0 devices) at 0x11f746b60),\n",
       "             ('PVD1', PVD1 (0 devices) at 0x11f746e30),\n",
       "             ('ESD1', ESD1 (1 device) at 0x11f747760),\n",
       "             ('EV1', EV1 (0 devices) at 0x11f747d00),\n",
       "             ('EV2', EV2 (0 devices) at 0x11f778370),\n",
       "             ('REGCA1', REGCA1 (0 devices) at 0x11f778850),\n",
       "             ('REGCV1', REGCV1 (4 devices) at 0x11f778e50),\n",
       "             ('REGCV2', REGCV2 (0 devices) at 0x11f779510),\n",
       "             ('Area', Area (3 devices) at 0x11f779a80),\n",
       "             ('Zone', Zone (5 devices) at 0x11f779ff0),\n",
       "             ('SFR', SFR (3 devices) at 0x11f77a560),\n",
       "             ('SR', SR (3 devices) at 0x11f77ab90),\n",
       "             ('NSR', NSR (3 devices) at 0x11f77afb0),\n",
       "             ('VSGR', VSGR (3 devices) at 0x11f77b3d0),\n",
       "             ('GCost', GCost (5 devices) at 0x11f77b820),\n",
       "             ('SFRCost', SFRCost (5 devices) at 0x11f77be80),\n",
       "             ('SRCost', SRCost (5 devices) at 0x11f7a0460),\n",
       "             ('NSRCost', NSRCost (5 devices) at 0x11f7a0880),\n",
       "             ('VSGCost', VSGCost (4 devices) at 0x11f7a0ca0),\n",
       "             ('DCost', DCost (3 devices) at 0x11f7a0fa0),\n",
       "             ('TimeSlot', TimeSlot (0 devices) at 0x11f7a1510),\n",
       "             ('EDTSlot', EDTSlot (24 devices) at 0x11f7a1b70),\n",
       "             ('UCTSlot', UCTSlot (24 devices) at 0x11f7a1f90)])"
      ]
     },
     "execution_count": 4,
     "metadata": {},
     "output_type": "execute_result"
    }
   ],
   "source": [
    "sp.models"
   ]
  },
  {
   "attachments": {},
   "cell_type": "markdown",
   "metadata": {},
   "source": [
    "We can inspect the detailed model data in the form of DataFrame."
   ]
  },
  {
   "cell_type": "code",
   "execution_count": 5,
   "metadata": {},
   "outputs": [
    {
     "data": {
      "text/html": [
       "<div>\n",
       "<style scoped>\n",
       "    .dataframe tbody tr th:only-of-type {\n",
       "        vertical-align: middle;\n",
       "    }\n",
       "\n",
       "    .dataframe tbody tr th {\n",
       "        vertical-align: top;\n",
       "    }\n",
       "\n",
       "    .dataframe thead th {\n",
       "        text-align: right;\n",
       "    }\n",
       "</style>\n",
       "<table border=\"1\" class=\"dataframe\">\n",
       "  <thead>\n",
       "    <tr style=\"text-align: right;\">\n",
       "      <th></th>\n",
       "      <th>idx</th>\n",
       "      <th>u</th>\n",
       "      <th>name</th>\n",
       "      <th>bus</th>\n",
       "      <th>Vn</th>\n",
       "      <th>p0</th>\n",
       "      <th>q0</th>\n",
       "      <th>vmax</th>\n",
       "      <th>vmin</th>\n",
       "      <th>owner</th>\n",
       "      <th>ctrl</th>\n",
       "    </tr>\n",
       "    <tr>\n",
       "      <th>uid</th>\n",
       "      <th></th>\n",
       "      <th></th>\n",
       "      <th></th>\n",
       "      <th></th>\n",
       "      <th></th>\n",
       "      <th></th>\n",
       "      <th></th>\n",
       "      <th></th>\n",
       "      <th></th>\n",
       "      <th></th>\n",
       "      <th></th>\n",
       "    </tr>\n",
       "  </thead>\n",
       "  <tbody>\n",
       "    <tr>\n",
       "      <th>0</th>\n",
       "      <td>PQ_1</td>\n",
       "      <td>1.0</td>\n",
       "      <td>PQ 1</td>\n",
       "      <td>1</td>\n",
       "      <td>230.0</td>\n",
       "      <td>3.0</td>\n",
       "      <td>0.9861</td>\n",
       "      <td>1.1</td>\n",
       "      <td>0.9</td>\n",
       "      <td>None</td>\n",
       "      <td>1.0</td>\n",
       "    </tr>\n",
       "    <tr>\n",
       "      <th>1</th>\n",
       "      <td>PQ_2</td>\n",
       "      <td>1.0</td>\n",
       "      <td>PQ 2</td>\n",
       "      <td>2</td>\n",
       "      <td>230.0</td>\n",
       "      <td>3.0</td>\n",
       "      <td>0.9861</td>\n",
       "      <td>1.1</td>\n",
       "      <td>0.9</td>\n",
       "      <td>None</td>\n",
       "      <td>1.0</td>\n",
       "    </tr>\n",
       "    <tr>\n",
       "      <th>2</th>\n",
       "      <td>PQ_3</td>\n",
       "      <td>1.0</td>\n",
       "      <td>PQ 3</td>\n",
       "      <td>3</td>\n",
       "      <td>230.0</td>\n",
       "      <td>4.0</td>\n",
       "      <td>1.3147</td>\n",
       "      <td>1.1</td>\n",
       "      <td>0.9</td>\n",
       "      <td>None</td>\n",
       "      <td>1.0</td>\n",
       "    </tr>\n",
       "  </tbody>\n",
       "</table>\n",
       "</div>"
      ],
      "text/plain": [
       "      idx    u  name  bus     Vn   p0      q0  vmax  vmin owner  ctrl\n",
       "uid                                                                  \n",
       "0    PQ_1  1.0  PQ 1    1  230.0  3.0  0.9861   1.1   0.9  None   1.0\n",
       "1    PQ_2  1.0  PQ 2    2  230.0  3.0  0.9861   1.1   0.9  None   1.0\n",
       "2    PQ_3  1.0  PQ 3    3  230.0  4.0  1.3147   1.1   0.9  None   1.0"
      ]
     },
     "execution_count": 5,
     "metadata": {},
     "output_type": "execute_result"
    }
   ],
   "source": [
    "sp.PQ.as_df()"
   ]
  },
  {
   "attachments": {},
   "cell_type": "markdown",
   "metadata": {},
   "source": [
    "In AMS, all supported routines are registered to an OrderedDict ``routines``."
   ]
  },
  {
   "cell_type": "code",
   "execution_count": 6,
   "metadata": {},
   "outputs": [
    {
     "data": {
      "text/plain": [
       "OrderedDict([('DCPF', DCPF at 0x11f6ff940),\n",
       "             ('PFlow', PFlow at 0x11f7d0bb0),\n",
       "             ('CPF', CPF at 0x11f7d11b0),\n",
       "             ('ACOPF', ACOPF at 0x11fc2c070),\n",
       "             ('DCOPF', DCOPF at 0x11fc2cc10),\n",
       "             ('DCOPF2', DCOPF2 at 0x11fc2dc00),\n",
       "             ('ED', ED at 0x11fc2ee00),\n",
       "             ('EDDG', EDDG at 0x11fc7cf10),\n",
       "             ('EDES', EDES at 0x11fc7eb60),\n",
       "             ('RTED', RTED at 0x11fcb12a0),\n",
       "             ('RTEDDG', RTEDDG at 0x11fcb1330),\n",
       "             ('RTEDES', RTEDES at 0x11fcb3e50),\n",
       "             ('RTEDVIS', RTEDVIS at 0x11fce1de0),\n",
       "             ('UC', UC at 0x11fce3790),\n",
       "             ('UCDG', UCDG at 0x15355d000),\n",
       "             ('UCES', UCES at 0x15355f130),\n",
       "             ('DOPF', DOPF at 0x153589d20),\n",
       "             ('DOPFVIS', DOPFVIS at 0x15358b220),\n",
       "             ('PFlow0', PFlow0 at 0x1535c4820),\n",
       "             ('DCPF0', DCPF0 at 0x1535c4e20)])"
      ]
     },
     "execution_count": 6,
     "metadata": {},
     "output_type": "execute_result"
    }
   ],
   "source": [
    "sp.routines"
   ]
  },
  {
   "attachments": {},
   "cell_type": "markdown",
   "metadata": {},
   "source": [
    "### Solve a Routine"
   ]
  },
  {
   "cell_type": "markdown",
   "metadata": {},
   "source": [
    "Before solving a routine, it must first be initialized.\n",
    "In this example, we use DCOPF.\n",
    "\n",
    "In AMS, different routines require different input data.\n",
    "For instance, `RTED` necessitates regulating reserve-related data (`SFR`, `SFRCost`) for initialization.\n",
    "\n",
    "If you only have base power flow data or DCOPF data, other scheduling routines may not be able to init.\n",
    "\n",
    "You can use `pjm5bus_demo.xlsx` as an all-inclusive example to complete necessary input, as it contains all the necessary data for all routines."
   ]
  },
  {
   "cell_type": "code",
   "execution_count": 7,
   "metadata": {},
   "outputs": [
    {
     "name": "stderr",
     "output_type": "stream",
     "text": [
      "Building system matrices\n",
      "Parsing OModel for <DCOPF>\n",
      "Evaluating OModel for <DCOPF>\n",
      "Finalizing OModel for <DCOPF>\n",
      "<DCOPF> initialized in 0.0119 seconds.\n"
     ]
    },
    {
     "data": {
      "text/plain": [
       "True"
      ]
     },
     "execution_count": 7,
     "metadata": {},
     "output_type": "execute_result"
    }
   ],
   "source": [
    "sp.DCOPF.init()"
   ]
  },
  {
   "cell_type": "markdown",
   "metadata": {},
   "source": [
    "Then, one can solve it by calling ``run()``.\n",
    "Here, argument `solver` can be passed to specify the solver to use, such as `solver='ECOS'`.\n",
    "\n",
    "Installed solvers can be listed by ``ams.shared.installed_solvers``,\n",
    "and more detailes of solver can be found at [CVXPY-Choosing a solver](https://www.cvxpy.org/tutorial/advanced/index.html#choosing-a-solver)."
   ]
  },
  {
   "cell_type": "code",
   "execution_count": 8,
   "metadata": {},
   "outputs": [
    {
     "data": {
      "text/plain": [
       "['CLARABEL',\n",
       " 'ECOS',\n",
       " 'ECOS_BB',\n",
       " 'GUROBI',\n",
       " 'MOSEK',\n",
       " 'OSQP',\n",
       " 'PIQP',\n",
       " 'SCIP',\n",
       " 'SCIPY',\n",
       " 'SCS']"
      ]
     },
     "execution_count": 8,
     "metadata": {},
     "output_type": "execute_result"
    }
   ],
   "source": [
    "ams.shared.installed_solvers"
   ]
  },
  {
   "cell_type": "code",
   "execution_count": 9,
   "metadata": {},
   "outputs": [
    {
     "name": "stderr",
     "output_type": "stream",
     "text": [
      "<DCOPF> solved as optimal in 0.0110 seconds, converged in 8 iterations with CLARABEL.\n"
     ]
    },
    {
     "data": {
      "text/plain": [
       "True"
      ]
     },
     "execution_count": 9,
     "metadata": {},
     "output_type": "execute_result"
    }
   ],
   "source": [
    "sp.DCOPF.run(solver='CLARABEL')"
   ]
  },
  {
   "cell_type": "markdown",
   "metadata": {},
   "source": [
    "The solved results are stored in each variable itself.\n",
    "For example, the solved power generation of ten generators\n",
    "are stored in ``pg.v``."
   ]
  },
  {
   "cell_type": "code",
   "execution_count": 10,
   "metadata": {},
   "outputs": [
    {
     "data": {
      "text/plain": [
       "array([0.2       , 1.43998388, 0.6       , 5.76001612, 2.        ])"
      ]
     },
     "execution_count": 10,
     "metadata": {},
     "output_type": "execute_result"
    }
   ],
   "source": [
    "sp.DCOPF.pg.v"
   ]
  },
  {
   "cell_type": "markdown",
   "metadata": {},
   "source": [
    "Here, ``get_all_idxes()`` can be used to get the index of a variable."
   ]
  },
  {
   "cell_type": "code",
   "execution_count": 11,
   "metadata": {},
   "outputs": [
    {
     "data": {
      "text/plain": [
       "['PV_1', 'PV_3', 'PV_5', 'PV_2', 'Slack_4']"
      ]
     },
     "execution_count": 11,
     "metadata": {},
     "output_type": "execute_result"
    }
   ],
   "source": [
    "sp.DCOPF.pg.get_all_idxes()"
   ]
  },
  {
   "cell_type": "markdown",
   "metadata": {},
   "source": [
    "Part of the solved results can be accessed with given indices."
   ]
  },
  {
   "cell_type": "code",
   "execution_count": 12,
   "metadata": {},
   "outputs": [
    {
     "data": {
      "text/plain": [
       "array([0.2       , 1.43998388])"
      ]
     },
     "execution_count": 12,
     "metadata": {},
     "output_type": "execute_result"
    }
   ],
   "source": [
    "sp.DCOPF.get(src='pg', attr='v', idx=['PV_1', 'PV_3'])"
   ]
  },
  {
   "cell_type": "markdown",
   "metadata": {},
   "source": [
    "All Vars are listed in an OrderedDict ``vars``."
   ]
  },
  {
   "cell_type": "code",
   "execution_count": 13,
   "metadata": {},
   "outputs": [
    {
     "data": {
      "text/plain": [
       "OrderedDict([('pg', Var: StaticGen.pg),\n",
       "             ('vBus', Var: Bus.vBus),\n",
       "             ('aBus', Var: Bus.aBus)])"
      ]
     },
     "execution_count": 13,
     "metadata": {},
     "output_type": "execute_result"
    }
   ],
   "source": [
    "sp.DCOPF.vars"
   ]
  },
  {
   "cell_type": "markdown",
   "metadata": {},
   "source": [
    "The Objective value can be accessed with ``obj.v``."
   ]
  },
  {
   "cell_type": "code",
   "execution_count": 14,
   "metadata": {},
   "outputs": [
    {
     "data": {
      "text/plain": [
       "0.9585953247653323"
      ]
     },
     "execution_count": 14,
     "metadata": {},
     "output_type": "execute_result"
    }
   ],
   "source": [
    "sp.DCOPF.obj.v"
   ]
  },
  {
   "cell_type": "markdown",
   "metadata": {},
   "source": [
    "Similarly, all Constrs are listed in an OrderedDict ``constrs``,\n",
    "and the expression values can also be accessed."
   ]
  },
  {
   "cell_type": "code",
   "execution_count": 15,
   "metadata": {},
   "outputs": [
    {
     "data": {
      "text/plain": [
       "OrderedDict([('pb', Constraint: pb [ON]),\n",
       "             ('sba', Constraint: sbus [ON]),\n",
       "             ('pglb', Constraint: pglb [ON]),\n",
       "             ('pgub', Constraint: pgub [ON]),\n",
       "             ('plflb', Constraint: plflb [ON]),\n",
       "             ('plfub', Constraint: plfub [ON]),\n",
       "             ('alflb', Constraint: alflb [ON]),\n",
       "             ('alfub', Constraint: alfub [ON])])"
      ]
     },
     "execution_count": 15,
     "metadata": {},
     "output_type": "execute_result"
    }
   ],
   "source": [
    "sp.DCOPF.constrs"
   ]
  },
  {
   "cell_type": "markdown",
   "metadata": {},
   "source": [
    "We can also inspect the `Constraint` values."
   ]
  },
  {
   "cell_type": "code",
   "execution_count": 16,
   "metadata": {},
   "outputs": [
    {
     "data": {
      "text/plain": [
       "array([-3.61999194, -2.78912153, -2.17089459, -4.        , -2.43998388,\n",
       "       -1.62910541, -3.61999194])"
      ]
     },
     "execution_count": 16,
     "metadata": {},
     "output_type": "execute_result"
    }
   ],
   "source": [
    "sp.DCOPF.plflb.v"
   ]
  }
 ],
 "metadata": {
  "kernelspec": {
   "display_name": "ams",
   "language": "python",
   "name": "python3"
  },
  "language_info": {
   "codemirror_mode": {
    "name": "ipython",
    "version": 3
   },
   "file_extension": ".py",
   "mimetype": "text/x-python",
   "name": "python",
   "nbconvert_exporter": "python",
   "pygments_lexer": "ipython3",
   "version": "3.10.0"
  },
  "orig_nbformat": 4
 },
 "nbformat": 4,
 "nbformat_minor": 2
}
