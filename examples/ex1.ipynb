{
 "cells": [
  {
   "attachments": {},
   "cell_type": "markdown",
   "metadata": {},
   "source": [
    "# Simulate"
   ]
  },
  {
   "cell_type": "markdown",
   "metadata": {},
   "source": [
    "This example gives a \"hello world\" example to use AMS."
   ]
  },
  {
   "attachments": {},
   "cell_type": "markdown",
   "metadata": {},
   "source": [
    "## Import and Setting the Verbosity Level"
   ]
  },
  {
   "attachments": {},
   "cell_type": "markdown",
   "metadata": {},
   "source": [
    "We first import the `ams` library."
   ]
  },
  {
   "cell_type": "code",
   "execution_count": 1,
   "metadata": {},
   "outputs": [],
   "source": [
    "import ams\n",
    "\n",
    "import datetime"
   ]
  },
  {
   "cell_type": "code",
   "execution_count": 2,
   "metadata": {},
   "outputs": [
    {
     "name": "stdout",
     "output_type": "stream",
     "text": [
      "Last run time: 2024-11-24 17:46:14\n",
      "ams:0.9.12\n"
     ]
    }
   ],
   "source": [
    "print(\"Last run time:\", datetime.datetime.now().strftime(\"%Y-%m-%d %H:%M:%S\"))\n",
    "\n",
    "print(f'ams:{ams.__version__}')"
   ]
  },
  {
   "attachments": {},
   "cell_type": "markdown",
   "metadata": {},
   "source": [
    "We can configure the verbosity level for logging (output messages) by passing a verbosity level (10-DEBUG, 20-INFO, 30-WARNING, 40-ERROR, 50-CRITICAL) to the `stream_level` argument of `ams.main.config_logger()`. Verbose level 10 is useful for getting debug output.\n",
    "\n",
    "The logging level can be altered by calling ``config_logger`` again with new ``stream_level`` and ``file_level``."
   ]
  },
  {
   "cell_type": "code",
   "execution_count": 3,
   "metadata": {},
   "outputs": [],
   "source": [
    "ams.config_logger(stream_level=20)"
   ]
  },
  {
   "attachments": {},
   "cell_type": "markdown",
   "metadata": {},
   "source": [
    "Note that the above ``ams.config_logger()`` is a shorthand to ``ams.main.config_logger()``.\n",
    "\n",
    "If this step is omitted, the default `INFO` level (`stream_level=20`) will be used."
   ]
  },
  {
   "attachments": {},
   "cell_type": "markdown",
   "metadata": {},
   "source": [
    "## Run Simulations"
   ]
  },
  {
   "attachments": {},
   "cell_type": "markdown",
   "metadata": {},
   "source": [
    "### Load Case"
   ]
  },
  {
   "attachments": {},
   "cell_type": "markdown",
   "metadata": {},
   "source": [
    "AMS supports multiple input file formats, including AMS ``.xlsx`` file, MATPOWER ``.m`` file, PYPOWER ``.py`` file, and PSS/E ``.raw`` file.\n",
    "\n",
    "Here we use the AMS ``.xlsx`` file as an example. The source file locates at ``$HOME/ams/ams/cases/ieee39/ieee39_uced.xlsx``."
   ]
  },
  {
   "cell_type": "code",
   "execution_count": 4,
   "metadata": {},
   "outputs": [
    {
     "name": "stderr",
     "output_type": "stream",
     "text": [
      "Working directory: \"/Users/jinningwang/work/ams/examples\"\n",
      "Parsing input file \"/Users/jinningwang/work/miniconda3/envs/amsre/lib/python3.12/site-packages/ams/cases/5bus/pjm5bus_uced.xlsx\"...\n",
      "Input file parsed in 0.0231 seconds.\n",
      "Zero line rates detacted in rate_b, rate_c, adjusted to 999.\n",
      "System set up in 0.0022 seconds.\n"
     ]
    }
   ],
   "source": [
    "sp = ams.load(ams.get_case('5bus/pjm5bus_uced.xlsx'),\n",
    "              setup=True,\n",
    "              no_output=True,)"
   ]
  },
  {
   "attachments": {},
   "cell_type": "markdown",
   "metadata": {},
   "source": [
    "### Inspect Models and Routines"
   ]
  },
  {
   "attachments": {},
   "cell_type": "markdown",
   "metadata": {},
   "source": [
    "In AMS, ``model`` refers to the device-level models, and they are registered to an OrderedDict ``models``."
   ]
  },
  {
   "cell_type": "code",
   "execution_count": 5,
   "metadata": {},
   "outputs": [
    {
     "data": {
      "text/plain": [
       "OrderedDict([('Summary', Summary (3 devices) at 0x1177b4aa0),\n",
       "             ('Bus', Bus (5 devices) at 0x30dfb8260),\n",
       "             ('PQ', PQ (3 devices) at 0x30dfbbdd0),\n",
       "             ('Slack', Slack (1 device) at 0x30ecaa0c0),\n",
       "             ('PV', PV (3 devices) at 0x30f8544a0),\n",
       "             ('Shunt', Shunt (0 devices) at 0x30efc8890),\n",
       "             ('Line', Line (7 devices) at 0x30df930e0),\n",
       "             ('Jumper', Jumper (0 devices) at 0x30f855ca0),\n",
       "             ('PVD1', PVD1 (0 devices) at 0x30e3116a0),\n",
       "             ('ESD1', ESD1 (0 devices) at 0x30f8568a0),\n",
       "             ('EV1', EV1 (0 devices) at 0x30ef49370),\n",
       "             ('EV2', EV2 (0 devices) at 0x30f857350),\n",
       "             ('REGCA1', REGCA1 (0 devices) at 0x30f857770),\n",
       "             ('REGCV1', REGCV1 (0 devices) at 0x30f857ef0),\n",
       "             ('REGCV2', REGCV2 (0 devices) at 0x30f8945f0),\n",
       "             ('Area', Area (3 devices) at 0x30f894ad0),\n",
       "             ('Region', Region (2 devices) at 0x30f894fe0),\n",
       "             ('SFR', SFR (2 devices) at 0x30dfd0cb0),\n",
       "             ('SR', SR (2 devices) at 0x30c561670),\n",
       "             ('NSR', NSR (2 devices) at 0x30e9b8bf0),\n",
       "             ('VSGR', VSGR (0 devices) at 0x30f8962d0),\n",
       "             ('GCost', GCost (4 devices) at 0x30f896660),\n",
       "             ('SFRCost', SFRCost (4 devices) at 0x30f897050),\n",
       "             ('SRCost', SRCost (4 devices) at 0x30f8974d0),\n",
       "             ('NSRCost', NSRCost (4 devices) at 0x30efa8e00),\n",
       "             ('VSGCost', VSGCost (0 devices) at 0x30eca8e30),\n",
       "             ('DCost', DCost (3 devices) at 0x30ed80e60),\n",
       "             ('TimeSlot', TimeSlot (0 devices) at 0x30f8c0350),\n",
       "             ('EDTSlot', EDTSlot (24 devices) at 0x30f8c0980),\n",
       "             ('UCTSlot', UCTSlot (24 devices) at 0x30df28ec0)])"
      ]
     },
     "execution_count": 5,
     "metadata": {},
     "output_type": "execute_result"
    }
   ],
   "source": [
    "sp.models"
   ]
  },
  {
   "attachments": {},
   "cell_type": "markdown",
   "metadata": {},
   "source": [
    "One can inspect the detailed model data in the form of DataFrame."
   ]
  },
  {
   "cell_type": "code",
   "execution_count": 6,
   "metadata": {},
   "outputs": [
    {
     "data": {
      "text/html": [
       "<div>\n",
       "<style scoped>\n",
       "    .dataframe tbody tr th:only-of-type {\n",
       "        vertical-align: middle;\n",
       "    }\n",
       "\n",
       "    .dataframe tbody tr th {\n",
       "        vertical-align: top;\n",
       "    }\n",
       "\n",
       "    .dataframe thead th {\n",
       "        text-align: right;\n",
       "    }\n",
       "</style>\n",
       "<table border=\"1\" class=\"dataframe\">\n",
       "  <thead>\n",
       "    <tr style=\"text-align: right;\">\n",
       "      <th></th>\n",
       "      <th>idx</th>\n",
       "      <th>u</th>\n",
       "      <th>name</th>\n",
       "      <th>bus</th>\n",
       "      <th>Vn</th>\n",
       "      <th>p0</th>\n",
       "      <th>q0</th>\n",
       "      <th>vmax</th>\n",
       "      <th>vmin</th>\n",
       "      <th>owner</th>\n",
       "      <th>ctrl</th>\n",
       "    </tr>\n",
       "    <tr>\n",
       "      <th>uid</th>\n",
       "      <th></th>\n",
       "      <th></th>\n",
       "      <th></th>\n",
       "      <th></th>\n",
       "      <th></th>\n",
       "      <th></th>\n",
       "      <th></th>\n",
       "      <th></th>\n",
       "      <th></th>\n",
       "      <th></th>\n",
       "      <th></th>\n",
       "    </tr>\n",
       "  </thead>\n",
       "  <tbody>\n",
       "    <tr>\n",
       "      <th>0</th>\n",
       "      <td>PQ_1</td>\n",
       "      <td>1.0</td>\n",
       "      <td>PQ 1</td>\n",
       "      <td>Bus_2</td>\n",
       "      <td>230.0</td>\n",
       "      <td>3.0</td>\n",
       "      <td>0.9861</td>\n",
       "      <td>1.1</td>\n",
       "      <td>0.9</td>\n",
       "      <td>None</td>\n",
       "      <td>1.0</td>\n",
       "    </tr>\n",
       "    <tr>\n",
       "      <th>1</th>\n",
       "      <td>PQ_2</td>\n",
       "      <td>1.0</td>\n",
       "      <td>PQ 2</td>\n",
       "      <td>Bus_3</td>\n",
       "      <td>230.0</td>\n",
       "      <td>3.0</td>\n",
       "      <td>0.9861</td>\n",
       "      <td>1.1</td>\n",
       "      <td>0.9</td>\n",
       "      <td>None</td>\n",
       "      <td>1.0</td>\n",
       "    </tr>\n",
       "    <tr>\n",
       "      <th>2</th>\n",
       "      <td>PQ_3</td>\n",
       "      <td>1.0</td>\n",
       "      <td>PQ 3</td>\n",
       "      <td>Bus_4</td>\n",
       "      <td>230.0</td>\n",
       "      <td>4.0</td>\n",
       "      <td>1.3147</td>\n",
       "      <td>1.1</td>\n",
       "      <td>0.9</td>\n",
       "      <td>None</td>\n",
       "      <td>1.0</td>\n",
       "    </tr>\n",
       "  </tbody>\n",
       "</table>\n",
       "</div>"
      ],
      "text/plain": [
       "      idx    u  name    bus     Vn   p0      q0  vmax  vmin owner  ctrl\n",
       "uid                                                                    \n",
       "0    PQ_1  1.0  PQ 1  Bus_2  230.0  3.0  0.9861   1.1   0.9  None   1.0\n",
       "1    PQ_2  1.0  PQ 2  Bus_3  230.0  3.0  0.9861   1.1   0.9  None   1.0\n",
       "2    PQ_3  1.0  PQ 3  Bus_4  230.0  4.0  1.3147   1.1   0.9  None   1.0"
      ]
     },
     "execution_count": 6,
     "metadata": {},
     "output_type": "execute_result"
    }
   ],
   "source": [
    "sp.PQ.as_df()"
   ]
  },
  {
   "attachments": {},
   "cell_type": "markdown",
   "metadata": {},
   "source": [
    "In AMS, all supported routines are registered to an OrderedDict ``routines``."
   ]
  },
  {
   "cell_type": "code",
   "execution_count": 7,
   "metadata": {},
   "outputs": [
    {
     "data": {
      "text/plain": [
       "OrderedDict([('DCPF', DCPF at 0x1177b48f0),\n",
       "             ('PFlow', PFlow at 0x30f8e0e60),\n",
       "             ('CPF', CPF at 0x30f8e1850),\n",
       "             ('ACOPF', ACOPF at 0x30f917e30),\n",
       "             ('DCOPF', DCOPF at 0x30df2b6e0),\n",
       "             ('ED', ED at 0x30dfba270),\n",
       "             ('EDDG', EDDG at 0x30f9656a0),\n",
       "             ('EDES', EDES at 0x30f9672c0),\n",
       "             ('RTED', RTED at 0x30f9b18e0),\n",
       "             ('RTEDDG', RTEDDG at 0x30f9b2d20),\n",
       "             ('RTEDES', RTEDES at 0x30f9e8380),\n",
       "             ('RTEDVIS', RTEDVIS at 0x30f9ea2a0),\n",
       "             ('UC', UC at 0x30f9ebad0),\n",
       "             ('UCDG', UCDG at 0x30fa26810),\n",
       "             ('UCES', UCES at 0x30fa5c920),\n",
       "             ('DOPF', DOPF at 0x30fa5f4a0),\n",
       "             ('DOPFVIS', DOPFVIS at 0x30fa8ce30),\n",
       "             ('PFlow0', PFlow0 at 0x30fa8dca0),\n",
       "             ('DCPF0', DCPF0 at 0x30fa8e450)])"
      ]
     },
     "execution_count": 7,
     "metadata": {},
     "output_type": "execute_result"
    }
   ],
   "source": [
    "sp.routines"
   ]
  },
  {
   "attachments": {},
   "cell_type": "markdown",
   "metadata": {},
   "source": [
    "### Solve a Routine"
   ]
  },
  {
   "cell_type": "markdown",
   "metadata": {},
   "source": [
    "Before solving a routine, we need to initialize it first.\n",
    "Here Real-time Economic Dispatch (RTED) is used as an example."
   ]
  },
  {
   "cell_type": "code",
   "execution_count": 8,
   "metadata": {},
   "outputs": [
    {
     "name": "stderr",
     "output_type": "stream",
     "text": [
      "Building system matrices\n",
      "Parsing OModel for <RTED>\n",
      "Evaluating OModel for <RTED>\n",
      "Finalizing OModel for <RTED>\n",
      "<RTED> initialized in 0.0107 seconds.\n"
     ]
    },
    {
     "data": {
      "text/plain": [
       "True"
      ]
     },
     "execution_count": 8,
     "metadata": {},
     "output_type": "execute_result"
    }
   ],
   "source": [
    "sp.RTED.init()"
   ]
  },
  {
   "cell_type": "markdown",
   "metadata": {},
   "source": [
    "Then, one can solve it by calling ``run()``.\n",
    "Here, argument `solver` can be passed to specify the solver to use, such as `solver='ECOS'`.\n",
    "\n",
    "Installed solvers can be listed by ``ams.shared.installed_solvers``,\n",
    "and more detailes of solver can be found at [CVXPY-Choosing a solver](https://www.cvxpy.org/tutorial/advanced/index.html#choosing-a-solver)."
   ]
  },
  {
   "cell_type": "code",
   "execution_count": 9,
   "metadata": {},
   "outputs": [
    {
     "data": {
      "text/plain": [
       "['CLARABEL', 'ECOS', 'ECOS_BB', 'OSQP', 'SCIP', 'SCIPY', 'SCS']"
      ]
     },
     "execution_count": 9,
     "metadata": {},
     "output_type": "execute_result"
    }
   ],
   "source": [
    "ams.shared.installed_solvers"
   ]
  },
  {
   "cell_type": "code",
   "execution_count": 10,
   "metadata": {},
   "outputs": [
    {
     "name": "stderr",
     "output_type": "stream",
     "text": [
      "<RTED> solved as optimal in 0.0105 seconds, converged in 10 iterations with CLARABEL.\n"
     ]
    },
    {
     "data": {
      "text/plain": [
       "True"
      ]
     },
     "execution_count": 10,
     "metadata": {},
     "output_type": "execute_result"
    }
   ],
   "source": [
    "sp.RTED.run(solver='CLARABEL')"
   ]
  },
  {
   "cell_type": "markdown",
   "metadata": {},
   "source": [
    "The solved results are stored in each variable itself.\n",
    "For example, the solved power generation of ten generators\n",
    "are stored in ``pg.v``."
   ]
  },
  {
   "cell_type": "code",
   "execution_count": 11,
   "metadata": {},
   "outputs": [
    {
     "data": {
      "text/plain": [
       "array([2. , 2.1, 5.2, 0.7])"
      ]
     },
     "execution_count": 11,
     "metadata": {},
     "output_type": "execute_result"
    }
   ],
   "source": [
    "sp.RTED.pg.v"
   ]
  },
  {
   "cell_type": "markdown",
   "metadata": {},
   "source": [
    "Here, ``get_idx()`` can be used to get the index of a variable."
   ]
  },
  {
   "cell_type": "code",
   "execution_count": 12,
   "metadata": {},
   "outputs": [
    {
     "data": {
      "text/plain": [
       "['Slack_4', 'PV_1', 'PV_3', 'PV_5']"
      ]
     },
     "execution_count": 12,
     "metadata": {},
     "output_type": "execute_result"
    }
   ],
   "source": [
    "sp.RTED.pg.get_idx()"
   ]
  },
  {
   "cell_type": "markdown",
   "metadata": {},
   "source": [
    "Part of the solved results can be accessed with given indices."
   ]
  },
  {
   "cell_type": "code",
   "execution_count": 13,
   "metadata": {},
   "outputs": [
    {
     "data": {
      "text/plain": [
       "array([2.1, 5.2])"
      ]
     },
     "execution_count": 13,
     "metadata": {},
     "output_type": "execute_result"
    }
   ],
   "source": [
    "sp.RTED.get(src='pg', attr='v', idx=['PV_1', 'PV_3'])"
   ]
  },
  {
   "cell_type": "markdown",
   "metadata": {},
   "source": [
    "All Vars are listed in an OrderedDict ``vars``."
   ]
  },
  {
   "cell_type": "code",
   "execution_count": 14,
   "metadata": {},
   "outputs": [
    {
     "data": {
      "text/plain": [
       "OrderedDict([('pg', Var: StaticGen.pg),\n",
       "             ('aBus', Var: Bus.aBus),\n",
       "             ('pru', Var: StaticGen.pru),\n",
       "             ('prd', Var: StaticGen.prd)])"
      ]
     },
     "execution_count": 14,
     "metadata": {},
     "output_type": "execute_result"
    }
   ],
   "source": [
    "sp.RTED.vars"
   ]
  },
  {
   "cell_type": "markdown",
   "metadata": {},
   "source": [
    "The Objective value can be accessed with ``obj.v``."
   ]
  },
  {
   "cell_type": "code",
   "execution_count": 15,
   "metadata": {},
   "outputs": [
    {
     "data": {
      "text/plain": [
       "0.19537500002212937"
      ]
     },
     "execution_count": 15,
     "metadata": {},
     "output_type": "execute_result"
    }
   ],
   "source": [
    "sp.RTED.obj.v"
   ]
  },
  {
   "cell_type": "markdown",
   "metadata": {},
   "source": [
    "Similarly, all Constrs are listed in an OrderedDict ``constrs``,\n",
    "and the expression values can also be accessed."
   ]
  },
  {
   "cell_type": "code",
   "execution_count": 16,
   "metadata": {},
   "outputs": [
    {
     "data": {
      "text/plain": [
       "OrderedDict([('pb', Constraint: pb [ON]),\n",
       "             ('sba', Constraint: sbus [ON]),\n",
       "             ('pglb', Constraint: pglb [ON]),\n",
       "             ('pgub', Constraint: pgub [ON]),\n",
       "             ('plflb', Constraint: plflb [ON]),\n",
       "             ('plfub', Constraint: plfub [ON]),\n",
       "             ('alflb', Constraint: alflb [ON]),\n",
       "             ('alfub', Constraint: alfub [ON]),\n",
       "             ('rbu', Constraint: rbu [ON]),\n",
       "             ('rbd', Constraint: rbd [ON]),\n",
       "             ('rru', Constraint: rru [ON]),\n",
       "             ('rrd', Constraint: rrd [ON]),\n",
       "             ('rgu', Constraint: rgu [ON]),\n",
       "             ('rgd', Constraint: rgd [ON])])"
      ]
     },
     "execution_count": 16,
     "metadata": {},
     "output_type": "execute_result"
    }
   ],
   "source": [
    "sp.RTED.constrs"
   ]
  },
  {
   "cell_type": "markdown",
   "metadata": {},
   "source": [
    "One can also inspect the `Constraint` values."
   ]
  },
  {
   "cell_type": "code",
   "execution_count": 17,
   "metadata": {},
   "outputs": [
    {
     "data": {
      "text/plain": [
       "array([ -997.    ,  -997.9   ,  -997.0349, -1002.9651])"
      ]
     },
     "execution_count": 17,
     "metadata": {},
     "output_type": "execute_result"
    }
   ],
   "source": [
    "sp.RTED.rgu.v"
   ]
  }
 ],
 "metadata": {
  "kernelspec": {
   "display_name": "amsre",
   "language": "python",
   "name": "python3"
  },
  "language_info": {
   "codemirror_mode": {
    "name": "ipython",
    "version": 3
   },
   "file_extension": ".py",
   "mimetype": "text/x-python",
   "name": "python",
   "nbconvert_exporter": "python",
   "pygments_lexer": "ipython3",
   "version": "3.12.0"
  },
  "orig_nbformat": 4
 },
 "nbformat": 4,
 "nbformat_minor": 2
}
