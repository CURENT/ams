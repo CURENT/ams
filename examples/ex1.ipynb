{
 "cells": [
  {
   "attachments": {},
   "cell_type": "markdown",
   "metadata": {},
   "source": [
    "# Simulate"
   ]
  },
  {
   "cell_type": "markdown",
   "metadata": {},
   "source": [
    "This example gives a \"hello world\" example to use AMS."
   ]
  },
  {
   "attachments": {},
   "cell_type": "markdown",
   "metadata": {},
   "source": [
    "## Import and Setting the Verbosity Level"
   ]
  },
  {
   "attachments": {},
   "cell_type": "markdown",
   "metadata": {},
   "source": [
    "We first import the `ams` library."
   ]
  },
  {
   "cell_type": "code",
   "execution_count": 1,
   "metadata": {},
   "outputs": [],
   "source": [
    "import ams\n",
    "\n",
    "import datetime"
   ]
  },
  {
   "cell_type": "code",
   "execution_count": 2,
   "metadata": {},
   "outputs": [
    {
     "name": "stdout",
     "output_type": "stream",
     "text": [
      "Last run time: 2023-11-07 22:30:50\n",
      "ams:0.7.3.post29.dev0+g23b6565\n"
     ]
    }
   ],
   "source": [
    "print(\"Last run time:\", datetime.datetime.now().strftime(\"%Y-%m-%d %H:%M:%S\"))\n",
    "\n",
    "print(f'ams:{ams.__version__}')"
   ]
  },
  {
   "attachments": {},
   "cell_type": "markdown",
   "metadata": {},
   "source": [
    "We can configure the verbosity level for logging (output messages) by passing a verbosity level (10-DEBUG, 20-INFO, 30-WARNING, 40-ERROR, 50-CRITICAL) to the `stream_level` argument of `ams.main.config_logger()`. Verbose level 10 is useful for getting debug output.\n",
    "\n",
    "The logging level can be altered by calling ``config_logger`` again with new ``stream_level`` and ``file_level``."
   ]
  },
  {
   "cell_type": "code",
   "execution_count": 3,
   "metadata": {},
   "outputs": [],
   "source": [
    "ams.config_logger(stream_level=20)"
   ]
  },
  {
   "attachments": {},
   "cell_type": "markdown",
   "metadata": {},
   "source": [
    "Note that the above ``ams.config_logger()`` is a shorthand to ``ams.main.config_logger()``.\n",
    "\n",
    "If this step is omitted, the default `INFO` level (`stream_level=20`) will be used."
   ]
  },
  {
   "attachments": {},
   "cell_type": "markdown",
   "metadata": {},
   "source": [
    "## Run Simulations"
   ]
  },
  {
   "attachments": {},
   "cell_type": "markdown",
   "metadata": {},
   "source": [
    "### Load Case"
   ]
  },
  {
   "attachments": {},
   "cell_type": "markdown",
   "metadata": {},
   "source": [
    "AMS support multiple input file formats, including AMS ``.xlsx`` file, MATPOWER ``.m`` file, PYPOWER ``.py`` file, and PSS/E ``.raw`` file.\n",
    "\n",
    "Here we use the AMS ``.xlsx`` file as an example. The source file locates at ``$HOME/ams/ams/cases/ieee39/ieee39_uced.xlsx``."
   ]
  },
  {
   "cell_type": "code",
   "execution_count": 4,
   "metadata": {},
   "outputs": [
    {
     "name": "stderr",
     "output_type": "stream",
     "text": [
      "Parsing input file \"/Users/jinningwang/Documents/work/ams/ams/cases/ieee39/ieee39_uced.xlsx\"...\n",
      "Input file parsed in 0.1640 seconds.\n",
      "System set up in 0.0041 seconds.\n"
     ]
    }
   ],
   "source": [
    "sp = ams.load(ams.get_case('ieee39/ieee39_uced.xlsx'),\n",
    "              default_config=True,\n",
    "              setup=True)"
   ]
  },
  {
   "attachments": {},
   "cell_type": "markdown",
   "metadata": {},
   "source": [
    "### Inspect Models and Routines"
   ]
  },
  {
   "attachments": {},
   "cell_type": "markdown",
   "metadata": {},
   "source": [
    "In AMS, ``model`` refers to the device model, and all models are registered to an OrderedDict ``models``."
   ]
  },
  {
   "cell_type": "code",
   "execution_count": 5,
   "metadata": {},
   "outputs": [
    {
     "data": {
      "text/plain": [
       "OrderedDict([('Summary', Summary (3 devices) at 0x1069a7670),\n",
       "             ('Bus', Bus (39 devices) at 0x161e03850),\n",
       "             ('PQ', PQ (19 devices) at 0x161e16250),\n",
       "             ('PV', PV (9 devices) at 0x161e16790),\n",
       "             ('Slack', Slack (1 device) at 0x161e25220),\n",
       "             ('Shunt', Shunt (0 devices) at 0x161e25ca0),\n",
       "             ('Line', Line (46 devices) at 0x161e2e190),\n",
       "             ('ESD1', ESD1 (0 devices) at 0x161e3c880),\n",
       "             ('REGCV1', REGCV1 (0 devices) at 0x161e3cfa0),\n",
       "             ('Area', Area (2 devices) at 0x161e4f730),\n",
       "             ('Region', Region (2 devices) at 0x161e4feb0),\n",
       "             ('SFR', SFR (2 devices) at 0x161e5a6a0),\n",
       "             ('SR', SR (2 devices) at 0x161e5ad00),\n",
       "             ('NSR', NSR (2 devices) at 0x161e64160),\n",
       "             ('GCost', GCost (10 devices) at 0x161e64580),\n",
       "             ('SFRCost', SFRCost (10 devices) at 0x161e64c10),\n",
       "             ('SRCost', SRCost (10 devices) at 0x161e731f0),\n",
       "             ('NSRCost', NSRCost (10 devices) at 0x161e73610),\n",
       "             ('REGCV1Cost', REGCV1Cost (0 devices) at 0x161e73a30),\n",
       "             ('TimeSlot', TimeSlot (0 devices) at 0x161e73d30),\n",
       "             ('EDTSlot', EDTSlot (24 devices) at 0x161e7c9a0),\n",
       "             ('UCTSlot', UCTSlot (24 devices) at 0x161e7cd90)])"
      ]
     },
     "execution_count": 5,
     "metadata": {},
     "output_type": "execute_result"
    }
   ],
   "source": [
    "sp.models"
   ]
  },
  {
   "attachments": {},
   "cell_type": "markdown",
   "metadata": {},
   "source": [
    "One can inspect the detailed model data by converting it to a pandas DataFrame."
   ]
  },
  {
   "cell_type": "code",
   "execution_count": 6,
   "metadata": {},
   "outputs": [
    {
     "data": {
      "text/html": [
       "<div>\n",
       "<style scoped>\n",
       "    .dataframe tbody tr th:only-of-type {\n",
       "        vertical-align: middle;\n",
       "    }\n",
       "\n",
       "    .dataframe tbody tr th {\n",
       "        vertical-align: top;\n",
       "    }\n",
       "\n",
       "    .dataframe thead th {\n",
       "        text-align: right;\n",
       "    }\n",
       "</style>\n",
       "<table border=\"1\" class=\"dataframe\">\n",
       "  <thead>\n",
       "    <tr style=\"text-align: right;\">\n",
       "      <th></th>\n",
       "      <th>idx</th>\n",
       "      <th>u</th>\n",
       "      <th>name</th>\n",
       "      <th>bus</th>\n",
       "      <th>Vn</th>\n",
       "      <th>p0</th>\n",
       "      <th>q0</th>\n",
       "      <th>vmax</th>\n",
       "      <th>vmin</th>\n",
       "      <th>owner</th>\n",
       "    </tr>\n",
       "    <tr>\n",
       "      <th>uid</th>\n",
       "      <th></th>\n",
       "      <th></th>\n",
       "      <th></th>\n",
       "      <th></th>\n",
       "      <th></th>\n",
       "      <th></th>\n",
       "      <th></th>\n",
       "      <th></th>\n",
       "      <th></th>\n",
       "      <th></th>\n",
       "    </tr>\n",
       "  </thead>\n",
       "  <tbody>\n",
       "    <tr>\n",
       "      <th>0</th>\n",
       "      <td>PQ_1</td>\n",
       "      <td>1.0</td>\n",
       "      <td>PQ_1</td>\n",
       "      <td>3</td>\n",
       "      <td>345.0</td>\n",
       "      <td>6.000</td>\n",
       "      <td>2.500</td>\n",
       "      <td>1.2</td>\n",
       "      <td>0.8</td>\n",
       "      <td>1</td>\n",
       "    </tr>\n",
       "    <tr>\n",
       "      <th>1</th>\n",
       "      <td>PQ_2</td>\n",
       "      <td>1.0</td>\n",
       "      <td>PQ_2</td>\n",
       "      <td>4</td>\n",
       "      <td>345.0</td>\n",
       "      <td>4.500</td>\n",
       "      <td>1.840</td>\n",
       "      <td>1.2</td>\n",
       "      <td>0.8</td>\n",
       "      <td>1</td>\n",
       "    </tr>\n",
       "    <tr>\n",
       "      <th>2</th>\n",
       "      <td>PQ_3</td>\n",
       "      <td>1.0</td>\n",
       "      <td>PQ_3</td>\n",
       "      <td>7</td>\n",
       "      <td>345.0</td>\n",
       "      <td>2.338</td>\n",
       "      <td>0.840</td>\n",
       "      <td>1.2</td>\n",
       "      <td>0.8</td>\n",
       "      <td>1</td>\n",
       "    </tr>\n",
       "    <tr>\n",
       "      <th>3</th>\n",
       "      <td>PQ_4</td>\n",
       "      <td>1.0</td>\n",
       "      <td>PQ_4</td>\n",
       "      <td>8</td>\n",
       "      <td>345.0</td>\n",
       "      <td>5.220</td>\n",
       "      <td>1.766</td>\n",
       "      <td>1.2</td>\n",
       "      <td>0.8</td>\n",
       "      <td>1</td>\n",
       "    </tr>\n",
       "    <tr>\n",
       "      <th>4</th>\n",
       "      <td>PQ_5</td>\n",
       "      <td>1.0</td>\n",
       "      <td>PQ_5</td>\n",
       "      <td>12</td>\n",
       "      <td>138.0</td>\n",
       "      <td>1.200</td>\n",
       "      <td>0.300</td>\n",
       "      <td>1.2</td>\n",
       "      <td>0.8</td>\n",
       "      <td>1</td>\n",
       "    </tr>\n",
       "    <tr>\n",
       "      <th>5</th>\n",
       "      <td>PQ_6</td>\n",
       "      <td>1.0</td>\n",
       "      <td>PQ_6</td>\n",
       "      <td>15</td>\n",
       "      <td>345.0</td>\n",
       "      <td>3.200</td>\n",
       "      <td>1.530</td>\n",
       "      <td>1.2</td>\n",
       "      <td>0.8</td>\n",
       "      <td>1</td>\n",
       "    </tr>\n",
       "    <tr>\n",
       "      <th>6</th>\n",
       "      <td>PQ_7</td>\n",
       "      <td>1.0</td>\n",
       "      <td>PQ_7</td>\n",
       "      <td>16</td>\n",
       "      <td>345.0</td>\n",
       "      <td>3.290</td>\n",
       "      <td>0.323</td>\n",
       "      <td>1.2</td>\n",
       "      <td>0.8</td>\n",
       "      <td>1</td>\n",
       "    </tr>\n",
       "    <tr>\n",
       "      <th>7</th>\n",
       "      <td>PQ_8</td>\n",
       "      <td>1.0</td>\n",
       "      <td>PQ_8</td>\n",
       "      <td>18</td>\n",
       "      <td>345.0</td>\n",
       "      <td>1.580</td>\n",
       "      <td>0.300</td>\n",
       "      <td>1.2</td>\n",
       "      <td>0.8</td>\n",
       "      <td>1</td>\n",
       "    </tr>\n",
       "    <tr>\n",
       "      <th>8</th>\n",
       "      <td>PQ_9</td>\n",
       "      <td>1.0</td>\n",
       "      <td>PQ_9</td>\n",
       "      <td>20</td>\n",
       "      <td>138.0</td>\n",
       "      <td>6.800</td>\n",
       "      <td>1.030</td>\n",
       "      <td>1.2</td>\n",
       "      <td>0.8</td>\n",
       "      <td>1</td>\n",
       "    </tr>\n",
       "    <tr>\n",
       "      <th>9</th>\n",
       "      <td>PQ_10</td>\n",
       "      <td>1.0</td>\n",
       "      <td>PQ_10</td>\n",
       "      <td>21</td>\n",
       "      <td>345.0</td>\n",
       "      <td>2.740</td>\n",
       "      <td>1.150</td>\n",
       "      <td>1.2</td>\n",
       "      <td>0.8</td>\n",
       "      <td>1</td>\n",
       "    </tr>\n",
       "    <tr>\n",
       "      <th>10</th>\n",
       "      <td>PQ_11</td>\n",
       "      <td>1.0</td>\n",
       "      <td>PQ_11</td>\n",
       "      <td>23</td>\n",
       "      <td>345.0</td>\n",
       "      <td>2.475</td>\n",
       "      <td>0.846</td>\n",
       "      <td>1.2</td>\n",
       "      <td>0.8</td>\n",
       "      <td>1</td>\n",
       "    </tr>\n",
       "    <tr>\n",
       "      <th>11</th>\n",
       "      <td>PQ_12</td>\n",
       "      <td>1.0</td>\n",
       "      <td>PQ_12</td>\n",
       "      <td>24</td>\n",
       "      <td>345.0</td>\n",
       "      <td>3.086</td>\n",
       "      <td>-0.922</td>\n",
       "      <td>1.2</td>\n",
       "      <td>0.8</td>\n",
       "      <td>1</td>\n",
       "    </tr>\n",
       "    <tr>\n",
       "      <th>12</th>\n",
       "      <td>PQ_13</td>\n",
       "      <td>1.0</td>\n",
       "      <td>PQ_13</td>\n",
       "      <td>25</td>\n",
       "      <td>345.0</td>\n",
       "      <td>2.240</td>\n",
       "      <td>0.472</td>\n",
       "      <td>1.2</td>\n",
       "      <td>0.8</td>\n",
       "      <td>1</td>\n",
       "    </tr>\n",
       "    <tr>\n",
       "      <th>13</th>\n",
       "      <td>PQ_14</td>\n",
       "      <td>1.0</td>\n",
       "      <td>PQ_14</td>\n",
       "      <td>26</td>\n",
       "      <td>345.0</td>\n",
       "      <td>1.390</td>\n",
       "      <td>0.170</td>\n",
       "      <td>1.2</td>\n",
       "      <td>0.8</td>\n",
       "      <td>1</td>\n",
       "    </tr>\n",
       "    <tr>\n",
       "      <th>14</th>\n",
       "      <td>PQ_15</td>\n",
       "      <td>1.0</td>\n",
       "      <td>PQ_15</td>\n",
       "      <td>27</td>\n",
       "      <td>345.0</td>\n",
       "      <td>2.810</td>\n",
       "      <td>0.755</td>\n",
       "      <td>1.2</td>\n",
       "      <td>0.8</td>\n",
       "      <td>1</td>\n",
       "    </tr>\n",
       "    <tr>\n",
       "      <th>15</th>\n",
       "      <td>PQ_16</td>\n",
       "      <td>1.0</td>\n",
       "      <td>PQ_16</td>\n",
       "      <td>28</td>\n",
       "      <td>345.0</td>\n",
       "      <td>2.060</td>\n",
       "      <td>0.276</td>\n",
       "      <td>1.2</td>\n",
       "      <td>0.8</td>\n",
       "      <td>1</td>\n",
       "    </tr>\n",
       "    <tr>\n",
       "      <th>16</th>\n",
       "      <td>PQ_17</td>\n",
       "      <td>1.0</td>\n",
       "      <td>PQ_17</td>\n",
       "      <td>29</td>\n",
       "      <td>345.0</td>\n",
       "      <td>2.835</td>\n",
       "      <td>1.269</td>\n",
       "      <td>1.2</td>\n",
       "      <td>0.8</td>\n",
       "      <td>1</td>\n",
       "    </tr>\n",
       "    <tr>\n",
       "      <th>17</th>\n",
       "      <td>PQ_18</td>\n",
       "      <td>1.0</td>\n",
       "      <td>PQ_18</td>\n",
       "      <td>31</td>\n",
       "      <td>34.5</td>\n",
       "      <td>0.800</td>\n",
       "      <td>0.400</td>\n",
       "      <td>1.2</td>\n",
       "      <td>0.8</td>\n",
       "      <td>1</td>\n",
       "    </tr>\n",
       "    <tr>\n",
       "      <th>18</th>\n",
       "      <td>PQ_19</td>\n",
       "      <td>1.0</td>\n",
       "      <td>PQ_19</td>\n",
       "      <td>39</td>\n",
       "      <td>345.0</td>\n",
       "      <td>4.000</td>\n",
       "      <td>2.500</td>\n",
       "      <td>1.2</td>\n",
       "      <td>0.8</td>\n",
       "      <td>1</td>\n",
       "    </tr>\n",
       "  </tbody>\n",
       "</table>\n",
       "</div>"
      ],
      "text/plain": [
       "       idx    u   name  bus     Vn     p0     q0  vmax  vmin  owner\n",
       "uid                                                                \n",
       "0     PQ_1  1.0   PQ_1    3  345.0  6.000  2.500   1.2   0.8      1\n",
       "1     PQ_2  1.0   PQ_2    4  345.0  4.500  1.840   1.2   0.8      1\n",
       "2     PQ_3  1.0   PQ_3    7  345.0  2.338  0.840   1.2   0.8      1\n",
       "3     PQ_4  1.0   PQ_4    8  345.0  5.220  1.766   1.2   0.8      1\n",
       "4     PQ_5  1.0   PQ_5   12  138.0  1.200  0.300   1.2   0.8      1\n",
       "5     PQ_6  1.0   PQ_6   15  345.0  3.200  1.530   1.2   0.8      1\n",
       "6     PQ_7  1.0   PQ_7   16  345.0  3.290  0.323   1.2   0.8      1\n",
       "7     PQ_8  1.0   PQ_8   18  345.0  1.580  0.300   1.2   0.8      1\n",
       "8     PQ_9  1.0   PQ_9   20  138.0  6.800  1.030   1.2   0.8      1\n",
       "9    PQ_10  1.0  PQ_10   21  345.0  2.740  1.150   1.2   0.8      1\n",
       "10   PQ_11  1.0  PQ_11   23  345.0  2.475  0.846   1.2   0.8      1\n",
       "11   PQ_12  1.0  PQ_12   24  345.0  3.086 -0.922   1.2   0.8      1\n",
       "12   PQ_13  1.0  PQ_13   25  345.0  2.240  0.472   1.2   0.8      1\n",
       "13   PQ_14  1.0  PQ_14   26  345.0  1.390  0.170   1.2   0.8      1\n",
       "14   PQ_15  1.0  PQ_15   27  345.0  2.810  0.755   1.2   0.8      1\n",
       "15   PQ_16  1.0  PQ_16   28  345.0  2.060  0.276   1.2   0.8      1\n",
       "16   PQ_17  1.0  PQ_17   29  345.0  2.835  1.269   1.2   0.8      1\n",
       "17   PQ_18  1.0  PQ_18   31   34.5  0.800  0.400   1.2   0.8      1\n",
       "18   PQ_19  1.0  PQ_19   39  345.0  4.000  2.500   1.2   0.8      1"
      ]
     },
     "execution_count": 6,
     "metadata": {},
     "output_type": "execute_result"
    }
   ],
   "source": [
    "sp.PQ.as_df()"
   ]
  },
  {
   "attachments": {},
   "cell_type": "markdown",
   "metadata": {},
   "source": [
    "In AMS, all supported routines are registered to an OrderedDict ``routines``."
   ]
  },
  {
   "cell_type": "code",
   "execution_count": 7,
   "metadata": {},
   "outputs": [
    {
     "data": {
      "text/plain": [
       "OrderedDict([('DCPF', DCPF at 0x161e035e0),\n",
       "             ('PFlow', PFlow at 0x161e89a30),\n",
       "             ('CPF', CPF at 0x161e9a040),\n",
       "             ('ACOPF', ACOPF at 0x161e9a640),\n",
       "             ('DCOPF', DCOPF at 0x161eb0340),\n",
       "             ('ED', ED at 0x161eb08e0),\n",
       "             ('ED2', ED2 at 0x161ebfbb0),\n",
       "             ('RTED', RTED at 0x161ecec70),\n",
       "             ('RTED2', RTED2 at 0x162008670),\n",
       "             ('UC', UC at 0x165495a30),\n",
       "             ('UC2', UC2 at 0x1658735e0),\n",
       "             ('LDOPF', LDOPF at 0x16587ec40),\n",
       "             ('LDOPF2', LDOPF2 at 0x16588b730)])"
      ]
     },
     "execution_count": 7,
     "metadata": {},
     "output_type": "execute_result"
    }
   ],
   "source": [
    "sp.routines"
   ]
  },
  {
   "attachments": {},
   "cell_type": "markdown",
   "metadata": {},
   "source": [
    "### Solve an Routine"
   ]
  },
  {
   "cell_type": "markdown",
   "metadata": {},
   "source": [
    "Before solving an routine, we need to initialize it first.\n",
    "Here Real-time Economic Dispatch (RTED) is used as an example."
   ]
  },
  {
   "cell_type": "code",
   "execution_count": 8,
   "metadata": {},
   "outputs": [
    {
     "name": "stderr",
     "output_type": "stream",
     "text": [
      "Routine <RTED> initialized in 0.0060 seconds.\n"
     ]
    },
    {
     "data": {
      "text/plain": [
       "True"
      ]
     },
     "execution_count": 8,
     "metadata": {},
     "output_type": "execute_result"
    }
   ],
   "source": [
    "sp.RTED.init()"
   ]
  },
  {
   "cell_type": "markdown",
   "metadata": {},
   "source": [
    "Then, one can solve it by calling ``run()``.\n",
    "Here, argument `solver` can be passed to specify the solver to use, such as `solver='GUROBI'`.\n",
    "\n",
    "Installed solvers can be listed by ``ams.shared.INSTALLED_SOLVERS``,\n",
    "and more detailes of solver can be found at [CVXPY-Choosing a solver](https://www.cvxpy.org/tutorial/advanced/index.html#choosing-a-solver)."
   ]
  },
  {
   "cell_type": "code",
   "execution_count": 9,
   "metadata": {},
   "outputs": [
    {
     "name": "stderr",
     "output_type": "stream",
     "text": [
      "RTED solved as optimal in 0.0118 seconds, converged after 50 iterations using solver OSQP.\n"
     ]
    },
    {
     "data": {
      "text/plain": [
       "True"
      ]
     },
     "execution_count": 9,
     "metadata": {},
     "output_type": "execute_result"
    }
   ],
   "source": [
    "sp.RTED.run()"
   ]
  },
  {
   "cell_type": "markdown",
   "metadata": {},
   "source": [
    "The solved results are stored in each variable itself.\n",
    "For example, the solved power generation of ten generators\n",
    "are stored in ``pg.v``."
   ]
  },
  {
   "cell_type": "code",
   "execution_count": 10,
   "metadata": {},
   "outputs": [
    {
     "data": {
      "text/plain": [
       "array([6.01822025, 5.99427957, 5.97043409, 5.08      , 5.98234496,\n",
       "       5.8       , 5.64      , 6.00623798, 6.03022646, 6.04225669])"
      ]
     },
     "execution_count": 10,
     "metadata": {},
     "output_type": "execute_result"
    }
   ],
   "source": [
    "sp.RTED.pg.v"
   ]
  },
  {
   "cell_type": "markdown",
   "metadata": {},
   "source": [
    "Here, ``get_idx()`` can be used to get the index of a variable."
   ]
  },
  {
   "cell_type": "code",
   "execution_count": 11,
   "metadata": {},
   "outputs": [
    {
     "data": {
      "text/plain": [
       "['PV_30',\n",
       " 'PV_31',\n",
       " 'PV_32',\n",
       " 'PV_33',\n",
       " 'PV_34',\n",
       " 'PV_35',\n",
       " 'PV_36',\n",
       " 'PV_37',\n",
       " 'PV_38',\n",
       " 'Slack_39']"
      ]
     },
     "execution_count": 11,
     "metadata": {},
     "output_type": "execute_result"
    }
   ],
   "source": [
    "sp.RTED.pg.get_idx()"
   ]
  },
  {
   "cell_type": "markdown",
   "metadata": {},
   "source": [
    "Part of the solved results can be accessed with given indices."
   ]
  },
  {
   "cell_type": "code",
   "execution_count": 12,
   "metadata": {},
   "outputs": [
    {
     "data": {
      "text/plain": [
       "array([6.01822025, 5.99427957])"
      ]
     },
     "execution_count": 12,
     "metadata": {},
     "output_type": "execute_result"
    }
   ],
   "source": [
    "sp.RTED.get(src='pg', attr='v', idx=['PV_30', 'PV_31'])"
   ]
  },
  {
   "cell_type": "markdown",
   "metadata": {},
   "source": [
    "All variables are listed in an OrderedDict ``vars``."
   ]
  },
  {
   "cell_type": "code",
   "execution_count": 13,
   "metadata": {},
   "outputs": [
    {
     "data": {
      "text/plain": [
       "OrderedDict([('pg', Var: StaticGen.pg),\n",
       "             ('pn', Var: Bus.pn),\n",
       "             ('plf', Var: Line.plf),\n",
       "             ('pru', Var: StaticGen.pru),\n",
       "             ('prd', Var: StaticGen.prd)])"
      ]
     },
     "execution_count": 13,
     "metadata": {},
     "output_type": "execute_result"
    }
   ],
   "source": [
    "sp.RTED.vars"
   ]
  },
  {
   "cell_type": "markdown",
   "metadata": {},
   "source": [
    "The objective value can be accessed with ``obj.v``."
   ]
  },
  {
   "cell_type": "code",
   "execution_count": 14,
   "metadata": {},
   "outputs": [
    {
     "data": {
      "text/plain": [
       "592.8203580808987"
      ]
     },
     "execution_count": 14,
     "metadata": {},
     "output_type": "execute_result"
    }
   ],
   "source": [
    "sp.RTED.obj.v"
   ]
  },
  {
   "cell_type": "markdown",
   "metadata": {},
   "source": [
    "Similarly, the constraints are listed in an OrderedDict ``constrs``,\n",
    "and the expression values can also be accessed."
   ]
  },
  {
   "cell_type": "code",
   "execution_count": 15,
   "metadata": {},
   "outputs": [
    {
     "data": {
      "text/plain": [
       "OrderedDict([('pb', [ON]: sum(pl) - sum(pg) =0),\n",
       "             ('pinj', [ON]: CftT@plf - pl - pn =0),\n",
       "             ('lub', [ON]: PTDF @ (pn - pl) - rate_a <=0),\n",
       "             ('llb', [ON]: - PTDF @ (pn - pl) - rate_a <=0),\n",
       "             ('rbu', [ON]: gs @ multiply(ug, pru) - dud =0),\n",
       "             ('rbd', [ON]: gs @ multiply(ug, prd) - ddd =0),\n",
       "             ('rru', [ON]: multiply(ug, pg + pru) - pmax <=0),\n",
       "             ('rrd', [ON]: multiply(ug, -pg + prd) - pmin <=0),\n",
       "             ('rgu', [ON]: multiply(ug, pg-pg0-R10) <=0),\n",
       "             ('rgd', [ON]: multiply(ug, -pg+pg0-R10) <=0)])"
      ]
     },
     "execution_count": 15,
     "metadata": {},
     "output_type": "execute_result"
    }
   ],
   "source": [
    "sp.RTED.constrs"
   ]
  },
  {
   "cell_type": "code",
   "execution_count": 16,
   "metadata": {},
   "outputs": [
    {
     "data": {
      "text/plain": [
       "array([-99.48177975, -99.50572043, -99.52956591, -98.92      ,\n",
       "       -99.61765504, -98.8       , -98.76      , -99.49376202,\n",
       "       -99.46977354, -99.73645331])"
      ]
     },
     "execution_count": 16,
     "metadata": {},
     "output_type": "execute_result"
    }
   ],
   "source": [
    "sp.RTED.rgu.v"
   ]
  }
 ],
 "metadata": {
  "kernelspec": {
   "display_name": "ams",
   "language": "python",
   "name": "python3"
  },
  "language_info": {
   "codemirror_mode": {
    "name": "ipython",
    "version": 3
   },
   "file_extension": ".py",
   "mimetype": "text/x-python",
   "name": "python",
   "nbconvert_exporter": "python",
   "pygments_lexer": "ipython3",
   "version": "3.9.16"
  },
  "orig_nbformat": 4,
  "vscode": {
   "interpreter": {
    "hash": "d2b3bf80176349caa68dc4a3c77bd06eaade8abc678330f7d1c813c53380e5d2"
   }
  }
 },
 "nbformat": 4,
 "nbformat_minor": 2
}
