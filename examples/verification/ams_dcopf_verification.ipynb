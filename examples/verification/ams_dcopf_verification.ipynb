{
 "cells": [
  {
   "cell_type": "markdown",
   "metadata": {},
   "source": [
    "# DCOPF Verification\n",
    "\n",
    "Prepared by [Jinning Wang](https://jinningwang.github.io)."
   ]
  },
  {
   "cell_type": "markdown",
   "metadata": {},
   "source": [
    "## Conclusion\n",
    "\n",
    "For test cases, DCOPF results from AMS are identical to that from PYPOWER.\n",
    "\n",
    "NOTE: This verification works with PYPOWER ***v5.1.16***, where ***v5.1.17*** yields unexpected results."
   ]
  },
  {
   "cell_type": "code",
   "execution_count": 1,
   "metadata": {},
   "outputs": [],
   "source": [
    "import datetime\n",
    "\n",
    "import numpy as np\n",
    "import pandas as pd\n",
    "\n",
    "import ams\n",
    "import andes\n",
    "\n",
    "import pypower.api as pyp"
   ]
  },
  {
   "cell_type": "code",
   "execution_count": 2,
   "metadata": {},
   "outputs": [
    {
     "name": "stdout",
     "output_type": "stream",
     "text": [
      "Last run time: 2024-11-24 21:03:09\n",
      "ams: 0.9.12\n"
     ]
    }
   ],
   "source": [
    "print(\"Last run time:\", datetime.datetime.now().strftime(\"%Y-%m-%d %H:%M:%S\"))\n",
    "\n",
    "print(f'ams: {ams.__version__}')"
   ]
  },
  {
   "cell_type": "code",
   "execution_count": 3,
   "metadata": {},
   "outputs": [],
   "source": [
    "ams.config_logger(stream_level=30)"
   ]
  },
  {
   "cell_type": "markdown",
   "metadata": {},
   "source": [
    "## Generator Output"
   ]
  },
  {
   "cell_type": "markdown",
   "metadata": {},
   "source": [
    "Using built-in MATPOWER cases as inputs."
   ]
  },
  {
   "cell_type": "code",
   "execution_count": 4,
   "metadata": {},
   "outputs": [],
   "source": [
    "cases = [\n",
    "    ams.get_case('matpower/case14.m'),\n",
    "    ams.get_case('matpower/case39.m'),\n",
    "    ams.get_case('matpower/case118.m'),\n",
    "    ams.get_case('npcc/npcc.m'),\n",
    "    ams.get_case('wecc/wecc.m'),\n",
    "    ams.get_case('matpower/case300.m'),]\n",
    "\n",
    "case_names = [case.split('/')[-1].split('.')[0] for case in cases]"
   ]
  },
  {
   "cell_type": "code",
   "execution_count": 5,
   "metadata": {},
   "outputs": [
    {
     "name": "stderr",
     "output_type": "stream",
     "text": [
      "Building system matrices\n",
      "Parsing OModel for <DCOPF>\n",
      "Evaluating OModel for <DCOPF>\n",
      "Finalizing OModel for <DCOPF>\n",
      "<DCOPF> solved as optimal in 0.0065 seconds, converged in 11 iterations with CLARABEL.\n",
      "Building system matrices\n",
      "Parsing OModel for <DCOPF>\n",
      "Evaluating OModel for <DCOPF>\n",
      "Finalizing OModel for <DCOPF>\n",
      "<DCOPF> solved as optimal in 0.0077 seconds, converged in 8 iterations with CLARABEL.\n",
      "Building system matrices\n",
      "Parsing OModel for <DCOPF>\n",
      "Evaluating OModel for <DCOPF>\n",
      "Finalizing OModel for <DCOPF>\n",
      "<DCOPF> solved as optimal in 0.0144 seconds, converged in 11 iterations with CLARABEL.\n",
      "Building system matrices\n",
      "Parsing OModel for <DCOPF>\n",
      "Evaluating OModel for <DCOPF>\n",
      "Finalizing OModel for <DCOPF>\n",
      "<DCOPF> solved as optimal in 0.0164 seconds, converged in 12 iterations with CLARABEL.\n",
      "Building system matrices\n",
      "Parsing OModel for <DCOPF>\n",
      "Evaluating OModel for <DCOPF>\n",
      "Finalizing OModel for <DCOPF>\n",
      "<DCOPF> solved as optimal in 0.0160 seconds, converged in 12 iterations with CLARABEL.\n",
      "Building system matrices\n",
      "Parsing OModel for <DCOPF>\n",
      "Evaluating OModel for <DCOPF>\n",
      "Finalizing OModel for <DCOPF>\n",
      "<DCOPF> solved as optimal in 0.0226 seconds, converged in 13 iterations with CLARABEL.\n"
     ]
    }
   ],
   "source": [
    "ams_obj = np.zeros(len(cases))\n",
    "pyp_obj = np.zeros(len(cases))\n",
    "\n",
    "for i, case in enumerate(cases):\n",
    "    sp = ams.load(case, setup=True)\n",
    "    sp.DCOPF.init()\n",
    "    sp.DCOPF.run(solver='CLARABEL')\n",
    "    ams_obj[i] = sp.DCOPF.obj.v\n",
    "\n",
    "    ppc = ams.io.pypower.system2ppc(sp)\n",
    "    ppopt = pyp.ppoption(VERBOSE=0, OUT_ALL=0, PF_ALG=1, OPF_ALG_DC=200)\n",
    "    ppc_sol = pyp.rundcopf(ppc, ppopt)\n",
    "    pyp_obj[i] = ppc_sol['f']"
   ]
  },
  {
   "cell_type": "code",
   "execution_count": 6,
   "metadata": {},
   "outputs": [
    {
     "data": {
      "text/plain": [
       "True"
      ]
     },
     "execution_count": 6,
     "metadata": {},
     "output_type": "execute_result"
    }
   ],
   "source": [
    "np.allclose(ams_obj, pyp_obj, atol=1e-6)"
   ]
  },
  {
   "cell_type": "markdown",
   "metadata": {},
   "source": [
    "## LMP"
   ]
  },
  {
   "cell_type": "code",
   "execution_count": 7,
   "metadata": {},
   "outputs": [],
   "source": [
    "sp2 = ams.load(ams.get_case('pglib/pglib_opf_case39_epri__api.m'),\n",
    "               setup=True,\n",
    "               no_output=True,\n",
    "               default_config=True)"
   ]
  },
  {
   "cell_type": "code",
   "execution_count": 8,
   "metadata": {},
   "outputs": [
    {
     "name": "stderr",
     "output_type": "stream",
     "text": [
      "Building system matrices\n",
      "Parsing OModel for <DCOPF>\n",
      "Evaluating OModel for <DCOPF>\n",
      "Finalizing OModel for <DCOPF>\n",
      "<DCOPF> solved as optimal in 0.0072 seconds, converged in 13 iterations with CLARABEL.\n"
     ]
    },
    {
     "data": {
      "text/plain": [
       "True"
      ]
     },
     "execution_count": 8,
     "metadata": {},
     "output_type": "execute_result"
    }
   ],
   "source": [
    "sp2.DCOPF.run(solver='CLARABEL')"
   ]
  },
  {
   "cell_type": "code",
   "execution_count": 9,
   "metadata": {},
   "outputs": [],
   "source": [
    "ppc2 = ams.io.pypower.system2ppc(sp2)\n",
    "ppc2_sol = pyp.rundcopf(ppc2, ppopt)"
   ]
  },
  {
   "cell_type": "markdown",
   "metadata": {},
   "source": [
    "Nodal price"
   ]
  },
  {
   "cell_type": "code",
   "execution_count": 10,
   "metadata": {},
   "outputs": [
    {
     "data": {
      "text/plain": [
       "True"
      ]
     },
     "execution_count": 10,
     "metadata": {},
     "output_type": "execute_result"
    }
   ],
   "source": [
    "np.allclose(sp2.DCOPF.pi.v / sp2.config.mva,\n",
    "            ppc2_sol['bus'][:, 13],\n",
    "            atol=1e-6)"
   ]
  },
  {
   "cell_type": "markdown",
   "metadata": {},
   "source": [
    "Bus angle"
   ]
  },
  {
   "cell_type": "code",
   "execution_count": 11,
   "metadata": {},
   "outputs": [
    {
     "data": {
      "text/plain": [
       "True"
      ]
     },
     "execution_count": 11,
     "metadata": {},
     "output_type": "execute_result"
    }
   ],
   "source": [
    "np.allclose(sp2.DCOPF.aBus.v * andes.shared.rad2deg,\n",
    "            ppc2_sol['bus'][:, 8],\n",
    "            atol=1e-6)"
   ]
  },
  {
   "cell_type": "code",
   "execution_count": 12,
   "metadata": {},
   "outputs": [
    {
     "data": {
      "text/html": [
       "<div>\n",
       "<style scoped>\n",
       "    .dataframe tbody tr th:only-of-type {\n",
       "        vertical-align: middle;\n",
       "    }\n",
       "\n",
       "    .dataframe tbody tr th {\n",
       "        vertical-align: top;\n",
       "    }\n",
       "\n",
       "    .dataframe thead th {\n",
       "        text-align: right;\n",
       "    }\n",
       "</style>\n",
       "<table border=\"1\" class=\"dataframe\">\n",
       "  <thead>\n",
       "    <tr style=\"text-align: right;\">\n",
       "      <th></th>\n",
       "      <th>ams_LMP</th>\n",
       "      <th>pyp_LMP</th>\n",
       "      <th>ams_aBus</th>\n",
       "      <th>pyp_aBus</th>\n",
       "    </tr>\n",
       "  </thead>\n",
       "  <tbody>\n",
       "    <tr>\n",
       "      <th>0</th>\n",
       "      <td>29.9988</td>\n",
       "      <td>29.9988</td>\n",
       "      <td>-25.6184</td>\n",
       "      <td>-25.6184</td>\n",
       "    </tr>\n",
       "    <tr>\n",
       "      <th>1</th>\n",
       "      <td>34.2147</td>\n",
       "      <td>34.2147</td>\n",
       "      <td>-26.8519</td>\n",
       "      <td>-26.8519</td>\n",
       "    </tr>\n",
       "    <tr>\n",
       "      <th>2</th>\n",
       "      <td>35.6012</td>\n",
       "      <td>35.6012</td>\n",
       "      <td>-30.4965</td>\n",
       "      <td>-30.4965</td>\n",
       "    </tr>\n",
       "    <tr>\n",
       "      <th>3</th>\n",
       "      <td>38.1542</td>\n",
       "      <td>38.1542</td>\n",
       "      <td>-28.8548</td>\n",
       "      <td>-28.8548</td>\n",
       "    </tr>\n",
       "    <tr>\n",
       "      <th>4</th>\n",
       "      <td>20.1311</td>\n",
       "      <td>20.1311</td>\n",
       "      <td>-24.4545</td>\n",
       "      <td>-24.4545</td>\n",
       "    </tr>\n",
       "    <tr>\n",
       "      <th>5</th>\n",
       "      <td>20.9823</td>\n",
       "      <td>20.9823</td>\n",
       "      <td>-22.9110</td>\n",
       "      <td>-22.9110</td>\n",
       "    </tr>\n",
       "    <tr>\n",
       "      <th>6</th>\n",
       "      <td>21.0918</td>\n",
       "      <td>21.0918</td>\n",
       "      <td>-26.4821</td>\n",
       "      <td>-26.4821</td>\n",
       "    </tr>\n",
       "    <tr>\n",
       "      <th>7</th>\n",
       "      <td>21.1466</td>\n",
       "      <td>21.1466</td>\n",
       "      <td>-27.2531</td>\n",
       "      <td>-27.2531</td>\n",
       "    </tr>\n",
       "    <tr>\n",
       "      <th>8</th>\n",
       "      <td>24.8701</td>\n",
       "      <td>24.8701</td>\n",
       "      <td>-24.5329</td>\n",
       "      <td>-24.5329</td>\n",
       "    </tr>\n",
       "    <tr>\n",
       "      <th>9</th>\n",
       "      <td>24.8047</td>\n",
       "      <td>24.8047</td>\n",
       "      <td>-21.2851</td>\n",
       "      <td>-21.2851</td>\n",
       "    </tr>\n",
       "    <tr>\n",
       "      <th>10</th>\n",
       "      <td>23.5694</td>\n",
       "      <td>23.5694</td>\n",
       "      <td>-21.8833</td>\n",
       "      <td>-21.8833</td>\n",
       "    </tr>\n",
       "    <tr>\n",
       "      <th>11</th>\n",
       "      <td>24.8047</td>\n",
       "      <td>24.8047</td>\n",
       "      <td>-22.4869</td>\n",
       "      <td>-22.4869</td>\n",
       "    </tr>\n",
       "    <tr>\n",
       "      <th>12</th>\n",
       "      <td>26.0400</td>\n",
       "      <td>26.0400</td>\n",
       "      <td>-22.7386</td>\n",
       "      <td>-22.7386</td>\n",
       "    </tr>\n",
       "    <tr>\n",
       "      <th>13</th>\n",
       "      <td>34.3071</td>\n",
       "      <td>34.3071</td>\n",
       "      <td>-26.2107</td>\n",
       "      <td>-26.2107</td>\n",
       "    </tr>\n",
       "    <tr>\n",
       "      <th>14</th>\n",
       "      <td>34.6822</td>\n",
       "      <td>34.6822</td>\n",
       "      <td>-29.2227</td>\n",
       "      <td>-29.2227</td>\n",
       "    </tr>\n",
       "    <tr>\n",
       "      <th>15</th>\n",
       "      <td>34.8446</td>\n",
       "      <td>34.8446</td>\n",
       "      <td>-27.6899</td>\n",
       "      <td>-27.6899</td>\n",
       "    </tr>\n",
       "    <tr>\n",
       "      <th>16</th>\n",
       "      <td>34.9985</td>\n",
       "      <td>34.9985</td>\n",
       "      <td>-29.5901</td>\n",
       "      <td>-29.5901</td>\n",
       "    </tr>\n",
       "    <tr>\n",
       "      <th>17</th>\n",
       "      <td>35.2283</td>\n",
       "      <td>35.2283</td>\n",
       "      <td>-30.6918</td>\n",
       "      <td>-30.6918</td>\n",
       "    </tr>\n",
       "    <tr>\n",
       "      <th>18</th>\n",
       "      <td>34.8446</td>\n",
       "      <td>34.8446</td>\n",
       "      <td>-21.3650</td>\n",
       "      <td>-21.3650</td>\n",
       "    </tr>\n",
       "    <tr>\n",
       "      <th>19</th>\n",
       "      <td>34.8446</td>\n",
       "      <td>34.8446</td>\n",
       "      <td>-23.3981</td>\n",
       "      <td>-23.3981</td>\n",
       "    </tr>\n",
       "    <tr>\n",
       "      <th>20</th>\n",
       "      <td>34.8446</td>\n",
       "      <td>34.8446</td>\n",
       "      <td>-24.2513</td>\n",
       "      <td>-24.2513</td>\n",
       "    </tr>\n",
       "    <tr>\n",
       "      <th>21</th>\n",
       "      <td>34.8446</td>\n",
       "      <td>34.8446</td>\n",
       "      <td>-17.0667</td>\n",
       "      <td>-17.0667</td>\n",
       "    </tr>\n",
       "    <tr>\n",
       "      <th>22</th>\n",
       "      <td>34.8446</td>\n",
       "      <td>34.8446</td>\n",
       "      <td>-17.0905</td>\n",
       "      <td>-17.0905</td>\n",
       "    </tr>\n",
       "    <tr>\n",
       "      <th>23</th>\n",
       "      <td>34.8446</td>\n",
       "      <td>34.8446</td>\n",
       "      <td>-27.0536</td>\n",
       "      <td>-27.0536</td>\n",
       "    </tr>\n",
       "    <tr>\n",
       "      <th>24</th>\n",
       "      <td>34.3071</td>\n",
       "      <td>34.3071</td>\n",
       "      <td>-25.0737</td>\n",
       "      <td>-25.0737</td>\n",
       "    </tr>\n",
       "    <tr>\n",
       "      <th>25</th>\n",
       "      <td>34.6544</td>\n",
       "      <td>34.6544</td>\n",
       "      <td>-28.2256</td>\n",
       "      <td>-28.2256</td>\n",
       "    </tr>\n",
       "    <tr>\n",
       "      <th>26</th>\n",
       "      <td>34.8125</td>\n",
       "      <td>34.8125</td>\n",
       "      <td>-30.9591</td>\n",
       "      <td>-30.9591</td>\n",
       "    </tr>\n",
       "    <tr>\n",
       "      <th>27</th>\n",
       "      <td>34.6544</td>\n",
       "      <td>34.6544</td>\n",
       "      <td>-24.1366</td>\n",
       "      <td>-24.1366</td>\n",
       "    </tr>\n",
       "    <tr>\n",
       "      <th>28</th>\n",
       "      <td>34.6544</td>\n",
       "      <td>34.6544</td>\n",
       "      <td>-19.8996</td>\n",
       "      <td>-19.8996</td>\n",
       "    </tr>\n",
       "    <tr>\n",
       "      <th>29</th>\n",
       "      <td>34.2147</td>\n",
       "      <td>34.2147</td>\n",
       "      <td>-26.7668</td>\n",
       "      <td>-26.7668</td>\n",
       "    </tr>\n",
       "    <tr>\n",
       "      <th>30</th>\n",
       "      <td>20.9823</td>\n",
       "      <td>20.9823</td>\n",
       "      <td>0.0000</td>\n",
       "      <td>0.0000</td>\n",
       "    </tr>\n",
       "    <tr>\n",
       "      <th>31</th>\n",
       "      <td>24.8047</td>\n",
       "      <td>24.8047</td>\n",
       "      <td>-11.0741</td>\n",
       "      <td>-11.0741</td>\n",
       "    </tr>\n",
       "    <tr>\n",
       "      <th>32</th>\n",
       "      <td>34.8446</td>\n",
       "      <td>34.8446</td>\n",
       "      <td>-14.3249</td>\n",
       "      <td>-14.3249</td>\n",
       "    </tr>\n",
       "    <tr>\n",
       "      <th>33</th>\n",
       "      <td>34.8446</td>\n",
       "      <td>34.8446</td>\n",
       "      <td>-14.2720</td>\n",
       "      <td>-14.2720</td>\n",
       "    </tr>\n",
       "    <tr>\n",
       "      <th>34</th>\n",
       "      <td>32.3065</td>\n",
       "      <td>32.3065</td>\n",
       "      <td>-9.5084</td>\n",
       "      <td>-9.5084</td>\n",
       "    </tr>\n",
       "    <tr>\n",
       "      <th>35</th>\n",
       "      <td>18.1575</td>\n",
       "      <td>18.1575</td>\n",
       "      <td>-3.0644</td>\n",
       "      <td>-3.0644</td>\n",
       "    </tr>\n",
       "    <tr>\n",
       "      <th>36</th>\n",
       "      <td>31.5502</td>\n",
       "      <td>31.5502</td>\n",
       "      <td>-12.8112</td>\n",
       "      <td>-12.8112</td>\n",
       "    </tr>\n",
       "    <tr>\n",
       "      <th>37</th>\n",
       "      <td>34.6544</td>\n",
       "      <td>34.6544</td>\n",
       "      <td>-9.0065</td>\n",
       "      <td>-9.0065</td>\n",
       "    </tr>\n",
       "    <tr>\n",
       "      <th>38</th>\n",
       "      <td>27.4344</td>\n",
       "      <td>27.4344</td>\n",
       "      <td>-22.5664</td>\n",
       "      <td>-22.5664</td>\n",
       "    </tr>\n",
       "  </tbody>\n",
       "</table>\n",
       "</div>"
      ],
      "text/plain": [
       "    ams_LMP  pyp_LMP  ams_aBus  pyp_aBus\n",
       "0   29.9988  29.9988  -25.6184  -25.6184\n",
       "1   34.2147  34.2147  -26.8519  -26.8519\n",
       "2   35.6012  35.6012  -30.4965  -30.4965\n",
       "3   38.1542  38.1542  -28.8548  -28.8548\n",
       "4   20.1311  20.1311  -24.4545  -24.4545\n",
       "5   20.9823  20.9823  -22.9110  -22.9110\n",
       "6   21.0918  21.0918  -26.4821  -26.4821\n",
       "7   21.1466  21.1466  -27.2531  -27.2531\n",
       "8   24.8701  24.8701  -24.5329  -24.5329\n",
       "9   24.8047  24.8047  -21.2851  -21.2851\n",
       "10  23.5694  23.5694  -21.8833  -21.8833\n",
       "11  24.8047  24.8047  -22.4869  -22.4869\n",
       "12  26.0400  26.0400  -22.7386  -22.7386\n",
       "13  34.3071  34.3071  -26.2107  -26.2107\n",
       "14  34.6822  34.6822  -29.2227  -29.2227\n",
       "15  34.8446  34.8446  -27.6899  -27.6899\n",
       "16  34.9985  34.9985  -29.5901  -29.5901\n",
       "17  35.2283  35.2283  -30.6918  -30.6918\n",
       "18  34.8446  34.8446  -21.3650  -21.3650\n",
       "19  34.8446  34.8446  -23.3981  -23.3981\n",
       "20  34.8446  34.8446  -24.2513  -24.2513\n",
       "21  34.8446  34.8446  -17.0667  -17.0667\n",
       "22  34.8446  34.8446  -17.0905  -17.0905\n",
       "23  34.8446  34.8446  -27.0536  -27.0536\n",
       "24  34.3071  34.3071  -25.0737  -25.0737\n",
       "25  34.6544  34.6544  -28.2256  -28.2256\n",
       "26  34.8125  34.8125  -30.9591  -30.9591\n",
       "27  34.6544  34.6544  -24.1366  -24.1366\n",
       "28  34.6544  34.6544  -19.8996  -19.8996\n",
       "29  34.2147  34.2147  -26.7668  -26.7668\n",
       "30  20.9823  20.9823    0.0000    0.0000\n",
       "31  24.8047  24.8047  -11.0741  -11.0741\n",
       "32  34.8446  34.8446  -14.3249  -14.3249\n",
       "33  34.8446  34.8446  -14.2720  -14.2720\n",
       "34  32.3065  32.3065   -9.5084   -9.5084\n",
       "35  18.1575  18.1575   -3.0644   -3.0644\n",
       "36  31.5502  31.5502  -12.8112  -12.8112\n",
       "37  34.6544  34.6544   -9.0065   -9.0065\n",
       "38  27.4344  27.4344  -22.5664  -22.5664"
      ]
     },
     "execution_count": 12,
     "metadata": {},
     "output_type": "execute_result"
    }
   ],
   "source": [
    "pd.DataFrame({'ams_LMP': sp2.DCOPF.pi.v / sp2.config.mva,\n",
    "              'pyp_LMP': ppc2_sol['bus'][:, 13],\n",
    "              'ams_aBus': sp2.DCOPF.aBus.v * andes.shared.rad2deg,\n",
    "              'pyp_aBus': ppc2_sol['bus'][:, 8]}).round(4)"
   ]
  }
 ],
 "metadata": {
  "kernelspec": {
   "display_name": "amsre",
   "language": "python",
   "name": "python3"
  },
  "language_info": {
   "codemirror_mode": {
    "name": "ipython",
    "version": 3
   },
   "file_extension": ".py",
   "mimetype": "text/x-python",
   "name": "python",
   "nbconvert_exporter": "python",
   "pygments_lexer": "ipython3",
   "version": "3.12.0"
  },
  "orig_nbformat": 4
 },
 "nbformat": 4,
 "nbformat_minor": 2
}
