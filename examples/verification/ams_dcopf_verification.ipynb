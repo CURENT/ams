{
 "cells": [
  {
   "cell_type": "markdown",
   "metadata": {},
   "source": [
    "# DCOPF Verification\n",
    "\n",
    "Prepared by [Jinning Wang](https://jinningwang.github.io)."
   ]
  },
  {
   "cell_type": "markdown",
   "metadata": {},
   "source": [
    "## Conclusion\n",
    "\n",
    "For test cases, DCOPF results from AMS are identical to that from MATPOWER."
   ]
  },
  {
   "cell_type": "code",
   "execution_count": 1,
   "metadata": {},
   "outputs": [],
   "source": [
    "import datetime\n",
    "\n",
    "import numpy as np\n",
    "import pandas as pd\n",
    "\n",
    "import ams"
   ]
  },
  {
   "cell_type": "code",
   "execution_count": 2,
   "metadata": {},
   "outputs": [
    {
     "name": "stdout",
     "output_type": "stream",
     "text": [
      "Last run time: 2024-03-02 16:57:25\n",
      "ams: 0.9.1\n"
     ]
    }
   ],
   "source": [
    "print(\"Last run time:\", datetime.datetime.now().strftime(\"%Y-%m-%d %H:%M:%S\"))\n",
    "\n",
    "print(f'ams: {ams.__version__}')"
   ]
  },
  {
   "cell_type": "markdown",
   "metadata": {},
   "source": [
    "Using built-in MATPOWER cases as inputs."
   ]
  },
  {
   "cell_type": "code",
   "execution_count": 3,
   "metadata": {},
   "outputs": [],
   "source": [
    "cases = [\n",
    "    ams.get_case('matpower/case14.m'),\n",
    "    ams.get_case('matpower/case39.m'),\n",
    "    ams.get_case('matpower/case118.m'),\n",
    "    ams.get_case('npcc/npcc.m'),\n",
    "    ams.get_case('wecc/wecc.m'),\n",
    "    ams.get_case('matpower/case300.m'),]\n",
    "\n",
    "case_names = [case.split('/')[-1].split('.')[0] for case in cases]"
   ]
  },
  {
   "cell_type": "code",
   "execution_count": 4,
   "metadata": {},
   "outputs": [],
   "source": [
    "ams_obj = np.zeros(len(cases))\n",
    "\n",
    "for i, case in enumerate(cases):\n",
    "    sp = ams.load(case, setup=True)\n",
    "    sp.DCOPF.init()\n",
    "    sp.DCOPF.solve(solver='ECOS')\n",
    "    ams_obj[i] = sp.DCOPF.obj.v"
   ]
  },
  {
   "cell_type": "markdown",
   "metadata": {},
   "source": [
    "Following MATPOWER results are obtained using MATPOWER 8.0b1 and Matlab R2023b."
   ]
  },
  {
   "cell_type": "code",
   "execution_count": 5,
   "metadata": {},
   "outputs": [],
   "source": [
    "mp_obj = np.array([7642.59177699,  41263.94078588,\n",
    "                   125947.8814179, 705667.88555058,\n",
    "                   348228.35589771, 706292.32424361])"
   ]
  },
  {
   "cell_type": "code",
   "execution_count": 6,
   "metadata": {},
   "outputs": [
    {
     "data": {
      "text/html": [
       "<div>\n",
       "<style scoped>\n",
       "    .dataframe tbody tr th:only-of-type {\n",
       "        vertical-align: middle;\n",
       "    }\n",
       "\n",
       "    .dataframe tbody tr th {\n",
       "        vertical-align: top;\n",
       "    }\n",
       "\n",
       "    .dataframe thead th {\n",
       "        text-align: right;\n",
       "    }\n",
       "</style>\n",
       "<table border=\"1\" class=\"dataframe\">\n",
       "  <thead>\n",
       "    <tr style=\"text-align: right;\">\n",
       "      <th></th>\n",
       "      <th>AMS</th>\n",
       "      <th>MATPOWER</th>\n",
       "    </tr>\n",
       "  </thead>\n",
       "  <tbody>\n",
       "    <tr>\n",
       "      <th>case14</th>\n",
       "      <td>7642.591787</td>\n",
       "      <td>7642.591777</td>\n",
       "    </tr>\n",
       "    <tr>\n",
       "      <th>case39</th>\n",
       "      <td>41263.942507</td>\n",
       "      <td>41263.940786</td>\n",
       "    </tr>\n",
       "    <tr>\n",
       "      <th>case118</th>\n",
       "      <td>125947.880575</td>\n",
       "      <td>125947.881418</td>\n",
       "    </tr>\n",
       "    <tr>\n",
       "      <th>npcc</th>\n",
       "      <td>705667.885563</td>\n",
       "      <td>705667.885551</td>\n",
       "    </tr>\n",
       "    <tr>\n",
       "      <th>wecc</th>\n",
       "      <td>348228.355882</td>\n",
       "      <td>348228.355898</td>\n",
       "    </tr>\n",
       "    <tr>\n",
       "      <th>case300</th>\n",
       "      <td>706292.325366</td>\n",
       "      <td>706292.324244</td>\n",
       "    </tr>\n",
       "  </tbody>\n",
       "</table>\n",
       "</div>"
      ],
      "text/plain": [
       "                   AMS       MATPOWER\n",
       "case14     7642.591787    7642.591777\n",
       "case39    41263.942507   41263.940786\n",
       "case118  125947.880575  125947.881418\n",
       "npcc     705667.885563  705667.885551\n",
       "wecc     348228.355882  348228.355898\n",
       "case300  706292.325366  706292.324244"
      ]
     },
     "execution_count": 6,
     "metadata": {},
     "output_type": "execute_result"
    }
   ],
   "source": [
    "res = pd.DataFrame({'AMS': ams_obj, 'MATPOWER': mp_obj},\n",
    "                   index=case_names)\n",
    "res"
   ]
  }
 ],
 "metadata": {
  "kernelspec": {
   "display_name": "ams",
   "language": "python",
   "name": "python3"
  },
  "language_info": {
   "codemirror_mode": {
    "name": "ipython",
    "version": 3
   },
   "file_extension": ".py",
   "mimetype": "text/x-python",
   "name": "python",
   "nbconvert_exporter": "python",
   "pygments_lexer": "ipython3",
   "version": "3.9.18"
  },
  "orig_nbformat": 4,
  "vscode": {
   "interpreter": {
    "hash": "d2b3bf80176349caa68dc4a3c77bd06eaade8abc678330f7d1c813c53380e5d2"
   }
  }
 },
 "nbformat": 4,
 "nbformat_minor": 2
}
