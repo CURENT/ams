{
 "cells": [
  {
   "cell_type": "markdown",
   "metadata": {},
   "source": [
    "# DCOPF Verification\n",
    "\n",
    "Prepared by [Jinning Wang](https://jinningwang.github.io)."
   ]
  },
  {
   "cell_type": "markdown",
   "metadata": {},
   "source": [
    "## Conclusion\n",
    "\n",
    "For test cases, DCOPF results from AMS are identical to that from MATPOWER."
   ]
  },
  {
   "cell_type": "code",
   "execution_count": 1,
   "metadata": {},
   "outputs": [],
   "source": [
    "import datetime\n",
    "\n",
    "import numpy as np\n",
    "\n",
    "import ams\n",
    "import andes\n",
    "\n",
    "import pypower.api as pyp"
   ]
  },
  {
   "cell_type": "code",
   "execution_count": 2,
   "metadata": {},
   "outputs": [
    {
     "name": "stdout",
     "output_type": "stream",
     "text": [
      "Last run time: 2024-03-25 21:12:07\n",
      "ams: 0.9.4.post35.dev0+g2a7bc56\n"
     ]
    }
   ],
   "source": [
    "print(\"Last run time:\", datetime.datetime.now().strftime(\"%Y-%m-%d %H:%M:%S\"))\n",
    "\n",
    "print(f'ams: {ams.__version__}')"
   ]
  },
  {
   "cell_type": "code",
   "execution_count": 3,
   "metadata": {},
   "outputs": [],
   "source": [
    "ams.config_logger(stream_level=30)"
   ]
  },
  {
   "cell_type": "markdown",
   "metadata": {},
   "source": [
    "## Generator Output"
   ]
  },
  {
   "cell_type": "markdown",
   "metadata": {},
   "source": [
    "Using built-in MATPOWER cases as inputs."
   ]
  },
  {
   "cell_type": "code",
   "execution_count": 4,
   "metadata": {},
   "outputs": [],
   "source": [
    "cases = [\n",
    "    ams.get_case('matpower/case14.m'),\n",
    "    ams.get_case('matpower/case39.m'),\n",
    "    ams.get_case('matpower/case118.m'),\n",
    "    ams.get_case('npcc/npcc.m'),\n",
    "    ams.get_case('wecc/wecc.m'),\n",
    "    ams.get_case('matpower/case300.m'),]\n",
    "\n",
    "case_names = [case.split('/')[-1].split('.')[0] for case in cases]"
   ]
  },
  {
   "cell_type": "code",
   "execution_count": 5,
   "metadata": {},
   "outputs": [
    {
     "name": "stderr",
     "output_type": "stream",
     "text": [
      "<DCOPF> solved as optimal in 0.0100 seconds, converged in 13 iterations with ECOS.\n",
      "<DCOPF> solved as optimal in 0.0143 seconds, converged in 17 iterations with ECOS.\n",
      "<DCOPF> solved as optimal in 0.0219 seconds, converged in 15 iterations with ECOS.\n",
      "<DCOPF> solved as optimal in 0.0236 seconds, converged in 17 iterations with ECOS.\n",
      "<DCOPF> solved as optimal in 0.0198 seconds, converged in 17 iterations with ECOS.\n",
      "<DCOPF> solved as optimal in 0.0348 seconds, converged in 17 iterations with ECOS.\n"
     ]
    }
   ],
   "source": [
    "ams_obj = np.zeros(len(cases))\n",
    "pyp_obj = np.zeros(len(cases))\n",
    "\n",
    "for i, case in enumerate(cases):\n",
    "    sp = ams.load(case, setup=True)\n",
    "    sp.DCOPF.init()\n",
    "    sp.DCOPF.run(solver='ECOS')\n",
    "    ams_obj[i] = sp.DCOPF.obj.v\n",
    "\n",
    "    ppc = ams.io.pypower.system2ppc(sp)\n",
    "    ppopt = pyp.ppoption(VERBOSE=0, OUT_ALL=0, PF_ALG=1, OPF_ALG_DC=200)\n",
    "    ppc_sol = pyp.rundcopf(ppc, ppopt)\n",
    "    pyp_obj[i] = ppc_sol['f']"
   ]
  },
  {
   "cell_type": "code",
   "execution_count": 6,
   "metadata": {},
   "outputs": [
    {
     "data": {
      "text/plain": [
       "True"
      ]
     },
     "execution_count": 6,
     "metadata": {},
     "output_type": "execute_result"
    }
   ],
   "source": [
    "np.allclose(ams_obj, pyp_obj, atol=1e-6)"
   ]
  },
  {
   "cell_type": "markdown",
   "metadata": {},
   "source": [
    "## LMP"
   ]
  },
  {
   "cell_type": "code",
   "execution_count": 7,
   "metadata": {},
   "outputs": [],
   "source": [
    "sp2 = ams.load(ams.get_case('pglib/pglib_opf_case39_epri__api.m'),\n",
    "               setup=True,\n",
    "               no_output=True,\n",
    "               default_config=True)"
   ]
  },
  {
   "cell_type": "code",
   "execution_count": 8,
   "metadata": {},
   "outputs": [
    {
     "name": "stderr",
     "output_type": "stream",
     "text": [
      "<DCOPF> solved as optimal in 0.0125 seconds, converged in 14 iterations with ECOS.\n"
     ]
    },
    {
     "data": {
      "text/plain": [
       "True"
      ]
     },
     "execution_count": 8,
     "metadata": {},
     "output_type": "execute_result"
    }
   ],
   "source": [
    "sp2.DCOPF.run(solver='ECOS')"
   ]
  },
  {
   "cell_type": "code",
   "execution_count": 9,
   "metadata": {},
   "outputs": [],
   "source": [
    "ppc2 = ams.io.pypower.system2ppc(sp2)\n",
    "ppc2_sol = pyp.rundcopf(ppc2, ppopt)"
   ]
  },
  {
   "cell_type": "markdown",
   "metadata": {},
   "source": [
    "Nodal price"
   ]
  },
  {
   "cell_type": "code",
   "execution_count": 10,
   "metadata": {},
   "outputs": [
    {
     "data": {
      "text/plain": [
       "True"
      ]
     },
     "execution_count": 10,
     "metadata": {},
     "output_type": "execute_result"
    }
   ],
   "source": [
    "np.allclose(sp2.DCOPF.pi.v / sp2.config.mva,\n",
    "            ppc2_sol['bus'][:, 13],\n",
    "            atol=1e-6)"
   ]
  },
  {
   "cell_type": "markdown",
   "metadata": {},
   "source": [
    "Bus angle"
   ]
  },
  {
   "cell_type": "code",
   "execution_count": 11,
   "metadata": {},
   "outputs": [
    {
     "data": {
      "text/plain": [
       "True"
      ]
     },
     "execution_count": 11,
     "metadata": {},
     "output_type": "execute_result"
    }
   ],
   "source": [
    "np.allclose(sp2.DCOPF.aBus.v * andes.shared.rad2deg,\n",
    "            ppc2_sol['bus'][:, 8],\n",
    "            atol=1e-6)"
   ]
  }
 ],
 "metadata": {
  "kernelspec": {
   "display_name": "ams",
   "language": "python",
   "name": "python3"
  },
  "language_info": {
   "codemirror_mode": {
    "name": "ipython",
    "version": 3
   },
   "file_extension": ".py",
   "mimetype": "text/x-python",
   "name": "python",
   "nbconvert_exporter": "python",
   "pygments_lexer": "ipython3",
   "version": "3.9.18"
  },
  "orig_nbformat": 4,
  "vscode": {
   "interpreter": {
    "hash": "d2b3bf80176349caa68dc4a3c77bd06eaade8abc678330f7d1c813c53380e5d2"
   }
  }
 },
 "nbformat": 4,
 "nbformat_minor": 2
}
