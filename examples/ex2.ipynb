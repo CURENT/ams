{
 "cells": [
  {
   "attachments": {},
   "cell_type": "markdown",
   "metadata": {},
   "source": [
    "# Manipulate the Model Data"
   ]
  },
  {
   "cell_type": "markdown",
   "metadata": {},
   "source": [
    "This example shows how to manipulate the model."
   ]
  },
  {
   "cell_type": "code",
   "execution_count": 1,
   "metadata": {},
   "outputs": [],
   "source": [
    "import ams\n",
    "\n",
    "import datetime"
   ]
  },
  {
   "cell_type": "code",
   "execution_count": 2,
   "metadata": {},
   "outputs": [
    {
     "name": "stdout",
     "output_type": "stream",
     "text": [
      "Last run time: 2023-11-07 22:31:12\n",
      "ams:0.7.3.post29.dev0+g23b6565\n"
     ]
    }
   ],
   "source": [
    "print(\"Last run time:\", datetime.datetime.now().strftime(\"%Y-%m-%d %H:%M:%S\"))\n",
    "\n",
    "print(f'ams:{ams.__version__}')"
   ]
  },
  {
   "cell_type": "code",
   "execution_count": 3,
   "metadata": {},
   "outputs": [],
   "source": [
    "ams.config_logger(stream_level=20)"
   ]
  },
  {
   "attachments": {},
   "cell_type": "markdown",
   "metadata": {},
   "source": [
    "## Run Simulations"
   ]
  },
  {
   "attachments": {},
   "cell_type": "markdown",
   "metadata": {},
   "source": [
    "### Load Case"
   ]
  },
  {
   "cell_type": "code",
   "execution_count": 4,
   "metadata": {},
   "outputs": [
    {
     "name": "stderr",
     "output_type": "stream",
     "text": [
      "Parsing input file \"/Users/jinningwang/Documents/work/ams/ams/cases/ieee39/ieee39_uced.xlsx\"...\n",
      "Input file parsed in 0.1714 seconds.\n",
      "System set up in 0.0043 seconds.\n"
     ]
    }
   ],
   "source": [
    "sp = ams.load(ams.get_case('ieee39/ieee39_uced.xlsx'),\n",
    "              default_config=True,\n",
    "              setup=True)"
   ]
  },
  {
   "cell_type": "markdown",
   "metadata": {},
   "source": [
    "The system load are defined in model `PQ`."
   ]
  },
  {
   "cell_type": "code",
   "execution_count": 5,
   "metadata": {},
   "outputs": [
    {
     "data": {
      "text/html": [
       "<div>\n",
       "<style scoped>\n",
       "    .dataframe tbody tr th:only-of-type {\n",
       "        vertical-align: middle;\n",
       "    }\n",
       "\n",
       "    .dataframe tbody tr th {\n",
       "        vertical-align: top;\n",
       "    }\n",
       "\n",
       "    .dataframe thead th {\n",
       "        text-align: right;\n",
       "    }\n",
       "</style>\n",
       "<table border=\"1\" class=\"dataframe\">\n",
       "  <thead>\n",
       "    <tr style=\"text-align: right;\">\n",
       "      <th></th>\n",
       "      <th>idx</th>\n",
       "      <th>u</th>\n",
       "      <th>name</th>\n",
       "      <th>bus</th>\n",
       "      <th>Vn</th>\n",
       "      <th>p0</th>\n",
       "      <th>q0</th>\n",
       "      <th>vmax</th>\n",
       "      <th>vmin</th>\n",
       "      <th>owner</th>\n",
       "    </tr>\n",
       "    <tr>\n",
       "      <th>uid</th>\n",
       "      <th></th>\n",
       "      <th></th>\n",
       "      <th></th>\n",
       "      <th></th>\n",
       "      <th></th>\n",
       "      <th></th>\n",
       "      <th></th>\n",
       "      <th></th>\n",
       "      <th></th>\n",
       "      <th></th>\n",
       "    </tr>\n",
       "  </thead>\n",
       "  <tbody>\n",
       "    <tr>\n",
       "      <th>0</th>\n",
       "      <td>PQ_1</td>\n",
       "      <td>1.0</td>\n",
       "      <td>PQ_1</td>\n",
       "      <td>3</td>\n",
       "      <td>345.0</td>\n",
       "      <td>6.000</td>\n",
       "      <td>2.500</td>\n",
       "      <td>1.2</td>\n",
       "      <td>0.8</td>\n",
       "      <td>1</td>\n",
       "    </tr>\n",
       "    <tr>\n",
       "      <th>1</th>\n",
       "      <td>PQ_2</td>\n",
       "      <td>1.0</td>\n",
       "      <td>PQ_2</td>\n",
       "      <td>4</td>\n",
       "      <td>345.0</td>\n",
       "      <td>4.500</td>\n",
       "      <td>1.840</td>\n",
       "      <td>1.2</td>\n",
       "      <td>0.8</td>\n",
       "      <td>1</td>\n",
       "    </tr>\n",
       "    <tr>\n",
       "      <th>2</th>\n",
       "      <td>PQ_3</td>\n",
       "      <td>1.0</td>\n",
       "      <td>PQ_3</td>\n",
       "      <td>7</td>\n",
       "      <td>345.0</td>\n",
       "      <td>2.338</td>\n",
       "      <td>0.840</td>\n",
       "      <td>1.2</td>\n",
       "      <td>0.8</td>\n",
       "      <td>1</td>\n",
       "    </tr>\n",
       "    <tr>\n",
       "      <th>3</th>\n",
       "      <td>PQ_4</td>\n",
       "      <td>1.0</td>\n",
       "      <td>PQ_4</td>\n",
       "      <td>8</td>\n",
       "      <td>345.0</td>\n",
       "      <td>5.220</td>\n",
       "      <td>1.766</td>\n",
       "      <td>1.2</td>\n",
       "      <td>0.8</td>\n",
       "      <td>1</td>\n",
       "    </tr>\n",
       "    <tr>\n",
       "      <th>4</th>\n",
       "      <td>PQ_5</td>\n",
       "      <td>1.0</td>\n",
       "      <td>PQ_5</td>\n",
       "      <td>12</td>\n",
       "      <td>138.0</td>\n",
       "      <td>1.200</td>\n",
       "      <td>0.300</td>\n",
       "      <td>1.2</td>\n",
       "      <td>0.8</td>\n",
       "      <td>1</td>\n",
       "    </tr>\n",
       "    <tr>\n",
       "      <th>5</th>\n",
       "      <td>PQ_6</td>\n",
       "      <td>1.0</td>\n",
       "      <td>PQ_6</td>\n",
       "      <td>15</td>\n",
       "      <td>345.0</td>\n",
       "      <td>3.200</td>\n",
       "      <td>1.530</td>\n",
       "      <td>1.2</td>\n",
       "      <td>0.8</td>\n",
       "      <td>1</td>\n",
       "    </tr>\n",
       "    <tr>\n",
       "      <th>6</th>\n",
       "      <td>PQ_7</td>\n",
       "      <td>1.0</td>\n",
       "      <td>PQ_7</td>\n",
       "      <td>16</td>\n",
       "      <td>345.0</td>\n",
       "      <td>3.290</td>\n",
       "      <td>0.323</td>\n",
       "      <td>1.2</td>\n",
       "      <td>0.8</td>\n",
       "      <td>1</td>\n",
       "    </tr>\n",
       "    <tr>\n",
       "      <th>7</th>\n",
       "      <td>PQ_8</td>\n",
       "      <td>1.0</td>\n",
       "      <td>PQ_8</td>\n",
       "      <td>18</td>\n",
       "      <td>345.0</td>\n",
       "      <td>1.580</td>\n",
       "      <td>0.300</td>\n",
       "      <td>1.2</td>\n",
       "      <td>0.8</td>\n",
       "      <td>1</td>\n",
       "    </tr>\n",
       "    <tr>\n",
       "      <th>8</th>\n",
       "      <td>PQ_9</td>\n",
       "      <td>1.0</td>\n",
       "      <td>PQ_9</td>\n",
       "      <td>20</td>\n",
       "      <td>138.0</td>\n",
       "      <td>6.800</td>\n",
       "      <td>1.030</td>\n",
       "      <td>1.2</td>\n",
       "      <td>0.8</td>\n",
       "      <td>1</td>\n",
       "    </tr>\n",
       "    <tr>\n",
       "      <th>9</th>\n",
       "      <td>PQ_10</td>\n",
       "      <td>1.0</td>\n",
       "      <td>PQ_10</td>\n",
       "      <td>21</td>\n",
       "      <td>345.0</td>\n",
       "      <td>2.740</td>\n",
       "      <td>1.150</td>\n",
       "      <td>1.2</td>\n",
       "      <td>0.8</td>\n",
       "      <td>1</td>\n",
       "    </tr>\n",
       "    <tr>\n",
       "      <th>10</th>\n",
       "      <td>PQ_11</td>\n",
       "      <td>1.0</td>\n",
       "      <td>PQ_11</td>\n",
       "      <td>23</td>\n",
       "      <td>345.0</td>\n",
       "      <td>2.475</td>\n",
       "      <td>0.846</td>\n",
       "      <td>1.2</td>\n",
       "      <td>0.8</td>\n",
       "      <td>1</td>\n",
       "    </tr>\n",
       "    <tr>\n",
       "      <th>11</th>\n",
       "      <td>PQ_12</td>\n",
       "      <td>1.0</td>\n",
       "      <td>PQ_12</td>\n",
       "      <td>24</td>\n",
       "      <td>345.0</td>\n",
       "      <td>3.086</td>\n",
       "      <td>-0.922</td>\n",
       "      <td>1.2</td>\n",
       "      <td>0.8</td>\n",
       "      <td>1</td>\n",
       "    </tr>\n",
       "    <tr>\n",
       "      <th>12</th>\n",
       "      <td>PQ_13</td>\n",
       "      <td>1.0</td>\n",
       "      <td>PQ_13</td>\n",
       "      <td>25</td>\n",
       "      <td>345.0</td>\n",
       "      <td>2.240</td>\n",
       "      <td>0.472</td>\n",
       "      <td>1.2</td>\n",
       "      <td>0.8</td>\n",
       "      <td>1</td>\n",
       "    </tr>\n",
       "    <tr>\n",
       "      <th>13</th>\n",
       "      <td>PQ_14</td>\n",
       "      <td>1.0</td>\n",
       "      <td>PQ_14</td>\n",
       "      <td>26</td>\n",
       "      <td>345.0</td>\n",
       "      <td>1.390</td>\n",
       "      <td>0.170</td>\n",
       "      <td>1.2</td>\n",
       "      <td>0.8</td>\n",
       "      <td>1</td>\n",
       "    </tr>\n",
       "    <tr>\n",
       "      <th>14</th>\n",
       "      <td>PQ_15</td>\n",
       "      <td>1.0</td>\n",
       "      <td>PQ_15</td>\n",
       "      <td>27</td>\n",
       "      <td>345.0</td>\n",
       "      <td>2.810</td>\n",
       "      <td>0.755</td>\n",
       "      <td>1.2</td>\n",
       "      <td>0.8</td>\n",
       "      <td>1</td>\n",
       "    </tr>\n",
       "    <tr>\n",
       "      <th>15</th>\n",
       "      <td>PQ_16</td>\n",
       "      <td>1.0</td>\n",
       "      <td>PQ_16</td>\n",
       "      <td>28</td>\n",
       "      <td>345.0</td>\n",
       "      <td>2.060</td>\n",
       "      <td>0.276</td>\n",
       "      <td>1.2</td>\n",
       "      <td>0.8</td>\n",
       "      <td>1</td>\n",
       "    </tr>\n",
       "    <tr>\n",
       "      <th>16</th>\n",
       "      <td>PQ_17</td>\n",
       "      <td>1.0</td>\n",
       "      <td>PQ_17</td>\n",
       "      <td>29</td>\n",
       "      <td>345.0</td>\n",
       "      <td>2.835</td>\n",
       "      <td>1.269</td>\n",
       "      <td>1.2</td>\n",
       "      <td>0.8</td>\n",
       "      <td>1</td>\n",
       "    </tr>\n",
       "    <tr>\n",
       "      <th>17</th>\n",
       "      <td>PQ_18</td>\n",
       "      <td>1.0</td>\n",
       "      <td>PQ_18</td>\n",
       "      <td>31</td>\n",
       "      <td>34.5</td>\n",
       "      <td>0.800</td>\n",
       "      <td>0.400</td>\n",
       "      <td>1.2</td>\n",
       "      <td>0.8</td>\n",
       "      <td>1</td>\n",
       "    </tr>\n",
       "    <tr>\n",
       "      <th>18</th>\n",
       "      <td>PQ_19</td>\n",
       "      <td>1.0</td>\n",
       "      <td>PQ_19</td>\n",
       "      <td>39</td>\n",
       "      <td>345.0</td>\n",
       "      <td>4.000</td>\n",
       "      <td>2.500</td>\n",
       "      <td>1.2</td>\n",
       "      <td>0.8</td>\n",
       "      <td>1</td>\n",
       "    </tr>\n",
       "  </tbody>\n",
       "</table>\n",
       "</div>"
      ],
      "text/plain": [
       "       idx    u   name  bus     Vn     p0     q0  vmax  vmin  owner\n",
       "uid                                                                \n",
       "0     PQ_1  1.0   PQ_1    3  345.0  6.000  2.500   1.2   0.8      1\n",
       "1     PQ_2  1.0   PQ_2    4  345.0  4.500  1.840   1.2   0.8      1\n",
       "2     PQ_3  1.0   PQ_3    7  345.0  2.338  0.840   1.2   0.8      1\n",
       "3     PQ_4  1.0   PQ_4    8  345.0  5.220  1.766   1.2   0.8      1\n",
       "4     PQ_5  1.0   PQ_5   12  138.0  1.200  0.300   1.2   0.8      1\n",
       "5     PQ_6  1.0   PQ_6   15  345.0  3.200  1.530   1.2   0.8      1\n",
       "6     PQ_7  1.0   PQ_7   16  345.0  3.290  0.323   1.2   0.8      1\n",
       "7     PQ_8  1.0   PQ_8   18  345.0  1.580  0.300   1.2   0.8      1\n",
       "8     PQ_9  1.0   PQ_9   20  138.0  6.800  1.030   1.2   0.8      1\n",
       "9    PQ_10  1.0  PQ_10   21  345.0  2.740  1.150   1.2   0.8      1\n",
       "10   PQ_11  1.0  PQ_11   23  345.0  2.475  0.846   1.2   0.8      1\n",
       "11   PQ_12  1.0  PQ_12   24  345.0  3.086 -0.922   1.2   0.8      1\n",
       "12   PQ_13  1.0  PQ_13   25  345.0  2.240  0.472   1.2   0.8      1\n",
       "13   PQ_14  1.0  PQ_14   26  345.0  1.390  0.170   1.2   0.8      1\n",
       "14   PQ_15  1.0  PQ_15   27  345.0  2.810  0.755   1.2   0.8      1\n",
       "15   PQ_16  1.0  PQ_16   28  345.0  2.060  0.276   1.2   0.8      1\n",
       "16   PQ_17  1.0  PQ_17   29  345.0  2.835  1.269   1.2   0.8      1\n",
       "17   PQ_18  1.0  PQ_18   31   34.5  0.800  0.400   1.2   0.8      1\n",
       "18   PQ_19  1.0  PQ_19   39  345.0  4.000  2.500   1.2   0.8      1"
      ]
     },
     "execution_count": 5,
     "metadata": {},
     "output_type": "execute_result"
    }
   ],
   "source": [
    "sp.PQ.as_df()"
   ]
  },
  {
   "cell_type": "markdown",
   "metadata": {},
   "source": [
    "For simplicity, PQ is reorganized as nodal load `pl` in an routine."
   ]
  },
  {
   "cell_type": "code",
   "execution_count": 6,
   "metadata": {},
   "outputs": [
    {
     "data": {
      "text/plain": [
       "array([0.   , 0.   , 6.   , 4.5  , 0.   , 0.   , 2.338, 5.22 , 0.   ,\n",
       "       0.   , 0.   , 1.2  , 0.   , 0.   , 3.2  , 3.29 , 0.   , 1.58 ,\n",
       "       0.   , 6.8  , 2.74 , 0.   , 2.475, 3.086, 2.24 , 1.39 , 2.81 ,\n",
       "       2.06 , 2.835, 0.   , 0.8  , 0.   , 0.   , 0.   , 0.   , 0.   ,\n",
       "       0.   , 0.   , 4.   ])"
      ]
     },
     "execution_count": 6,
     "metadata": {},
     "output_type": "execute_result"
    }
   ],
   "source": [
    "sp.RTED.pl.v"
   ]
  },
  {
   "cell_type": "markdown",
   "metadata": {},
   "source": [
    "RTED can be solved and one can inspect the results as discussed in\n",
    "previous example."
   ]
  },
  {
   "cell_type": "code",
   "execution_count": 7,
   "metadata": {},
   "outputs": [
    {
     "name": "stderr",
     "output_type": "stream",
     "text": [
      "Routine <RTED> initialized in 0.0083 seconds.\n",
      "RTED solved as optimal in 0.0138 seconds, converged after 50 iterations using solver OSQP.\n"
     ]
    },
    {
     "data": {
      "text/plain": [
       "True"
      ]
     },
     "execution_count": 7,
     "metadata": {},
     "output_type": "execute_result"
    }
   ],
   "source": [
    "sp.RTED.run()"
   ]
  },
  {
   "cell_type": "code",
   "execution_count": 8,
   "metadata": {},
   "outputs": [
    {
     "data": {
      "text/plain": [
       "array([6.01822025, 5.99427957, 5.97043409, 5.08      , 5.98234496,\n",
       "       5.8       , 5.64      , 6.00623798, 6.03022646, 6.04225669])"
      ]
     },
     "execution_count": 8,
     "metadata": {},
     "output_type": "execute_result"
    }
   ],
   "source": [
    "sp.RTED.pg.v"
   ]
  },
  {
   "cell_type": "markdown",
   "metadata": {},
   "source": [
    "The load values can be manipulated in the model `PQ`."
   ]
  },
  {
   "cell_type": "code",
   "execution_count": 9,
   "metadata": {},
   "outputs": [
    {
     "data": {
      "text/plain": [
       "True"
      ]
     },
     "execution_count": 9,
     "metadata": {},
     "output_type": "execute_result"
    }
   ],
   "source": [
    "sp.PQ.set(src='p0', attr='v', idx=['PQ_1', 'PQ_3'], value=[6.5, 3])"
   ]
  },
  {
   "cell_type": "markdown",
   "metadata": {},
   "source": [
    "The routine need to be re-initialized to make the changes effective."
   ]
  },
  {
   "cell_type": "code",
   "execution_count": 10,
   "metadata": {},
   "outputs": [
    {
     "name": "stderr",
     "output_type": "stream",
     "text": [
      "Routine <RTED> initialized in 0.0064 seconds.\n"
     ]
    },
    {
     "data": {
      "text/plain": [
       "True"
      ]
     },
     "execution_count": 10,
     "metadata": {},
     "output_type": "execute_result"
    }
   ],
   "source": [
    "sp.RTED.init()"
   ]
  },
  {
   "cell_type": "markdown",
   "metadata": {},
   "source": [
    "We can see the `pl` is changed as expected."
   ]
  },
  {
   "cell_type": "code",
   "execution_count": 11,
   "metadata": {},
   "outputs": [
    {
     "data": {
      "text/plain": [
       "array([0.   , 0.   , 6.5  , 4.5  , 0.   , 0.   , 3.   , 5.22 , 0.   ,\n",
       "       0.   , 0.   , 1.2  , 0.   , 0.   , 3.2  , 3.29 , 0.   , 1.58 ,\n",
       "       0.   , 6.8  , 2.74 , 0.   , 2.475, 3.086, 2.24 , 1.39 , 2.81 ,\n",
       "       2.06 , 2.835, 0.   , 0.8  , 0.   , 0.   , 0.   , 0.   , 0.   ,\n",
       "       0.   , 0.   , 4.   ])"
      ]
     },
     "execution_count": 11,
     "metadata": {},
     "output_type": "execute_result"
    }
   ],
   "source": [
    "sp.RTED.pl.v"
   ]
  },
  {
   "cell_type": "markdown",
   "metadata": {},
   "source": [
    "After manipulation, the routined can be solved again."
   ]
  },
  {
   "cell_type": "code",
   "execution_count": 12,
   "metadata": {},
   "outputs": [
    {
     "name": "stderr",
     "output_type": "stream",
     "text": [
      "RTED solved as optimal in 0.0140 seconds, converged after 50 iterations using solver OSQP.\n"
     ]
    },
    {
     "data": {
      "text/plain": [
       "True"
      ]
     },
     "execution_count": 12,
     "metadata": {},
     "output_type": "execute_result"
    }
   ],
   "source": [
    "sp.RTED.run()"
   ]
  },
  {
   "cell_type": "code",
   "execution_count": 13,
   "metadata": {},
   "outputs": [
    {
     "data": {
      "text/plain": [
       "array([6.18438538, 6.16011369, 6.13593852, 5.07999972, 6.14801408,\n",
       "       5.79999973, 5.63999972, 6.17223744, 6.19655759, 6.20875415])"
      ]
     },
     "execution_count": 13,
     "metadata": {},
     "output_type": "execute_result"
    }
   ],
   "source": [
    "sp.RTED.pg.v"
   ]
  }
 ],
 "metadata": {
  "kernelspec": {
   "display_name": "ams",
   "language": "python",
   "name": "python3"
  },
  "language_info": {
   "codemirror_mode": {
    "name": "ipython",
    "version": 3
   },
   "file_extension": ".py",
   "mimetype": "text/x-python",
   "name": "python",
   "nbconvert_exporter": "python",
   "pygments_lexer": "ipython3",
   "version": "3.9.16"
  },
  "orig_nbformat": 4,
  "vscode": {
   "interpreter": {
    "hash": "d2b3bf80176349caa68dc4a3c77bd06eaade8abc678330f7d1c813c53380e5d2"
   }
  }
 },
 "nbformat": 4,
 "nbformat_minor": 2
}
