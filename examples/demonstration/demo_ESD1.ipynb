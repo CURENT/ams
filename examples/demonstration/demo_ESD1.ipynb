{
 "cells": [
  {
   "attachments": {},
   "cell_type": "markdown",
   "metadata": {},
   "source": [
    "# Dispatch with Energy Storage"
   ]
  },
  {
   "cell_type": "markdown",
   "metadata": {},
   "source": [
    "In this case, we will show the usage of energy storage included dispatch.\n",
    "\n",
    "In AMS, ``ESD1`` is a dispatch model for energy storage, which has a corresponding\n",
    "dynamic model ``ESD1`` in ANDES."
   ]
  },
  {
   "cell_type": "code",
   "execution_count": null,
   "metadata": {},
   "outputs": [],
   "source": [
    "import pandas as pd\n",
    "\n",
    "import ams"
   ]
  },
  {
   "cell_type": "code",
   "execution_count": 2,
   "metadata": {},
   "outputs": [],
   "source": [
    "ams.config_logger(stream_level=20)"
   ]
  },
  {
   "cell_type": "markdown",
   "metadata": {},
   "source": [
    "A small-size PJM 5-bus case with ESD1 is used in this example."
   ]
  },
  {
   "cell_type": "code",
   "execution_count": 3,
   "metadata": {},
   "outputs": [
    {
     "name": "stderr",
     "output_type": "stream",
     "text": [
      "Parsing input file \"/Users/jinningwang/work/ams/ams/cases/5bus/pjm5bus_demo.xlsx\"...\n",
      "Input file parsed in 0.0708 seconds.\n",
      "Zero Line parameters detected, adjusted to default values: rate_b, rate_c.\n",
      "All bus type are PQ, adjusted given load and generator connection status.\n",
      "System set up in 0.0023 seconds.\n"
     ]
    }
   ],
   "source": [
    "sp = ams.load(ams.get_case('5bus/pjm5bus_demo.xlsx'),\n",
    "              setup=True,\n",
    "              no_output=True)"
   ]
  },
  {
   "cell_type": "markdown",
   "metadata": {},
   "source": [
    "The model information can be inspected as follow."
   ]
  },
  {
   "cell_type": "code",
   "execution_count": 4,
   "metadata": {},
   "outputs": [
    {
     "data": {
      "text/html": [
       "<div>\n",
       "<style scoped>\n",
       "    .dataframe tbody tr th:only-of-type {\n",
       "        vertical-align: middle;\n",
       "    }\n",
       "\n",
       "    .dataframe tbody tr th {\n",
       "        vertical-align: top;\n",
       "    }\n",
       "\n",
       "    .dataframe thead th {\n",
       "        text-align: right;\n",
       "    }\n",
       "</style>\n",
       "<table border=\"1\" class=\"dataframe\">\n",
       "  <thead>\n",
       "    <tr style=\"text-align: right;\">\n",
       "      <th></th>\n",
       "      <th>idx</th>\n",
       "      <th>u</th>\n",
       "      <th>name</th>\n",
       "      <th>bus</th>\n",
       "      <th>gen</th>\n",
       "      <th>Sn</th>\n",
       "      <th>gammap</th>\n",
       "      <th>gammaq</th>\n",
       "      <th>SOCmin</th>\n",
       "      <th>SOCmax</th>\n",
       "      <th>SOCinit</th>\n",
       "      <th>En</th>\n",
       "      <th>EtaC</th>\n",
       "      <th>EtaD</th>\n",
       "    </tr>\n",
       "    <tr>\n",
       "      <th>uid</th>\n",
       "      <th></th>\n",
       "      <th></th>\n",
       "      <th></th>\n",
       "      <th></th>\n",
       "      <th></th>\n",
       "      <th></th>\n",
       "      <th></th>\n",
       "      <th></th>\n",
       "      <th></th>\n",
       "      <th></th>\n",
       "      <th></th>\n",
       "      <th></th>\n",
       "      <th></th>\n",
       "      <th></th>\n",
       "    </tr>\n",
       "  </thead>\n",
       "  <tbody>\n",
       "    <tr>\n",
       "      <th>0</th>\n",
       "      <td>ESD1_1</td>\n",
       "      <td>1.0</td>\n",
       "      <td>ESD1_1</td>\n",
       "      <td>1</td>\n",
       "      <td>PV_2</td>\n",
       "      <td>100.0</td>\n",
       "      <td>1.0</td>\n",
       "      <td>1.0</td>\n",
       "      <td>0.0</td>\n",
       "      <td>1.0</td>\n",
       "      <td>0.8</td>\n",
       "      <td>100.0</td>\n",
       "      <td>1.0</td>\n",
       "      <td>1.0</td>\n",
       "    </tr>\n",
       "  </tbody>\n",
       "</table>\n",
       "</div>"
      ],
      "text/plain": [
       "        idx    u    name  bus   gen     Sn  gammap  gammaq  SOCmin  SOCmax  \\\n",
       "uid                                                                          \n",
       "0    ESD1_1  1.0  ESD1_1    1  PV_2  100.0     1.0     1.0     0.0     1.0   \n",
       "\n",
       "     SOCinit     En  EtaC  EtaD  \n",
       "uid                              \n",
       "0        0.8  100.0   1.0   1.0  "
      ]
     },
     "execution_count": 4,
     "metadata": {},
     "output_type": "execute_result"
    }
   ],
   "source": [
    "sp.ESD1.as_df()"
   ]
  },
  {
   "cell_type": "markdown",
   "metadata": {},
   "source": [
    "`RTEDES` extends RTED to include energy storage.\n",
    "\n",
    "Note that mixed integer linear programming (MILP) requires\n",
    "capable solvers such as Gurobi or CPLEX.\n",
    "They might require extra installation and have their own license.\n",
    "\n",
    "The example here only aims to show the usage of RTEDES.\n",
    "More details can be found at [CVXPY - Choosing a solver](https://www.cvxpy.org/tutorial/advanced/index.html#choosing-a-solver)."
   ]
  },
  {
   "cell_type": "code",
   "execution_count": 5,
   "metadata": {},
   "outputs": [
    {
     "name": "stderr",
     "output_type": "stream",
     "text": [
      "Building system matrices\n",
      "Parsing OModel for <RTEDES>\n",
      "Evaluating OModel for <RTEDES>\n",
      "Finalizing OModel for <RTEDES>\n",
      "<RTEDES> initialized in 0.0295 seconds.\n",
      "<RTEDES> solved as optimal in 0.0487 seconds, converged in -1 iteration with SCIP.\n"
     ]
    },
    {
     "data": {
      "text/plain": [
       "True"
      ]
     },
     "execution_count": 5,
     "metadata": {},
     "output_type": "execute_result"
    }
   ],
   "source": [
    "sp.RTEDES.run(solver='SCIP')"
   ]
  },
  {
   "cell_type": "markdown",
   "metadata": {},
   "source": [
    "Note that, in RTED, the time interval is 5/60 [H] by default, and the\n",
    "dispatch model has been adjusted accordingly."
   ]
  },
  {
   "cell_type": "code",
   "execution_count": 6,
   "metadata": {},
   "outputs": [
    {
     "data": {
      "text/html": [
       "<div>\n",
       "<style scoped>\n",
       "    .dataframe tbody tr th:only-of-type {\n",
       "        vertical-align: middle;\n",
       "    }\n",
       "\n",
       "    .dataframe tbody tr th {\n",
       "        vertical-align: top;\n",
       "    }\n",
       "\n",
       "    .dataframe thead th {\n",
       "        text-align: right;\n",
       "    }\n",
       "</style>\n",
       "<table border=\"1\" class=\"dataframe\">\n",
       "  <thead>\n",
       "    <tr style=\"text-align: right;\">\n",
       "      <th></th>\n",
       "      <th>Var</th>\n",
       "      <th>info</th>\n",
       "      <th>Value</th>\n",
       "    </tr>\n",
       "  </thead>\n",
       "  <tbody>\n",
       "    <tr>\n",
       "      <th>0</th>\n",
       "      <td>uce</td>\n",
       "      <td>ESD1 charging decision</td>\n",
       "      <td>[1.0]</td>\n",
       "    </tr>\n",
       "    <tr>\n",
       "      <th>1</th>\n",
       "      <td>ude</td>\n",
       "      <td>ESD1 discharging decision</td>\n",
       "      <td>[0.0]</td>\n",
       "    </tr>\n",
       "    <tr>\n",
       "      <th>2</th>\n",
       "      <td>pce</td>\n",
       "      <td>ESD1 charging power</td>\n",
       "      <td>[0.0]</td>\n",
       "    </tr>\n",
       "    <tr>\n",
       "      <th>3</th>\n",
       "      <td>pde</td>\n",
       "      <td>ESD1 discharging power</td>\n",
       "      <td>[0.0]</td>\n",
       "    </tr>\n",
       "    <tr>\n",
       "      <th>4</th>\n",
       "      <td>SOC</td>\n",
       "      <td>ESD1 State of Charge</td>\n",
       "      <td>[0.8]</td>\n",
       "    </tr>\n",
       "    <tr>\n",
       "      <th>5</th>\n",
       "      <td>SOCinit</td>\n",
       "      <td>Initial SOC</td>\n",
       "      <td>[0.8]</td>\n",
       "    </tr>\n",
       "  </tbody>\n",
       "</table>\n",
       "</div>"
      ],
      "text/plain": [
       "       Var                       info  Value\n",
       "0      uce     ESD1 charging decision  [1.0]\n",
       "1      ude  ESD1 discharging decision  [0.0]\n",
       "2      pce        ESD1 charging power  [0.0]\n",
       "3      pde     ESD1 discharging power  [0.0]\n",
       "4      SOC       ESD1 State of Charge  [0.8]\n",
       "5  SOCinit                Initial SOC  [0.8]"
      ]
     },
     "execution_count": 6,
     "metadata": {},
     "output_type": "execute_result"
    }
   ],
   "source": [
    "RTEDESres = pd.DataFrame()\n",
    "\n",
    "items = [sp.RTEDES.uce, sp.RTEDES.ude,\n",
    "         sp.RTEDES.pce, sp.RTEDES.pde,\n",
    "         sp.RTEDES.SOC, sp.RTEDES.SOCinit]\n",
    "\n",
    "RTEDESres['Var'] = [item.name for item in items]\n",
    "RTEDESres['info'] = [item.info for item in items]\n",
    "RTEDESres['Value'] = [item.v.round(4) for item in items]\n",
    "\n",
    "RTEDESres"
   ]
  },
  {
   "cell_type": "markdown",
   "metadata": {},
   "source": [
    "Similarly, multi-period dispatch ``EDES`` and ``UCES`` are also available.\n",
    "They have 1 [H] time interval by default."
   ]
  },
  {
   "cell_type": "code",
   "execution_count": 7,
   "metadata": {},
   "outputs": [
    {
     "data": {
      "text/plain": [
       "1"
      ]
     },
     "execution_count": 7,
     "metadata": {},
     "output_type": "execute_result"
    }
   ],
   "source": [
    "sp.EDES.config.t"
   ]
  },
  {
   "cell_type": "code",
   "execution_count": 8,
   "metadata": {},
   "outputs": [
    {
     "name": "stderr",
     "output_type": "stream",
     "text": [
      "Parsing OModel for <EDES>\n",
      "Evaluating OModel for <EDES>\n",
      "Finalizing OModel for <EDES>\n",
      "<EDES> initialized in 0.0214 seconds.\n",
      "<EDES> solved as optimal in 0.3789 seconds, converged in -1 iteration with SCIP.\n"
     ]
    },
    {
     "data": {
      "text/plain": [
       "True"
      ]
     },
     "execution_count": 8,
     "metadata": {},
     "output_type": "execute_result"
    }
   ],
   "source": [
    "sp.EDES.run(solver='SCIP')"
   ]
  },
  {
   "cell_type": "code",
   "execution_count": 9,
   "metadata": {},
   "outputs": [
    {
     "data": {
      "text/html": [
       "<div>\n",
       "<style scoped>\n",
       "    .dataframe tbody tr th:only-of-type {\n",
       "        vertical-align: middle;\n",
       "    }\n",
       "\n",
       "    .dataframe tbody tr th {\n",
       "        vertical-align: top;\n",
       "    }\n",
       "\n",
       "    .dataframe thead th {\n",
       "        text-align: right;\n",
       "    }\n",
       "</style>\n",
       "<table border=\"1\" class=\"dataframe\">\n",
       "  <thead>\n",
       "    <tr style=\"text-align: right;\">\n",
       "      <th></th>\n",
       "      <th>Var</th>\n",
       "      <th>info</th>\n",
       "      <th>Value</th>\n",
       "    </tr>\n",
       "  </thead>\n",
       "  <tbody>\n",
       "    <tr>\n",
       "      <th>0</th>\n",
       "      <td>uce</td>\n",
       "      <td>ESD1 charging decision</td>\n",
       "      <td>[[1.0, 1.0, 1.0, 1.0, 1.0, 1.0, 1.0, 1.0, 1.0,...</td>\n",
       "    </tr>\n",
       "    <tr>\n",
       "      <th>1</th>\n",
       "      <td>ude</td>\n",
       "      <td>ESD1 discharging decision</td>\n",
       "      <td>[[0.0, 0.0, 0.0, 0.0, 0.0, 0.0, 0.0, 0.0, 0.0,...</td>\n",
       "    </tr>\n",
       "    <tr>\n",
       "      <th>2</th>\n",
       "      <td>pce</td>\n",
       "      <td>ESD1 charging power</td>\n",
       "      <td>[[0.0, 0.0, 0.0, 0.0, 0.0, 0.0, 0.0, 0.0, 0.0,...</td>\n",
       "    </tr>\n",
       "    <tr>\n",
       "      <th>3</th>\n",
       "      <td>pde</td>\n",
       "      <td>ESD1 discharging power</td>\n",
       "      <td>[[0.0, 0.0, 0.0, 0.0, 0.0, 0.0, 0.0, 0.0, 0.0,...</td>\n",
       "    </tr>\n",
       "    <tr>\n",
       "      <th>4</th>\n",
       "      <td>SOC</td>\n",
       "      <td>ESD1 State of Charge</td>\n",
       "      <td>[[0.8, 0.8, 0.8, 0.8, 0.8, 0.8, 0.8, 0.8, 0.8,...</td>\n",
       "    </tr>\n",
       "    <tr>\n",
       "      <th>5</th>\n",
       "      <td>SOCinit</td>\n",
       "      <td>Initial SOC</td>\n",
       "      <td>[0.8]</td>\n",
       "    </tr>\n",
       "  </tbody>\n",
       "</table>\n",
       "</div>"
      ],
      "text/plain": [
       "       Var                       info  \\\n",
       "0      uce     ESD1 charging decision   \n",
       "1      ude  ESD1 discharging decision   \n",
       "2      pce        ESD1 charging power   \n",
       "3      pde     ESD1 discharging power   \n",
       "4      SOC       ESD1 State of Charge   \n",
       "5  SOCinit                Initial SOC   \n",
       "\n",
       "                                               Value  \n",
       "0  [[1.0, 1.0, 1.0, 1.0, 1.0, 1.0, 1.0, 1.0, 1.0,...  \n",
       "1  [[0.0, 0.0, 0.0, 0.0, 0.0, 0.0, 0.0, 0.0, 0.0,...  \n",
       "2  [[0.0, 0.0, 0.0, 0.0, 0.0, 0.0, 0.0, 0.0, 0.0,...  \n",
       "3  [[0.0, 0.0, 0.0, 0.0, 0.0, 0.0, 0.0, 0.0, 0.0,...  \n",
       "4  [[0.8, 0.8, 0.8, 0.8, 0.8, 0.8, 0.8, 0.8, 0.8,...  \n",
       "5                                              [0.8]  "
      ]
     },
     "execution_count": 9,
     "metadata": {},
     "output_type": "execute_result"
    }
   ],
   "source": [
    "EDESres = pd.DataFrame()\n",
    "\n",
    "items = [sp.EDES.uce, sp.EDES.ude,\n",
    "         sp.EDES.pce, sp.EDES.pde,\n",
    "         sp.EDES.SOC, sp.EDES.SOCinit]\n",
    "\n",
    "EDESres['Var'] = [item.name for item in items]\n",
    "EDESres['info'] = [item.info for item in items]\n",
    "EDESres['Value'] = [item.v.round(4) for item in items]\n",
    "\n",
    "EDESres"
   ]
  },
  {
   "cell_type": "code",
   "execution_count": 10,
   "metadata": {},
   "outputs": [
    {
     "name": "stderr",
     "output_type": "stream",
     "text": [
      "All generators are online at initial, make initial guess for commitment.\n",
      "As initial commitment guess, turn off StaticGen: PV_1\n",
      "Parsing OModel for <UCES>\n",
      "Evaluating OModel for <UCES>\n",
      "Finalizing OModel for <UCES>\n",
      "<UCES> initialized in 0.0277 seconds.\n",
      "<UCES> solved as optimal in 0.4605 seconds, converged in -1 iteration with SCIP.\n"
     ]
    },
    {
     "data": {
      "text/plain": [
       "True"
      ]
     },
     "execution_count": 10,
     "metadata": {},
     "output_type": "execute_result"
    }
   ],
   "source": [
    "sp.UCES.run(solver='SCIP')"
   ]
  },
  {
   "cell_type": "code",
   "execution_count": 11,
   "metadata": {},
   "outputs": [
    {
     "data": {
      "text/html": [
       "<div>\n",
       "<style scoped>\n",
       "    .dataframe tbody tr th:only-of-type {\n",
       "        vertical-align: middle;\n",
       "    }\n",
       "\n",
       "    .dataframe tbody tr th {\n",
       "        vertical-align: top;\n",
       "    }\n",
       "\n",
       "    .dataframe thead th {\n",
       "        text-align: right;\n",
       "    }\n",
       "</style>\n",
       "<table border=\"1\" class=\"dataframe\">\n",
       "  <thead>\n",
       "    <tr style=\"text-align: right;\">\n",
       "      <th></th>\n",
       "      <th>Var</th>\n",
       "      <th>info</th>\n",
       "      <th>Value</th>\n",
       "    </tr>\n",
       "  </thead>\n",
       "  <tbody>\n",
       "    <tr>\n",
       "      <th>0</th>\n",
       "      <td>uce</td>\n",
       "      <td>ESD1 charging decision</td>\n",
       "      <td>[[1.0, 1.0, 1.0, 1.0, 1.0, 1.0, 1.0, 1.0, 1.0,...</td>\n",
       "    </tr>\n",
       "    <tr>\n",
       "      <th>1</th>\n",
       "      <td>ude</td>\n",
       "      <td>ESD1 discharging decision</td>\n",
       "      <td>[[0.0, 0.0, 0.0, 0.0, 0.0, 0.0, 0.0, 0.0, 0.0,...</td>\n",
       "    </tr>\n",
       "    <tr>\n",
       "      <th>2</th>\n",
       "      <td>pce</td>\n",
       "      <td>ESD1 charging power</td>\n",
       "      <td>[[0.0, 0.0, 0.0, 0.0, 0.0, 0.0, 0.0, 0.0, 0.0,...</td>\n",
       "    </tr>\n",
       "    <tr>\n",
       "      <th>3</th>\n",
       "      <td>pde</td>\n",
       "      <td>ESD1 discharging power</td>\n",
       "      <td>[[0.0, 0.0, 0.0, 0.0, 0.0, 0.0, 0.0, 0.0, 0.0,...</td>\n",
       "    </tr>\n",
       "    <tr>\n",
       "      <th>4</th>\n",
       "      <td>SOC</td>\n",
       "      <td>ESD1 State of Charge</td>\n",
       "      <td>[[0.8, 0.8, 0.8, 0.8, 0.8, 0.8, 0.8, 0.8, 0.8,...</td>\n",
       "    </tr>\n",
       "    <tr>\n",
       "      <th>5</th>\n",
       "      <td>SOCinit</td>\n",
       "      <td>Initial SOC</td>\n",
       "      <td>[0.8]</td>\n",
       "    </tr>\n",
       "  </tbody>\n",
       "</table>\n",
       "</div>"
      ],
      "text/plain": [
       "       Var                       info  \\\n",
       "0      uce     ESD1 charging decision   \n",
       "1      ude  ESD1 discharging decision   \n",
       "2      pce        ESD1 charging power   \n",
       "3      pde     ESD1 discharging power   \n",
       "4      SOC       ESD1 State of Charge   \n",
       "5  SOCinit                Initial SOC   \n",
       "\n",
       "                                               Value  \n",
       "0  [[1.0, 1.0, 1.0, 1.0, 1.0, 1.0, 1.0, 1.0, 1.0,...  \n",
       "1  [[0.0, 0.0, 0.0, 0.0, 0.0, 0.0, 0.0, 0.0, 0.0,...  \n",
       "2  [[0.0, 0.0, 0.0, 0.0, 0.0, 0.0, 0.0, 0.0, 0.0,...  \n",
       "3  [[0.0, 0.0, 0.0, 0.0, 0.0, 0.0, 0.0, 0.0, 0.0,...  \n",
       "4  [[0.8, 0.8, 0.8, 0.8, 0.8, 0.8, 0.8, 0.8, 0.8,...  \n",
       "5                                              [0.8]  "
      ]
     },
     "execution_count": 11,
     "metadata": {},
     "output_type": "execute_result"
    }
   ],
   "source": [
    "UCESres = pd.DataFrame()\n",
    "\n",
    "items = [sp.UCES.uce, sp.UCES.ude,\n",
    "         sp.UCES.pce, sp.UCES.pde,\n",
    "         sp.UCES.SOC, sp.UCES.SOCinit]\n",
    "\n",
    "UCESres['Var'] = [item.name for item in items]\n",
    "UCESres['info'] = [item.info for item in items]\n",
    "UCESres['Value'] = [item.v.round(4) for item in items]\n",
    "\n",
    "UCESres"
   ]
  }
 ],
 "metadata": {
  "kernelspec": {
   "display_name": "ams",
   "language": "python",
   "name": "python3"
  },
  "language_info": {
   "codemirror_mode": {
    "name": "ipython",
    "version": 3
   },
   "file_extension": ".py",
   "mimetype": "text/x-python",
   "name": "python",
   "nbconvert_exporter": "python",
   "pygments_lexer": "ipython3",
   "version": "3.12.0"
  },
  "orig_nbformat": 4
 },
 "nbformat": 4,
 "nbformat_minor": 2
}
