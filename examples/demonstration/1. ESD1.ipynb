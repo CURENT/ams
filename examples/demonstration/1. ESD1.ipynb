{
 "cells": [
  {
   "attachments": {},
   "cell_type": "markdown",
   "metadata": {},
   "source": [
    "# Dispatch with Energy Storage"
   ]
  },
  {
   "cell_type": "code",
   "execution_count": 1,
   "metadata": {},
   "outputs": [],
   "source": [
    "import ams\n",
    "\n",
    "import datetime\n",
    "\n",
    "import numpy as np\n",
    "\n",
    "import cvxpy as cp"
   ]
  },
  {
   "cell_type": "code",
   "execution_count": 2,
   "metadata": {},
   "outputs": [
    {
     "name": "stdout",
     "output_type": "stream",
     "text": [
      "Last run time: 2023-11-10 00:12:54\n",
      "ams:0.7.3.post42.dev0+gd7a5b95\n"
     ]
    }
   ],
   "source": [
    "print(\"Last run time:\", datetime.datetime.now().strftime(\"%Y-%m-%d %H:%M:%S\"))\n",
    "\n",
    "print(f'ams:{ams.__version__}')"
   ]
  },
  {
   "cell_type": "code",
   "execution_count": 3,
   "metadata": {},
   "outputs": [],
   "source": [
    "ams.config_logger(stream_level=10)"
   ]
  },
  {
   "cell_type": "code",
   "execution_count": 4,
   "metadata": {},
   "outputs": [
    {
     "name": "stderr",
     "output_type": "stream",
     "text": [
      "Input format guessed as xlsx.\n",
      "Parsing input file \"/Users/jinningwang/Documents/work/ams/ams/cases/ieee39/ieee39_uced_esd1_t2.xlsx\"...\n",
      "Input file parsed in 0.1132 seconds.\n",
      "System set up in 0.0038 seconds.\n"
     ]
    }
   ],
   "source": [
    "sp = ams.load(ams.get_case('ieee39/ieee39_uced_esd1_t2.xlsx'),\n",
    "              setup=True,)"
   ]
  },
  {
   "cell_type": "code",
   "execution_count": 5,
   "metadata": {},
   "outputs": [
    {
     "name": "stderr",
     "output_type": "stream",
     "text": [
      "RTED2 data check passed.\n",
      "- Generating symbols for RTED2\n",
      "Set constrs pb: sum(pl) - sum(pg) == 0\n",
      "Set constrs pinj: CftT@plf - pl - pn == 0\n",
      "Set constrs lub: PTDF @ (pn - pl) - rate_a <= 0\n",
      "Set constrs llb: - PTDF @ (pn - pl) - rate_a <= 0\n",
      "Set constrs rbu: gs @ mul(ug, pru) - dud == 0\n",
      "Set constrs rbd: gs @ mul(ug, prd) - ddd == 0\n",
      "Set constrs rru: mul(ug, pg + pru) - pmax <= 0\n",
      "Set constrs rrd: mul(ug, -pg + prd) - pmin <= 0\n",
      "Set constrs rgu: mul(ug, pg-pg0-R10) <= 0\n",
      "Set constrs rgd: mul(ug, -pg+pg0-R10) <= 0\n",
      "Set constrs ceb: uce + ude - 1 == 0\n",
      "Set constrs cpe: ce @ pg - zce - zde == 0\n",
      "Set constrs zce1: -zce + pce <= 0\n",
      "Set constrs zce2: zce - pce - Mb dot (1-uce) <= 0\n",
      "Set constrs zce3: zce - Mb dot uce <= 0\n",
      "Set constrs zde1: -zde + pde <= 0\n",
      "Set constrs zde2: zde - pde - Mb dot (1-ude) <= 0\n",
      "Set constrs zde3: zde - Mb dot ude <= 0\n",
      "Set constrs SOCb: mul(En, (SOC - SOCinit)) - t dot mul(EtaC, zce)+ t dot mul(REtaD, zde) == 0\n",
      "Set obj tc: min. sum(c2 @ (t dot pg)**2) + sum(c1 @ (t dot pg)) + ug * c0 + sum(cru * pru + crd * prd)\n",
      "Routine <RTED2> initialized in 0.0559 seconds.\n"
     ]
    },
    {
     "data": {
      "text/plain": [
       "True"
      ]
     },
     "execution_count": 5,
     "metadata": {},
     "output_type": "execute_result"
    }
   ],
   "source": [
    "sp.RTED2.init()"
   ]
  },
  {
   "cell_type": "code",
   "execution_count": 6,
   "metadata": {},
   "outputs": [
    {
     "name": "stderr",
     "output_type": "stream",
     "text": [
      "RTED2 has already been initialized.\n"
     ]
    },
    {
     "name": "stdout",
     "output_type": "stream",
     "text": [
      "Set parameter Username\n",
      "Academic license - for non-commercial use only - expires 2024-05-21\n"
     ]
    },
    {
     "name": "stderr",
     "output_type": "stream",
     "text": [
      "RTED2 solved as optimal in 0.0793 seconds, converged after 33 iterations using solver GUROBI.\n"
     ]
    },
    {
     "data": {
      "text/plain": [
       "True"
      ]
     },
     "execution_count": 6,
     "metadata": {},
     "output_type": "execute_result"
    }
   ],
   "source": [
    "sp.RTED2.run(solver='GUROBI')"
   ]
  },
  {
   "cell_type": "code",
   "execution_count": 7,
   "metadata": {},
   "outputs": [
    {
     "name": "stdout",
     "output_type": "stream",
     "text": [
      "pg=[6.01822025 5.99427957 5.97043409 5.08       5.98234496 5.8\n",
      " 5.64       6.00623798 6.03022646 6.04225669]\n",
      "uce=[0. 0.]\n",
      "pce=[0. 0.]\n",
      "zce=[0. 0.]\n",
      "ude=[1. 1.]\n",
      "pde=[3.00911012 3.00911012]\n",
      "zde=[3.00911012 3.00911012]\n",
      "SOC=[0.49749241 0.49749241]\n",
      "obj=592.8203580808986\n"
     ]
    }
   ],
   "source": [
    "print(f\"pg={sp.RTED2.pg.v}\")\n",
    "\n",
    "print(f\"uce={sp.RTED2.uce.v}\")\n",
    "print(f\"pce={sp.RTED2.pce.v}\")\n",
    "print(f\"zce={sp.RTED2.zce.v}\")\n",
    "\n",
    "print(f\"ude={sp.RTED2.ude.v}\")\n",
    "print(f\"pde={sp.RTED2.pde.v}\")\n",
    "print(f\"zde={sp.RTED2.zde.v}\")\n",
    "\n",
    "print(f\"SOC={sp.RTED2.SOC.v}\")\n",
    "print(f\"obj={sp.RTED2.obj.v}\")"
   ]
  },
  {
   "cell_type": "code",
   "execution_count": 8,
   "metadata": {},
   "outputs": [
    {
     "name": "stderr",
     "output_type": "stream",
     "text": [
      "RTED2 data check passed.\n",
      "Set constrs pb: sum(pl) - sum(pg) == 0\n",
      "Set constrs pinj: CftT@plf - pl - pn == 0\n",
      "Set constrs lub: PTDF @ (pn - pl) - rate_a <= 0\n",
      "Set constrs llb: - PTDF @ (pn - pl) - rate_a <= 0\n",
      "Set constrs rbu: gs @ mul(ug, pru) - dud == 0\n",
      "Set constrs rbd: gs @ mul(ug, prd) - ddd == 0\n",
      "Set constrs rru: mul(ug, pg + pru) - pmax <= 0\n",
      "Set constrs rrd: mul(ug, -pg + prd) - pmin <= 0\n",
      "Set constrs rgu: mul(ug, pg-pg0-R10) <= 0\n",
      "Set constrs rgd: mul(ug, -pg+pg0-R10) <= 0\n",
      "Set constrs ceb: uce + ude - 1 == 0\n",
      "Set constrs cpe: ce @ pg - zce - zde == 0\n",
      "Set constrs zce1: -zce + pce <= 0\n",
      "Set constrs zce2: zce - pce - Mb dot (1-uce) <= 0\n",
      "Set constrs zce3: zce - Mb dot uce <= 0\n",
      "Set constrs zde1: -zde + pde <= 0\n",
      "Set constrs zde2: zde - pde - Mb dot (1-ude) <= 0\n",
      "Set constrs zde3: zde - Mb dot ude <= 0\n",
      "Set constrs SOCb: mul(En, (SOC - SOCinit)) - t dot mul(EtaC, zce)+ t dot mul(REtaD, zde) == 0\n",
      "Set obj tc: min. sum(c2 @ (t dot pg)**2) + sum(c1 @ (t dot pg)) + ug * c0 + sum(cru * pru + crd * prd)\n",
      "Routine <RTED2> initialized in 0.0663 seconds.\n",
      "RTED2 solved as optimal in 0.0754 seconds, converged after 33 iterations using solver GUROBI.\n"
     ]
    },
    {
     "data": {
      "text/plain": [
       "True"
      ]
     },
     "execution_count": 8,
     "metadata": {},
     "output_type": "execute_result"
    }
   ],
   "source": [
    "sp.RTED2.set(src='c1', attr='v', idx='GCost_1', value=999)\n",
    "sp.RTED2.run(force_init=True, solver='GUROBI')"
   ]
  },
  {
   "cell_type": "code",
   "execution_count": 9,
   "metadata": {},
   "outputs": [
    {
     "name": "stdout",
     "output_type": "stream",
     "text": [
      "pg=[0.         7.13724518 6.52       5.08       6.87       5.8\n",
      " 5.64       7.15034313 7.17661754 7.18979416]\n",
      "uce=[0. 0.]\n",
      "pce=[0. 0.]\n",
      "zce=[0. 0.]\n",
      "ude=[1. 1.]\n",
      "pde=[0. 0.]\n",
      "zde=[0. 0.]\n",
      "SOC=[0.5 0.5]\n",
      "obj=622.4342380817811\n"
     ]
    }
   ],
   "source": [
    "print(f\"pg={sp.RTED2.pg.v}\")\n",
    "\n",
    "print(f\"uce={sp.RTED2.uce.v}\")\n",
    "print(f\"pce={sp.RTED2.pce.v}\")\n",
    "print(f\"zce={sp.RTED2.zce.v}\")\n",
    "\n",
    "print(f\"ude={sp.RTED2.ude.v}\")\n",
    "print(f\"pde={sp.RTED2.pde.v}\")\n",
    "print(f\"zde={sp.RTED2.zde.v}\")\n",
    "\n",
    "print(f\"SOC={sp.RTED2.SOC.v}\")\n",
    "print(f\"obj={sp.RTED2.obj.v}\")"
   ]
  },
  {
   "cell_type": "code",
   "execution_count": 10,
   "metadata": {},
   "outputs": [
    {
     "name": "stderr",
     "output_type": "stream",
     "text": [
      "Input format guessed as xlsx.\n",
      "Parsing input file \"/Users/jinningwang/Documents/work/ams/ams/cases/ieee39/ieee39_uced_esd1_t2.xlsx\"...\n",
      "Input file parsed in 0.0892 seconds.\n",
      "System set up in 0.0100 seconds.\n"
     ]
    }
   ],
   "source": [
    "sp = ams.load(ams.get_case('ieee39/ieee39_uced_esd1_t2.xlsx'),\n",
    "              setup=True,)"
   ]
  },
  {
   "cell_type": "code",
   "execution_count": 11,
   "metadata": {},
   "outputs": [
    {
     "data": {
      "text/plain": [
       "NumOp: ED2.REtaD, v in shape of (2,)"
      ]
     },
     "execution_count": 11,
     "metadata": {},
     "output_type": "execute_result"
    }
   ],
   "source": [
    "sp.ED2.REtaD"
   ]
  },
  {
   "cell_type": "code",
   "execution_count": 12,
   "metadata": {},
   "outputs": [
    {
     "name": "stderr",
     "output_type": "stream",
     "text": [
      "ED2 data check passed.\n",
      "- Generating symbols for ED2\n",
      "Set constrs pb: - gs @ pg + pds == 0\n",
      "Code Constr: om.constrs[\"pb\"]=- self.om.rtn.gs.v @ self.om.pg + self.om.rtn.pds.v == 0\n",
      "Set constrs pinj: Cg @ (pn - Rpd) - pg == 0\n",
      "Code Constr: om.constrs[\"pinj\"]=self.om.rtn.Cg.v @ (self.om.pn - self.om.rtn.Rpd.v) - self.om.pg == 0\n",
      "Set constrs lub: PTDF @ (pn - Rpd) - RRA <= 0\n",
      "Code Constr: om.constrs[\"lub\"]=self.om.rtn.PTDF.v @ (self.om.pn - self.om.rtn.Rpd.v) - self.om.rtn.RRA.v <= 0\n",
      "Set constrs llb: -PTDF @ (pn - Rpd) - RRA <= 0\n",
      "Code Constr: om.constrs[\"llb\"]=-self.om.rtn.PTDF.v @ (self.om.pn - self.om.rtn.Rpd.v) - self.om.rtn.RRA.v <= 0\n",
      "Set constrs sr: -gs@multiply(Rpmax - pg, Rug) + dsr <= 0\n",
      "Code Constr: om.constrs[\"sr\"]=-self.om.rtn.gs.v@cp.multiply(self.om.rtn.Rpmax.v - self.om.pg, self.om.rtn.Rug.v) + self.om.rtn.dsr.v <= 0\n",
      "Set constrs rgu: pg @ Mr - t dot RR30 <= 0\n",
      "Code Constr: om.constrs[\"rgu\"]=self.om.pg @ self.om.rtn.Mr.v - self.rtn.config.t * self.om.rtn.RR30.v <= 0\n",
      "Set constrs rgd: -pg @ Mr - t dot RR30 <= 0\n",
      "Code Constr: om.constrs[\"rgd\"]=-self.om.pg @ self.om.rtn.Mr.v - self.rtn.config.t * self.om.rtn.RR30.v <= 0\n",
      "Set constrs rgu0: pg[:, 0] - pg0 - R30 <= 0\n",
      "Code Constr: om.constrs[\"rgu0\"]=self.om.pg[:, 0] - self.om.rtn.pg0.v - self.om.rtn.R30.v <= 0\n",
      "Set constrs rgd0: - pg[:, 0] + pg0 - R30 <= 0\n",
      "Code Constr: om.constrs[\"rgd0\"]=- self.om.pg[:, 0] + self.om.rtn.pg0.v - self.om.rtn.R30.v <= 0\n",
      "Set constrs ceb: uce + ude - 1 == 0\n",
      "Code Constr: om.constrs[\"ceb\"]=self.om.uce + self.om.ude - 1 == 0\n",
      "Set constrs cpe: ce @ pg - zce - zde == 0\n",
      "Code Constr: om.constrs[\"cpe\"]=self.om.rtn.ce.v @ self.om.pg - self.om.zce - self.om.zde == 0\n",
      "Set constrs zce1: -zce + pce <= 0\n",
      "Code Constr: om.constrs[\"zce1\"]=-self.om.zce + self.om.pce <= 0\n",
      "Set constrs zce2: zce - pce - Mb dot (1-uce) <= 0\n",
      "Code Constr: om.constrs[\"zce2\"]=self.om.zce - self.om.pce - self.om.rtn.Mb.v * (1-self.om.uce) <= 0\n",
      "Set constrs zce3: zce - Mb dot uce <= 0\n",
      "Code Constr: om.constrs[\"zce3\"]=self.om.zce - self.om.rtn.Mb.v * self.om.uce <= 0\n",
      "Set constrs zde1: -zde + pde <= 0\n",
      "Code Constr: om.constrs[\"zde1\"]=-self.om.zde + self.om.pde <= 0\n",
      "Set constrs zde2: zde - pde - Mb dot (1-ude) <= 0\n",
      "Code Constr: om.constrs[\"zde2\"]=self.om.zde - self.om.pde - self.om.rtn.Mb.v * (1-self.om.ude) <= 0\n",
      "Set constrs zde3: zde - Mb dot ude <= 0\n",
      "Code Constr: om.constrs[\"zde3\"]=self.om.zde - self.om.rtn.Mb.v * self.om.ude <= 0\n",
      "Set constrs SOCb: mul(EnR, SOC @ Mre) - t dot mul(EtaCR, zce[:, 1:]) + t dot mul(REtaDR, zde[:, 1:]) == 0\n",
      "Code Constr: om.constrs[\"SOCb\"]=cp.multiply(self.om.rtn.EnR.v, self.om.SOC @ self.om.rtn.Mre.v) - self.rtn.config.t * cp.multiply(self.om.rtn.EtaCR.v, self.om.zce[:, 1:]) + self.rtn.config.t * cp.multiply(self.om.rtn.REtaDR.v, self.om.zde[:, 1:]) == 0\n",
      "Set constrs SOCb: mul(En, SOC[:, 0] - SOCinit) - t dot mul(EtaC, zce[:, 0]) + t dot mul(REtaD, zde[:, 0]) == 0\n",
      "Code Constr: om.constrs[\"SOCb\"]=cp.multiply(self.om.rtn.En.v, self.om.SOC[:, 0] - self.om.rtn.SOCinit.v) - self.rtn.config.t * cp.multiply(self.om.rtn.EtaC.v, self.om.zce[:, 0]) + self.rtn.config.t * cp.multiply(self.om.rtn.REtaD.v, self.om.zde[:, 0]) == 0\n",
      "Set constrs SOCr: SOC[:, -1] - SOCinit == 0\n",
      "Code Constr: om.constrs[\"SOCr\"]=self.om.SOC[:, -1] - self.om.rtn.SOCinit.v == 0\n",
      "Set obj tc: min. sum(c2 @ (t dot pg)**2 + c1 @ (t dot pg) + ug * c0) + sum(csr * ug * (Rpmax - pg))\n",
      "Code Obj: om.obj=cp.Minimize(cp.sum(self.om.rtn.c2.v @ (self.rtn.config.t * self.om.pg)**2 + self.om.rtn.c1.v @ (self.rtn.config.t * self.om.pg) + self.om.rtn.ug.v @ self.om.rtn.c0.v) + cp.sum(self.om.rtn.csr.v @ self.om.rtn.ug.v * (self.om.rtn.Rpmax.v - self.om.pg)))\n",
      "Routine <ED2> initialized in 0.1141 seconds.\n"
     ]
    },
    {
     "data": {
      "text/plain": [
       "True"
      ]
     },
     "execution_count": 12,
     "metadata": {},
     "output_type": "execute_result"
    }
   ],
   "source": [
    "sp.ED2.init(no_code=False)"
   ]
  },
  {
   "cell_type": "code",
   "execution_count": 13,
   "metadata": {},
   "outputs": [
    {
     "name": "stderr",
     "output_type": "stream",
     "text": [
      "ED2 has already been initialized.\n",
      "ED2 solved as optimal in 0.0905 seconds, converged after 68 iterations using solver GUROBI.\n"
     ]
    },
    {
     "data": {
      "text/plain": [
       "True"
      ]
     },
     "execution_count": 13,
     "metadata": {},
     "output_type": "execute_result"
    }
   ],
   "source": [
    "sp.ED2.run(solver=\"GUROBI\")"
   ]
  },
  {
   "cell_type": "code",
   "execution_count": 14,
   "metadata": {},
   "outputs": [
    {
     "name": "stdout",
     "output_type": "stream",
     "text": [
      "pg=[3.76453119 3.72343444 3.65885384]\n",
      "uce=[[0. 0. 1.]\n",
      " [0. 0. 1.]]\n",
      "pce=[[0.    0.    1.829]\n",
      " [0.    0.    1.829]]\n",
      "zce=[[0.    0.    1.829]\n",
      " [0.    0.    1.829]]\n",
      "ude=[[1. 1. 0.]\n",
      " [1. 1. 0.]]\n",
      "pde=[[1.882 1.862 0.   ]\n",
      " [1.882 1.862 0.   ]]\n",
      "zde=[[1.882 1.862 0.   ]\n",
      " [1.882 1.862 0.   ]]\n",
      "SOC=[[0.481 0.1   0.5  ]\n",
      " [0.481 0.1   0.5  ]]\n",
      "obj=45508.58507547713\n"
     ]
    }
   ],
   "source": [
    "print(f\"pg={sp.ED2.pg.v[0, :]}\")\n",
    "\n",
    "nr = 3\n",
    "\n",
    "print(f\"uce={sp.ED2.uce.v}\")\n",
    "print(f\"pce={sp.ED2.pce.v.round(nr)}\")\n",
    "print(f\"zce={sp.ED2.zce.v.round(nr)}\")\n",
    "\n",
    "print(f\"ude={sp.ED2.ude.v}\")\n",
    "print(f\"pde={sp.ED2.pde.v.round(nr)}\")\n",
    "print(f\"zde={sp.ED2.zde.v.round(nr)}\")\n",
    "\n",
    "print(f\"SOC={sp.ED2.SOC.v.round(nr)}\")\n",
    "print(f\"obj={sp.ED2.obj.v}\")"
   ]
  },
  {
   "cell_type": "code",
   "execution_count": 15,
   "metadata": {},
   "outputs": [
    {
     "data": {
      "text/plain": [
       "'mul(EnR, SOC @ Mre) - t dot mul(EtaCR, zce[:, 1:]) + t dot mul(REtaDR, zde[:, 1:])'"
      ]
     },
     "execution_count": 15,
     "metadata": {},
     "output_type": "execute_result"
    }
   ],
   "source": [
    "sp.ED2.SOCb.e_str"
   ]
  },
  {
   "cell_type": "code",
   "execution_count": 16,
   "metadata": {},
   "outputs": [
    {
     "data": {
      "text/plain": [
       "array([[-38.11773441,  40.        ],\n",
       "       [-38.11773441,  40.        ]])"
      ]
     },
     "execution_count": 16,
     "metadata": {},
     "output_type": "execute_result"
    }
   ],
   "source": [
    "np.multiply(sp.ED2.EnR.v, np.matmul(sp.ED2.SOC.v, sp.ED2.Mre.v))"
   ]
  },
  {
   "cell_type": "code",
   "execution_count": 17,
   "metadata": {},
   "outputs": [
    {
     "data": {
      "text/plain": [
       "array([[-0.        , -1.82942692],\n",
       "       [-0.        , -1.82942692]])"
      ]
     },
     "execution_count": 17,
     "metadata": {},
     "output_type": "execute_result"
    }
   ],
   "source": [
    "-sp.ED2.config.t * np.multiply(sp.ED2.EtaCR.v, sp.ED2.zce.v[:, 1:])"
   ]
  },
  {
   "cell_type": "code",
   "execution_count": 18,
   "metadata": {},
   "outputs": [
    {
     "data": {
      "text/plain": [
       "array([[1.86171722, 0.        ],\n",
       "       [1.86171722, 0.        ]])"
      ]
     },
     "execution_count": 18,
     "metadata": {},
     "output_type": "execute_result"
    }
   ],
   "source": [
    "sp.ED2.config.t * np.multiply(sp.ED2.REtaDR.v, sp.ED2.zde.v[:, 1:])"
   ]
  },
  {
   "cell_type": "code",
   "execution_count": 19,
   "metadata": {},
   "outputs": [
    {
     "data": {
      "text/plain": [
       "'mul(En, SOC[:, 0] - SOCinit) - t dot mul(EtaC, zce[:, 0]) + t dot mul(REtaD, zde[:, 0])'"
      ]
     },
     "execution_count": 19,
     "metadata": {},
     "output_type": "execute_result"
    }
   ],
   "source": [
    "sp.ED2.SOCb0.e_str"
   ]
  },
  {
   "cell_type": "code",
   "execution_count": 22,
   "metadata": {},
   "outputs": [
    {
     "data": {
      "text/plain": [
       "array([-1.88226559, -1.88226559])"
      ]
     },
     "execution_count": 22,
     "metadata": {},
     "output_type": "execute_result"
    }
   ],
   "source": [
    "np.multiply(sp.ED2.En.v, sp.ED2.SOC.v[:, 0]-sp.ED2.SOCinit.v)"
   ]
  },
  {
   "cell_type": "code",
   "execution_count": 25,
   "metadata": {},
   "outputs": [
    {
     "data": {
      "text/plain": [
       "array([-0., -0.])"
      ]
     },
     "execution_count": 25,
     "metadata": {},
     "output_type": "execute_result"
    }
   ],
   "source": [
    "-sp.ED2.config.t * np.multiply(sp.ED2.EtaC.v, sp.ED2.zce.v[:, 0])"
   ]
  },
  {
   "cell_type": "code",
   "execution_count": 26,
   "metadata": {},
   "outputs": [
    {
     "data": {
      "text/plain": [
       "array([1.88226559, 1.88226559])"
      ]
     },
     "execution_count": 26,
     "metadata": {},
     "output_type": "execute_result"
    }
   ],
   "source": [
    "sp.ED2.config.t * np.multiply(sp.ED2.REtaD.v, sp.ED2.zde.v[:, 0])"
   ]
  }
 ],
 "metadata": {
  "kernelspec": {
   "display_name": "ams",
   "language": "python",
   "name": "python3"
  },
  "language_info": {
   "codemirror_mode": {
    "name": "ipython",
    "version": 3
   },
   "file_extension": ".py",
   "mimetype": "text/x-python",
   "name": "python",
   "nbconvert_exporter": "python",
   "pygments_lexer": "ipython3",
   "version": "3.9.18"
  },
  "orig_nbformat": 4,
  "vscode": {
   "interpreter": {
    "hash": "d2b3bf80176349caa68dc4a3c77bd06eaade8abc678330f7d1c813c53380e5d2"
   }
  }
 },
 "nbformat": 4,
 "nbformat_minor": 2
}
